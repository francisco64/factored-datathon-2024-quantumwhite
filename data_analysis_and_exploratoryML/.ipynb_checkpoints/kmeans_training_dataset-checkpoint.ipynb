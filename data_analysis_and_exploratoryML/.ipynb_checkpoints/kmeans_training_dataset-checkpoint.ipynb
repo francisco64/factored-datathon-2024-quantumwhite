{
 "cells": [
  {
   "cell_type": "code",
   "execution_count": 1,
   "id": "ada8f066-8bb3-4d3c-adc3-48c82b9eb453",
   "metadata": {
    "tags": []
   },
   "outputs": [],
   "source": [
    "import pandas as pd\n",
    "import numpy as np\n",
    "from google.cloud import bigquery\n",
    "from sklearn.preprocessing import MultiLabelBinarizer\n",
    "\n",
    "# Initialize BigQuery client\n",
    "client = bigquery.Client()\n"
   ]
  },
  {
   "cell_type": "code",
   "execution_count": 2,
   "id": "4c22b202-585d-4474-b2f7-a66538c0a24d",
   "metadata": {
    "tags": []
   },
   "outputs": [
    {
     "name": "stderr",
     "output_type": "stream",
     "text": [
      "/opt/conda/lib/python3.10/site-packages/google/cloud/bigquery/table.py:2309: UserWarning: Unable to represent RANGE schema as struct using pandas ArrowDtype. Using `object` instead. To use ArrowDtype, use pandas >= 1.5 and pyarrow >= 10.0.1.\n",
      "  warnings.warn(_RANGE_PYARROW_WARNING)\n",
      "/opt/conda/lib/python3.10/site-packages/google/cloud/bigquery/table.py:2323: UserWarning: Unable to represent RANGE schema as struct using pandas ArrowDtype. Using `object` instead. To use ArrowDtype, use pandas >= 1.5 and pyarrow >= 10.0.1.\n",
      "  warnings.warn(_RANGE_PYARROW_WARNING)\n",
      "/opt/conda/lib/python3.10/site-packages/google/cloud/bigquery/table.py:2337: UserWarning: Unable to represent RANGE schema as struct using pandas ArrowDtype. Using `object` instead. To use ArrowDtype, use pandas >= 1.5 and pyarrow >= 10.0.1.\n",
      "  warnings.warn(_RANGE_PYARROW_WARNING)\n",
      "WARNING: All log messages before absl::InitializeLog() is called are written to STDERR\n",
      "I0000 00:00:1724273238.722575    5394 config.cc:230] gRPC experiments enabled: call_status_override_on_cancellation, event_engine_dns, event_engine_listener, http2_stats_fix, monitoring_experiment, pick_first_new, trace_record_callops, work_serializer_clears_time_cache\n"
     ]
    }
   ],
   "source": [
    "# Define your query\n",
    "query = \"\"\"\n",
    "SELECT *\n",
    "FROM `GDELT.actor_event_covid`\n",
    "\"\"\"\n",
    "\n",
    "# Execute the query and load the data into a pandas DataFrame\n",
    "df = client.query(query).to_dataframe()"
   ]
  },
  {
   "cell_type": "code",
   "execution_count": 3,
   "id": "bff35f21-2242-4f9b-91d2-a262003f7609",
   "metadata": {
    "tags": []
   },
   "outputs": [
    {
     "data": {
      "text/html": [
       "<div>\n",
       "<style scoped>\n",
       "    .dataframe tbody tr th:only-of-type {\n",
       "        vertical-align: middle;\n",
       "    }\n",
       "\n",
       "    .dataframe tbody tr th {\n",
       "        vertical-align: top;\n",
       "    }\n",
       "\n",
       "    .dataframe thead th {\n",
       "        text-align: right;\n",
       "    }\n",
       "</style>\n",
       "<table border=\"1\" class=\"dataframe\">\n",
       "  <thead>\n",
       "    <tr style=\"text-align: right;\">\n",
       "      <th></th>\n",
       "      <th>GLOBALEVENTID</th>\n",
       "      <th>SQLDATE</th>\n",
       "      <th>Actor1Name</th>\n",
       "      <th>Actor2Name</th>\n",
       "      <th>EventRootCode</th>\n",
       "      <th>EventBaseCode</th>\n",
       "      <th>EventCode</th>\n",
       "      <th>NumMentions</th>\n",
       "      <th>SOURCEURL</th>\n",
       "    </tr>\n",
       "  </thead>\n",
       "  <tbody>\n",
       "    <tr>\n",
       "      <th>0</th>\n",
       "      <td>794352508</td>\n",
       "      <td>20181013</td>\n",
       "      <td>VOTER</td>\n",
       "      <td>UNITED STATES</td>\n",
       "      <td>02</td>\n",
       "      <td>023</td>\n",
       "      <td>023</td>\n",
       "      <td>8</td>\n",
       "      <td>https://lacrossetribune.com/news/state-and-reg...</td>\n",
       "    </tr>\n",
       "    <tr>\n",
       "      <th>1</th>\n",
       "      <td>1061670505</td>\n",
       "      <td>20220906</td>\n",
       "      <td>JOE BIDEN</td>\n",
       "      <td>GOVERNOR</td>\n",
       "      <td>02</td>\n",
       "      <td>025</td>\n",
       "      <td>025</td>\n",
       "      <td>8</td>\n",
       "      <td>https://kesq.com/news/2022/09/05/we-need-more-...</td>\n",
       "    </tr>\n",
       "    <tr>\n",
       "      <th>2</th>\n",
       "      <td>638542634</td>\n",
       "      <td>20170320</td>\n",
       "      <td>CONGRESS</td>\n",
       "      <td>UNITED STATES</td>\n",
       "      <td>17</td>\n",
       "      <td>171</td>\n",
       "      <td>1712</td>\n",
       "      <td>8</td>\n",
       "      <td>http://www.informationclearinghouse.info/46688...</td>\n",
       "    </tr>\n",
       "    <tr>\n",
       "      <th>3</th>\n",
       "      <td>455223846</td>\n",
       "      <td>20150805</td>\n",
       "      <td>ADMINISTRATION</td>\n",
       "      <td>CONGRESS</td>\n",
       "      <td>15</td>\n",
       "      <td>154</td>\n",
       "      <td>154</td>\n",
       "      <td>20</td>\n",
       "      <td>http://time.com/3984453/defense-contractors-lo...</td>\n",
       "    </tr>\n",
       "    <tr>\n",
       "      <th>4</th>\n",
       "      <td>882385542</td>\n",
       "      <td>20191026</td>\n",
       "      <td>COLLEGE</td>\n",
       "      <td>NEW YORK</td>\n",
       "      <td>08</td>\n",
       "      <td>084</td>\n",
       "      <td>0841</td>\n",
       "      <td>20</td>\n",
       "      <td>https://www.wohfradio.com/national-news/felici...</td>\n",
       "    </tr>\n",
       "  </tbody>\n",
       "</table>\n",
       "</div>"
      ],
      "text/plain": [
       "  GLOBALEVENTID   SQLDATE      Actor1Name     Actor2Name EventRootCode  \\\n",
       "0     794352508  20181013           VOTER  UNITED STATES            02   \n",
       "1    1061670505  20220906       JOE BIDEN       GOVERNOR            02   \n",
       "2     638542634  20170320        CONGRESS  UNITED STATES            17   \n",
       "3     455223846  20150805  ADMINISTRATION       CONGRESS            15   \n",
       "4     882385542  20191026         COLLEGE       NEW YORK            08   \n",
       "\n",
       "  EventBaseCode EventCode  NumMentions  \\\n",
       "0           023       023            8   \n",
       "1           025       025            8   \n",
       "2           171      1712            8   \n",
       "3           154       154           20   \n",
       "4           084      0841           20   \n",
       "\n",
       "                                           SOURCEURL  \n",
       "0  https://lacrossetribune.com/news/state-and-reg...  \n",
       "1  https://kesq.com/news/2022/09/05/we-need-more-...  \n",
       "2  http://www.informationclearinghouse.info/46688...  \n",
       "3  http://time.com/3984453/defense-contractors-lo...  \n",
       "4  https://www.wohfradio.com/national-news/felici...  "
      ]
     },
     "execution_count": 3,
     "metadata": {},
     "output_type": "execute_result"
    }
   ],
   "source": [
    "df.head()"
   ]
  },
  {
   "cell_type": "code",
   "execution_count": 4,
   "id": "5c8e74b3-9c4b-4a34-b001-160638ce815b",
   "metadata": {
    "tags": []
   },
   "outputs": [],
   "source": [
    "# Convert SQLDATE to datetime to extract month and day\n",
    "df['SQLDATE'] = pd.to_datetime(df['SQLDATE'], format='%Y%m%d')\n",
    "\n",
    "# Calculate the time feature\n",
    "df['time'] = (30 * df['SQLDATE'].dt.month + df['SQLDATE'].dt.day) / 365"
   ]
  },
  {
   "cell_type": "code",
   "execution_count": 6,
   "id": "c1f38ef9-7829-4459-8aa9-4b6772204a7f",
   "metadata": {
    "tags": []
   },
   "outputs": [
    {
     "data": {
      "text/html": [
       "<div>\n",
       "<style scoped>\n",
       "    .dataframe tbody tr th:only-of-type {\n",
       "        vertical-align: middle;\n",
       "    }\n",
       "\n",
       "    .dataframe tbody tr th {\n",
       "        vertical-align: top;\n",
       "    }\n",
       "\n",
       "    .dataframe thead th {\n",
       "        text-align: right;\n",
       "    }\n",
       "</style>\n",
       "<table border=\"1\" class=\"dataframe\">\n",
       "  <thead>\n",
       "    <tr style=\"text-align: right;\">\n",
       "      <th></th>\n",
       "      <th>GLOBALEVENTID</th>\n",
       "      <th>SQLDATE</th>\n",
       "      <th>Actor1Name</th>\n",
       "      <th>Actor2Name</th>\n",
       "      <th>EventRootCode</th>\n",
       "      <th>EventBaseCode</th>\n",
       "      <th>EventCode</th>\n",
       "      <th>NumMentions</th>\n",
       "      <th>SOURCEURL</th>\n",
       "      <th>time</th>\n",
       "    </tr>\n",
       "  </thead>\n",
       "  <tbody>\n",
       "    <tr>\n",
       "      <th>0</th>\n",
       "      <td>794352508</td>\n",
       "      <td>2018-10-13</td>\n",
       "      <td>VOTER</td>\n",
       "      <td>UNITED STATES</td>\n",
       "      <td>02</td>\n",
       "      <td>023</td>\n",
       "      <td>023</td>\n",
       "      <td>8</td>\n",
       "      <td>https://lacrossetribune.com/news/state-and-reg...</td>\n",
       "      <td>0.857534</td>\n",
       "    </tr>\n",
       "    <tr>\n",
       "      <th>1</th>\n",
       "      <td>1061670505</td>\n",
       "      <td>2022-09-06</td>\n",
       "      <td>JOE BIDEN</td>\n",
       "      <td>GOVERNOR</td>\n",
       "      <td>02</td>\n",
       "      <td>025</td>\n",
       "      <td>025</td>\n",
       "      <td>8</td>\n",
       "      <td>https://kesq.com/news/2022/09/05/we-need-more-...</td>\n",
       "      <td>0.756164</td>\n",
       "    </tr>\n",
       "    <tr>\n",
       "      <th>2</th>\n",
       "      <td>638542634</td>\n",
       "      <td>2017-03-20</td>\n",
       "      <td>CONGRESS</td>\n",
       "      <td>UNITED STATES</td>\n",
       "      <td>17</td>\n",
       "      <td>171</td>\n",
       "      <td>1712</td>\n",
       "      <td>8</td>\n",
       "      <td>http://www.informationclearinghouse.info/46688...</td>\n",
       "      <td>0.301370</td>\n",
       "    </tr>\n",
       "    <tr>\n",
       "      <th>3</th>\n",
       "      <td>455223846</td>\n",
       "      <td>2015-08-05</td>\n",
       "      <td>ADMINISTRATION</td>\n",
       "      <td>CONGRESS</td>\n",
       "      <td>15</td>\n",
       "      <td>154</td>\n",
       "      <td>154</td>\n",
       "      <td>20</td>\n",
       "      <td>http://time.com/3984453/defense-contractors-lo...</td>\n",
       "      <td>0.671233</td>\n",
       "    </tr>\n",
       "    <tr>\n",
       "      <th>4</th>\n",
       "      <td>882385542</td>\n",
       "      <td>2019-10-26</td>\n",
       "      <td>COLLEGE</td>\n",
       "      <td>NEW YORK</td>\n",
       "      <td>08</td>\n",
       "      <td>084</td>\n",
       "      <td>0841</td>\n",
       "      <td>20</td>\n",
       "      <td>https://www.wohfradio.com/national-news/felici...</td>\n",
       "      <td>0.893151</td>\n",
       "    </tr>\n",
       "  </tbody>\n",
       "</table>\n",
       "</div>"
      ],
      "text/plain": [
       "  GLOBALEVENTID    SQLDATE      Actor1Name     Actor2Name EventRootCode  \\\n",
       "0     794352508 2018-10-13           VOTER  UNITED STATES            02   \n",
       "1    1061670505 2022-09-06       JOE BIDEN       GOVERNOR            02   \n",
       "2     638542634 2017-03-20        CONGRESS  UNITED STATES            17   \n",
       "3     455223846 2015-08-05  ADMINISTRATION       CONGRESS            15   \n",
       "4     882385542 2019-10-26         COLLEGE       NEW YORK            08   \n",
       "\n",
       "  EventBaseCode EventCode  NumMentions  \\\n",
       "0           023       023            8   \n",
       "1           025       025            8   \n",
       "2           171      1712            8   \n",
       "3           154       154           20   \n",
       "4           084      0841           20   \n",
       "\n",
       "                                           SOURCEURL      time  \n",
       "0  https://lacrossetribune.com/news/state-and-reg...  0.857534  \n",
       "1  https://kesq.com/news/2022/09/05/we-need-more-...  0.756164  \n",
       "2  http://www.informationclearinghouse.info/46688...  0.301370  \n",
       "3  http://time.com/3984453/defense-contractors-lo...  0.671233  \n",
       "4  https://www.wohfradio.com/national-news/felici...  0.893151  "
      ]
     },
     "execution_count": 6,
     "metadata": {},
     "output_type": "execute_result"
    }
   ],
   "source": [
    "df.head()"
   ]
  },
  {
   "cell_type": "code",
   "execution_count": 8,
   "id": "a36a566a-0f4a-4d32-900b-05e9e0b13316",
   "metadata": {
    "tags": []
   },
   "outputs": [
    {
     "name": "stdout",
     "output_type": "stream",
     "text": [
      "actor vector: Index(['UNITED STATES', 'SCHOOL', 'POLICE', 'PRESIDENT', 'COMMUNITY',\n",
      "       'STUDENT', 'BUSINESS', 'COMPANY', 'ATTORNEY', 'JUDGE', 'AMERICAN',\n",
      "       'GOVERNMENT', 'UNIVERSITY', 'SENATE', 'PRISON', 'MEDIA', 'WASHINGTON',\n",
      "       'GOVERNOR', 'HOSPITAL', 'COLLEGE', 'NEW YORK', 'VOTER', 'EMPLOYEE',\n",
      "       'TEXAS', 'CRIMINAL', 'RESIDENTS', 'AUTHORITIES', 'CALIFORNIA',\n",
      "       'CONGRESS', 'THE WHITE HOUSE', 'FLORIDA', 'LAWMAKER', 'ADMINISTRATION',\n",
      "       'SENATOR', 'WORKER', 'MAYOR', 'CHINA', 'MILITARY', 'INDUSTRY',\n",
      "       'PROSECUTOR', 'PROTESTER', 'JOE BIDEN', 'AFRICA', 'LAWYER', 'OHIO',\n",
      "       'UNITED KINGDOM', 'MICHIGAN', 'CHICAGO', 'SUPREME COURT', 'IOWA',\n",
      "       'COMPANIES', 'VIRGINIA', 'WEBSITE', 'DOCTOR', 'THE US',\n",
      "       'HEALTH OFFICIAL'],\n",
      "      dtype='object')\n"
     ]
    }
   ],
   "source": [
    "# Count the frequency of each actor\n",
    "actor_counts = pd.concat([df['Actor1Name'], df['Actor2Name']]).value_counts()\n",
    "\n",
    "# Filter actors based on the minimum number of occurrences\n",
    "important_actors = actor_counts.index\n",
    "print(\"actor vector: {}\".format(important_actors))"
   ]
  },
  {
   "cell_type": "code",
   "execution_count": null,
   "id": "156b38c1-5420-4b1f-b014-2f16869a6672",
   "metadata": {
    "tags": []
   },
   "outputs": [],
   "source": [
    "# Function to filter and multi-hot encode actors\n",
    "def multi_hot_encode_actors(row, important_actors):\n",
    "    actor_vector = np.zeros(len(important_actors), dtype=int)\n",
    "    actor_vector[important_actors.get_loc(row['Actor1Name'])] = 1\n",
    "    actor_vector[important_actors.get_loc(row['Actor2Name'])] = 1\n",
    "    return actor_vector\n",
    "\n",
    "# Apply multi-hot encoding for actors\n",
    "df['actor_vector'] = df.apply(multi_hot_encode_actors, important_actors=important_actors, axis=1)"
   ]
  },
  {
   "cell_type": "code",
   "execution_count": null,
   "id": "f94f572a-4990-448e-b082-849043f717fc",
   "metadata": {},
   "outputs": [],
   "source": []
  }
 ],
 "metadata": {
  "environment": {
   "kernel": "python3",
   "name": "tf2-cpu.2-11.m124",
   "type": "gcloud",
   "uri": "us-docker.pkg.dev/deeplearning-platform-release/gcr.io/tf2-cpu.2-11:m124"
  },
  "kernelspec": {
   "display_name": "Python 3 (Local)",
   "language": "python",
   "name": "python3"
  },
  "language_info": {
   "codemirror_mode": {
    "name": "ipython",
    "version": 3
   },
   "file_extension": ".py",
   "mimetype": "text/x-python",
   "name": "python",
   "nbconvert_exporter": "python",
   "pygments_lexer": "ipython3",
   "version": "3.10.14"
  }
 },
 "nbformat": 4,
 "nbformat_minor": 5
}
