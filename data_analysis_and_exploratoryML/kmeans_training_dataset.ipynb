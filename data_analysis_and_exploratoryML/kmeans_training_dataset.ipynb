{
 "cells": [
  {
   "cell_type": "code",
   "execution_count": 1,
   "id": "ada8f066-8bb3-4d3c-adc3-48c82b9eb453",
   "metadata": {
    "tags": []
   },
   "outputs": [],
   "source": [
    "import pandas as pd\n",
    "import numpy as np\n",
    "from google.cloud import bigquery\n",
    "from sklearn.preprocessing import MultiLabelBinarizer\n",
    "\n",
    "# Initialize BigQuery client\n",
    "client = bigquery.Client()\n"
   ]
  },
  {
   "cell_type": "code",
   "execution_count": 2,
   "id": "4c22b202-585d-4474-b2f7-a66538c0a24d",
   "metadata": {
    "tags": []
   },
   "outputs": [
    {
     "name": "stderr",
     "output_type": "stream",
     "text": [
      "/opt/conda/lib/python3.10/site-packages/google/cloud/bigquery/table.py:2309: UserWarning: Unable to represent RANGE schema as struct using pandas ArrowDtype. Using `object` instead. To use ArrowDtype, use pandas >= 1.5 and pyarrow >= 10.0.1.\n",
      "  warnings.warn(_RANGE_PYARROW_WARNING)\n",
      "/opt/conda/lib/python3.10/site-packages/google/cloud/bigquery/table.py:2323: UserWarning: Unable to represent RANGE schema as struct using pandas ArrowDtype. Using `object` instead. To use ArrowDtype, use pandas >= 1.5 and pyarrow >= 10.0.1.\n",
      "  warnings.warn(_RANGE_PYARROW_WARNING)\n",
      "/opt/conda/lib/python3.10/site-packages/google/cloud/bigquery/table.py:2337: UserWarning: Unable to represent RANGE schema as struct using pandas ArrowDtype. Using `object` instead. To use ArrowDtype, use pandas >= 1.5 and pyarrow >= 10.0.1.\n",
      "  warnings.warn(_RANGE_PYARROW_WARNING)\n",
      "WARNING: All log messages before absl::InitializeLog() is called are written to STDERR\n",
      "I0000 00:00:1724297611.377224   57141 config.cc:230] gRPC experiments enabled: call_status_override_on_cancellation, event_engine_dns, event_engine_listener, http2_stats_fix, monitoring_experiment, pick_first_new, trace_record_callops, work_serializer_clears_time_cache\n"
     ]
    }
   ],
   "source": [
    "# Define your query\n",
    "query = \"\"\"\n",
    "SELECT *\n",
    "FROM `GDELT.actor_event_covid`\n",
    "\"\"\"\n",
    "\n",
    "# Execute the query and load the data into a pandas DataFrame\n",
    "df = client.query(query).to_dataframe()"
   ]
  },
  {
   "cell_type": "code",
   "execution_count": 3,
   "id": "bff35f21-2242-4f9b-91d2-a262003f7609",
   "metadata": {
    "tags": []
   },
   "outputs": [
    {
     "data": {
      "text/html": [
       "<div>\n",
       "<style scoped>\n",
       "    .dataframe tbody tr th:only-of-type {\n",
       "        vertical-align: middle;\n",
       "    }\n",
       "\n",
       "    .dataframe tbody tr th {\n",
       "        vertical-align: top;\n",
       "    }\n",
       "\n",
       "    .dataframe thead th {\n",
       "        text-align: right;\n",
       "    }\n",
       "</style>\n",
       "<table border=\"1\" class=\"dataframe\">\n",
       "  <thead>\n",
       "    <tr style=\"text-align: right;\">\n",
       "      <th></th>\n",
       "      <th>GLOBALEVENTID</th>\n",
       "      <th>SQLDATE</th>\n",
       "      <th>Actor1Name</th>\n",
       "      <th>Actor2Name</th>\n",
       "      <th>EventRootCode</th>\n",
       "      <th>EventBaseCode</th>\n",
       "      <th>EventCode</th>\n",
       "      <th>NumMentions</th>\n",
       "      <th>SOURCEURL</th>\n",
       "    </tr>\n",
       "  </thead>\n",
       "  <tbody>\n",
       "    <tr>\n",
       "      <th>0</th>\n",
       "      <td>971034931</td>\n",
       "      <td>20210223</td>\n",
       "      <td>UNITED STATES</td>\n",
       "      <td>UNITED STATES</td>\n",
       "      <td>01</td>\n",
       "      <td>011</td>\n",
       "      <td>011</td>\n",
       "      <td>8</td>\n",
       "      <td>https://www.wbrc.com/2021/02/23/why-we-cant-ma...</td>\n",
       "    </tr>\n",
       "    <tr>\n",
       "      <th>1</th>\n",
       "      <td>1121877444</td>\n",
       "      <td>20230820</td>\n",
       "      <td>COMPANY</td>\n",
       "      <td>UNITED STATES</td>\n",
       "      <td>03</td>\n",
       "      <td>031</td>\n",
       "      <td>031</td>\n",
       "      <td>8</td>\n",
       "      <td>https://www.nola.com/news/politics/louisianas-...</td>\n",
       "    </tr>\n",
       "    <tr>\n",
       "      <th>2</th>\n",
       "      <td>823935681</td>\n",
       "      <td>20190215</td>\n",
       "      <td>JUDGE</td>\n",
       "      <td>PRISON</td>\n",
       "      <td>12</td>\n",
       "      <td>128</td>\n",
       "      <td>128</td>\n",
       "      <td>10</td>\n",
       "      <td>https://www.independent.ie/world-news/north-am...</td>\n",
       "    </tr>\n",
       "    <tr>\n",
       "      <th>3</th>\n",
       "      <td>664533358</td>\n",
       "      <td>20170606</td>\n",
       "      <td>UNITED STATES</td>\n",
       "      <td>LAWMAKER</td>\n",
       "      <td>04</td>\n",
       "      <td>041</td>\n",
       "      <td>041</td>\n",
       "      <td>4</td>\n",
       "      <td>http://www.virginiamn.com/news/local/judge-app...</td>\n",
       "    </tr>\n",
       "    <tr>\n",
       "      <th>4</th>\n",
       "      <td>542628712</td>\n",
       "      <td>20160521</td>\n",
       "      <td>UNITED STATES</td>\n",
       "      <td>HOSPITAL</td>\n",
       "      <td>07</td>\n",
       "      <td>073</td>\n",
       "      <td>073</td>\n",
       "      <td>4</td>\n",
       "      <td>http://wqad.com/2016/05/21/two-airlifted-to-ho...</td>\n",
       "    </tr>\n",
       "  </tbody>\n",
       "</table>\n",
       "</div>"
      ],
      "text/plain": [
       "  GLOBALEVENTID   SQLDATE     Actor1Name     Actor2Name EventRootCode  \\\n",
       "0     971034931  20210223  UNITED STATES  UNITED STATES            01   \n",
       "1    1121877444  20230820        COMPANY  UNITED STATES            03   \n",
       "2     823935681  20190215          JUDGE         PRISON            12   \n",
       "3     664533358  20170606  UNITED STATES       LAWMAKER            04   \n",
       "4     542628712  20160521  UNITED STATES       HOSPITAL            07   \n",
       "\n",
       "  EventBaseCode EventCode  NumMentions  \\\n",
       "0           011       011            8   \n",
       "1           031       031            8   \n",
       "2           128       128           10   \n",
       "3           041       041            4   \n",
       "4           073       073            4   \n",
       "\n",
       "                                           SOURCEURL  \n",
       "0  https://www.wbrc.com/2021/02/23/why-we-cant-ma...  \n",
       "1  https://www.nola.com/news/politics/louisianas-...  \n",
       "2  https://www.independent.ie/world-news/north-am...  \n",
       "3  http://www.virginiamn.com/news/local/judge-app...  \n",
       "4  http://wqad.com/2016/05/21/two-airlifted-to-ho...  "
      ]
     },
     "execution_count": 3,
     "metadata": {},
     "output_type": "execute_result"
    }
   ],
   "source": [
    "df.head()"
   ]
  },
  {
   "cell_type": "code",
   "execution_count": 4,
   "id": "5c8e74b3-9c4b-4a34-b001-160638ce815b",
   "metadata": {
    "tags": []
   },
   "outputs": [],
   "source": [
    "# Convert SQLDATE to datetime to extract month and day\n",
    "df['SQLDATE'] = pd.to_datetime(df['SQLDATE'], format='%Y%m%d')\n",
    "\n",
    "# Calculate the time feature\n",
    "df['time'] = (30 * df['SQLDATE'].dt.month + df['SQLDATE'].dt.day) / 365"
   ]
  },
  {
   "cell_type": "code",
   "execution_count": 5,
   "id": "c1f38ef9-7829-4459-8aa9-4b6772204a7f",
   "metadata": {
    "tags": []
   },
   "outputs": [
    {
     "data": {
      "text/html": [
       "<div>\n",
       "<style scoped>\n",
       "    .dataframe tbody tr th:only-of-type {\n",
       "        vertical-align: middle;\n",
       "    }\n",
       "\n",
       "    .dataframe tbody tr th {\n",
       "        vertical-align: top;\n",
       "    }\n",
       "\n",
       "    .dataframe thead th {\n",
       "        text-align: right;\n",
       "    }\n",
       "</style>\n",
       "<table border=\"1\" class=\"dataframe\">\n",
       "  <thead>\n",
       "    <tr style=\"text-align: right;\">\n",
       "      <th></th>\n",
       "      <th>GLOBALEVENTID</th>\n",
       "      <th>SQLDATE</th>\n",
       "      <th>Actor1Name</th>\n",
       "      <th>Actor2Name</th>\n",
       "      <th>EventRootCode</th>\n",
       "      <th>EventBaseCode</th>\n",
       "      <th>EventCode</th>\n",
       "      <th>NumMentions</th>\n",
       "      <th>SOURCEURL</th>\n",
       "      <th>time</th>\n",
       "    </tr>\n",
       "  </thead>\n",
       "  <tbody>\n",
       "    <tr>\n",
       "      <th>0</th>\n",
       "      <td>971034931</td>\n",
       "      <td>2021-02-23</td>\n",
       "      <td>UNITED STATES</td>\n",
       "      <td>UNITED STATES</td>\n",
       "      <td>01</td>\n",
       "      <td>011</td>\n",
       "      <td>011</td>\n",
       "      <td>8</td>\n",
       "      <td>https://www.wbrc.com/2021/02/23/why-we-cant-ma...</td>\n",
       "      <td>0.227397</td>\n",
       "    </tr>\n",
       "    <tr>\n",
       "      <th>1</th>\n",
       "      <td>1121877444</td>\n",
       "      <td>2023-08-20</td>\n",
       "      <td>COMPANY</td>\n",
       "      <td>UNITED STATES</td>\n",
       "      <td>03</td>\n",
       "      <td>031</td>\n",
       "      <td>031</td>\n",
       "      <td>8</td>\n",
       "      <td>https://www.nola.com/news/politics/louisianas-...</td>\n",
       "      <td>0.712329</td>\n",
       "    </tr>\n",
       "    <tr>\n",
       "      <th>2</th>\n",
       "      <td>823935681</td>\n",
       "      <td>2019-02-15</td>\n",
       "      <td>JUDGE</td>\n",
       "      <td>PRISON</td>\n",
       "      <td>12</td>\n",
       "      <td>128</td>\n",
       "      <td>128</td>\n",
       "      <td>10</td>\n",
       "      <td>https://www.independent.ie/world-news/north-am...</td>\n",
       "      <td>0.205479</td>\n",
       "    </tr>\n",
       "    <tr>\n",
       "      <th>3</th>\n",
       "      <td>664533358</td>\n",
       "      <td>2017-06-06</td>\n",
       "      <td>UNITED STATES</td>\n",
       "      <td>LAWMAKER</td>\n",
       "      <td>04</td>\n",
       "      <td>041</td>\n",
       "      <td>041</td>\n",
       "      <td>4</td>\n",
       "      <td>http://www.virginiamn.com/news/local/judge-app...</td>\n",
       "      <td>0.509589</td>\n",
       "    </tr>\n",
       "    <tr>\n",
       "      <th>4</th>\n",
       "      <td>542628712</td>\n",
       "      <td>2016-05-21</td>\n",
       "      <td>UNITED STATES</td>\n",
       "      <td>HOSPITAL</td>\n",
       "      <td>07</td>\n",
       "      <td>073</td>\n",
       "      <td>073</td>\n",
       "      <td>4</td>\n",
       "      <td>http://wqad.com/2016/05/21/two-airlifted-to-ho...</td>\n",
       "      <td>0.468493</td>\n",
       "    </tr>\n",
       "  </tbody>\n",
       "</table>\n",
       "</div>"
      ],
      "text/plain": [
       "  GLOBALEVENTID    SQLDATE     Actor1Name     Actor2Name EventRootCode  \\\n",
       "0     971034931 2021-02-23  UNITED STATES  UNITED STATES            01   \n",
       "1    1121877444 2023-08-20        COMPANY  UNITED STATES            03   \n",
       "2     823935681 2019-02-15          JUDGE         PRISON            12   \n",
       "3     664533358 2017-06-06  UNITED STATES       LAWMAKER            04   \n",
       "4     542628712 2016-05-21  UNITED STATES       HOSPITAL            07   \n",
       "\n",
       "  EventBaseCode EventCode  NumMentions  \\\n",
       "0           011       011            8   \n",
       "1           031       031            8   \n",
       "2           128       128           10   \n",
       "3           041       041            4   \n",
       "4           073       073            4   \n",
       "\n",
       "                                           SOURCEURL      time  \n",
       "0  https://www.wbrc.com/2021/02/23/why-we-cant-ma...  0.227397  \n",
       "1  https://www.nola.com/news/politics/louisianas-...  0.712329  \n",
       "2  https://www.independent.ie/world-news/north-am...  0.205479  \n",
       "3  http://www.virginiamn.com/news/local/judge-app...  0.509589  \n",
       "4  http://wqad.com/2016/05/21/two-airlifted-to-ho...  0.468493  "
      ]
     },
     "execution_count": 5,
     "metadata": {},
     "output_type": "execute_result"
    }
   ],
   "source": [
    "df.head()"
   ]
  },
  {
   "cell_type": "code",
   "execution_count": 6,
   "id": "a36a566a-0f4a-4d32-900b-05e9e0b13316",
   "metadata": {
    "tags": []
   },
   "outputs": [
    {
     "name": "stdout",
     "output_type": "stream",
     "text": [
      "actor vector: Index(['UNITED STATES', 'SCHOOL', 'POLICE', 'PRESIDENT', 'COMMUNITY',\n",
      "       'STUDENT', 'BUSINESS', 'COMPANY', 'ATTORNEY', 'JUDGE', 'AMERICAN',\n",
      "       'GOVERNMENT', 'UNIVERSITY', 'SENATE', 'PRISON', 'MEDIA', 'WASHINGTON',\n",
      "       'GOVERNOR', 'HOSPITAL', 'COLLEGE', 'NEW YORK', 'VOTER', 'EMPLOYEE',\n",
      "       'TEXAS', 'CRIMINAL', 'RESIDENTS', 'AUTHORITIES', 'CALIFORNIA',\n",
      "       'CONGRESS', 'THE WHITE HOUSE', 'FLORIDA', 'LAWMAKER', 'ADMINISTRATION',\n",
      "       'SENATOR', 'WORKER', 'MAYOR', 'CHINA', 'MILITARY', 'INDUSTRY',\n",
      "       'PROSECUTOR', 'PROTESTER', 'JOE BIDEN', 'AFRICA', 'LAWYER', 'OHIO',\n",
      "       'UNITED KINGDOM', 'MICHIGAN', 'CHICAGO', 'SUPREME COURT', 'IOWA',\n",
      "       'COMPANIES', 'VIRGINIA', 'WEBSITE', 'DOCTOR', 'THE US',\n",
      "       'HEALTH OFFICIAL'],\n",
      "      dtype='object')\n"
     ]
    }
   ],
   "source": [
    "# Count the frequency of each actor\n",
    "actor_counts = pd.concat([df['Actor1Name'], df['Actor2Name']]).value_counts()\n",
    "\n",
    "# Filter actors based on the minimum number of occurrences\n",
    "important_actors = actor_counts.index\n",
    "print(\"actor vector: {}\".format(important_actors))"
   ]
  },
  {
   "cell_type": "code",
   "execution_count": 7,
   "id": "ea0fe877-ff04-47ac-be1a-b6598455d6b6",
   "metadata": {
    "tags": []
   },
   "outputs": [
    {
     "data": {
      "text/plain": [
       "56"
      ]
     },
     "execution_count": 7,
     "metadata": {},
     "output_type": "execute_result"
    }
   ],
   "source": [
    "len(important_actors)"
   ]
  },
  {
   "cell_type": "code",
   "execution_count": 8,
   "id": "8457dbac-396a-47d0-947c-07c65a711fe1",
   "metadata": {
    "tags": []
   },
   "outputs": [],
   "source": [
    "# Function to filter and multi-hot encode actors\n",
    "def multi_hot_encode_actors(row, important_actors):\n",
    "    actor_vector = np.zeros(len(important_actors), dtype=int)\n",
    "    actor_vector[important_actors.get_loc(row['Actor1Name'])] = 1\n",
    "    actor_vector[important_actors.get_loc(row['Actor2Name'])] = 1\n",
    "    return actor_vector\n",
    "\n",
    "# Apply multi-hot encoding for actors\n",
    "df['actor_vector'] = df.apply(multi_hot_encode_actors, important_actors=important_actors, axis=1)\n"
   ]
  },
  {
   "cell_type": "code",
   "execution_count": 9,
   "id": "f94f572a-4990-448e-b082-849043f717fc",
   "metadata": {},
   "outputs": [
    {
     "data": {
      "text/plain": [
       "0    [1, 0, 0, 0, 0, 0, 0, 0, 0, 0, 0, 0, 0, 0, 0, ...\n",
       "1    [1, 0, 0, 0, 0, 0, 0, 1, 0, 0, 0, 0, 0, 0, 0, ...\n",
       "2    [0, 0, 0, 0, 0, 0, 0, 0, 0, 1, 0, 0, 0, 0, 1, ...\n",
       "3    [1, 0, 0, 0, 0, 0, 0, 0, 0, 0, 0, 0, 0, 0, 0, ...\n",
       "4    [1, 0, 0, 0, 0, 0, 0, 0, 0, 0, 0, 0, 0, 0, 0, ...\n",
       "Name: actor_vector, dtype: object"
      ]
     },
     "execution_count": 9,
     "metadata": {},
     "output_type": "execute_result"
    }
   ],
   "source": [
    "df['actor_vector'].head()"
   ]
  },
  {
   "cell_type": "code",
   "execution_count": 10,
   "id": "f6ae502b-51d6-4e7c-9ec2-745eb2605fb4",
   "metadata": {
    "tags": []
   },
   "outputs": [],
   "source": [
    "# Combine unique codes from all three columns\n",
    "all_unique_codes = sorted(set(df['EventRootCode'].unique()) )# |\n",
    "                          #set(df['EventBaseCode'].unique()) |\n",
    "                          #set(df['EventCode'].unique()))\n",
    "\n",
    "# Create a mapping of codes to indices\n",
    "code_to_index = {code: idx for idx, code in enumerate(all_unique_codes)}"
   ]
  },
  {
   "cell_type": "code",
   "execution_count": 11,
   "id": "70a8287b-e02a-4990-bc7c-d31e7514313d",
   "metadata": {
    "tags": []
   },
   "outputs": [
    {
     "data": {
      "text/plain": [
       "['--',\n",
       " '01',\n",
       " '02',\n",
       " '03',\n",
       " '04',\n",
       " '05',\n",
       " '06',\n",
       " '07',\n",
       " '08',\n",
       " '09',\n",
       " '10',\n",
       " '11',\n",
       " '12',\n",
       " '13',\n",
       " '14',\n",
       " '15',\n",
       " '16',\n",
       " '17',\n",
       " '18',\n",
       " '19',\n",
       " '20']"
      ]
     },
     "execution_count": 11,
     "metadata": {},
     "output_type": "execute_result"
    }
   ],
   "source": [
    "all_unique_codes"
   ]
  },
  {
   "cell_type": "code",
   "execution_count": 12,
   "id": "45c964a2-b78c-4580-ac26-13964d7681ab",
   "metadata": {
    "tags": []
   },
   "outputs": [
    {
     "data": {
      "text/plain": [
       "21"
      ]
     },
     "execution_count": 12,
     "metadata": {},
     "output_type": "execute_result"
    }
   ],
   "source": [
    "len(code_to_index)"
   ]
  },
  {
   "cell_type": "code",
   "execution_count": 13,
   "id": "6bd22640-dab1-485f-baae-b43aff2793de",
   "metadata": {
    "tags": []
   },
   "outputs": [],
   "source": [
    "# Function to encode a single row\n",
    "def encode_row(row, code_to_index):\n",
    "    # Create a vector of zeros with length equal to the number of unique codes\n",
    "    vector = np.zeros(len(code_to_index), dtype=int)\n",
    "    \n",
    "    # Set the index for each code in the vector to 1\n",
    "    for col in ['EventRootCode', 'EventBaseCode', 'EventCode']:\n",
    "        code = row[col]\n",
    "        if code in code_to_index:\n",
    "            vector[code_to_index[code]] = 1\n",
    "        \n",
    "    return vector\n",
    "\n",
    "# Apply the encoding to each row in the dataframe\n",
    "df['event_vector'] = df.apply(encode_row, code_to_index=code_to_index, axis=1)"
   ]
  },
  {
   "cell_type": "code",
   "execution_count": 14,
   "id": "57d05bda-9e6a-4ed8-a6bf-63d36a206aef",
   "metadata": {
    "tags": []
   },
   "outputs": [
    {
     "data": {
      "text/plain": [
       "0    [0, 1, 0, 0, 0, 0, 0, 0, 0, 0, 0, 0, 0, 0, 0, ...\n",
       "1    [0, 0, 0, 1, 0, 0, 0, 0, 0, 0, 0, 0, 0, 0, 0, ...\n",
       "2    [0, 0, 0, 0, 0, 0, 0, 0, 0, 0, 0, 0, 1, 0, 0, ...\n",
       "3    [0, 0, 0, 0, 1, 0, 0, 0, 0, 0, 0, 0, 0, 0, 0, ...\n",
       "4    [0, 0, 0, 0, 0, 0, 0, 1, 0, 0, 0, 0, 0, 0, 0, ...\n",
       "Name: event_vector, dtype: object"
      ]
     },
     "execution_count": 14,
     "metadata": {},
     "output_type": "execute_result"
    }
   ],
   "source": [
    "df['event_vector'].head()"
   ]
  },
  {
   "cell_type": "code",
   "execution_count": 15,
   "id": "75f55f91-d7c8-4397-8e57-9877f5dda138",
   "metadata": {
    "tags": []
   },
   "outputs": [
    {
     "data": {
      "text/plain": [
       "24015904"
      ]
     },
     "execution_count": 15,
     "metadata": {},
     "output_type": "execute_result"
    }
   ],
   "source": [
    "df['event_vector'].size"
   ]
  },
  {
   "cell_type": "code",
   "execution_count": 16,
   "id": "3dcc964f-32fe-4fba-820a-777973dfa8d0",
   "metadata": {
    "tags": []
   },
   "outputs": [
    {
     "data": {
      "text/plain": [
       "24015904"
      ]
     },
     "execution_count": 16,
     "metadata": {},
     "output_type": "execute_result"
    }
   ],
   "source": [
    "df['actor_vector'].size"
   ]
  },
  {
   "cell_type": "code",
   "execution_count": 17,
   "id": "8d6e3bee-7023-4853-97a8-199ad2372092",
   "metadata": {
    "tags": []
   },
   "outputs": [
    {
     "data": {
      "text/plain": [
       "24015904"
      ]
     },
     "execution_count": 17,
     "metadata": {},
     "output_type": "execute_result"
    }
   ],
   "source": [
    "df['time'].size"
   ]
  },
  {
   "cell_type": "code",
   "execution_count": 18,
   "id": "01d6497a-c479-4c30-9aa5-ac91b73e20b5",
   "metadata": {
    "tags": []
   },
   "outputs": [],
   "source": [
    "# Convert the list of vectors to a matrix\n",
    "df['combined_vector'] = df.apply(lambda row: np.concatenate([[row['time']] ,row['actor_vector'], row['event_vector']]), axis=1)"
   ]
  },
  {
   "cell_type": "code",
   "execution_count": 19,
   "id": "c7a1a1ef-5c4b-4a0f-b42b-592ac8c676b0",
   "metadata": {
    "tags": []
   },
   "outputs": [
    {
     "data": {
      "text/plain": [
       "0    [0.2273972602739726, 1.0, 0.0, 0.0, 0.0, 0.0, ...\n",
       "1    [0.7123287671232876, 1.0, 0.0, 0.0, 0.0, 0.0, ...\n",
       "2    [0.2054794520547945, 0.0, 0.0, 0.0, 0.0, 0.0, ...\n",
       "3    [0.5095890410958904, 1.0, 0.0, 0.0, 0.0, 0.0, ...\n",
       "4    [0.4684931506849315, 1.0, 0.0, 0.0, 0.0, 0.0, ...\n",
       "Name: combined_vector, dtype: object"
      ]
     },
     "execution_count": 19,
     "metadata": {},
     "output_type": "execute_result"
    }
   ],
   "source": [
    "df['combined_vector'].head()"
   ]
  },
  {
   "cell_type": "code",
   "execution_count": 20,
   "id": "3af6e92b-0f48-4438-b5fd-b16ea9a8578f",
   "metadata": {},
   "outputs": [],
   "source": [
    "df_combined=df['combined_vector'].copy()"
   ]
  },
  {
   "cell_type": "code",
   "execution_count": 21,
   "id": "e241701f-b81d-4206-839b-adb75ac3e68f",
   "metadata": {},
   "outputs": [],
   "source": [
    "del df"
   ]
  },
  {
   "cell_type": "code",
   "execution_count": 22,
   "id": "bd7906a0-fa76-46f9-a983-4c3d9a30a7b1",
   "metadata": {},
   "outputs": [],
   "source": [
    "# Define column names for actor_vector and event_vector\n",
    "actor_columns = [f'actor_{actor}' for actor in important_actors]\n",
    "event_columns = [f'event_{code}' for code in all_unique_codes]\n",
    "\n",
    "# Combine the column names\n",
    "combined_columns = ['time']+actor_columns + event_columns\n",
    "# Convert the numpy array to a DataFrame\n",
    "combined_df = pd.DataFrame(data=np.vstack(df_combined.values), columns=combined_columns)"
   ]
  },
  {
   "cell_type": "code",
   "execution_count": 23,
   "id": "488ae27e-b7a5-40e4-96f8-12de12b9cf9c",
   "metadata": {
    "collapsed": true,
    "jupyter": {
     "outputs_hidden": true
    },
    "tags": []
   },
   "outputs": [
    {
     "data": {
      "text/html": [
       "<div>\n",
       "<style scoped>\n",
       "    .dataframe tbody tr th:only-of-type {\n",
       "        vertical-align: middle;\n",
       "    }\n",
       "\n",
       "    .dataframe tbody tr th {\n",
       "        vertical-align: top;\n",
       "    }\n",
       "\n",
       "    .dataframe thead th {\n",
       "        text-align: right;\n",
       "    }\n",
       "</style>\n",
       "<table border=\"1\" class=\"dataframe\">\n",
       "  <thead>\n",
       "    <tr style=\"text-align: right;\">\n",
       "      <th></th>\n",
       "      <th>time</th>\n",
       "      <th>actor_UNITED STATES</th>\n",
       "      <th>actor_SCHOOL</th>\n",
       "      <th>actor_POLICE</th>\n",
       "      <th>actor_PRESIDENT</th>\n",
       "      <th>actor_COMMUNITY</th>\n",
       "      <th>actor_STUDENT</th>\n",
       "      <th>actor_BUSINESS</th>\n",
       "      <th>actor_COMPANY</th>\n",
       "      <th>actor_ATTORNEY</th>\n",
       "      <th>...</th>\n",
       "      <th>event_11</th>\n",
       "      <th>event_12</th>\n",
       "      <th>event_13</th>\n",
       "      <th>event_14</th>\n",
       "      <th>event_15</th>\n",
       "      <th>event_16</th>\n",
       "      <th>event_17</th>\n",
       "      <th>event_18</th>\n",
       "      <th>event_19</th>\n",
       "      <th>event_20</th>\n",
       "    </tr>\n",
       "  </thead>\n",
       "  <tbody>\n",
       "    <tr>\n",
       "      <th>0</th>\n",
       "      <td>0.227397</td>\n",
       "      <td>1.0</td>\n",
       "      <td>0.0</td>\n",
       "      <td>0.0</td>\n",
       "      <td>0.0</td>\n",
       "      <td>0.0</td>\n",
       "      <td>0.0</td>\n",
       "      <td>0.0</td>\n",
       "      <td>0.0</td>\n",
       "      <td>0.0</td>\n",
       "      <td>...</td>\n",
       "      <td>0.0</td>\n",
       "      <td>0.0</td>\n",
       "      <td>0.0</td>\n",
       "      <td>0.0</td>\n",
       "      <td>0.0</td>\n",
       "      <td>0.0</td>\n",
       "      <td>0.0</td>\n",
       "      <td>0.0</td>\n",
       "      <td>0.0</td>\n",
       "      <td>0.0</td>\n",
       "    </tr>\n",
       "    <tr>\n",
       "      <th>1</th>\n",
       "      <td>0.712329</td>\n",
       "      <td>1.0</td>\n",
       "      <td>0.0</td>\n",
       "      <td>0.0</td>\n",
       "      <td>0.0</td>\n",
       "      <td>0.0</td>\n",
       "      <td>0.0</td>\n",
       "      <td>0.0</td>\n",
       "      <td>1.0</td>\n",
       "      <td>0.0</td>\n",
       "      <td>...</td>\n",
       "      <td>0.0</td>\n",
       "      <td>0.0</td>\n",
       "      <td>0.0</td>\n",
       "      <td>0.0</td>\n",
       "      <td>0.0</td>\n",
       "      <td>0.0</td>\n",
       "      <td>0.0</td>\n",
       "      <td>0.0</td>\n",
       "      <td>0.0</td>\n",
       "      <td>0.0</td>\n",
       "    </tr>\n",
       "    <tr>\n",
       "      <th>2</th>\n",
       "      <td>0.205479</td>\n",
       "      <td>0.0</td>\n",
       "      <td>0.0</td>\n",
       "      <td>0.0</td>\n",
       "      <td>0.0</td>\n",
       "      <td>0.0</td>\n",
       "      <td>0.0</td>\n",
       "      <td>0.0</td>\n",
       "      <td>0.0</td>\n",
       "      <td>0.0</td>\n",
       "      <td>...</td>\n",
       "      <td>0.0</td>\n",
       "      <td>1.0</td>\n",
       "      <td>0.0</td>\n",
       "      <td>0.0</td>\n",
       "      <td>0.0</td>\n",
       "      <td>0.0</td>\n",
       "      <td>0.0</td>\n",
       "      <td>0.0</td>\n",
       "      <td>0.0</td>\n",
       "      <td>0.0</td>\n",
       "    </tr>\n",
       "    <tr>\n",
       "      <th>3</th>\n",
       "      <td>0.509589</td>\n",
       "      <td>1.0</td>\n",
       "      <td>0.0</td>\n",
       "      <td>0.0</td>\n",
       "      <td>0.0</td>\n",
       "      <td>0.0</td>\n",
       "      <td>0.0</td>\n",
       "      <td>0.0</td>\n",
       "      <td>0.0</td>\n",
       "      <td>0.0</td>\n",
       "      <td>...</td>\n",
       "      <td>0.0</td>\n",
       "      <td>0.0</td>\n",
       "      <td>0.0</td>\n",
       "      <td>0.0</td>\n",
       "      <td>0.0</td>\n",
       "      <td>0.0</td>\n",
       "      <td>0.0</td>\n",
       "      <td>0.0</td>\n",
       "      <td>0.0</td>\n",
       "      <td>0.0</td>\n",
       "    </tr>\n",
       "    <tr>\n",
       "      <th>4</th>\n",
       "      <td>0.468493</td>\n",
       "      <td>1.0</td>\n",
       "      <td>0.0</td>\n",
       "      <td>0.0</td>\n",
       "      <td>0.0</td>\n",
       "      <td>0.0</td>\n",
       "      <td>0.0</td>\n",
       "      <td>0.0</td>\n",
       "      <td>0.0</td>\n",
       "      <td>0.0</td>\n",
       "      <td>...</td>\n",
       "      <td>0.0</td>\n",
       "      <td>0.0</td>\n",
       "      <td>0.0</td>\n",
       "      <td>0.0</td>\n",
       "      <td>0.0</td>\n",
       "      <td>0.0</td>\n",
       "      <td>0.0</td>\n",
       "      <td>0.0</td>\n",
       "      <td>0.0</td>\n",
       "      <td>0.0</td>\n",
       "    </tr>\n",
       "  </tbody>\n",
       "</table>\n",
       "<p>5 rows × 78 columns</p>\n",
       "</div>"
      ],
      "text/plain": [
       "       time  actor_UNITED STATES  actor_SCHOOL  actor_POLICE  actor_PRESIDENT  \\\n",
       "0  0.227397                  1.0           0.0           0.0              0.0   \n",
       "1  0.712329                  1.0           0.0           0.0              0.0   \n",
       "2  0.205479                  0.0           0.0           0.0              0.0   \n",
       "3  0.509589                  1.0           0.0           0.0              0.0   \n",
       "4  0.468493                  1.0           0.0           0.0              0.0   \n",
       "\n",
       "   actor_COMMUNITY  actor_STUDENT  actor_BUSINESS  actor_COMPANY  \\\n",
       "0              0.0            0.0             0.0            0.0   \n",
       "1              0.0            0.0             0.0            1.0   \n",
       "2              0.0            0.0             0.0            0.0   \n",
       "3              0.0            0.0             0.0            0.0   \n",
       "4              0.0            0.0             0.0            0.0   \n",
       "\n",
       "   actor_ATTORNEY  ...  event_11  event_12  event_13  event_14  event_15  \\\n",
       "0             0.0  ...       0.0       0.0       0.0       0.0       0.0   \n",
       "1             0.0  ...       0.0       0.0       0.0       0.0       0.0   \n",
       "2             0.0  ...       0.0       1.0       0.0       0.0       0.0   \n",
       "3             0.0  ...       0.0       0.0       0.0       0.0       0.0   \n",
       "4             0.0  ...       0.0       0.0       0.0       0.0       0.0   \n",
       "\n",
       "   event_16  event_17  event_18  event_19  event_20  \n",
       "0       0.0       0.0       0.0       0.0       0.0  \n",
       "1       0.0       0.0       0.0       0.0       0.0  \n",
       "2       0.0       0.0       0.0       0.0       0.0  \n",
       "3       0.0       0.0       0.0       0.0       0.0  \n",
       "4       0.0       0.0       0.0       0.0       0.0  \n",
       "\n",
       "[5 rows x 78 columns]"
      ]
     },
     "execution_count": 23,
     "metadata": {},
     "output_type": "execute_result"
    }
   ],
   "source": [
    "combined_df.head()"
   ]
  },
  {
   "cell_type": "code",
   "execution_count": 24,
   "id": "64fa43b9-e3ca-455d-9256-0f8d3b439490",
   "metadata": {
    "tags": []
   },
   "outputs": [],
   "source": [
    "del df_combined"
   ]
  },
  {
   "cell_type": "code",
   "execution_count": 25,
   "id": "0c06e190-5775-4a15-b4dc-4cc0b2c62636",
   "metadata": {
    "tags": []
   },
   "outputs": [
    {
     "name": "stdout",
     "output_type": "stream",
     "text": [
      "Loaded chunk 1 into factoreddatathon2014.GDELT.training_set_kmeans\n",
      "Loaded chunk 2 into factoreddatathon2014.GDELT.training_set_kmeans\n",
      "Loaded chunk 3 into factoreddatathon2014.GDELT.training_set_kmeans\n",
      "Loaded chunk 4 into factoreddatathon2014.GDELT.training_set_kmeans\n",
      "Loaded chunk 5 into factoreddatathon2014.GDELT.training_set_kmeans\n",
      "Loaded chunk 6 into factoreddatathon2014.GDELT.training_set_kmeans\n",
      "Loaded chunk 7 into factoreddatathon2014.GDELT.training_set_kmeans\n",
      "Loaded chunk 8 into factoreddatathon2014.GDELT.training_set_kmeans\n",
      "Loaded chunk 9 into factoreddatathon2014.GDELT.training_set_kmeans\n",
      "Loaded chunk 10 into factoreddatathon2014.GDELT.training_set_kmeans\n",
      "Loaded chunk 11 into factoreddatathon2014.GDELT.training_set_kmeans\n",
      "Loaded chunk 12 into factoreddatathon2014.GDELT.training_set_kmeans\n",
      "Loaded chunk 13 into factoreddatathon2014.GDELT.training_set_kmeans\n",
      "Loaded chunk 14 into factoreddatathon2014.GDELT.training_set_kmeans\n",
      "Loaded chunk 15 into factoreddatathon2014.GDELT.training_set_kmeans\n",
      "Loaded chunk 16 into factoreddatathon2014.GDELT.training_set_kmeans\n",
      "Loaded chunk 17 into factoreddatathon2014.GDELT.training_set_kmeans\n",
      "Loaded chunk 18 into factoreddatathon2014.GDELT.training_set_kmeans\n",
      "Loaded chunk 19 into factoreddatathon2014.GDELT.training_set_kmeans\n",
      "Loaded chunk 20 into factoreddatathon2014.GDELT.training_set_kmeans\n",
      "Loaded chunk 21 into factoreddatathon2014.GDELT.training_set_kmeans\n",
      "Loaded chunk 22 into factoreddatathon2014.GDELT.training_set_kmeans\n",
      "Loaded chunk 23 into factoreddatathon2014.GDELT.training_set_kmeans\n",
      "Loaded chunk 24 into factoreddatathon2014.GDELT.training_set_kmeans\n",
      "Loaded chunk 25 into factoreddatathon2014.GDELT.training_set_kmeans\n"
     ]
    }
   ],
   "source": [
    "from google.cloud import bigquery\n",
    "\n",
    "# Initialize BigQuery client\n",
    "client = bigquery.Client()\n",
    "\n",
    "# Define the table ID\n",
    "table_id = \"factoreddatathon2014.GDELT.training_set_kmeans\"\n",
    "\n",
    "# Chunk size\n",
    "chunk_size = 1000000  # Adjust based on your memory limits\n",
    "\n",
    "# Upload in chunks\n",
    "for i in range(0, len(combined_df), chunk_size):\n",
    "    chunk = combined_df.iloc[i:i + chunk_size]\n",
    "    job = client.load_table_from_∫dataframe(chunk, table_id)\n",
    "    job.result()  # Wait for the job to complete\n",
    "\n",
    "    print(f\"Loaded chunk {i // chunk_size + 1} into {table_id}\")\n"
   ]
  },
  {
   "cell_type": "code",
   "execution_count": null,
   "id": "ca6fd620-5d9c-41a5-9853-2b5b4be84f11",
   "metadata": {},
   "outputs": [],
   "source": []
  }
 ],
 "metadata": {
  "environment": {
   "kernel": "python3",
   "name": "tf2-cpu.2-11.m124",
   "type": "gcloud",
   "uri": "us-docker.pkg.dev/deeplearning-platform-release/gcr.io/tf2-cpu.2-11:m124"
  },
  "kernelspec": {
   "display_name": "Python 3 (Local)",
   "language": "python",
   "name": "python3"
  },
  "language_info": {
   "codemirror_mode": {
    "name": "ipython",
    "version": 3
   },
   "file_extension": ".py",
   "mimetype": "text/x-python",
   "name": "python",
   "nbconvert_exporter": "python",
   "pygments_lexer": "ipython3",
   "version": "3.10.14"
  }
 },
 "nbformat": 4,
 "nbformat_minor": 5
}
