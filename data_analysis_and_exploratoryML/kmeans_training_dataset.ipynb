{
 "cells": [
  {
   "cell_type": "code",
   "execution_count": 1,
   "id": "ada8f066-8bb3-4d3c-adc3-48c82b9eb453",
   "metadata": {
    "tags": []
   },
   "outputs": [],
   "source": [
    "import pandas as pd\n",
    "import numpy as np\n",
    "from google.cloud import bigquery\n",
    "from sklearn.preprocessing import MultiLabelBinarizer\n",
    "\n",
    "# Initialize BigQuery client\n",
    "client = bigquery.Client()\n"
   ]
  },
  {
   "cell_type": "code",
   "execution_count": 2,
   "id": "4c22b202-585d-4474-b2f7-a66538c0a24d",
   "metadata": {
    "tags": []
   },
   "outputs": [
    {
     "name": "stderr",
     "output_type": "stream",
     "text": [
      "/opt/conda/lib/python3.10/site-packages/google/cloud/bigquery/table.py:2309: UserWarning: Unable to represent RANGE schema as struct using pandas ArrowDtype. Using `object` instead. To use ArrowDtype, use pandas >= 1.5 and pyarrow >= 10.0.1.\n",
      "  warnings.warn(_RANGE_PYARROW_WARNING)\n",
      "/opt/conda/lib/python3.10/site-packages/google/cloud/bigquery/table.py:2323: UserWarning: Unable to represent RANGE schema as struct using pandas ArrowDtype. Using `object` instead. To use ArrowDtype, use pandas >= 1.5 and pyarrow >= 10.0.1.\n",
      "  warnings.warn(_RANGE_PYARROW_WARNING)\n",
      "/opt/conda/lib/python3.10/site-packages/google/cloud/bigquery/table.py:2337: UserWarning: Unable to represent RANGE schema as struct using pandas ArrowDtype. Using `object` instead. To use ArrowDtype, use pandas >= 1.5 and pyarrow >= 10.0.1.\n",
      "  warnings.warn(_RANGE_PYARROW_WARNING)\n",
      "WARNING: All log messages before absl::InitializeLog() is called are written to STDERR\n",
      "I0000 00:00:1724294936.300549   47674 config.cc:230] gRPC experiments enabled: call_status_override_on_cancellation, event_engine_dns, event_engine_listener, http2_stats_fix, monitoring_experiment, pick_first_new, trace_record_callops, work_serializer_clears_time_cache\n"
     ]
    }
   ],
   "source": [
    "# Define your query\n",
    "query = \"\"\"\n",
    "SELECT *\n",
    "FROM `GDELT.actor_event_covid`\n",
    "\"\"\"\n",
    "\n",
    "# Execute the query and load the data into a pandas DataFrame\n",
    "df = client.query(query).to_dataframe()"
   ]
  },
  {
   "cell_type": "code",
   "execution_count": 3,
   "id": "bff35f21-2242-4f9b-91d2-a262003f7609",
   "metadata": {
    "tags": []
   },
   "outputs": [
    {
     "data": {
      "text/html": [
       "<div>\n",
       "<style scoped>\n",
       "    .dataframe tbody tr th:only-of-type {\n",
       "        vertical-align: middle;\n",
       "    }\n",
       "\n",
       "    .dataframe tbody tr th {\n",
       "        vertical-align: top;\n",
       "    }\n",
       "\n",
       "    .dataframe thead th {\n",
       "        text-align: right;\n",
       "    }\n",
       "</style>\n",
       "<table border=\"1\" class=\"dataframe\">\n",
       "  <thead>\n",
       "    <tr style=\"text-align: right;\">\n",
       "      <th></th>\n",
       "      <th>GLOBALEVENTID</th>\n",
       "      <th>SQLDATE</th>\n",
       "      <th>Actor1Name</th>\n",
       "      <th>Actor2Name</th>\n",
       "      <th>EventRootCode</th>\n",
       "      <th>EventBaseCode</th>\n",
       "      <th>EventCode</th>\n",
       "      <th>NumMentions</th>\n",
       "      <th>SOURCEURL</th>\n",
       "    </tr>\n",
       "  </thead>\n",
       "  <tbody>\n",
       "    <tr>\n",
       "      <th>0</th>\n",
       "      <td>1041690933</td>\n",
       "      <td>20220428</td>\n",
       "      <td>MEDIA</td>\n",
       "      <td>UNITED STATES</td>\n",
       "      <td>10</td>\n",
       "      <td>104</td>\n",
       "      <td>1043</td>\n",
       "      <td>7</td>\n",
       "      <td>http://www.msn.com/en-us/news/us/taylor-lorenz...</td>\n",
       "    </tr>\n",
       "    <tr>\n",
       "      <th>1</th>\n",
       "      <td>725576477</td>\n",
       "      <td>20180126</td>\n",
       "      <td>AUTHORITIES</td>\n",
       "      <td>UNITED STATES</td>\n",
       "      <td>07</td>\n",
       "      <td>073</td>\n",
       "      <td>073</td>\n",
       "      <td>10</td>\n",
       "      <td>https://www.perthnow.com.au/lifestyle/house-of...</td>\n",
       "    </tr>\n",
       "    <tr>\n",
       "      <th>2</th>\n",
       "      <td>484074922</td>\n",
       "      <td>20151112</td>\n",
       "      <td>WASHINGTON</td>\n",
       "      <td>COMPANY</td>\n",
       "      <td>19</td>\n",
       "      <td>192</td>\n",
       "      <td>192</td>\n",
       "      <td>20</td>\n",
       "      <td>http://pamplinmediagroup.com/pt/9-news/281005-...</td>\n",
       "    </tr>\n",
       "    <tr>\n",
       "      <th>3</th>\n",
       "      <td>1049258406</td>\n",
       "      <td>20220614</td>\n",
       "      <td>POLICE</td>\n",
       "      <td>WORKER</td>\n",
       "      <td>16</td>\n",
       "      <td>160</td>\n",
       "      <td>160</td>\n",
       "      <td>3</td>\n",
       "      <td>https://www.fredericknewspost.com/news/economy...</td>\n",
       "    </tr>\n",
       "    <tr>\n",
       "      <th>4</th>\n",
       "      <td>1093305478</td>\n",
       "      <td>20230404</td>\n",
       "      <td>UNITED STATES</td>\n",
       "      <td>AUTHORITIES</td>\n",
       "      <td>15</td>\n",
       "      <td>152</td>\n",
       "      <td>152</td>\n",
       "      <td>4</td>\n",
       "      <td>https://www.nny360.com/top_stories/nyc-braces-...</td>\n",
       "    </tr>\n",
       "  </tbody>\n",
       "</table>\n",
       "</div>"
      ],
      "text/plain": [
       "  GLOBALEVENTID   SQLDATE     Actor1Name     Actor2Name EventRootCode  \\\n",
       "0    1041690933  20220428          MEDIA  UNITED STATES            10   \n",
       "1     725576477  20180126    AUTHORITIES  UNITED STATES            07   \n",
       "2     484074922  20151112     WASHINGTON        COMPANY            19   \n",
       "3    1049258406  20220614         POLICE         WORKER            16   \n",
       "4    1093305478  20230404  UNITED STATES    AUTHORITIES            15   \n",
       "\n",
       "  EventBaseCode EventCode  NumMentions  \\\n",
       "0           104      1043            7   \n",
       "1           073       073           10   \n",
       "2           192       192           20   \n",
       "3           160       160            3   \n",
       "4           152       152            4   \n",
       "\n",
       "                                           SOURCEURL  \n",
       "0  http://www.msn.com/en-us/news/us/taylor-lorenz...  \n",
       "1  https://www.perthnow.com.au/lifestyle/house-of...  \n",
       "2  http://pamplinmediagroup.com/pt/9-news/281005-...  \n",
       "3  https://www.fredericknewspost.com/news/economy...  \n",
       "4  https://www.nny360.com/top_stories/nyc-braces-...  "
      ]
     },
     "execution_count": 3,
     "metadata": {},
     "output_type": "execute_result"
    }
   ],
   "source": [
    "df.head()"
   ]
  },
  {
   "cell_type": "code",
   "execution_count": 4,
   "id": "5c8e74b3-9c4b-4a34-b001-160638ce815b",
   "metadata": {
    "tags": []
   },
   "outputs": [],
   "source": [
    "# Convert SQLDATE to datetime to extract month and day\n",
    "df['SQLDATE'] = pd.to_datetime(df['SQLDATE'], format='%Y%m%d')\n",
    "\n",
    "# Calculate the time feature\n",
    "df['time'] = (30 * df['SQLDATE'].dt.month + df['SQLDATE'].dt.day) / 365"
   ]
  },
  {
   "cell_type": "code",
   "execution_count": 5,
   "id": "c1f38ef9-7829-4459-8aa9-4b6772204a7f",
   "metadata": {
    "tags": []
   },
   "outputs": [
    {
     "data": {
      "text/html": [
       "<div>\n",
       "<style scoped>\n",
       "    .dataframe tbody tr th:only-of-type {\n",
       "        vertical-align: middle;\n",
       "    }\n",
       "\n",
       "    .dataframe tbody tr th {\n",
       "        vertical-align: top;\n",
       "    }\n",
       "\n",
       "    .dataframe thead th {\n",
       "        text-align: right;\n",
       "    }\n",
       "</style>\n",
       "<table border=\"1\" class=\"dataframe\">\n",
       "  <thead>\n",
       "    <tr style=\"text-align: right;\">\n",
       "      <th></th>\n",
       "      <th>GLOBALEVENTID</th>\n",
       "      <th>SQLDATE</th>\n",
       "      <th>Actor1Name</th>\n",
       "      <th>Actor2Name</th>\n",
       "      <th>EventRootCode</th>\n",
       "      <th>EventBaseCode</th>\n",
       "      <th>EventCode</th>\n",
       "      <th>NumMentions</th>\n",
       "      <th>SOURCEURL</th>\n",
       "      <th>time</th>\n",
       "    </tr>\n",
       "  </thead>\n",
       "  <tbody>\n",
       "    <tr>\n",
       "      <th>0</th>\n",
       "      <td>1041690933</td>\n",
       "      <td>2022-04-28</td>\n",
       "      <td>MEDIA</td>\n",
       "      <td>UNITED STATES</td>\n",
       "      <td>10</td>\n",
       "      <td>104</td>\n",
       "      <td>1043</td>\n",
       "      <td>7</td>\n",
       "      <td>http://www.msn.com/en-us/news/us/taylor-lorenz...</td>\n",
       "      <td>0.405479</td>\n",
       "    </tr>\n",
       "    <tr>\n",
       "      <th>1</th>\n",
       "      <td>725576477</td>\n",
       "      <td>2018-01-26</td>\n",
       "      <td>AUTHORITIES</td>\n",
       "      <td>UNITED STATES</td>\n",
       "      <td>07</td>\n",
       "      <td>073</td>\n",
       "      <td>073</td>\n",
       "      <td>10</td>\n",
       "      <td>https://www.perthnow.com.au/lifestyle/house-of...</td>\n",
       "      <td>0.153425</td>\n",
       "    </tr>\n",
       "    <tr>\n",
       "      <th>2</th>\n",
       "      <td>484074922</td>\n",
       "      <td>2015-11-12</td>\n",
       "      <td>WASHINGTON</td>\n",
       "      <td>COMPANY</td>\n",
       "      <td>19</td>\n",
       "      <td>192</td>\n",
       "      <td>192</td>\n",
       "      <td>20</td>\n",
       "      <td>http://pamplinmediagroup.com/pt/9-news/281005-...</td>\n",
       "      <td>0.936986</td>\n",
       "    </tr>\n",
       "    <tr>\n",
       "      <th>3</th>\n",
       "      <td>1049258406</td>\n",
       "      <td>2022-06-14</td>\n",
       "      <td>POLICE</td>\n",
       "      <td>WORKER</td>\n",
       "      <td>16</td>\n",
       "      <td>160</td>\n",
       "      <td>160</td>\n",
       "      <td>3</td>\n",
       "      <td>https://www.fredericknewspost.com/news/economy...</td>\n",
       "      <td>0.531507</td>\n",
       "    </tr>\n",
       "    <tr>\n",
       "      <th>4</th>\n",
       "      <td>1093305478</td>\n",
       "      <td>2023-04-04</td>\n",
       "      <td>UNITED STATES</td>\n",
       "      <td>AUTHORITIES</td>\n",
       "      <td>15</td>\n",
       "      <td>152</td>\n",
       "      <td>152</td>\n",
       "      <td>4</td>\n",
       "      <td>https://www.nny360.com/top_stories/nyc-braces-...</td>\n",
       "      <td>0.339726</td>\n",
       "    </tr>\n",
       "  </tbody>\n",
       "</table>\n",
       "</div>"
      ],
      "text/plain": [
       "  GLOBALEVENTID    SQLDATE     Actor1Name     Actor2Name EventRootCode  \\\n",
       "0    1041690933 2022-04-28          MEDIA  UNITED STATES            10   \n",
       "1     725576477 2018-01-26    AUTHORITIES  UNITED STATES            07   \n",
       "2     484074922 2015-11-12     WASHINGTON        COMPANY            19   \n",
       "3    1049258406 2022-06-14         POLICE         WORKER            16   \n",
       "4    1093305478 2023-04-04  UNITED STATES    AUTHORITIES            15   \n",
       "\n",
       "  EventBaseCode EventCode  NumMentions  \\\n",
       "0           104      1043            7   \n",
       "1           073       073           10   \n",
       "2           192       192           20   \n",
       "3           160       160            3   \n",
       "4           152       152            4   \n",
       "\n",
       "                                           SOURCEURL      time  \n",
       "0  http://www.msn.com/en-us/news/us/taylor-lorenz...  0.405479  \n",
       "1  https://www.perthnow.com.au/lifestyle/house-of...  0.153425  \n",
       "2  http://pamplinmediagroup.com/pt/9-news/281005-...  0.936986  \n",
       "3  https://www.fredericknewspost.com/news/economy...  0.531507  \n",
       "4  https://www.nny360.com/top_stories/nyc-braces-...  0.339726  "
      ]
     },
     "execution_count": 5,
     "metadata": {},
     "output_type": "execute_result"
    }
   ],
   "source": [
    "df.head()"
   ]
  },
  {
   "cell_type": "code",
   "execution_count": 6,
   "id": "a36a566a-0f4a-4d32-900b-05e9e0b13316",
   "metadata": {
    "tags": []
   },
   "outputs": [
    {
     "name": "stdout",
     "output_type": "stream",
     "text": [
      "actor vector: Index(['UNITED STATES', 'SCHOOL', 'POLICE', 'PRESIDENT', 'COMMUNITY',\n",
      "       'STUDENT', 'BUSINESS', 'COMPANY', 'ATTORNEY', 'JUDGE', 'AMERICAN',\n",
      "       'GOVERNMENT', 'UNIVERSITY', 'SENATE', 'PRISON', 'MEDIA', 'WASHINGTON',\n",
      "       'GOVERNOR', 'HOSPITAL', 'COLLEGE', 'NEW YORK', 'VOTER', 'EMPLOYEE',\n",
      "       'TEXAS', 'CRIMINAL', 'RESIDENTS', 'AUTHORITIES', 'CALIFORNIA',\n",
      "       'CONGRESS', 'THE WHITE HOUSE', 'FLORIDA', 'LAWMAKER', 'ADMINISTRATION',\n",
      "       'SENATOR', 'WORKER', 'MAYOR', 'CHINA', 'MILITARY', 'INDUSTRY',\n",
      "       'PROSECUTOR', 'PROTESTER', 'JOE BIDEN', 'AFRICA', 'LAWYER', 'OHIO',\n",
      "       'UNITED KINGDOM', 'MICHIGAN', 'CHICAGO', 'SUPREME COURT', 'IOWA',\n",
      "       'COMPANIES', 'VIRGINIA', 'WEBSITE', 'DOCTOR', 'THE US',\n",
      "       'HEALTH OFFICIAL'],\n",
      "      dtype='object')\n"
     ]
    }
   ],
   "source": [
    "# Count the frequency of each actor\n",
    "actor_counts = pd.concat([df['Actor1Name'], df['Actor2Name']]).value_counts()\n",
    "\n",
    "# Filter actors based on the minimum number of occurrences\n",
    "important_actors = actor_counts.index\n",
    "print(\"actor vector: {}\".format(important_actors))"
   ]
  },
  {
   "cell_type": "code",
   "execution_count": 7,
   "id": "ea0fe877-ff04-47ac-be1a-b6598455d6b6",
   "metadata": {
    "tags": []
   },
   "outputs": [
    {
     "data": {
      "text/plain": [
       "56"
      ]
     },
     "execution_count": 7,
     "metadata": {},
     "output_type": "execute_result"
    }
   ],
   "source": [
    "len(important_actors)"
   ]
  },
  {
   "cell_type": "code",
   "execution_count": null,
   "id": "8457dbac-396a-47d0-947c-07c65a711fe1",
   "metadata": {
    "tags": []
   },
   "outputs": [],
   "source": [
    "# Function to filter and multi-hot encode actors\n",
    "def multi_hot_encode_actors(row, important_actors):\n",
    "    actor_vector = np.zeros(len(important_actors), dtype=int)\n",
    "    actor_vector[important_actors.get_loc(row['Actor1Name'])] = 1\n",
    "    actor_vector[important_actors.get_loc(row['Actor2Name'])] = 1\n",
    "    return actor_vector\n",
    "\n",
    "# Apply multi-hot encoding for actors\n",
    "df['actor_vector'] = df.apply(multi_hot_encode_actors, important_actors=important_actors, axis=1)\n"
   ]
  },
  {
   "cell_type": "code",
   "execution_count": null,
   "id": "f94f572a-4990-448e-b082-849043f717fc",
   "metadata": {},
   "outputs": [],
   "source": [
    "df['actor_vector'].head()"
   ]
  },
  {
   "cell_type": "code",
   "execution_count": null,
   "id": "f6ae502b-51d6-4e7c-9ec2-745eb2605fb4",
   "metadata": {
    "tags": []
   },
   "outputs": [],
   "source": [
    "# Combine unique codes from all three columns\n",
    "all_unique_codes = sorted(set(df['EventRootCode'].unique()) )# |\n",
    "                          #set(df['EventBaseCode'].unique()) |\n",
    "                          #set(df['EventCode'].unique()))\n",
    "\n",
    "# Create a mapping of codes to indices\n",
    "code_to_index = {code: idx for idx, code in enumerate(all_unique_codes)}"
   ]
  },
  {
   "cell_type": "code",
   "execution_count": null,
   "id": "70a8287b-e02a-4990-bc7c-d31e7514313d",
   "metadata": {
    "tags": []
   },
   "outputs": [],
   "source": [
    "all_unique_codes"
   ]
  },
  {
   "cell_type": "code",
   "execution_count": null,
   "id": "45c964a2-b78c-4580-ac26-13964d7681ab",
   "metadata": {
    "tags": []
   },
   "outputs": [],
   "source": [
    "len(code_to_index)"
   ]
  },
  {
   "cell_type": "code",
   "execution_count": null,
   "id": "6bd22640-dab1-485f-baae-b43aff2793de",
   "metadata": {
    "tags": []
   },
   "outputs": [],
   "source": [
    "# Function to encode a single row\n",
    "def encode_row(row, code_to_index):\n",
    "    # Create a vector of zeros with length equal to the number of unique codes\n",
    "    vector = np.zeros(len(code_to_index), dtype=int)\n",
    "    \n",
    "    # Set the index for each code in the vector to 1\n",
    "    for col in ['EventRootCode', 'EventBaseCode', 'EventCode']:\n",
    "        code = row[col]\n",
    "        if code in code_to_index:\n",
    "            vector[code_to_index[code]] = 1\n",
    "        \n",
    "    return vector\n",
    "\n",
    "# Apply the encoding to each row in the dataframe\n",
    "df['event_vector'] = df.apply(encode_row, code_to_index=code_to_index, axis=1)"
   ]
  },
  {
   "cell_type": "code",
   "execution_count": null,
   "id": "57d05bda-9e6a-4ed8-a6bf-63d36a206aef",
   "metadata": {
    "tags": []
   },
   "outputs": [],
   "source": [
    "df['event_vector'].head()"
   ]
  },
  {
   "cell_type": "code",
   "execution_count": null,
   "id": "75f55f91-d7c8-4397-8e57-9877f5dda138",
   "metadata": {
    "tags": []
   },
   "outputs": [],
   "source": [
    "df['event_vector'].size"
   ]
  },
  {
   "cell_type": "code",
   "execution_count": null,
   "id": "3dcc964f-32fe-4fba-820a-777973dfa8d0",
   "metadata": {
    "tags": []
   },
   "outputs": [],
   "source": [
    "df['actor_vector'].size"
   ]
  },
  {
   "cell_type": "code",
   "execution_count": null,
   "id": "8d6e3bee-7023-4853-97a8-199ad2372092",
   "metadata": {
    "tags": []
   },
   "outputs": [],
   "source": [
    "df['time'].size"
   ]
  },
  {
   "cell_type": "code",
   "execution_count": null,
   "id": "01d6497a-c479-4c30-9aa5-ac91b73e20b5",
   "metadata": {
    "tags": []
   },
   "outputs": [],
   "source": [
    "# Convert the list of vectors to a matrix\n",
    "df['combined_vector'] = df.apply(lambda row: np.concatenate([[row['time']] ,row['actor_vector'], row['event_vector']]), axis=1)"
   ]
  },
  {
   "cell_type": "code",
   "execution_count": null,
   "id": "c7a1a1ef-5c4b-4a0f-b42b-592ac8c676b0",
   "metadata": {
    "tags": []
   },
   "outputs": [],
   "source": [
    "df['combined_vector'].head()"
   ]
  },
  {
   "cell_type": "code",
   "execution_count": null,
   "id": "3af6e92b-0f48-4438-b5fd-b16ea9a8578f",
   "metadata": {},
   "outputs": [],
   "source": [
    "df_combined=df['combined_vector'].copy()"
   ]
  },
  {
   "cell_type": "code",
   "execution_count": null,
   "id": "e241701f-b81d-4206-839b-adb75ac3e68f",
   "metadata": {},
   "outputs": [],
   "source": [
    "del df"
   ]
  },
  {
   "cell_type": "code",
   "execution_count": null,
   "id": "bd7906a0-fa76-46f9-a983-4c3d9a30a7b1",
   "metadata": {},
   "outputs": [],
   "source": [
    "# Define column names for actor_vector and event_vector\n",
    "actor_columns = [f'actor_{actor}' for actor in important_actors]\n",
    "event_columns = [f'event_{code}' for code in all_unique_codes]\n",
    "\n",
    "# Combine the column names\n",
    "combined_columns = ['time']+actor_columns + event_columns\n",
    "# Convert the numpy array to a DataFrame\n",
    "combined_df = pd.DataFrame(data=np.vstack(df_combined.values), columns=combined_columns)"
   ]
  },
  {
   "cell_type": "code",
   "execution_count": null,
   "id": "488ae27e-b7a5-40e4-96f8-12de12b9cf9c",
   "metadata": {
    "tags": []
   },
   "outputs": [],
   "source": [
    "combined_df.head()"
   ]
  },
  {
   "cell_type": "code",
   "execution_count": null,
   "id": "64fa43b9-e3ca-455d-9256-0f8d3b439490",
   "metadata": {
    "tags": []
   },
   "outputs": [],
   "source": [
    "del df_combined"
   ]
  },
  {
   "cell_type": "code",
   "execution_count": null,
   "id": "0c06e190-5775-4a15-b4dc-4cc0b2c62636",
   "metadata": {
    "tags": []
   },
   "outputs": [],
   "source": [
    "from google.cloud import bigquery\n",
    "\n",
    "# Initialize BigQuery client\n",
    "client = bigquery.Client()\n",
    "\n",
    "# Define the table ID\n",
    "table_id = \"factoreddatathon2014.GDELT.training_set_kmeans\"\n",
    "\n",
    "# Chunk size\n",
    "chunk_size = 1000000  # Adjust based on your memory limits\n",
    "\n",
    "# Upload in chunks\n",
    "for i in range(0, len(combined_df), chunk_size):\n",
    "    chunk = combined_df.iloc[i:i + chunk_size]\n",
    "    job = client.load_table_from_dataframe(chunk, table_id)\n",
    "    job.result()  # Wait for the job to complete\n",
    "\n",
    "    print(f\"Loaded chunk {i // chunk_size + 1} into {table_id}\")\n"
   ]
  },
  {
   "cell_type": "code",
   "execution_count": null,
   "id": "ca6fd620-5d9c-41a5-9853-2b5b4be84f11",
   "metadata": {},
   "outputs": [],
   "source": []
  }
 ],
 "metadata": {
  "environment": {
   "kernel": "python3",
   "name": "tf2-cpu.2-11.m124",
   "type": "gcloud",
   "uri": "us-docker.pkg.dev/deeplearning-platform-release/gcr.io/tf2-cpu.2-11:m124"
  },
  "kernelspec": {
   "display_name": "Python 3 (Local)",
   "language": "python",
   "name": "python3"
  },
  "language_info": {
   "codemirror_mode": {
    "name": "ipython",
    "version": 3
   },
   "file_extension": ".py",
   "mimetype": "text/x-python",
   "name": "python",
   "nbconvert_exporter": "python",
   "pygments_lexer": "ipython3",
   "version": "3.10.14"
  }
 },
 "nbformat": 4,
 "nbformat_minor": 5
}
