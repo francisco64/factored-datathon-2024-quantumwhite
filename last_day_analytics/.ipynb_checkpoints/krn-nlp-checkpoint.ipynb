{
 "cells": [
  {
   "cell_type": "code",
   "execution_count": 15,
   "id": "39dec780-0295-4228-acdd-55901e3995f6",
   "metadata": {
    "tags": []
   },
   "outputs": [],
   "source": [
    "import os\n",
    "import pandas as pd\n",
    "import re\n",
    "from collections import Counter\n",
    "import numpy as np\n",
    "from sklearn.cluster import KMeans\n",
    "from sklearn.metrics import silhouette_score\n",
    "import matplotlib.pyplot as plt\n",
    "from sklearn.manifold import TSNE\n",
    "from sklearn import preprocessing\n",
    "import requests\n",
    "from bs4 import BeautifulSoup\n",
    "import tensorflow_hub as hub\n",
    "from tqdm import tqdm\n",
    "from sklearn.mixture import GaussianMixture"
   ]
  },
  {
   "cell_type": "code",
   "execution_count": 2,
   "id": "17e029ae-cfda-49ab-8edb-3ffbf1ab8c33",
   "metadata": {
    "tags": []
   },
   "outputs": [
    {
     "name": "stdout",
     "output_type": "stream",
     "text": [
      "Loading Universal Sentence Encoder model...\n"
     ]
    },
    {
     "name": "stderr",
     "output_type": "stream",
     "text": [
      "2024-08-23 23:46:28.068819: W tensorflow/compiler/xla/stream_executor/platform/default/dso_loader.cc:64] Could not load dynamic library 'libcuda.so.1'; dlerror: libcuda.so.1: cannot open shared object file: No such file or directory; LD_LIBRARY_PATH: /usr/local/cuda/lib64:/usr/local/nccl2/lib:/usr/local/cuda/extras/CUPTI/lib64\n",
      "2024-08-23 23:46:28.068854: W tensorflow/compiler/xla/stream_executor/cuda/cuda_driver.cc:265] failed call to cuInit: UNKNOWN ERROR (303)\n",
      "2024-08-23 23:46:28.068871: I tensorflow/compiler/xla/stream_executor/cuda/cuda_diagnostics.cc:156] kernel driver does not appear to be running on this host (instance-20240821-153449): /proc/driver/nvidia/version does not exist\n",
      "2024-08-23 23:46:28.069070: I tensorflow/core/platform/cpu_feature_guard.cc:193] This TensorFlow binary is optimized with oneAPI Deep Neural Network Library (oneDNN) to use the following CPU instructions in performance-critical operations:  AVX2 AVX512F AVX512_VNNI FMA\n",
      "To enable them in other operations, rebuild TensorFlow with the appropriate compiler flags.\n"
     ]
    },
    {
     "name": "stdout",
     "output_type": "stream",
     "text": [
      "Model loaded.\n"
     ]
    }
   ],
   "source": [
    "print(\"Loading Universal Sentence Encoder model...\")\n",
    "embed = hub.load(\"https://tfhub.dev/google/universal-sentence-encoder/4\")\n",
    "print(\"Model loaded.\")"
   ]
  },
  {
   "cell_type": "code",
   "execution_count": 3,
   "id": "658de8d8-8284-48a3-a87c-f39a1ff4c01d",
   "metadata": {
    "tags": []
   },
   "outputs": [],
   "source": [
    "# Function to extract text from the URL\n",
    "def get_text_from_url(url):\n",
    "    try:\n",
    "        response = requests.get(url, timeout=10)\n",
    "        response.raise_for_status()  # Raise an error for bad status codes\n",
    "        soup = BeautifulSoup(response.content, 'html.parser')\n",
    "\n",
    "        # Extract text from the HTML, for example from <p> tags\n",
    "        paragraphs = soup.find_all('p')\n",
    "        text = ' '.join([para.get_text() for para in paragraphs])\n",
    "        return text\n",
    "    except requests.RequestException as e:\n",
    "        print(f\"Error fetching {url}: {e}\")\n",
    "        return None\n",
    "\n",
    "# Function to generate the embedding of the text\n",
    "def get_embedding(text):\n",
    "    embedding = embed([text]).numpy()\n",
    "    return np.array(embedding)[0]  # Convert to a numpy array\n",
    "\n",
    "# Function to tokenize and count tokens in specified columns\n",
    "def tokenize_and_count(df, columns):\n",
    "    all_tokens = []\n",
    "    for col in columns:\n",
    "        tokens = df[col].dropna().str.split('[#;]').explode().str.strip()\n",
    "        tokens = tokens[tokens.str.isalpha()]  # Remove non-alphabetic tokens\n",
    "        all_tokens.extend(tokens)\n",
    "    return Counter(all_tokens)\n",
    "\n",
    "# Function to create a multihot vector for a given row\n",
    "def create_multihot_vector(row, selected_tokens, columns):\n",
    "    tokens = set()\n",
    "    for col in columns:\n",
    "        if pd.notna(row[col]):\n",
    "            col_tokens = set(re.split('[#;]', row[col]))\n",
    "            tokens.update(col_tokens.intersection(selected_tokens))\n",
    "    multihot_vector = [1 if token in tokens else 0 for token in sorted_selected_tokens]\n",
    "    return multihot_vector"
   ]
  },
  {
   "cell_type": "code",
   "execution_count": 4,
   "id": "958ca873-faeb-4593-8db9-83b6c6afb868",
   "metadata": {
    "tags": []
   },
   "outputs": [
    {
     "name": "stdout",
     "output_type": "stream",
     "text": [
      "Reading CSV file into DataFrame...\n",
      "DataFrame shape before filtering: (108485, 11)\n",
      "DataFrame shape after filtering NUMARTS >= 3: (1545, 11)\n"
     ]
    }
   ],
   "source": [
    "gcs_path = 'gs://gdelt_gkg-data/gdelt-gkg-data/20240822.gkg.csv'\n",
    "\n",
    "# Read the CSV file directly into a Pandas DataFrame\n",
    "print(\"Reading CSV file into DataFrame...\")\n",
    "df = pd.read_csv(gcs_path, sep='\\t')\n",
    "print(f\"DataFrame shape before filtering: {df.shape}\")\n",
    "\n",
    "# Filter DataFrame based on NUMARTS\n",
    "df = df[df['NUMARTS'] >= 3].reset_index(drop=True)\n",
    "print(f\"DataFrame shape after filtering NUMARTS >= 3: {df.shape}\")"
   ]
  },
  {
   "cell_type": "code",
   "execution_count": null,
   "id": "a97b6ffe-d9a9-446a-9175-77e094a1c29d",
   "metadata": {
    "tags": []
   },
   "outputs": [],
   "source": []
  },
  {
   "cell_type": "code",
   "execution_count": 5,
   "id": "0e936ad4-2b3b-40db-9db0-2d70f234d0e9",
   "metadata": {
    "tags": []
   },
   "outputs": [
    {
     "name": "stdout",
     "output_type": "stream",
     "text": [
      "Tokenizing columns and calculating token frequencies...\n",
      "Optimal threshold index (80% cumulative frequency): 51\n",
      "Number of selected tokens for multihot encoding: 52\n"
     ]
    }
   ],
   "source": [
    "# Specify columns to tokenize\n",
    "columns_to_tokenize = ['COUNTS', 'THEMES', 'LOCATIONS', 'PERSONS', 'ORGANIZATIONS']\n",
    "\n",
    "# Tokenize columns and calculate frequencies\n",
    "print(\"Tokenizing columns and calculating token frequencies...\")\n",
    "token_counts = tokenize_and_count(df, columns_to_tokenize)\n",
    "\n",
    "# Sort tokens by frequency\n",
    "sorted_token_counts = sorted(token_counts.items(), key=lambda x: x[1], reverse=True)\n",
    "token_frequencies = np.array([count for token, count in sorted_token_counts])\n",
    "\n",
    "# Calculate cumulative sum for frequency threshold\n",
    "cumulative_freq = np.cumsum(token_frequencies)\n",
    "total_freq = cumulative_freq[-1]\n",
    "optimal_threshold_idx = np.argmax(cumulative_freq >= 0.8 * total_freq)\n",
    "\n",
    "print(f\"Optimal threshold index (80% cumulative frequency): {optimal_threshold_idx}\")\n",
    "\n",
    "# Select tokens for multihot encoding\n",
    "selected_tokens = {token for token, count in sorted_token_counts[:optimal_threshold_idx + 1]}\n",
    "sorted_selected_tokens = sorted(selected_tokens)  # Sorting to maintain consistent order in multihot vectors\n",
    "\n",
    "print(f\"Number of selected tokens for multihot encoding: {len(selected_tokens)}\")"
   ]
  },
  {
   "cell_type": "code",
   "execution_count": 6,
   "id": "a00448fe-dd59-40c0-86f6-2197fa323c95",
   "metadata": {
    "collapsed": true,
    "jupyter": {
     "outputs_hidden": true
    },
    "tags": []
   },
   "outputs": [
    {
     "data": {
      "text/plain": [
       "['AFFECT',\n",
       " 'ARMEDCONFLICT',\n",
       " 'ARREST',\n",
       " 'AS',\n",
       " 'AU',\n",
       " 'Australia',\n",
       " 'BAN',\n",
       " 'BC',\n",
       " 'BR',\n",
       " 'CA',\n",
       " 'CD',\n",
       " 'CH',\n",
       " 'Canada',\n",
       " 'DELAY',\n",
       " 'DEMOCRACY',\n",
       " 'EDUCATION',\n",
       " 'EI',\n",
       " 'ELECTION',\n",
       " 'FL',\n",
       " 'IN',\n",
       " 'IS',\n",
       " 'KILL',\n",
       " 'LEADER',\n",
       " 'LEGISLATION',\n",
       " 'MARITIME',\n",
       " 'MEDICAL',\n",
       " 'MX',\n",
       " 'NY',\n",
       " 'PK',\n",
       " 'PROTEST',\n",
       " 'RETIREMENT',\n",
       " 'SCIENCE',\n",
       " 'SF',\n",
       " 'TERROR',\n",
       " 'TRAFFIC',\n",
       " 'TRIAL',\n",
       " 'TU',\n",
       " 'UK',\n",
       " 'US',\n",
       " 'USCA',\n",
       " 'USDC',\n",
       " 'USFL',\n",
       " 'USIL',\n",
       " 'USMI',\n",
       " 'USNY',\n",
       " 'USOH',\n",
       " 'USTN',\n",
       " 'USTX',\n",
       " 'VM',\n",
       " 'WOUND',\n",
       " 'espn',\n",
       " 'inside']"
      ]
     },
     "execution_count": 6,
     "metadata": {},
     "output_type": "execute_result"
    }
   ],
   "source": [
    "sorted_selected_tokens"
   ]
  },
  {
   "cell_type": "code",
   "execution_count": 7,
   "id": "8c631079-44a6-498a-9bb8-dc53bc031f46",
   "metadata": {
    "tags": []
   },
   "outputs": [
    {
     "data": {
      "text/plain": [
       "1545"
      ]
     },
     "execution_count": 7,
     "metadata": {},
     "output_type": "execute_result"
    }
   ],
   "source": [
    "len(list(df.iterrows()))"
   ]
  },
  {
   "cell_type": "code",
   "execution_count": 8,
   "id": "79f0c648-2539-4ea5-99e2-acc84a138e51",
   "metadata": {
    "collapsed": true,
    "jupyter": {
     "outputs_hidden": true
    },
    "tags": []
   },
   "outputs": [
    {
     "name": "stdout",
     "output_type": "stream",
     "text": [
      "Processing rows to generate combined embeddings...\n"
     ]
    },
    {
     "name": "stderr",
     "output_type": "stream",
     "text": [
      "  1%|          | 15/1545 [00:09<10:44,  2.38it/s]"
     ]
    },
    {
     "name": "stdout",
     "output_type": "stream",
     "text": [
      "Error fetching https://www.glasgowworld.com/lifestyle/food-and-drink/starbucks-announces-full-autumn-range-4752777: 403 Client Error: Forbidden for url: https://www.glasgowworld.com/lifestyle/food-and-drink/starbucks-announces-full-autumn-range-4752777\n",
      "Error fetching https://www.sussexexpress.co.uk/lifestyle/food-and-drink/starbucks-announces-full-autumn-range-4752777: 403 Client Error: Forbidden for url: https://www.sussexexpress.co.uk/lifestyle/food-and-drink/starbucks-announces-full-autumn-range-4752777\n",
      "Error fetching https://www.harrogateadvertiser.co.uk/lifestyle/food-and-drink/starbucks-announces-full-autumn-range-4752777: 403 Client Error: Forbidden for url: https://www.harrogateadvertiser.co.uk/lifestyle/food-and-drink/starbucks-announces-full-autumn-range-4752777\n",
      "Error fetching https://www.derbyshiretimes.co.uk/lifestyle/food-and-drink/starbucks-announces-full-autumn-range-4752777: 403 Client Error: Forbidden for url: https://www.derbyshiretimes.co.uk/lifestyle/food-and-drink/starbucks-announces-full-autumn-range-4752777\n",
      "Error fetching https://www.bedfordtoday.co.uk/lifestyle/food-and-drink/starbucks-announces-full-autumn-range-4752777: 403 Client Error: Forbidden for url: https://www.bedfordtoday.co.uk/lifestyle/food-and-drink/starbucks-announces-full-autumn-range-4752777\n",
      "Error fetching https://www.wigantoday.net/lifestyle/food-and-drink/starbucks-announces-full-autumn-range-4752777: 403 Client Error: Forbidden for url: https://www.wigantoday.net/lifestyle/food-and-drink/starbucks-announces-full-autumn-range-4752777\n",
      "Error fetching https://www.daventryexpress.co.uk/lifestyle/food-and-drink/starbucks-announces-full-autumn-range-4752777: 403 Client Error: Forbidden for url: https://www.daventryexpress.co.uk/lifestyle/food-and-drink/starbucks-announces-full-autumn-range-4752777\n",
      "Error fetching https://www.portsmouth.co.uk/lifestyle/food-and-drink/starbucks-announces-full-autumn-range-4752777: 403 Client Error: Forbidden for url: https://www.portsmouth.co.uk/lifestyle/food-and-drink/starbucks-announces-full-autumn-range-4752777\n",
      "Error fetching https://www.anguscountyworld.co.uk/lifestyle/food-and-drink/starbucks-announces-full-autumn-range-4752777: 403 Client Error: Forbidden for url: https://www.anguscountyworld.co.uk/lifestyle/food-and-drink/starbucks-announces-full-autumn-range-4752777\n",
      "Error fetching https://www.burnleyexpress.net/lifestyle/food-and-drink/starbucks-announces-full-autumn-range-4752777: 403 Client Error: Forbidden for url: https://www.burnleyexpress.net/lifestyle/food-and-drink/starbucks-announces-full-autumn-range-4752777\n",
      "Error fetching https://www.peterboroughtoday.co.uk/lifestyle/food-and-drink/starbucks-announces-full-autumn-range-4752777: 403 Client Error: Forbidden for url: https://www.peterboroughtoday.co.uk/lifestyle/food-and-drink/starbucks-announces-full-autumn-range-4752777\n",
      "Error fetching https://www.northumberlandgazette.co.uk/lifestyle/food-and-drink/starbucks-announces-full-autumn-range-4752777: 403 Client Error: Forbidden for url: https://www.northumberlandgazette.co.uk/lifestyle/food-and-drink/starbucks-announces-full-autumn-range-4752777\n",
      "Error fetching https://www.warwickshireworld.com/lifestyle/food-and-drink/starbucks-announces-full-autumn-range-4752777: 403 Client Error: Forbidden for url: https://www.warwickshireworld.com/lifestyle/food-and-drink/starbucks-announces-full-autumn-range-4752777\n",
      "Error fetching https://www.falkirkherald.co.uk/lifestyle/food-and-drink/starbucks-announces-full-autumn-range-4752777: 403 Client Error: Forbidden for url: https://www.falkirkherald.co.uk/lifestyle/food-and-drink/starbucks-announces-full-autumn-range-4752777\n",
      "Error fetching https://www.northantstelegraph.co.uk/lifestyle/food-and-drink/starbucks-announces-full-autumn-range-4752777: 403 Client Error: Forbidden for url: https://www.northantstelegraph.co.uk/lifestyle/food-and-drink/starbucks-announces-full-autumn-range-4752777\n",
      "Error fetching https://www.blackpoolgazette.co.uk/lifestyle/food-and-drink/starbucks-announces-full-autumn-range-4752777: 403 Client Error: Forbidden for url: https://www.blackpoolgazette.co.uk/lifestyle/food-and-drink/starbucks-announces-full-autumn-range-4752777\n",
      "Error fetching https://www.shieldsgazette.com/lifestyle/food-and-drink/starbucks-announces-full-autumn-range-4752777: 403 Client Error: Forbidden for url: https://www.shieldsgazette.com/lifestyle/food-and-drink/starbucks-announces-full-autumn-range-4752777\n",
      "Error fetching https://www.bucksherald.co.uk/lifestyle/food-and-drink/starbucks-announces-full-autumn-range-4752777: 403 Client Error: Forbidden for url: https://www.bucksherald.co.uk/lifestyle/food-and-drink/starbucks-announces-full-autumn-range-4752777\n",
      "Error fetching https://www.banburyguardian.co.uk/lifestyle/food-and-drink/starbucks-announces-full-autumn-range-4752777: 403 Client Error: Forbidden for url: https://www.banburyguardian.co.uk/lifestyle/food-and-drink/starbucks-announces-full-autumn-range-4752777\n",
      "Error fetching https://www.lutontoday.co.uk/lifestyle/food-and-drink/starbucks-announces-full-autumn-range-4752777: 403 Client Error: Forbidden for url: https://www.lutontoday.co.uk/lifestyle/food-and-drink/starbucks-announces-full-autumn-range-4752777\n",
      "Error fetching https://www.hemeltoday.co.uk/lifestyle/food-and-drink/starbucks-announces-full-autumn-range-4752777: 403 Client Error: Forbidden for url: https://www.hemeltoday.co.uk/lifestyle/food-and-drink/starbucks-announces-full-autumn-range-4752777\n",
      "Error fetching https://www.yorkshireeveningpost.co.uk/lifestyle/food-and-drink/starbucks-announces-full-autumn-range-4752777: 403 Client Error: Forbidden for url: https://www.yorkshireeveningpost.co.uk/lifestyle/food-and-drink/starbucks-announces-full-autumn-range-4752777\n",
      "Error fetching https://www.rotherhamadvertiser.co.uk/lifestyle/food-and-drink/starbucks-announces-full-autumn-range-4752777: 403 Client Error: Forbidden for url: https://www.rotherhamadvertiser.co.uk/lifestyle/food-and-drink/starbucks-announces-full-autumn-range-4752777\n",
      "Error fetching https://www.hucknalldispatch.co.uk/lifestyle/food-and-drink/starbucks-announces-full-autumn-range-4752777: 403 Client Error: Forbidden for url: https://www.hucknalldispatch.co.uk/lifestyle/food-and-drink/starbucks-announces-full-autumn-range-4752777\n",
      "Error fetching https://www.sunderlandecho.com/lifestyle/food-and-drink/starbucks-announces-full-autumn-range-4752777: 403 Client Error: Forbidden for url: https://www.sunderlandecho.com/lifestyle/food-and-drink/starbucks-announces-full-autumn-range-4752777\n",
      "Error fetching https://www.worksopguardian.co.uk/lifestyle/food-and-drink/starbucks-announces-full-autumn-range-4752777: 403 Client Error: Forbidden for url: https://www.worksopguardian.co.uk/lifestyle/food-and-drink/starbucks-announces-full-autumn-range-4752777\n"
     ]
    },
    {
     "name": "stderr",
     "output_type": "stream",
     "text": [
      "  1%|          | 16/1545 [00:12<26:53,  1.06s/it]"
     ]
    },
    {
     "name": "stdout",
     "output_type": "stream",
     "text": [
      "Error fetching https://www.stornowaygazette.co.uk/lifestyle/food-and-drink/starbucks-announces-full-autumn-range-4752777: 403 Client Error: Forbidden for url: https://www.stornowaygazette.co.uk/lifestyle/food-and-drink/starbucks-announces-full-autumn-range-4752777\n",
      "Error fetching https://www.leightonbuzzardonline.co.uk/lifestyle/food-and-drink/starbucks-announces-full-autumn-range-4752777: 403 Client Error: Forbidden for url: https://www.leightonbuzzardonline.co.uk/lifestyle/food-and-drink/starbucks-announces-full-autumn-range-4752777\n",
      "Skipping row 15 due to no valid URL found.\n"
     ]
    },
    {
     "name": "stderr",
     "output_type": "stream",
     "text": [
      "  1%|          | 18/1545 [00:13<18:26,  1.38it/s]"
     ]
    },
    {
     "name": "stdout",
     "output_type": "stream",
     "text": [
      "Skipping row 17 due to no valid URL found.\n"
     ]
    },
    {
     "name": "stderr",
     "output_type": "stream",
     "text": [
      "  2%|▏         | 33/1545 [00:23<14:33,  1.73it/s]"
     ]
    },
    {
     "name": "stdout",
     "output_type": "stream",
     "text": [
      "Error fetching https://www.portsmouth.co.uk/lifestyle/food-and-drink/free-food-for-gcse-results-day-4752157: 403 Client Error: Forbidden for url: https://www.portsmouth.co.uk/lifestyle/food-and-drink/free-food-for-gcse-results-day-4752157\n",
      "Error fetching https://www.warwickshireworld.com/lifestyle/food-and-drink/free-food-for-gcse-results-day-4752157: 403 Client Error: Forbidden for url: https://www.warwickshireworld.com/lifestyle/food-and-drink/free-food-for-gcse-results-day-4752157\n",
      "Error fetching https://www.peterboroughtoday.co.uk/lifestyle/food-and-drink/free-food-for-gcse-results-day-4752157: 403 Client Error: Forbidden for url: https://www.peterboroughtoday.co.uk/lifestyle/food-and-drink/free-food-for-gcse-results-day-4752157\n",
      "Skipping row 32 due to no valid URL found.\n"
     ]
    },
    {
     "name": "stderr",
     "output_type": "stream",
     "text": [
      "  4%|▍         | 65/1545 [00:50<19:18,  1.28it/s]  "
     ]
    },
    {
     "name": "stdout",
     "output_type": "stream",
     "text": [
      "Error fetching https://www.lincolnshireworld.com/lifestyle/food-and-drink/starbucks-announces-full-autumn-range-4752777: 403 Client Error: Forbidden for url: https://www.lincolnshireworld.com/lifestyle/food-and-drink/starbucks-announces-full-autumn-range-4752777\n",
      "Error fetching https://www.doncasterfreepress.co.uk/lifestyle/food-and-drink/starbucks-announces-full-autumn-range-4752777: 403 Client Error: Forbidden for url: https://www.doncasterfreepress.co.uk/lifestyle/food-and-drink/starbucks-announces-full-autumn-range-4752777\n",
      "Error fetching https://www.chad.co.uk/lifestyle/food-and-drink/starbucks-announces-full-autumn-range-4752777: 403 Client Error: Forbidden for url: https://www.chad.co.uk/lifestyle/food-and-drink/starbucks-announces-full-autumn-range-4752777\n",
      "Error fetching https://www.northernirelandworld.com/lifestyle/food-and-drink/starbucks-announces-full-autumn-range-4752777: 403 Client Error: Forbidden for url: https://www.northernirelandworld.com/lifestyle/food-and-drink/starbucks-announces-full-autumn-range-4752777\n",
      "Error fetching https://www.edinburghnews.scotsman.com/lifestyle/food-and-drink/starbucks-announces-full-autumn-range-4752777: 403 Client Error: Forbidden for url: https://www.edinburghnews.scotsman.com/lifestyle/food-and-drink/starbucks-announces-full-autumn-range-4752777\n",
      "Error fetching https://www.northamptonchron.co.uk/lifestyle/food-and-drink/starbucks-announces-full-autumn-range-4752777: 403 Client Error: Forbidden for url: https://www.northamptonchron.co.uk/lifestyle/food-and-drink/starbucks-announces-full-autumn-range-4752777\n",
      "Error fetching https://www.harboroughmail.co.uk/lifestyle/food-and-drink/starbucks-announces-full-autumn-range-4752777: 403 Client Error: Forbidden for url: https://www.harboroughmail.co.uk/lifestyle/food-and-drink/starbucks-announces-full-autumn-range-4752777\n",
      "Error fetching https://www.thescarboroughnews.co.uk/lifestyle/food-and-drink/starbucks-announces-full-autumn-range-4752777: 403 Client Error: Forbidden for url: https://www.thescarboroughnews.co.uk/lifestyle/food-and-drink/starbucks-announces-full-autumn-range-4752777\n",
      "Error fetching https://www.thesouthernreporter.co.uk/lifestyle/food-and-drink/starbucks-announces-full-autumn-range-4752777: 403 Client Error: Forbidden for url: https://www.thesouthernreporter.co.uk/lifestyle/food-and-drink/starbucks-announces-full-autumn-range-4752777\n",
      "Error fetching https://www.miltonkeynes.co.uk/lifestyle/food-and-drink/starbucks-announces-full-autumn-range-4752777: 403 Client Error: Forbidden for url: https://www.miltonkeynes.co.uk/lifestyle/food-and-drink/starbucks-announces-full-autumn-range-4752777\n",
      "Error fetching https://www.hartlepoolmail.co.uk/lifestyle/food-and-drink/starbucks-announces-full-autumn-range-4752777: 403 Client Error: Forbidden for url: https://www.hartlepoolmail.co.uk/lifestyle/food-and-drink/starbucks-announces-full-autumn-range-4752777\n",
      "Error fetching https://www.lancasterguardian.co.uk/lifestyle/food-and-drink/starbucks-announces-full-autumn-range-4752777: 403 Client Error: Forbidden for url: https://www.lancasterguardian.co.uk/lifestyle/food-and-drink/starbucks-announces-full-autumn-range-4752777\n",
      "Error fetching https://www.biggleswadetoday.co.uk/lifestyle/food-and-drink/starbucks-announces-full-autumn-range-4752777: 403 Client Error: Forbidden for url: https://www.biggleswadetoday.co.uk/lifestyle/food-and-drink/starbucks-announces-full-autumn-range-4752777\n",
      "Error fetching https://www.fifetoday.co.uk/lifestyle/food-and-drink/starbucks-announces-full-autumn-range-4752777: 403 Client Error: Forbidden for url: https://www.fifetoday.co.uk/lifestyle/food-and-drink/starbucks-announces-full-autumn-range-4752777\n"
     ]
    },
    {
     "name": "stderr",
     "output_type": "stream",
     "text": [
      "  4%|▍         | 66/1545 [00:52<24:18,  1.01it/s]"
     ]
    },
    {
     "name": "stdout",
     "output_type": "stream",
     "text": [
      "Error fetching https://www.meltontimes.co.uk/lifestyle/food-and-drink/starbucks-announces-full-autumn-range-4752777: 403 Client Error: Forbidden for url: https://www.meltontimes.co.uk/lifestyle/food-and-drink/starbucks-announces-full-autumn-range-4752777\n",
      "Error fetching https://www.derryjournal.com/lifestyle/food-and-drink/starbucks-announces-full-autumn-range-4752777: 403 Client Error: Forbidden for url: https://www.derryjournal.com/lifestyle/food-and-drink/starbucks-announces-full-autumn-range-4752777\n",
      "Skipping row 65 due to no valid URL found.\n"
     ]
    },
    {
     "name": "stderr",
     "output_type": "stream",
     "text": [
      "  5%|▍         | 71/1545 [00:54<15:45,  1.56it/s]"
     ]
    },
    {
     "name": "stdout",
     "output_type": "stream",
     "text": [
      "Error fetching https://froggyweb.com/2024/08/22/miranda-lambert-is-pccas-2024-country-icon/: 403 Client Error: Forbidden for url: https://froggyweb.com/2024/08/22/miranda-lambert-is-pccas-2024-country-icon/\n"
     ]
    },
    {
     "name": "stderr",
     "output_type": "stream",
     "text": [
      "  6%|▌         | 91/1545 [01:06<12:47,  1.90it/s]"
     ]
    },
    {
     "name": "stdout",
     "output_type": "stream",
     "text": [
      "Error fetching https://www.cochranetimespost.ca:443/news/local-news/teen-stabbing-suspect-wasnt-on-the-lam-for-long-greater-sudbury-police: 403 Client Error: Forbidden for url: https://www.cochranetimespost.ca:443/news/local-news/teen-stabbing-suspect-wasnt-on-the-lam-for-long-greater-sudbury-police\n",
      "Error fetching https://www.elliotlakestandard.ca:443/news/local-news/teen-stabbing-suspect-wasnt-on-the-lam-for-long-greater-sudbury-police: 403 Client Error: Forbidden for url: https://www.elliotlakestandard.ca:443/news/local-news/teen-stabbing-suspect-wasnt-on-the-lam-for-long-greater-sudbury-police\n"
     ]
    },
    {
     "name": "stderr",
     "output_type": "stream",
     "text": [
      "  6%|▌         | 92/1545 [01:07<12:15,  1.98it/s]"
     ]
    },
    {
     "name": "stdout",
     "output_type": "stream",
     "text": [
      "Error fetching https://www.midnorthmonitor.com:443/news/local-news/teen-stabbing-suspect-wasnt-on-the-lam-for-long-greater-sudbury-police: 403 Client Error: Forbidden for url: https://www.midnorthmonitor.com:443/news/local-news/teen-stabbing-suspect-wasnt-on-the-lam-for-long-greater-sudbury-police\n",
      "Skipping row 91 due to no valid URL found.\n"
     ]
    },
    {
     "name": "stderr",
     "output_type": "stream",
     "text": [
      "  6%|▋         | 98/1545 [01:10<11:06,  2.17it/s]"
     ]
    },
    {
     "name": "stdout",
     "output_type": "stream",
     "text": [
      "Error fetching https://wlec.com/music-news/def-leppard-releasing-live-album-of-2023-hometown-club-show/: 403 Client Error: Forbidden for url: https://wlec.com/music-news/def-leppard-releasing-live-album-of-2023-hometown-club-show/\n",
      "Error fetching https://classichits925.com/abc-classic-hits-news/72f1b244cff7a211a5d94ad85ebd52e2: 404 Client Error: Not Found for url: https://classichits925.com/abc-classic-hits-news/72f1b244cff7a211a5d94ad85ebd52e2\n",
      "Error fetching https://hitsfm.net/classic-hits/4b33eebc22d22c055133fd9a7834b42e: 404 Client Error: Not Found for url: https://hitsfm.net/classic-hits/4b33eebc22d22c055133fd9a7834b42e\n",
      "Error fetching https://wohfradio.com/music-news/def-leppard-releasing-live-album-of-2023-hometown-club-show/: 403 Client Error: Forbidden for url: https://wohfradio.com/music-news/def-leppard-releasing-live-album-of-2023-hometown-club-show/\n"
     ]
    },
    {
     "name": "stderr",
     "output_type": "stream",
     "text": [
      "  6%|▋         | 99/1545 [01:11<17:01,  1.42it/s]"
     ]
    },
    {
     "name": "stdout",
     "output_type": "stream",
     "text": [
      "Error fetching https://wttf.com/news/music-news/def-leppard-releasing-live-album-of-2023-hometown-club-show/: 403 Client Error: Forbidden for url: https://wttf.com/news/music-news/def-leppard-releasing-live-album-of-2023-hometown-club-show/\n",
      "Skipping row 98 due to no valid URL found.\n"
     ]
    },
    {
     "name": "stderr",
     "output_type": "stream",
     "text": [
      "  7%|▋         | 106/1545 [01:19<21:16,  1.13it/s]"
     ]
    },
    {
     "name": "stdout",
     "output_type": "stream",
     "text": [
      "Error fetching https://www.banburyguardian.co.uk/lifestyle/food-and-drink/free-food-for-gcse-results-day-4752157: 403 Client Error: Forbidden for url: https://www.banburyguardian.co.uk/lifestyle/food-and-drink/free-food-for-gcse-results-day-4752157\n",
      "Error fetching https://www.glasgowworld.com/lifestyle/food-and-drink/free-food-for-gcse-results-day-4752157: 403 Client Error: Forbidden for url: https://www.glasgowworld.com/lifestyle/food-and-drink/free-food-for-gcse-results-day-4752157\n"
     ]
    },
    {
     "name": "stderr",
     "output_type": "stream",
     "text": [
      "  7%|▋         | 107/1545 [01:20<17:08,  1.40it/s]"
     ]
    },
    {
     "name": "stdout",
     "output_type": "stream",
     "text": [
      "Error fetching https://www.rotherhamadvertiser.co.uk/lifestyle/food-and-drink/free-food-for-gcse-results-day-4752157: 403 Client Error: Forbidden for url: https://www.rotherhamadvertiser.co.uk/lifestyle/food-and-drink/free-food-for-gcse-results-day-4752157\n",
      "Skipping row 106 due to no valid URL found.\n"
     ]
    },
    {
     "name": "stderr",
     "output_type": "stream",
     "text": [
      "  7%|▋         | 108/1545 [01:20<15:08,  1.58it/s]"
     ]
    },
    {
     "name": "stdout",
     "output_type": "stream",
     "text": [
      "Error fetching https://froggyweb.com/2024/08/22/thomas-rhett-put-his-spin-on-one-of-the-biggest-songs-in-the-world-in-new-album/: 403 Client Error: Forbidden for url: https://froggyweb.com/2024/08/22/thomas-rhett-put-his-spin-on-one-of-the-biggest-songs-in-the-world-in-new-album/\n"
     ]
    },
    {
     "name": "stderr",
     "output_type": "stream",
     "text": [
      "  9%|▊         | 132/1545 [01:34<11:24,  2.06it/s]"
     ]
    },
    {
     "name": "stdout",
     "output_type": "stream",
     "text": [
      "Error fetching https://www.lep.co.uk/read-this/hollyoaks-actor-charlie-behan-quits-4752702: 403 Client Error: Forbidden for url: https://www.lep.co.uk/read-this/hollyoaks-actor-charlie-behan-quits-4752702\n",
      "Error fetching https://www.derbyshiretimes.co.uk/read-this/hollyoaks-actor-charlie-behan-quits-4752702: 403 Client Error: Forbidden for url: https://www.derbyshiretimes.co.uk/read-this/hollyoaks-actor-charlie-behan-quits-4752702\n",
      "Error fetching https://www.blackpoolgazette.co.uk/read-this/hollyoaks-actor-charlie-behan-quits-4752702: 403 Client Error: Forbidden for url: https://www.blackpoolgazette.co.uk/read-this/hollyoaks-actor-charlie-behan-quits-4752702\n",
      "Error fetching https://www.bucksherald.co.uk/read-this/hollyoaks-actor-charlie-behan-quits-4752702: 403 Client Error: Forbidden for url: https://www.bucksherald.co.uk/read-this/hollyoaks-actor-charlie-behan-quits-4752702\n",
      "Error fetching https://www.hartlepoolmail.co.uk/read-this/hollyoaks-actor-charlie-behan-quits-4752702: 403 Client Error: Forbidden for url: https://www.hartlepoolmail.co.uk/read-this/hollyoaks-actor-charlie-behan-quits-4752702\n"
     ]
    },
    {
     "name": "stderr",
     "output_type": "stream",
     "text": [
      "  9%|▊         | 133/1545 [01:35<12:07,  1.94it/s]"
     ]
    },
    {
     "name": "stdout",
     "output_type": "stream",
     "text": [
      "Error fetching https://www.biggleswadetoday.co.uk/read-this/hollyoaks-actor-charlie-behan-quits-4752702: 403 Client Error: Forbidden for url: https://www.biggleswadetoday.co.uk/read-this/hollyoaks-actor-charlie-behan-quits-4752702\n",
      "Skipping row 132 due to no valid URL found.\n"
     ]
    },
    {
     "name": "stderr",
     "output_type": "stream",
     "text": [
      " 11%|█         | 166/1545 [01:59<07:55,  2.90it/s]"
     ]
    },
    {
     "name": "stdout",
     "output_type": "stream",
     "text": [
      "Error fetching https://www.strathroyagedispatch.com:443/news/local-news/police-confirm-incident-on-waterford-trail-man-facing-assault-charge: 403 Client Error: Forbidden for url: https://www.strathroyagedispatch.com:443/news/local-news/police-confirm-incident-on-waterford-trail-man-facing-assault-charge\n",
      "Error fetching https://www.thechronicle-online.com:443/news/local-news/police-confirm-incident-on-waterford-trail-man-facing-assault-charge: 403 Client Error: Forbidden for url: https://www.thechronicle-online.com:443/news/local-news/police-confirm-incident-on-waterford-trail-man-facing-assault-charge\n",
      "Error fetching https://www.wallaceburgcourierpress.com:443/news/local-news/police-confirm-incident-on-waterford-trail-man-facing-assault-charge: 403 Client Error: Forbidden for url: https://www.wallaceburgcourierpress.com:443/news/local-news/police-confirm-incident-on-waterford-trail-man-facing-assault-charge\n",
      "Error fetching https://www.stratfordbeaconherald.com:443/news/local-news/police-confirm-incident-on-waterford-trail-man-facing-assault-charge: 403 Client Error: Forbidden for url: https://www.stratfordbeaconherald.com:443/news/local-news/police-confirm-incident-on-waterford-trail-man-facing-assault-charge\n"
     ]
    },
    {
     "name": "stderr",
     "output_type": "stream",
     "text": [
      " 11%|█         | 167/1545 [02:00<09:54,  2.32it/s]"
     ]
    },
    {
     "name": "stdout",
     "output_type": "stream",
     "text": [
      "Error fetching https://www.woodstocksentinelreview.com:443/news/local-news/police-confirm-incident-on-waterford-trail-man-facing-assault-charge: 403 Client Error: Forbidden for url: https://www.woodstocksentinelreview.com:443/news/local-news/police-confirm-incident-on-waterford-trail-man-facing-assault-charge\n",
      "Skipping row 166 due to no valid URL found.\n",
      "Error fetching https://www.justjared.com/photo-gallery/5065456/dnc-night3-06/: 405 Client Error: Method Not Allowed for url: https://www.justjared.com/photo-gallery/5065456/dnc-night3-06/\n",
      "Error fetching https://www.justjared.com/photo-gallery/5065482/dnc-night3-32/: 405 Client Error: Method Not Allowed for url: https://www.justjared.com/photo-gallery/5065482/dnc-night3-32/\n",
      "Error fetching https://www.justjared.com/photo-gallery/5065461/dnc-night3-11/: 405 Client Error: Method Not Allowed for url: https://www.justjared.com/photo-gallery/5065461/dnc-night3-11/\n",
      "Error fetching https://www.justjared.com/photo-gallery/5065467/dnc-night3-17/: 405 Client Error: Method Not Allowed for url: https://www.justjared.com/photo-gallery/5065467/dnc-night3-17/\n",
      "Error fetching https://www.justjared.com/photo-gallery/5065460/dnc-night3-10/: 405 Client Error: Method Not Allowed for url: https://www.justjared.com/photo-gallery/5065460/dnc-night3-10/\n"
     ]
    },
    {
     "name": "stderr",
     "output_type": "stream",
     "text": [
      " 11%|█         | 168/1545 [02:01<14:37,  1.57it/s]"
     ]
    },
    {
     "name": "stdout",
     "output_type": "stream",
     "text": [
      "Error fetching https://www.justjared.com/photo-gallery/5065458/dnc-night3-08/: 405 Client Error: Method Not Allowed for url: https://www.justjared.com/photo-gallery/5065458/dnc-night3-08/\n",
      "Skipping row 167 due to no valid URL found.\n"
     ]
    },
    {
     "name": "stderr",
     "output_type": "stream",
     "text": [
      " 12%|█▏        | 184/1545 [02:16<19:36,  1.16it/s]"
     ]
    },
    {
     "name": "stdout",
     "output_type": "stream",
     "text": [
      "Error fetching https://www.justjared.com/photo-gallery/5065328/demi-lovato-fiance-jute-breakfast-date-in-studio-city-03/: 405 Client Error: Method Not Allowed for url: https://www.justjared.com/photo-gallery/5065328/demi-lovato-fiance-jute-breakfast-date-in-studio-city-03/\n",
      "Error fetching https://www.justjared.com/photo-gallery/5065330/demi-lovato-fiance-jute-breakfast-date-in-studio-city-05/: 405 Client Error: Method Not Allowed for url: https://www.justjared.com/photo-gallery/5065330/demi-lovato-fiance-jute-breakfast-date-in-studio-city-05/\n"
     ]
    },
    {
     "name": "stderr",
     "output_type": "stream",
     "text": [
      " 12%|█▏        | 185/1545 [02:17<17:03,  1.33it/s]"
     ]
    },
    {
     "name": "stdout",
     "output_type": "stream",
     "text": [
      "Error fetching https://www.justjared.com/photo-gallery/5065327/demi-lovato-fiance-jute-breakfast-date-in-studio-city-02/: 405 Client Error: Method Not Allowed for url: https://www.justjared.com/photo-gallery/5065327/demi-lovato-fiance-jute-breakfast-date-in-studio-city-02/\n",
      "Skipping row 184 due to no valid URL found.\n"
     ]
    },
    {
     "name": "stderr",
     "output_type": "stream",
     "text": [
      " 12%|█▏        | 188/1545 [02:18<12:24,  1.82it/s]"
     ]
    },
    {
     "name": "stdout",
     "output_type": "stream",
     "text": [
      "Error fetching https://www.recorder.ca:443/news/opp-investigating-home-invasion-on-wolfe-island-ferry-delayed: 403 Client Error: Forbidden for url: https://www.recorder.ca:443/news/opp-investigating-home-invasion-on-wolfe-island-ferry-delayed\n"
     ]
    },
    {
     "name": "stderr",
     "output_type": "stream",
     "text": [
      " 12%|█▏        | 189/1545 [02:19<13:20,  1.69it/s]"
     ]
    },
    {
     "name": "stdout",
     "output_type": "stream",
     "text": [
      "Error fetching https://www.gananoquereporter.com:443/news/opp-investigating-home-invasion-on-wolfe-island-ferry-delayed: 403 Client Error: Forbidden for url: https://www.gananoquereporter.com:443/news/opp-investigating-home-invasion-on-wolfe-island-ferry-delayed\n",
      "Error fetching https://www.trentonian.ca:443/news/opp-investigating-home-invasion-on-wolfe-island-ferry-delayed: 403 Client Error: Forbidden for url: https://www.trentonian.ca:443/news/opp-investigating-home-invasion-on-wolfe-island-ferry-delayed\n",
      "Skipping row 188 due to no valid URL found.\n"
     ]
    },
    {
     "name": "stderr",
     "output_type": "stream",
     "text": [
      " 14%|█▎        | 212/1545 [02:31<10:35,  2.10it/s]"
     ]
    },
    {
     "name": "stdout",
     "output_type": "stream",
     "text": [
      "Skipping row 211 due to no valid URL found.\n"
     ]
    },
    {
     "name": "stderr",
     "output_type": "stream",
     "text": [
      " 17%|█▋        | 257/1545 [02:59<18:37,  1.15it/s]"
     ]
    },
    {
     "name": "stdout",
     "output_type": "stream",
     "text": [
      "Error fetching https://www.shieldsgazette.com/watch-this/dramatic-footage-shows-reckless-audi-driver-get-boxed-in-by-police-4752211: 403 Client Error: Forbidden for url: https://www.shieldsgazette.com/watch-this/dramatic-footage-shows-reckless-audi-driver-get-boxed-in-by-police-4752211\n",
      "Error fetching https://www.hartlepoolmail.co.uk/watch-this/dramatic-footage-shows-reckless-audi-driver-get-boxed-in-by-police-4752211: 403 Client Error: Forbidden for url: https://www.hartlepoolmail.co.uk/watch-this/dramatic-footage-shows-reckless-audi-driver-get-boxed-in-by-police-4752211\n",
      "Error fetching https://www.thescarboroughnews.co.uk/watch-this/dramatic-footage-shows-reckless-audi-driver-get-boxed-in-by-police-4752211: 403 Client Error: Forbidden for url: https://www.thescarboroughnews.co.uk/watch-this/dramatic-footage-shows-reckless-audi-driver-get-boxed-in-by-police-4752211\n",
      "Error fetching https://www.buxtonadvertiser.co.uk/watch-this/dramatic-footage-shows-reckless-audi-driver-get-boxed-in-by-police-4752211: 403 Client Error: Forbidden for url: https://www.buxtonadvertiser.co.uk/watch-this/dramatic-footage-shows-reckless-audi-driver-get-boxed-in-by-police-4752211\n",
      "Error fetching https://www.rotherhamadvertiser.co.uk/watch-this/dramatic-footage-shows-reckless-audi-driver-get-boxed-in-by-police-4752211: 403 Client Error: Forbidden for url: https://www.rotherhamadvertiser.co.uk/watch-this/dramatic-footage-shows-reckless-audi-driver-get-boxed-in-by-police-4752211\n",
      "Error fetching https://www.biggleswadetoday.co.uk/watch-this/dramatic-footage-shows-reckless-audi-driver-get-boxed-in-by-police-4752211: 403 Client Error: Forbidden for url: https://www.biggleswadetoday.co.uk/watch-this/dramatic-footage-shows-reckless-audi-driver-get-boxed-in-by-police-4752211\n"
     ]
    },
    {
     "name": "stderr",
     "output_type": "stream",
     "text": [
      " 17%|█▋        | 258/1545 [03:00<18:16,  1.17it/s]"
     ]
    },
    {
     "name": "stdout",
     "output_type": "stream",
     "text": [
      "Error fetching https://www.sunderlandecho.com/watch-this/dramatic-footage-shows-reckless-audi-driver-get-boxed-in-by-police-4752211: 403 Client Error: Forbidden for url: https://www.sunderlandecho.com/watch-this/dramatic-footage-shows-reckless-audi-driver-get-boxed-in-by-police-4752211\n",
      "Error fetching https://www.doncasterfreepress.co.uk/watch-this/dramatic-footage-shows-reckless-audi-driver-get-boxed-in-by-police-4752211: 403 Client Error: Forbidden for url: https://www.doncasterfreepress.co.uk/watch-this/dramatic-footage-shows-reckless-audi-driver-get-boxed-in-by-police-4752211\n",
      "Error fetching https://www.thestar.co.uk/watch-this/dramatic-footage-shows-reckless-audi-driver-get-boxed-in-by-police-4752211: 403 Client Error: Forbidden for url: https://www.thestar.co.uk/watch-this/dramatic-footage-shows-reckless-audi-driver-get-boxed-in-by-police-4752211\n",
      "Skipping row 257 due to no valid URL found.\n"
     ]
    },
    {
     "name": "stderr",
     "output_type": "stream",
     "text": [
      " 19%|█▊        | 286/1545 [03:13<06:39,  3.15it/s]"
     ]
    },
    {
     "name": "stdout",
     "output_type": "stream",
     "text": [
      "Error fetching https://www.thescarboroughnews.co.uk/read-this/hollyoaks-actor-charlie-behan-quits-4752702: 403 Client Error: Forbidden for url: https://www.thescarboroughnews.co.uk/read-this/hollyoaks-actor-charlie-behan-quits-4752702\n",
      "Error fetching https://www.sussexexpress.co.uk/read-this/hollyoaks-actor-charlie-behan-quits-4752702: 403 Client Error: Forbidden for url: https://www.sussexexpress.co.uk/read-this/hollyoaks-actor-charlie-behan-quits-4752702\n",
      "Error fetching https://www.harrogateadvertiser.co.uk/read-this/hollyoaks-actor-charlie-behan-quits-4752702: 403 Client Error: Forbidden for url: https://www.harrogateadvertiser.co.uk/read-this/hollyoaks-actor-charlie-behan-quits-4752702\n",
      "Error fetching https://www.wigantoday.net/read-this/hollyoaks-actor-charlie-behan-quits-4752702: 403 Client Error: Forbidden for url: https://www.wigantoday.net/read-this/hollyoaks-actor-charlie-behan-quits-4752702\n",
      "Error fetching https://www.bedfordtoday.co.uk/read-this/hollyoaks-actor-charlie-behan-quits-4752702: 403 Client Error: Forbidden for url: https://www.bedfordtoday.co.uk/read-this/hollyoaks-actor-charlie-behan-quits-4752702\n"
     ]
    },
    {
     "name": "stderr",
     "output_type": "stream",
     "text": [
      " 19%|█▊        | 287/1545 [03:13<08:22,  2.50it/s]"
     ]
    },
    {
     "name": "stdout",
     "output_type": "stream",
     "text": [
      "Error fetching https://www.northernirelandworld.com/read-this/hollyoaks-actor-charlie-behan-quits-4752702: 403 Client Error: Forbidden for url: https://www.northernirelandworld.com/read-this/hollyoaks-actor-charlie-behan-quits-4752702\n",
      "Error fetching https://www.meltontimes.co.uk/read-this/hollyoaks-actor-charlie-behan-quits-4752702: 403 Client Error: Forbidden for url: https://www.meltontimes.co.uk/read-this/hollyoaks-actor-charlie-behan-quits-4752702\n",
      "Skipping row 286 due to no valid URL found.\n"
     ]
    },
    {
     "name": "stderr",
     "output_type": "stream",
     "text": [
      " 20%|█▉        | 307/1545 [03:24<14:52,  1.39it/s]"
     ]
    },
    {
     "name": "stdout",
     "output_type": "stream",
     "text": [
      "Skipping row 306 due to no valid URL found.\n"
     ]
    },
    {
     "name": "stderr",
     "output_type": "stream",
     "text": [
      " 22%|██▏       | 337/1545 [03:40<08:03,  2.50it/s]"
     ]
    },
    {
     "name": "stdout",
     "output_type": "stream",
     "text": [
      "Error fetching https://www.northumberlandgazette.co.uk/lifestyle/food-and-drink/a-perfect-bank-holiday-without-fail-walkers-to-give-away-10000-packs-of-new-smokin-bbq-sauce-crisps-if-it-rains-4752298: 403 Client Error: Forbidden for url: https://www.northumberlandgazette.co.uk/lifestyle/food-and-drink/a-perfect-bank-holiday-without-fail-walkers-to-give-away-10000-packs-of-new-smokin-bbq-sauce-crisps-if-it-rains-4752298\n",
      "Error fetching https://www.dewsburyreporter.co.uk/lifestyle/food-and-drink/a-perfect-bank-holiday-without-fail-walkers-to-give-away-10000-packs-of-new-smokin-bbq-sauce-crisps-if-it-rains-4752298: 403 Client Error: Forbidden for url: https://www.dewsburyreporter.co.uk/lifestyle/food-and-drink/a-perfect-bank-holiday-without-fail-walkers-to-give-away-10000-packs-of-new-smokin-bbq-sauce-crisps-if-it-rains-4752298\n",
      "Error fetching https://www.sunderlandecho.com/lifestyle/food-and-drink/a-perfect-bank-holiday-without-fail-walkers-to-give-away-10000-packs-of-new-smokin-bbq-sauce-crisps-if-it-rains-4752298: 403 Client Error: Forbidden for url: https://www.sunderlandecho.com/lifestyle/food-and-drink/a-perfect-bank-holiday-without-fail-walkers-to-give-away-10000-packs-of-new-smokin-bbq-sauce-crisps-if-it-rains-4752298\n"
     ]
    },
    {
     "name": "stderr",
     "output_type": "stream",
     "text": [
      " 22%|██▏       | 339/1545 [03:40<05:58,  3.36it/s]"
     ]
    },
    {
     "name": "stdout",
     "output_type": "stream",
     "text": [
      "Error fetching https://www.blackpoolgazette.co.uk/lifestyle/food-and-drink/a-perfect-bank-holiday-without-fail-walkers-to-give-away-10000-packs-of-new-smokin-bbq-sauce-crisps-if-it-rains-4752298: 403 Client Error: Forbidden for url: https://www.blackpoolgazette.co.uk/lifestyle/food-and-drink/a-perfect-bank-holiday-without-fail-walkers-to-give-away-10000-packs-of-new-smokin-bbq-sauce-crisps-if-it-rains-4752298\n",
      "Skipping row 337 due to no valid URL found.\n"
     ]
    },
    {
     "name": "stderr",
     "output_type": "stream",
     "text": [
      " 22%|██▏       | 341/1545 [03:41<05:17,  3.79it/s]"
     ]
    },
    {
     "name": "stdout",
     "output_type": "stream",
     "text": [
      "Error fetching https://www.blackpoolgazette.co.uk/health/sober-curious-movement-im-sober-curious-have-never-been-drunk-not-even-at-my-wedding-4752089: 403 Client Error: Forbidden for url: https://www.blackpoolgazette.co.uk/health/sober-curious-movement-im-sober-curious-have-never-been-drunk-not-even-at-my-wedding-4752089\n",
      "Error fetching https://www.lutontoday.co.uk/health/sober-curious-movement-im-sober-curious-have-never-been-drunk-not-even-at-my-wedding-4752089: 403 Client Error: Forbidden for url: https://www.lutontoday.co.uk/health/sober-curious-movement-im-sober-curious-have-never-been-drunk-not-even-at-my-wedding-4752089\n",
      "Error fetching https://www.biggleswadetoday.co.uk/health/sober-curious-movement-im-sober-curious-have-never-been-drunk-not-even-at-my-wedding-4752089: 403 Client Error: Forbidden for url: https://www.biggleswadetoday.co.uk/health/sober-curious-movement-im-sober-curious-have-never-been-drunk-not-even-at-my-wedding-4752089\n",
      "Error fetching https://www.rotherhamadvertiser.co.uk/health/sober-curious-movement-im-sober-curious-have-never-been-drunk-not-even-at-my-wedding-4752089: 403 Client Error: Forbidden for url: https://www.rotherhamadvertiser.co.uk/health/sober-curious-movement-im-sober-curious-have-never-been-drunk-not-even-at-my-wedding-4752089\n",
      "Error fetching https://www.bedfordtoday.co.uk/health/sober-curious-movement-im-sober-curious-have-never-been-drunk-not-even-at-my-wedding-4752089: 403 Client Error: Forbidden for url: https://www.bedfordtoday.co.uk/health/sober-curious-movement-im-sober-curious-have-never-been-drunk-not-even-at-my-wedding-4752089\n",
      "Error fetching https://www.dewsburyreporter.co.uk/health/sober-curious-movement-im-sober-curious-have-never-been-drunk-not-even-at-my-wedding-4752089: 403 Client Error: Forbidden for url: https://www.dewsburyreporter.co.uk/health/sober-curious-movement-im-sober-curious-have-never-been-drunk-not-even-at-my-wedding-4752089\n",
      "Error fetching https://www.harrogateadvertiser.co.uk/health/sober-curious-movement-im-sober-curious-have-never-been-drunk-not-even-at-my-wedding-4752089: 403 Client Error: Forbidden for url: https://www.harrogateadvertiser.co.uk/health/sober-curious-movement-im-sober-curious-have-never-been-drunk-not-even-at-my-wedding-4752089\n",
      "Error fetching https://www.sunderlandecho.com/health/sober-curious-movement-im-sober-curious-have-never-been-drunk-not-even-at-my-wedding-4752089: 403 Client Error: Forbidden for url: https://www.sunderlandecho.com/health/sober-curious-movement-im-sober-curious-have-never-been-drunk-not-even-at-my-wedding-4752089\n",
      "Error fetching https://www.banburyguardian.co.uk/health/sober-curious-movement-im-sober-curious-have-never-been-drunk-not-even-at-my-wedding-4752089: 403 Client Error: Forbidden for url: https://www.banburyguardian.co.uk/health/sober-curious-movement-im-sober-curious-have-never-been-drunk-not-even-at-my-wedding-4752089\n",
      "Error fetching https://www.halifaxcourier.co.uk/health/sober-curious-movement-im-sober-curious-have-never-been-drunk-not-even-at-my-wedding-4752089: 403 Client Error: Forbidden for url: https://www.halifaxcourier.co.uk/health/sober-curious-movement-im-sober-curious-have-never-been-drunk-not-even-at-my-wedding-4752089\n",
      "Error fetching https://www.derryjournal.com/health/sober-curious-movement-im-sober-curious-have-never-been-drunk-not-even-at-my-wedding-4752089: 403 Client Error: Forbidden for url: https://www.derryjournal.com/health/sober-curious-movement-im-sober-curious-have-never-been-drunk-not-even-at-my-wedding-4752089\n",
      "Error fetching https://www.falkirkherald.co.uk/health/sober-curious-movement-im-sober-curious-have-never-been-drunk-not-even-at-my-wedding-4752089: 403 Client Error: Forbidden for url: https://www.falkirkherald.co.uk/health/sober-curious-movement-im-sober-curious-have-never-been-drunk-not-even-at-my-wedding-4752089\n",
      "Error fetching https://www.hemeltoday.co.uk/health/sober-curious-movement-im-sober-curious-have-never-been-drunk-not-even-at-my-wedding-4752089: 403 Client Error: Forbidden for url: https://www.hemeltoday.co.uk/health/sober-curious-movement-im-sober-curious-have-never-been-drunk-not-even-at-my-wedding-4752089\n",
      "Error fetching https://www.wigantoday.net/health/sober-curious-movement-im-sober-curious-have-never-been-drunk-not-even-at-my-wedding-4752089: 403 Client Error: Forbidden for url: https://www.wigantoday.net/health/sober-curious-movement-im-sober-curious-have-never-been-drunk-not-even-at-my-wedding-4752089\n",
      "Error fetching https://www.harboroughmail.co.uk/health/sober-curious-movement-im-sober-curious-have-never-been-drunk-not-even-at-my-wedding-4752089: 403 Client Error: Forbidden for url: https://www.harboroughmail.co.uk/health/sober-curious-movement-im-sober-curious-have-never-been-drunk-not-even-at-my-wedding-4752089\n",
      "Error fetching https://www.shieldsgazette.com/health/sober-curious-movement-im-sober-curious-have-never-been-drunk-not-even-at-my-wedding-4752089: 403 Client Error: Forbidden for url: https://www.shieldsgazette.com/health/sober-curious-movement-im-sober-curious-have-never-been-drunk-not-even-at-my-wedding-4752089\n"
     ]
    },
    {
     "name": "stderr",
     "output_type": "stream",
     "text": [
      " 22%|██▏       | 343/1545 [03:42<08:54,  2.25it/s]"
     ]
    },
    {
     "name": "stdout",
     "output_type": "stream",
     "text": [
      "Error fetching https://www.thesouthernreporter.co.uk/health/sober-curious-movement-im-sober-curious-have-never-been-drunk-not-even-at-my-wedding-4752089: 403 Client Error: Forbidden for url: https://www.thesouthernreporter.co.uk/health/sober-curious-movement-im-sober-curious-have-never-been-drunk-not-even-at-my-wedding-4752089\n",
      "Skipping row 341 due to no valid URL found.\n"
     ]
    },
    {
     "name": "stderr",
     "output_type": "stream",
     "text": [
      " 22%|██▏       | 346/1545 [03:44<08:13,  2.43it/s]"
     ]
    },
    {
     "name": "stdout",
     "output_type": "stream",
     "text": [
      "Error fetching https://www.hemeltoday.co.uk/read-this/new-itv-gameshow-opportunity-casting-now-in-your-area-4752039: 403 Client Error: Forbidden for url: https://www.hemeltoday.co.uk/read-this/new-itv-gameshow-opportunity-casting-now-in-your-area-4752039\n",
      "Error fetching https://www.warwickshireworld.com/read-this/brand-new-itv-gameshow-casting-in-your-area-4752043: 403 Client Error: Forbidden for url: https://www.warwickshireworld.com/read-this/brand-new-itv-gameshow-casting-in-your-area-4752043\n",
      "Error fetching https://www.peterboroughtoday.co.uk/read-this/brand-new-itv-gameshow-casting-in-your-area-now-4753326: 403 Client Error: Forbidden for url: https://www.peterboroughtoday.co.uk/read-this/brand-new-itv-gameshow-casting-in-your-area-now-4753326\n",
      "Skipping row 345 due to no valid URL found.\n"
     ]
    },
    {
     "name": "stderr",
     "output_type": "stream",
     "text": [
      " 23%|██▎       | 354/1545 [03:49<15:23,  1.29it/s]"
     ]
    },
    {
     "name": "stdout",
     "output_type": "stream",
     "text": [
      "Error fetching https://coast1009.com/music-news/thomas-rhett-put-his-spin-on-one-of-the-biggest-songs-in-the-world-in-new-album/: 403 Client Error: Forbidden for url: https://coast1009.com/music-news/thomas-rhett-put-his-spin-on-one-of-the-biggest-songs-in-the-world-in-new-album/\n"
     ]
    },
    {
     "name": "stderr",
     "output_type": "stream",
     "text": [
      " 25%|██▍       | 384/1545 [04:09<17:17,  1.12it/s]"
     ]
    },
    {
     "name": "stdout",
     "output_type": "stream",
     "text": [
      "Error fetching https://www.thewave.ca/2024/08/22/whooping-cough-outbreak-spreads-across-n-b/: 403 Client Error: Forbidden for url: https://www.thewave.ca/2024/08/22/whooping-cough-outbreak-spreads-across-n-b/\n",
      "Error fetching https://www.919thebend.ca/2024/08/22/whooping-cough-outbreak-spreads-across-n-b/: 403 Client Error: Forbidden for url: https://www.919thebend.ca/2024/08/22/whooping-cough-outbreak-spreads-across-n-b/\n"
     ]
    },
    {
     "name": "stderr",
     "output_type": "stream",
     "text": [
      " 25%|██▍       | 386/1545 [04:10<10:59,  1.76it/s]"
     ]
    },
    {
     "name": "stdout",
     "output_type": "stream",
     "text": [
      "Error fetching https://www.country94.ca/2024/08/22/whooping-cough-outbreak-spreads-across-n-b/: 403 Client Error: Forbidden for url: https://www.country94.ca/2024/08/22/whooping-cough-outbreak-spreads-across-n-b/\n",
      "Skipping row 384 due to no valid URL found.\n"
     ]
    },
    {
     "name": "stderr",
     "output_type": "stream",
     "text": [
      " 26%|██▌       | 394/1545 [04:14<10:22,  1.85it/s]"
     ]
    },
    {
     "name": "stdout",
     "output_type": "stream",
     "text": [
      "Error fetching https://www.hucknalldispatch.co.uk/lifestyle/food-and-drink/free-food-for-gcse-results-day-4752157: 403 Client Error: Forbidden for url: https://www.hucknalldispatch.co.uk/lifestyle/food-and-drink/free-food-for-gcse-results-day-4752157\n",
      "Error fetching https://www.meltontimes.co.uk/lifestyle/food-and-drink/free-food-for-gcse-results-day-4752157: 403 Client Error: Forbidden for url: https://www.meltontimes.co.uk/lifestyle/food-and-drink/free-food-for-gcse-results-day-4752157\n",
      "Error fetching https://www.harboroughmail.co.uk/lifestyle/food-and-drink/free-food-for-gcse-results-day-4752157: 403 Client Error: Forbidden for url: https://www.harboroughmail.co.uk/lifestyle/food-and-drink/free-food-for-gcse-results-day-4752157\n",
      "Skipping row 393 due to no valid URL found.\n",
      "Error fetching https://www.wovo1063.com/2024/08/22/janet-jackson-officially-announces-her-upcoming-las-vegas-residency/: 403 Client Error: Forbidden for url: https://www.wovo1063.com/2024/08/22/janet-jackson-officially-announces-her-upcoming-las-vegas-residency/\n"
     ]
    },
    {
     "name": "stderr",
     "output_type": "stream",
     "text": [
      " 27%|██▋       | 413/1545 [04:26<12:27,  1.51it/s]"
     ]
    },
    {
     "name": "stdout",
     "output_type": "stream",
     "text": [
      "Error fetching https://whdg.com/2024/08/22/miranda-lambert-is-pccas-2024-country-icon/: 403 Client Error: Forbidden for url: https://whdg.com/2024/08/22/miranda-lambert-is-pccas-2024-country-icon/\n"
     ]
    },
    {
     "name": "stderr",
     "output_type": "stream",
     "text": [
      " 27%|██▋       | 415/1545 [04:28<13:43,  1.37it/s]"
     ]
    },
    {
     "name": "stdout",
     "output_type": "stream",
     "text": [
      "Error fetching https://www.halifaxcourier.co.uk/whats-on/liam-gallagher-leeds-festival-set-time-stage-clashes-setlist-4751302: 403 Client Error: Forbidden for url: https://www.halifaxcourier.co.uk/whats-on/liam-gallagher-leeds-festival-set-time-stage-clashes-setlist-4751302\n",
      "Error fetching https://www.wigantoday.net/whats-on/liam-gallagher-leeds-festival-set-time-stage-clashes-setlist-4751302: 403 Client Error: Forbidden for url: https://www.wigantoday.net/whats-on/liam-gallagher-leeds-festival-set-time-stage-clashes-setlist-4751302\n",
      "Error fetching https://www.burnleyexpress.net/whats-on/liam-gallagher-leeds-festival-set-time-stage-clashes-setlist-4751302: 403 Client Error: Forbidden for url: https://www.burnleyexpress.net/whats-on/liam-gallagher-leeds-festival-set-time-stage-clashes-setlist-4751302\n",
      "Skipping row 414 due to no valid URL found.\n"
     ]
    },
    {
     "name": "stderr",
     "output_type": "stream",
     "text": [
      " 27%|██▋       | 418/1545 [04:29<08:58,  2.09it/s]"
     ]
    },
    {
     "name": "stdout",
     "output_type": "stream",
     "text": [
      "Skipping row 416 due to no valid URL found.\n"
     ]
    },
    {
     "name": "stderr",
     "output_type": "stream",
     "text": [
      " 27%|██▋       | 423/1545 [04:32<07:41,  2.43it/s]"
     ]
    },
    {
     "name": "stdout",
     "output_type": "stream",
     "text": [
      "Skipping row 422 due to no valid URL found.\n"
     ]
    },
    {
     "name": "stderr",
     "output_type": "stream",
     "text": [
      " 28%|██▊       | 426/1545 [04:34<12:04,  1.54it/s]"
     ]
    },
    {
     "name": "stdout",
     "output_type": "stream",
     "text": [
      "Error fetching https://www.justjared.com/photo-gallery/5065459/dnc-night3-09/: 405 Client Error: Method Not Allowed for url: https://www.justjared.com/photo-gallery/5065459/dnc-night3-09/\n",
      "Error fetching https://www.justjared.com/photo-gallery/5065453/dnc-night3-03/: 405 Client Error: Method Not Allowed for url: https://www.justjared.com/photo-gallery/5065453/dnc-night3-03/\n",
      "Error fetching https://www.justjared.com/photo-gallery/5065472/dnc-night3-22/: 405 Client Error: Method Not Allowed for url: https://www.justjared.com/photo-gallery/5065472/dnc-night3-22/\n"
     ]
    },
    {
     "name": "stderr",
     "output_type": "stream",
     "text": [
      " 28%|██▊       | 427/1545 [04:35<12:46,  1.46it/s]"
     ]
    },
    {
     "name": "stdout",
     "output_type": "stream",
     "text": [
      "Error fetching https://www.justjared.com/photo-gallery/5065470/dnc-night3-20/: 405 Client Error: Method Not Allowed for url: https://www.justjared.com/photo-gallery/5065470/dnc-night3-20/\n",
      "Skipping row 426 due to no valid URL found.\n"
     ]
    },
    {
     "name": "stderr",
     "output_type": "stream",
     "text": [
      " 28%|██▊       | 429/1545 [04:38<19:26,  1.05s/it]"
     ]
    },
    {
     "name": "stdout",
     "output_type": "stream",
     "text": [
      "Error fetching https://www.blackpoolgazette.co.uk/watch-this/dramatic-footage-shows-reckless-audi-driver-get-boxed-in-by-police-4752211: 403 Client Error: Forbidden for url: https://www.blackpoolgazette.co.uk/watch-this/dramatic-footage-shows-reckless-audi-driver-get-boxed-in-by-police-4752211\n",
      "Error fetching https://www.northumberlandgazette.co.uk/watch-this/dramatic-footage-shows-reckless-audi-driver-get-boxed-in-by-police-4752211: 403 Client Error: Forbidden for url: https://www.northumberlandgazette.co.uk/watch-this/dramatic-footage-shows-reckless-audi-driver-get-boxed-in-by-police-4752211\n",
      "Error fetching https://www.lutontoday.co.uk/watch-this/dramatic-footage-shows-reckless-audi-driver-get-boxed-in-by-police-4752211: 403 Client Error: Forbidden for url: https://www.lutontoday.co.uk/watch-this/dramatic-footage-shows-reckless-audi-driver-get-boxed-in-by-police-4752211\n",
      "Error fetching https://www.bucksherald.co.uk/watch-this/dramatic-footage-shows-reckless-audi-driver-get-boxed-in-by-police-4752211: 403 Client Error: Forbidden for url: https://www.bucksherald.co.uk/watch-this/dramatic-footage-shows-reckless-audi-driver-get-boxed-in-by-police-4752211\n",
      "Error fetching https://www.burnleyexpress.net/watch-this/dramatic-footage-shows-reckless-audi-driver-get-boxed-in-by-police-4752211: 403 Client Error: Forbidden for url: https://www.burnleyexpress.net/watch-this/dramatic-footage-shows-reckless-audi-driver-get-boxed-in-by-police-4752211\n",
      "Error fetching https://www.chad.co.uk/watch-this/dramatic-footage-shows-reckless-audi-driver-get-boxed-in-by-police-4752211: 403 Client Error: Forbidden for url: https://www.chad.co.uk/watch-this/dramatic-footage-shows-reckless-audi-driver-get-boxed-in-by-police-4752211\n",
      "Error fetching https://www.portsmouth.co.uk/watch-this/dramatic-footage-shows-reckless-audi-driver-get-boxed-in-by-police-4752211: 403 Client Error: Forbidden for url: https://www.portsmouth.co.uk/watch-this/dramatic-footage-shows-reckless-audi-driver-get-boxed-in-by-police-4752211\n",
      "Error fetching https://www.yorkshireeveningpost.co.uk/watch-this/dramatic-footage-shows-reckless-audi-driver-get-boxed-in-by-police-4752211: 403 Client Error: Forbidden for url: https://www.yorkshireeveningpost.co.uk/watch-this/dramatic-footage-shows-reckless-audi-driver-get-boxed-in-by-police-4752211\n",
      "Error fetching https://www.harrogateadvertiser.co.uk/watch-this/dramatic-footage-shows-reckless-audi-driver-get-boxed-in-by-police-4752211: 403 Client Error: Forbidden for url: https://www.harrogateadvertiser.co.uk/watch-this/dramatic-footage-shows-reckless-audi-driver-get-boxed-in-by-police-4752211\n",
      "Error fetching https://www.banburyguardian.co.uk/watch-this/dramatic-footage-shows-reckless-audi-driver-get-boxed-in-by-police-4752211: 403 Client Error: Forbidden for url: https://www.banburyguardian.co.uk/watch-this/dramatic-footage-shows-reckless-audi-driver-get-boxed-in-by-police-4752211\n",
      "Error fetching https://www.meltontimes.co.uk/watch-this/dramatic-footage-shows-reckless-audi-driver-get-boxed-in-by-police-4752211: 403 Client Error: Forbidden for url: https://www.meltontimes.co.uk/watch-this/dramatic-footage-shows-reckless-audi-driver-get-boxed-in-by-police-4752211\n",
      "Error fetching https://www.hemeltoday.co.uk/watch-this/dramatic-footage-shows-reckless-audi-driver-get-boxed-in-by-police-4752211: 403 Client Error: Forbidden for url: https://www.hemeltoday.co.uk/watch-this/dramatic-footage-shows-reckless-audi-driver-get-boxed-in-by-police-4752211\n",
      "Error fetching https://www.leightonbuzzardonline.co.uk/watch-this/dramatic-footage-shows-reckless-audi-driver-get-boxed-in-by-police-4752211: 403 Client Error: Forbidden for url: https://www.leightonbuzzardonline.co.uk/watch-this/dramatic-footage-shows-reckless-audi-driver-get-boxed-in-by-police-4752211\n",
      "Error fetching https://www.daventryexpress.co.uk/watch-this/dramatic-footage-shows-reckless-audi-driver-get-boxed-in-by-police-4752211: 403 Client Error: Forbidden for url: https://www.daventryexpress.co.uk/watch-this/dramatic-footage-shows-reckless-audi-driver-get-boxed-in-by-police-4752211\n"
     ]
    },
    {
     "name": "stderr",
     "output_type": "stream",
     "text": [
      " 28%|██▊       | 430/1545 [04:39<21:59,  1.18s/it]"
     ]
    },
    {
     "name": "stdout",
     "output_type": "stream",
     "text": [
      "Error fetching https://www.northantstelegraph.co.uk/watch-this/dramatic-footage-shows-reckless-audi-driver-get-boxed-in-by-police-4752211: 403 Client Error: Forbidden for url: https://www.northantstelegraph.co.uk/watch-this/dramatic-footage-shows-reckless-audi-driver-get-boxed-in-by-police-4752211\n",
      "Skipping row 429 due to no valid URL found.\n"
     ]
    },
    {
     "name": "stderr",
     "output_type": "stream",
     "text": [
      " 29%|██▉       | 446/1545 [04:53<16:01,  1.14it/s]"
     ]
    },
    {
     "name": "stdout",
     "output_type": "stream",
     "text": [
      "Error fetching https://www.miltonkeynes.co.uk/lifestyle/food-and-drink/free-food-for-gcse-results-day-4752157: 403 Client Error: Forbidden for url: https://www.miltonkeynes.co.uk/lifestyle/food-and-drink/free-food-for-gcse-results-day-4752157\n",
      "Error fetching https://www.lancasterguardian.co.uk/lifestyle/food-and-drink/free-food-for-gcse-results-day-4752157: 403 Client Error: Forbidden for url: https://www.lancasterguardian.co.uk/lifestyle/food-and-drink/free-food-for-gcse-results-day-4752157\n",
      "Error fetching https://www.lutontoday.co.uk/lifestyle/food-and-drink/free-food-for-gcse-results-day-4752157: 403 Client Error: Forbidden for url: https://www.lutontoday.co.uk/lifestyle/food-and-drink/free-food-for-gcse-results-day-4752157\n",
      "Error fetching https://www.yorkshireeveningpost.co.uk/lifestyle/food-and-drink/free-food-for-gcse-results-day-4752157: 403 Client Error: Forbidden for url: https://www.yorkshireeveningpost.co.uk/lifestyle/food-and-drink/free-food-for-gcse-results-day-4752157\n",
      "Skipping row 445 due to no valid URL found.\n"
     ]
    },
    {
     "name": "stderr",
     "output_type": "stream",
     "text": [
      " 30%|██▉       | 462/1545 [04:59<06:42,  2.69it/s]"
     ]
    },
    {
     "name": "stdout",
     "output_type": "stream",
     "text": [
      "Error fetching https://wondradio.com/abc-entertainment/9fde9af7e3cb58ffd41758900db8e421: 404 Client Error: Not Found for url: https://wondradio.com/abc-entertainment/9fde9af7e3cb58ffd41758900db8e421\n"
     ]
    },
    {
     "name": "stderr",
     "output_type": "stream",
     "text": [
      " 31%|███       | 479/1545 [05:10<10:51,  1.64it/s]"
     ]
    },
    {
     "name": "stdout",
     "output_type": "stream",
     "text": [
      "Error fetching https://www.northamptonchron.co.uk/health/lecanemab-uk-what-is-it-how-much-does-alzheimers-drug-cost-will-it-be-available-on-the-nhs-4753511: 403 Client Error: Forbidden for url: https://www.northamptonchron.co.uk/health/lecanemab-uk-what-is-it-how-much-does-alzheimers-drug-cost-will-it-be-available-on-the-nhs-4753511\n",
      "Error fetching https://www.derryjournal.com/health/lecanemab-uk-what-is-it-how-much-does-alzheimers-drug-cost-will-it-be-available-on-the-nhs-4753511: 403 Client Error: Forbidden for url: https://www.derryjournal.com/health/lecanemab-uk-what-is-it-how-much-does-alzheimers-drug-cost-will-it-be-available-on-the-nhs-4753511\n"
     ]
    },
    {
     "name": "stderr",
     "output_type": "stream",
     "text": [
      " 31%|███       | 480/1545 [05:11<10:11,  1.74it/s]"
     ]
    },
    {
     "name": "stdout",
     "output_type": "stream",
     "text": [
      "Error fetching https://www.peterboroughtoday.co.uk/health/lecanemab-uk-what-is-it-how-much-does-alzheimers-drug-cost-will-it-be-available-on-the-nhs-4753511: 403 Client Error: Forbidden for url: https://www.peterboroughtoday.co.uk/health/lecanemab-uk-what-is-it-how-much-does-alzheimers-drug-cost-will-it-be-available-on-the-nhs-4753511\n",
      "Error fetching https://www.northantstelegraph.co.uk/health/lecanemab-uk-what-is-it-how-much-does-alzheimers-drug-cost-will-it-be-available-on-the-nhs-4753511: 403 Client Error: Forbidden for url: https://www.northantstelegraph.co.uk/health/lecanemab-uk-what-is-it-how-much-does-alzheimers-drug-cost-will-it-be-available-on-the-nhs-4753511\n",
      "Error fetching https://www.lancasterguardian.co.uk/health/lecanemab-uk-what-is-it-how-much-does-alzheimers-drug-cost-will-it-be-available-on-the-nhs-4753511: 403 Client Error: Forbidden for url: https://www.lancasterguardian.co.uk/health/lecanemab-uk-what-is-it-how-much-does-alzheimers-drug-cost-will-it-be-available-on-the-nhs-4753511\n",
      "Skipping row 479 due to no valid URL found.\n"
     ]
    },
    {
     "name": "stderr",
     "output_type": "stream",
     "text": [
      " 31%|███       | 482/1545 [05:11<06:16,  2.83it/s]"
     ]
    },
    {
     "name": "stdout",
     "output_type": "stream",
     "text": [
      "Error fetching https://www.chad.co.uk/lifestyle/food-and-drink/a-perfect-bank-holiday-without-fail-walkers-to-give-away-10000-packs-of-new-smokin-bbq-sauce-crisps-if-it-rains-4752298: 403 Client Error: Forbidden for url: https://www.chad.co.uk/lifestyle/food-and-drink/a-perfect-bank-holiday-without-fail-walkers-to-give-away-10000-packs-of-new-smokin-bbq-sauce-crisps-if-it-rains-4752298\n",
      "Error fetching https://www.hucknalldispatch.co.uk/lifestyle/food-and-drink/a-perfect-bank-holiday-without-fail-walkers-to-give-away-10000-packs-of-new-smokin-bbq-sauce-crisps-if-it-rains-4752298: 403 Client Error: Forbidden for url: https://www.hucknalldispatch.co.uk/lifestyle/food-and-drink/a-perfect-bank-holiday-without-fail-walkers-to-give-away-10000-packs-of-new-smokin-bbq-sauce-crisps-if-it-rains-4752298\n",
      "Error fetching https://www.worksopguardian.co.uk/lifestyle/food-and-drink/a-perfect-bank-holiday-without-fail-walkers-to-give-away-10000-packs-of-new-smokin-bbq-sauce-crisps-if-it-rains-4752298: 403 Client Error: Forbidden for url: https://www.worksopguardian.co.uk/lifestyle/food-and-drink/a-perfect-bank-holiday-without-fail-walkers-to-give-away-10000-packs-of-new-smokin-bbq-sauce-crisps-if-it-rains-4752298\n"
     ]
    },
    {
     "name": "stderr",
     "output_type": "stream",
     "text": [
      " 31%|███▏      | 483/1545 [05:11<06:12,  2.85it/s]"
     ]
    },
    {
     "name": "stdout",
     "output_type": "stream",
     "text": [
      "Error fetching https://www.wigantoday.net/lifestyle/food-and-drink/a-perfect-bank-holiday-without-fail-walkers-to-give-away-10000-packs-of-new-smokin-bbq-sauce-crisps-if-it-rains-4752298: 403 Client Error: Forbidden for url: https://www.wigantoday.net/lifestyle/food-and-drink/a-perfect-bank-holiday-without-fail-walkers-to-give-away-10000-packs-of-new-smokin-bbq-sauce-crisps-if-it-rains-4752298\n",
      "Skipping row 482 due to no valid URL found.\n",
      "Error fetching https://www.buxtonadvertiser.co.uk/lifestyle/food-and-drink/a-perfect-bank-holiday-without-fail-walkers-to-give-away-10000-packs-of-new-smokin-bbq-sauce-crisps-if-it-rains-4752298: 403 Client Error: Forbidden for url: https://www.buxtonadvertiser.co.uk/lifestyle/food-and-drink/a-perfect-bank-holiday-without-fail-walkers-to-give-away-10000-packs-of-new-smokin-bbq-sauce-crisps-if-it-rains-4752298\n",
      "Error fetching https://www.burnleyexpress.net/lifestyle/food-and-drink/a-perfect-bank-holiday-without-fail-walkers-to-give-away-10000-packs-of-new-smokin-bbq-sauce-crisps-if-it-rains-4752298: 403 Client Error: Forbidden for url: https://www.burnleyexpress.net/lifestyle/food-and-drink/a-perfect-bank-holiday-without-fail-walkers-to-give-away-10000-packs-of-new-smokin-bbq-sauce-crisps-if-it-rains-4752298\n"
     ]
    },
    {
     "name": "stderr",
     "output_type": "stream",
     "text": [
      " 31%|███▏      | 484/1545 [05:12<06:07,  2.89it/s]"
     ]
    },
    {
     "name": "stdout",
     "output_type": "stream",
     "text": [
      "Error fetching https://www.yorkshireeveningpost.co.uk/lifestyle/food-and-drink/a-perfect-bank-holiday-without-fail-walkers-to-give-away-10000-packs-of-new-smokin-bbq-sauce-crisps-if-it-rains-4752298: 403 Client Error: Forbidden for url: https://www.yorkshireeveningpost.co.uk/lifestyle/food-and-drink/a-perfect-bank-holiday-without-fail-walkers-to-give-away-10000-packs-of-new-smokin-bbq-sauce-crisps-if-it-rains-4752298\n",
      "Error fetching https://www.shieldsgazette.com/lifestyle/food-and-drink/a-perfect-bank-holiday-without-fail-walkers-to-give-away-10000-packs-of-new-smokin-bbq-sauce-crisps-if-it-rains-4752298: 403 Client Error: Forbidden for url: https://www.shieldsgazette.com/lifestyle/food-and-drink/a-perfect-bank-holiday-without-fail-walkers-to-give-away-10000-packs-of-new-smokin-bbq-sauce-crisps-if-it-rains-4752298\n",
      "Skipping row 483 due to no valid URL found.\n"
     ]
    },
    {
     "name": "stderr",
     "output_type": "stream",
     "text": [
      " 32%|███▏      | 495/1545 [05:20<11:43,  1.49it/s]"
     ]
    },
    {
     "name": "stdout",
     "output_type": "stream",
     "text": [
      "Error fetching https://www.1015thehawk.com/2024/08/22/cn-rail-and-ckpc-begin-work-stoppage/: 403 Client Error: Forbidden for url: https://www.1015thehawk.com/2024/08/22/cn-rail-and-ckpc-begin-work-stoppage/\n",
      "Error fetching https://www.thewave.ca/2024/08/22/cn-rail-and-ckpc-begin-work-stoppage/: 403 Client Error: Forbidden for url: https://www.thewave.ca/2024/08/22/cn-rail-and-ckpc-begin-work-stoppage/\n"
     ]
    },
    {
     "name": "stderr",
     "output_type": "stream",
     "text": [
      " 32%|███▏      | 496/1545 [05:20<10:56,  1.60it/s]"
     ]
    },
    {
     "name": "stdout",
     "output_type": "stream",
     "text": [
      "Error fetching https://www.cjls.com/2024/08/22/cn-rail-and-ckpc-begin-work-stoppage/: 403 Client Error: Forbidden for url: https://www.cjls.com/2024/08/22/cn-rail-and-ckpc-begin-work-stoppage/\n",
      "Error fetching https://www.931theborder.ca/2024/08/22/cn-rail-and-cpkc-begin-work-stoppage/: 403 Client Error: Forbidden for url: https://www.931theborder.ca/2024/08/22/cn-rail-and-cpkc-begin-work-stoppage/\n",
      "Skipping row 495 due to no valid URL found.\n"
     ]
    },
    {
     "name": "stderr",
     "output_type": "stream",
     "text": [
      " 33%|███▎      | 506/1545 [05:27<11:42,  1.48it/s]"
     ]
    },
    {
     "name": "stdout",
     "output_type": "stream",
     "text": [
      "Error fetching https://www.bucksherald.co.uk/lifestyle/food-and-drink/free-food-for-gcse-results-day-4752157: 403 Client Error: Forbidden for url: https://www.bucksherald.co.uk/lifestyle/food-and-drink/free-food-for-gcse-results-day-4752157\n",
      "Error fetching https://www.thesouthernreporter.co.uk/lifestyle/food-and-drink/free-food-for-gcse-results-day-4752157: 403 Client Error: Forbidden for url: https://www.thesouthernreporter.co.uk/lifestyle/food-and-drink/free-food-for-gcse-results-day-4752157\n",
      "Error fetching https://www.daventryexpress.co.uk/lifestyle/food-and-drink/free-food-for-gcse-results-day-4752157: 403 Client Error: Forbidden for url: https://www.daventryexpress.co.uk/lifestyle/food-and-drink/free-food-for-gcse-results-day-4752157\n",
      "Skipping row 505 due to no valid URL found.\n"
     ]
    },
    {
     "name": "stderr",
     "output_type": "stream",
     "text": [
      " 34%|███▍      | 525/1545 [05:35<06:47,  2.50it/s]"
     ]
    },
    {
     "name": "stdout",
     "output_type": "stream",
     "text": [
      "Error fetching https://www.glasgowworld.com/whats-on/liam-gallagher-leeds-festival-set-time-stage-clashes-setlist-4751302: 403 Client Error: Forbidden for url: https://www.glasgowworld.com/whats-on/liam-gallagher-leeds-festival-set-time-stage-clashes-setlist-4751302\n",
      "Error fetching https://www.derbyshiretimes.co.uk/whats-on/liam-gallagher-leeds-festival-set-time-stage-clashes-setlist-4751302: 403 Client Error: Forbidden for url: https://www.derbyshiretimes.co.uk/whats-on/liam-gallagher-leeds-festival-set-time-stage-clashes-setlist-4751302\n"
     ]
    },
    {
     "name": "stderr",
     "output_type": "stream",
     "text": [
      " 34%|███▍      | 526/1545 [05:36<06:14,  2.72it/s]"
     ]
    },
    {
     "name": "stdout",
     "output_type": "stream",
     "text": [
      "Error fetching https://www.dewsburyreporter.co.uk/whats-on/liam-gallagher-leeds-festival-set-time-stage-clashes-setlist-4751302: 403 Client Error: Forbidden for url: https://www.dewsburyreporter.co.uk/whats-on/liam-gallagher-leeds-festival-set-time-stage-clashes-setlist-4751302\n",
      "Skipping row 525 due to no valid URL found.\n"
     ]
    },
    {
     "name": "stderr",
     "output_type": "stream",
     "text": [
      " 34%|███▍      | 531/1545 [05:39<11:07,  1.52it/s]"
     ]
    },
    {
     "name": "stdout",
     "output_type": "stream",
     "text": [
      "Error fetching https://www.wrmf.com/taylor-swift-addresses-foiled-vienna-terror-plot-for-first-time-in-post/: 403 Client Error: Forbidden for url: https://www.wrmf.com/taylor-swift-addresses-foiled-vienna-terror-plot-for-first-time-in-post/\n",
      "Error fetching https://www.ks95.com/taylor-swift-addresses-foiled-vienna-terror-plot-for-first-time-in-post/: 403 Client Error: Forbidden for url: https://www.ks95.com/taylor-swift-addresses-foiled-vienna-terror-plot-for-first-time-in-post/\n"
     ]
    },
    {
     "name": "stderr",
     "output_type": "stream",
     "text": [
      " 34%|███▍      | 532/1545 [05:40<11:18,  1.49it/s]"
     ]
    },
    {
     "name": "stdout",
     "output_type": "stream",
     "text": [
      "Error fetching https://warm1069.com/taylor-swift-addresses-foiled-vienna-terror-plot-for-first-time-in-post/: 403 Client Error: Forbidden for url: https://warm1069.com/taylor-swift-addresses-foiled-vienna-terror-plot-for-first-time-in-post/\n",
      "Skipping row 531 due to no valid URL found.\n"
     ]
    },
    {
     "name": "stderr",
     "output_type": "stream",
     "text": [
      " 35%|███▍      | 534/1545 [06:21<2:30:59,  8.96s/it]"
     ]
    },
    {
     "name": "stdout",
     "output_type": "stream",
     "text": [
      "Skipping row 532 due to no valid URL found.\n"
     ]
    },
    {
     "name": "stderr",
     "output_type": "stream",
     "text": [
      " 35%|███▍      | 536/1545 [06:22<1:17:19,  4.60s/it]"
     ]
    },
    {
     "name": "stdout",
     "output_type": "stream",
     "text": [
      "Error fetching https://www.gdnonline.com:443/Details/1330869: HTTPSConnectionPool(host='www.gdnonline.com', port=443): Max retries exceeded with url: /Details/1330869 (Caused by SSLError(SSLCertVerificationError(1, '[SSL: CERTIFICATE_VERIFY_FAILED] certificate verify failed: unable to get local issuer certificate (_ssl.c:1007)')))\n",
      "Error fetching https://www.gdnonline.com:443/Details/1330869/The-Honourable-Lady-Congratulates-GED-Students: HTTPSConnectionPool(host='www.gdnonline.com', port=443): Max retries exceeded with url: /Details/1330869/The-Honourable-Lady-Congratulates-GED-Students (Caused by SSLError(SSLCertVerificationError(1, '[SSL: CERTIFICATE_VERIFY_FAILED] certificate verify failed: unable to get local issuer certificate (_ssl.c:1007)')))\n"
     ]
    },
    {
     "name": "stderr",
     "output_type": "stream",
     "text": [
      " 36%|███▌      | 557/1545 [06:35<14:53,  1.11it/s]  "
     ]
    },
    {
     "name": "stdout",
     "output_type": "stream",
     "text": [
      "Error fetching https://www.dewsburyreporter.co.uk/watch-this/dramatic-footage-shows-reckless-audi-driver-get-boxed-in-by-police-4752211: 403 Client Error: Forbidden for url: https://www.dewsburyreporter.co.uk/watch-this/dramatic-footage-shows-reckless-audi-driver-get-boxed-in-by-police-4752211\n",
      "Error fetching https://www.hucknalldispatch.co.uk/watch-this/dramatic-footage-shows-reckless-audi-driver-get-boxed-in-by-police-4752211: 403 Client Error: Forbidden for url: https://www.hucknalldispatch.co.uk/watch-this/dramatic-footage-shows-reckless-audi-driver-get-boxed-in-by-police-4752211\n",
      "Error fetching https://www.worksopguardian.co.uk/watch-this/dramatic-footage-shows-reckless-audi-driver-get-boxed-in-by-police-4752211: 403 Client Error: Forbidden for url: https://www.worksopguardian.co.uk/watch-this/dramatic-footage-shows-reckless-audi-driver-get-boxed-in-by-police-4752211\n",
      "Error fetching https://www.harboroughmail.co.uk/watch-this/dramatic-footage-shows-reckless-audi-driver-get-boxed-in-by-police-4752211: 403 Client Error: Forbidden for url: https://www.harboroughmail.co.uk/watch-this/dramatic-footage-shows-reckless-audi-driver-get-boxed-in-by-police-4752211\n",
      "Error fetching https://www.lep.co.uk/watch-this/dramatic-footage-shows-reckless-audi-driver-get-boxed-in-by-police-4752211: 403 Client Error: Forbidden for url: https://www.lep.co.uk/watch-this/dramatic-footage-shows-reckless-audi-driver-get-boxed-in-by-police-4752211\n",
      "Error fetching https://www.wigantoday.net/watch-this/dramatic-footage-shows-reckless-audi-driver-get-boxed-in-by-police-4752211: 403 Client Error: Forbidden for url: https://www.wigantoday.net/watch-this/dramatic-footage-shows-reckless-audi-driver-get-boxed-in-by-police-4752211\n"
     ]
    },
    {
     "name": "stderr",
     "output_type": "stream",
     "text": [
      " 36%|███▌      | 558/1545 [06:36<13:24,  1.23it/s]"
     ]
    },
    {
     "name": "stdout",
     "output_type": "stream",
     "text": [
      "Error fetching https://www.peterboroughtoday.co.uk/watch-this/dramatic-footage-shows-reckless-audi-driver-get-boxed-in-by-police-4752211: 403 Client Error: Forbidden for url: https://www.peterboroughtoday.co.uk/watch-this/dramatic-footage-shows-reckless-audi-driver-get-boxed-in-by-police-4752211\n",
      "Skipping row 557 due to no valid URL found.\n"
     ]
    },
    {
     "name": "stderr",
     "output_type": "stream",
     "text": [
      " 38%|███▊      | 585/1545 [06:50<08:35,  1.86it/s]"
     ]
    },
    {
     "name": "stdout",
     "output_type": "stream",
     "text": [
      "Error fetching https://www.thelocal.de/20240819/novembers-coming-have-you-made-sure-that-you-can-vote-in-this-election-fvap-tlccu: 403 Client Error: Forbidden for url: https://www.thelocal.de/20240819/novembers-coming-have-you-made-sure-that-you-can-vote-in-this-election-fvap-tlccu\n",
      "Error fetching https://www.thelocal.dk/20240819/novembers-coming-have-you-made-sure-that-you-can-vote-in-this-election-fvap-tlccu: 403 Client Error: Forbidden for url: https://www.thelocal.dk/20240819/novembers-coming-have-you-made-sure-that-you-can-vote-in-this-election-fvap-tlccu\n",
      "Error fetching https://www.thelocal.at/20240819/novembers-coming-have-you-made-sure-that-you-can-vote-in-this-election-fvap-tlccu: 403 Client Error: Forbidden for url: https://www.thelocal.at/20240819/novembers-coming-have-you-made-sure-that-you-can-vote-in-this-election-fvap-tlccu\n"
     ]
    },
    {
     "name": "stderr",
     "output_type": "stream",
     "text": [
      " 38%|███▊      | 586/1545 [06:51<08:17,  1.93it/s]"
     ]
    },
    {
     "name": "stdout",
     "output_type": "stream",
     "text": [
      "Error fetching https://www.thelocal.ch/20240819/novembers-coming-have-you-made-sure-that-you-can-vote-in-this-election-fvap-tlccu: 403 Client Error: Forbidden for url: https://www.thelocal.ch/20240819/novembers-coming-have-you-made-sure-that-you-can-vote-in-this-election-fvap-tlccu\n",
      "Skipping row 585 due to no valid URL found.\n"
     ]
    },
    {
     "name": "stderr",
     "output_type": "stream",
     "text": [
      " 39%|███▊      | 597/1545 [06:58<09:33,  1.65it/s]"
     ]
    },
    {
     "name": "stdout",
     "output_type": "stream",
     "text": [
      "Error fetching https://www.thewave.ca/2024/08/22/considerable-drop-expected-at-n-b-fuel-pumps/: 403 Client Error: Forbidden for url: https://www.thewave.ca/2024/08/22/considerable-drop-expected-at-n-b-fuel-pumps/\n",
      "Error fetching https://www.919thebend.ca/2024/08/22/considerable-drop-expected-at-n-b-fuel-pumps/: 403 Client Error: Forbidden for url: https://www.919thebend.ca/2024/08/22/considerable-drop-expected-at-n-b-fuel-pumps/\n"
     ]
    },
    {
     "name": "stderr",
     "output_type": "stream",
     "text": [
      " 39%|███▊      | 598/1545 [06:58<08:42,  1.81it/s]"
     ]
    },
    {
     "name": "stdout",
     "output_type": "stream",
     "text": [
      "Error fetching https://www.country94.ca/2024/08/22/considerable-drop-expected-at-n-b-fuel-pumps/: 403 Client Error: Forbidden for url: https://www.country94.ca/2024/08/22/considerable-drop-expected-at-n-b-fuel-pumps/\n",
      "Skipping row 597 due to no valid URL found.\n"
     ]
    },
    {
     "name": "stderr",
     "output_type": "stream",
     "text": [
      " 42%|████▏     | 645/1545 [07:26<08:32,  1.75it/s]"
     ]
    },
    {
     "name": "stdout",
     "output_type": "stream",
     "text": [
      "Error fetching https://www.justjared.com/photo-gallery/5065473/dnc-night3-23/: 405 Client Error: Method Not Allowed for url: https://www.justjared.com/photo-gallery/5065473/dnc-night3-23/\n",
      "Error fetching https://www.justjared.com/photo-gallery/5065474/dnc-night3-24/: 405 Client Error: Method Not Allowed for url: https://www.justjared.com/photo-gallery/5065474/dnc-night3-24/\n"
     ]
    },
    {
     "name": "stderr",
     "output_type": "stream",
     "text": [
      " 42%|████▏     | 646/1545 [07:26<09:04,  1.65it/s]"
     ]
    },
    {
     "name": "stdout",
     "output_type": "stream",
     "text": [
      "Error fetching https://www.justjared.com/photo-gallery/5065452/dnc-night3-02/: 405 Client Error: Method Not Allowed for url: https://www.justjared.com/photo-gallery/5065452/dnc-night3-02/\n",
      "Error fetching https://www.justjared.com/photo-gallery/5065471/dnc-night3-21/: 405 Client Error: Method Not Allowed for url: https://www.justjared.com/photo-gallery/5065471/dnc-night3-21/\n",
      "Skipping row 645 due to no valid URL found.\n"
     ]
    },
    {
     "name": "stderr",
     "output_type": "stream",
     "text": [
      " 44%|████▍     | 683/1545 [07:44<05:51,  2.45it/s]"
     ]
    },
    {
     "name": "stdout",
     "output_type": "stream",
     "text": [
      "Error fetching https://www.bedfordtoday.co.uk/health/lecanemab-uk-what-is-it-how-much-does-alzheimers-drug-cost-will-it-be-available-on-the-nhs-4753511: 403 Client Error: Forbidden for url: https://www.bedfordtoday.co.uk/health/lecanemab-uk-what-is-it-how-much-does-alzheimers-drug-cost-will-it-be-available-on-the-nhs-4753511\n",
      "Error fetching https://www.harrogateadvertiser.co.uk/health/lecanemab-uk-what-is-it-how-much-does-alzheimers-drug-cost-will-it-be-available-on-the-nhs-4753511: 403 Client Error: Forbidden for url: https://www.harrogateadvertiser.co.uk/health/lecanemab-uk-what-is-it-how-much-does-alzheimers-drug-cost-will-it-be-available-on-the-nhs-4753511\n"
     ]
    },
    {
     "name": "stderr",
     "output_type": "stream",
     "text": [
      " 44%|████▍     | 684/1545 [07:45<05:38,  2.54it/s]"
     ]
    },
    {
     "name": "stdout",
     "output_type": "stream",
     "text": [
      "Error fetching https://www.warwickshireworld.com/health/lecanemab-uk-what-is-it-how-much-does-alzheimers-drug-cost-will-it-be-available-on-the-nhs-4753511: 403 Client Error: Forbidden for url: https://www.warwickshireworld.com/health/lecanemab-uk-what-is-it-how-much-does-alzheimers-drug-cost-will-it-be-available-on-the-nhs-4753511\n",
      "Error fetching https://www.stornowaygazette.co.uk/health/lecanemab-uk-what-is-it-how-much-does-alzheimers-drug-cost-will-it-be-available-on-the-nhs-4753511: 403 Client Error: Forbidden for url: https://www.stornowaygazette.co.uk/health/lecanemab-uk-what-is-it-how-much-does-alzheimers-drug-cost-will-it-be-available-on-the-nhs-4753511\n",
      "Skipping row 683 due to no valid URL found.\n"
     ]
    },
    {
     "name": "stderr",
     "output_type": "stream",
     "text": [
      " 45%|████▌     | 702/1545 [07:52<04:35,  3.06it/s]"
     ]
    },
    {
     "name": "stdout",
     "output_type": "stream",
     "text": [
      "Error fetching https://www.brahmand.com:443/news/IAF-fighter-aircraft-drops-air-store-near-Pokhran-nobody-hurt/20764/1/10.html: HTTPSConnectionPool(host='www.brahmand.com', port=443): Max retries exceeded with url: /news/IAF-fighter-aircraft-drops-air-store-near-Pokhran-nobody-hurt/20764/1/10.html (Caused by SSLError(SSLCertVerificationError(1, \"[SSL: CERTIFICATE_VERIFY_FAILED] certificate verify failed: Hostname mismatch, certificate is not valid for 'www.brahmand.com'. (_ssl.c:1007)\")))\n",
      "Error fetching https://www.brahmand.com:443/news/Pakistan-conducts-successful-training-launch-of-surfacetosurface-ballistic-missile/20765/1/10.html: HTTPSConnectionPool(host='www.brahmand.com', port=443): Max retries exceeded with url: /news/Pakistan-conducts-successful-training-launch-of-surfacetosurface-ballistic-missile/20765/1/10.html (Caused by SSLError(SSLCertVerificationError(1, \"[SSL: CERTIFICATE_VERIFY_FAILED] certificate verify failed: Hostname mismatch, certificate is not valid for 'www.brahmand.com'. (_ssl.c:1007)\")))\n"
     ]
    },
    {
     "name": "stderr",
     "output_type": "stream",
     "text": [
      " 46%|████▌     | 703/1545 [07:53<09:33,  1.47it/s]"
     ]
    },
    {
     "name": "stdout",
     "output_type": "stream",
     "text": [
      "Error fetching https://www.brahmand.com:443/news/Indian-astronaut-likely-to-fly-to-International-Space-Station-by-April-next-year-Jitendra-Singh/20766/1/10.html: HTTPSConnectionPool(host='www.brahmand.com', port=443): Max retries exceeded with url: /news/Indian-astronaut-likely-to-fly-to-International-Space-Station-by-April-next-year-Jitendra-Singh/20766/1/10.html (Caused by SSLError(SSLCertVerificationError(1, \"[SSL: CERTIFICATE_VERIFY_FAILED] certificate verify failed: Hostname mismatch, certificate is not valid for 'www.brahmand.com'. (_ssl.c:1007)\")))\n",
      "Skipping row 702 due to no valid URL found.\n"
     ]
    },
    {
     "name": "stderr",
     "output_type": "stream",
     "text": [
      " 46%|████▌     | 714/1545 [08:01<10:06,  1.37it/s]"
     ]
    },
    {
     "name": "stdout",
     "output_type": "stream",
     "text": [
      "Error fetching https://www.thesudburystar.com:443/news/winning-70-million-lotto-max-ticket-sold-in-timiskaming-cochrane-area: 403 Client Error: Forbidden for url: https://www.thesudburystar.com:443/news/winning-70-million-lotto-max-ticket-sold-in-timiskaming-cochrane-area\n",
      "Error fetching https://www.elliotlakestandard.ca:443/news/winning-70-million-lotto-max-ticket-sold-in-timiskaming-cochrane-area: 403 Client Error: Forbidden for url: https://www.elliotlakestandard.ca:443/news/winning-70-million-lotto-max-ticket-sold-in-timiskaming-cochrane-area\n",
      "Error fetching https://www.cochranetimespost.ca:443/news/winning-70-million-lotto-max-ticket-sold-in-timiskaming-cochrane-area: 403 Client Error: Forbidden for url: https://www.cochranetimespost.ca:443/news/winning-70-million-lotto-max-ticket-sold-in-timiskaming-cochrane-area\n",
      "Error fetching https://www.saultstar.com:443/news/winning-70-million-lotto-max-ticket-sold-in-timiskaming-cochrane-area: 403 Client Error: Forbidden for url: https://www.saultstar.com:443/news/winning-70-million-lotto-max-ticket-sold-in-timiskaming-cochrane-area\n"
     ]
    },
    {
     "name": "stderr",
     "output_type": "stream",
     "text": [
      " 46%|████▋     | 715/1545 [08:01<09:58,  1.39it/s]"
     ]
    },
    {
     "name": "stdout",
     "output_type": "stream",
     "text": [
      "Error fetching https://www.timminstimes.com:443/news/winning-70-million-lotto-max-ticket-sold-in-timiskaming-cochrane-area: 403 Client Error: Forbidden for url: https://www.timminstimes.com:443/news/winning-70-million-lotto-max-ticket-sold-in-timiskaming-cochrane-area\n",
      "Skipping row 714 due to no valid URL found.\n"
     ]
    },
    {
     "name": "stderr",
     "output_type": "stream",
     "text": [
      " 47%|████▋     | 722/1545 [08:05<05:54,  2.32it/s]"
     ]
    },
    {
     "name": "stdout",
     "output_type": "stream",
     "text": [
      "Error fetching https://www.burnleyexpress.net/lifestyle/food-and-drink/free-food-for-gcse-results-day-4752157: 403 Client Error: Forbidden for url: https://www.burnleyexpress.net/lifestyle/food-and-drink/free-food-for-gcse-results-day-4752157\n",
      "Error fetching https://www.chad.co.uk/lifestyle/food-and-drink/free-food-for-gcse-results-day-4752157: 403 Client Error: Forbidden for url: https://www.chad.co.uk/lifestyle/food-and-drink/free-food-for-gcse-results-day-4752157\n",
      "Error fetching https://www.fifetoday.co.uk/lifestyle/food-and-drink/free-food-for-gcse-results-day-4752157: 403 Client Error: Forbidden for url: https://www.fifetoday.co.uk/lifestyle/food-and-drink/free-food-for-gcse-results-day-4752157\n",
      "Skipping row 721 due to no valid URL found.\n"
     ]
    },
    {
     "name": "stderr",
     "output_type": "stream",
     "text": [
      " 47%|████▋     | 724/1545 [08:05<03:58,  3.45it/s]"
     ]
    },
    {
     "name": "stdout",
     "output_type": "stream",
     "text": [
      "Error fetching https://www.lincolnshireworld.com/health/lecanemab-uk-what-is-it-how-much-does-alzheimers-drug-cost-will-it-be-available-on-the-nhs-4753511: 403 Client Error: Forbidden for url: https://www.lincolnshireworld.com/health/lecanemab-uk-what-is-it-how-much-does-alzheimers-drug-cost-will-it-be-available-on-the-nhs-4753511\n",
      "Error fetching https://www.lep.co.uk/health/lecanemab-uk-what-is-it-how-much-does-alzheimers-drug-cost-will-it-be-available-on-the-nhs-4753511: 403 Client Error: Forbidden for url: https://www.lep.co.uk/health/lecanemab-uk-what-is-it-how-much-does-alzheimers-drug-cost-will-it-be-available-on-the-nhs-4753511\n"
     ]
    },
    {
     "name": "stderr",
     "output_type": "stream",
     "text": [
      " 47%|████▋     | 725/1545 [08:05<04:24,  3.10it/s]"
     ]
    },
    {
     "name": "stdout",
     "output_type": "stream",
     "text": [
      "Error fetching https://www.harboroughmail.co.uk/health/lecanemab-uk-what-is-it-how-much-does-alzheimers-drug-cost-will-it-be-available-on-the-nhs-4753511: 403 Client Error: Forbidden for url: https://www.harboroughmail.co.uk/health/lecanemab-uk-what-is-it-how-much-does-alzheimers-drug-cost-will-it-be-available-on-the-nhs-4753511\n",
      "Error fetching https://www.newsletter.co.uk/health/lecanemab-uk-what-is-it-how-much-does-alzheimers-drug-cost-will-it-be-available-on-the-nhs-4753511: 403 Client Error: Forbidden for url: https://www.newsletter.co.uk/health/lecanemab-uk-what-is-it-how-much-does-alzheimers-drug-cost-will-it-be-available-on-the-nhs-4753511\n",
      "Skipping row 724 due to no valid URL found.\n"
     ]
    },
    {
     "name": "stderr",
     "output_type": "stream",
     "text": [
      " 48%|████▊     | 738/1545 [08:13<07:26,  1.81it/s]"
     ]
    },
    {
     "name": "stdout",
     "output_type": "stream",
     "text": [
      "Error fetching https://www.justjared.com/photo-gallery/5065484/dnc-night3-34/: 405 Client Error: Method Not Allowed for url: https://www.justjared.com/photo-gallery/5065484/dnc-night3-34/\n",
      "Error fetching https://www.justjared.com/photo-gallery/5065493/dnc-night3-43/: 405 Client Error: Method Not Allowed for url: https://www.justjared.com/photo-gallery/5065493/dnc-night3-43/\n",
      "Error fetching https://www.justjared.com/photo-gallery/5065476/dnc-night3-26/: 405 Client Error: Method Not Allowed for url: https://www.justjared.com/photo-gallery/5065476/dnc-night3-26/\n",
      "Error fetching https://www.justjared.com/photo-gallery/5065462/dnc-night3-12/: 405 Client Error: Method Not Allowed for url: https://www.justjared.com/photo-gallery/5065462/dnc-night3-12/\n"
     ]
    },
    {
     "name": "stderr",
     "output_type": "stream",
     "text": [
      " 48%|████▊     | 739/1545 [08:14<08:44,  1.54it/s]"
     ]
    },
    {
     "name": "stdout",
     "output_type": "stream",
     "text": [
      "Error fetching https://www.justjared.com/photo-gallery/5065488/dnc-night3-38/: 405 Client Error: Method Not Allowed for url: https://www.justjared.com/photo-gallery/5065488/dnc-night3-38/\n",
      "Skipping row 738 due to no valid URL found.\n"
     ]
    },
    {
     "name": "stderr",
     "output_type": "stream",
     "text": [
      " 49%|████▉     | 754/1545 [08:20<03:50,  3.43it/s]"
     ]
    },
    {
     "name": "stdout",
     "output_type": "stream",
     "text": [
      "Error fetching https://www.919thebend.ca/2024/08/22/cn-rail-and-ckpc-begin-work-stoppage/: 403 Client Error: Forbidden for url: https://www.919thebend.ca/2024/08/22/cn-rail-and-ckpc-begin-work-stoppage/\n",
      "Error fetching https://www.ckbw.ca/2024/08/22/cn-rail-and-ckpc-begin-work-stoppage/: 403 Client Error: Forbidden for url: https://www.ckbw.ca/2024/08/22/cn-rail-and-ckpc-begin-work-stoppage/\n"
     ]
    },
    {
     "name": "stderr",
     "output_type": "stream",
     "text": [
      " 49%|████▉     | 756/1545 [08:20<03:19,  3.96it/s]"
     ]
    },
    {
     "name": "stdout",
     "output_type": "stream",
     "text": [
      "Error fetching https://www.country94.ca/2024/08/22/cn-rail-and-ckpc-begin-work-stoppage/: 403 Client Error: Forbidden for url: https://www.country94.ca/2024/08/22/cn-rail-and-ckpc-begin-work-stoppage/\n",
      "Skipping row 754 due to no valid URL found.\n"
     ]
    },
    {
     "name": "stderr",
     "output_type": "stream",
     "text": [
      " 49%|████▉     | 758/1545 [08:23<09:04,  1.45it/s]"
     ]
    },
    {
     "name": "stdout",
     "output_type": "stream",
     "text": [
      "Error fetching https://www.justjared.com/photo-gallery/5065469/dnc-night3-19/: 405 Client Error: Method Not Allowed for url: https://www.justjared.com/photo-gallery/5065469/dnc-night3-19/\n",
      "Error fetching https://www.justjared.com/photo-gallery/5065489/dnc-night3-39/: 405 Client Error: Method Not Allowed for url: https://www.justjared.com/photo-gallery/5065489/dnc-night3-39/\n",
      "Error fetching https://www.justjared.com/photo-gallery/5065457/dnc-night3-07/: 405 Client Error: Method Not Allowed for url: https://www.justjared.com/photo-gallery/5065457/dnc-night3-07/\n",
      "Error fetching https://www.justjared.com/photo-gallery/5065491/dnc-night3-41/: 405 Client Error: Method Not Allowed for url: https://www.justjared.com/photo-gallery/5065491/dnc-night3-41/\n",
      "Error fetching https://www.justjared.com/photo-gallery/5065478/dnc-night3-28/: 405 Client Error: Method Not Allowed for url: https://www.justjared.com/photo-gallery/5065478/dnc-night3-28/\n",
      "Error fetching https://www.justjared.com/photo-gallery/5065475/dnc-night3-25/: 405 Client Error: Method Not Allowed for url: https://www.justjared.com/photo-gallery/5065475/dnc-night3-25/\n",
      "Error fetching https://www.justjared.com/photo-gallery/5065468/dnc-night3-18/: 405 Client Error: Method Not Allowed for url: https://www.justjared.com/photo-gallery/5065468/dnc-night3-18/\n"
     ]
    },
    {
     "name": "stderr",
     "output_type": "stream",
     "text": [
      " 49%|████▉     | 759/1545 [08:24<12:03,  1.09it/s]"
     ]
    },
    {
     "name": "stdout",
     "output_type": "stream",
     "text": [
      "Error fetching https://www.justjared.com/photo-gallery/5065477/dnc-night3-27/: 405 Client Error: Method Not Allowed for url: https://www.justjared.com/photo-gallery/5065477/dnc-night3-27/\n",
      "Skipping row 758 due to no valid URL found.\n"
     ]
    },
    {
     "name": "stderr",
     "output_type": "stream",
     "text": [
      " 52%|█████▏    | 796/1545 [08:52<06:21,  1.96it/s]"
     ]
    },
    {
     "name": "stdout",
     "output_type": "stream",
     "text": [
      "Error fetching https://www.1015thehawk.com/2024/08/22/federal-government-considering-next-steps-with-rail-stoppage/: 403 Client Error: Forbidden for url: https://www.1015thehawk.com/2024/08/22/federal-government-considering-next-steps-with-rail-stoppage/\n",
      "Error fetching https://www.thewave.ca/2024/08/22/federal-government-considering-next-steps-with-rail-stoppage/: 403 Client Error: Forbidden for url: https://www.thewave.ca/2024/08/22/federal-government-considering-next-steps-with-rail-stoppage/\n"
     ]
    },
    {
     "name": "stderr",
     "output_type": "stream",
     "text": [
      " 52%|█████▏    | 798/1545 [08:52<05:16,  2.36it/s]"
     ]
    },
    {
     "name": "stdout",
     "output_type": "stream",
     "text": [
      "Error fetching https://www.country1053.ca/2024/08/22/federal-government-considering-next-steps-with-rail-stoppage/: 403 Client Error: Forbidden for url: https://www.country1053.ca/2024/08/22/federal-government-considering-next-steps-with-rail-stoppage/\n",
      "Error fetching https://www.ckdr.net/2024/08/22/federal-government-considering-next-steps-with-rail-stoppage/: 403 Client Error: Forbidden for url: https://www.ckdr.net/2024/08/22/federal-government-considering-next-steps-with-rail-stoppage/\n",
      "Skipping row 797 due to no valid URL found.\n"
     ]
    },
    {
     "name": "stderr",
     "output_type": "stream",
     "text": [
      " 52%|█████▏    | 803/1545 [08:56<08:50,  1.40it/s]"
     ]
    },
    {
     "name": "stdout",
     "output_type": "stream",
     "text": [
      "Skipping row 802 due to no valid URL found.\n"
     ]
    },
    {
     "name": "stderr",
     "output_type": "stream",
     "text": [
      " 53%|█████▎    | 816/1545 [09:06<08:59,  1.35it/s]"
     ]
    },
    {
     "name": "stdout",
     "output_type": "stream",
     "text": [
      "Error fetching https://kjlhradio.com/three-key-objectives-harris-is-expected-to-touch-on-during-dnc-speech/: 404 Client Error: Not Found for url: https://kjlhradio.com/three-key-objectives-harris-is-expected-to-touch-on-during-dnc-speech/\n"
     ]
    },
    {
     "name": "stderr",
     "output_type": "stream",
     "text": [
      " 53%|█████▎    | 819/1545 [09:06<04:38,  2.61it/s]"
     ]
    },
    {
     "name": "stdout",
     "output_type": "stream",
     "text": [
      "Error fetching https://www.lep.co.uk/whats-on/liam-gallagher-leeds-festival-set-time-stage-clashes-setlist-4751302: 403 Client Error: Forbidden for url: https://www.lep.co.uk/whats-on/liam-gallagher-leeds-festival-set-time-stage-clashes-setlist-4751302\n",
      "Error fetching https://www.lancasterguardian.co.uk/whats-on/liam-gallagher-leeds-festival-set-time-stage-clashes-setlist-4751302: 403 Client Error: Forbidden for url: https://www.lancasterguardian.co.uk/whats-on/liam-gallagher-leeds-festival-set-time-stage-clashes-setlist-4751302\n",
      "Error fetching https://www.shieldsgazette.com/whats-on/liam-gallagher-leeds-festival-set-time-stage-clashes-setlist-4751302: 403 Client Error: Forbidden for url: https://www.shieldsgazette.com/whats-on/liam-gallagher-leeds-festival-set-time-stage-clashes-setlist-4751302\n",
      "Skipping row 818 due to no valid URL found.\n"
     ]
    },
    {
     "name": "stderr",
     "output_type": "stream",
     "text": [
      " 54%|█████▎    | 828/1545 [09:10<03:00,  3.98it/s]"
     ]
    },
    {
     "name": "stdout",
     "output_type": "stream",
     "text": [
      "Error fetching https://www.lakeshoreadvance.com:443/news/local-news/pertussis-cases-on-the-rise-in-grey-bruce-2: 403 Client Error: Forbidden for url: https://www.lakeshoreadvance.com:443/news/local-news/pertussis-cases-on-the-rise-in-grey-bruce-2\n",
      "Error fetching https://www.wiartonecho.com:443/news/local-news/pertussis-cases-on-the-rise-in-grey-bruce-2: 403 Client Error: Forbidden for url: https://www.wiartonecho.com:443/news/local-news/pertussis-cases-on-the-rise-in-grey-bruce-2\n"
     ]
    },
    {
     "name": "stderr",
     "output_type": "stream",
     "text": [
      " 54%|█████▎    | 829/1545 [09:10<04:00,  2.97it/s]"
     ]
    },
    {
     "name": "stdout",
     "output_type": "stream",
     "text": [
      "Error fetching https://www.mitchelladvocate.com:443/news/local-news/pertussis-cases-on-the-rise-in-grey-bruce-2: 403 Client Error: Forbidden for url: https://www.mitchelladvocate.com:443/news/local-news/pertussis-cases-on-the-rise-in-grey-bruce-2\n",
      "Error fetching https://www.clintonnewsrecord.com:443/news/local-news/pertussis-cases-on-the-rise-in-grey-bruce-2: 403 Client Error: Forbidden for url: https://www.clintonnewsrecord.com:443/news/local-news/pertussis-cases-on-the-rise-in-grey-bruce-2\n",
      "Skipping row 828 due to no valid URL found.\n"
     ]
    },
    {
     "name": "stderr",
     "output_type": "stream",
     "text": [
      " 55%|█████▌    | 853/1545 [09:21<04:24,  2.61it/s]"
     ]
    },
    {
     "name": "stdout",
     "output_type": "stream",
     "text": [
      "Error fetching https://www.thechronicle-online.com:443/news/local-news/ward-councillor-sounds-alarm-over-safety-on-busy-london-road/wcm/9c7c4059-a6bc-499a-ad88-57c5194a6d16: 403 Client Error: Forbidden for url: https://www.thechronicle-online.com:443/news/local-news/ward-councillor-sounds-alarm-over-safety-on-busy-london-road/wcm/9c7c4059-a6bc-499a-ad88-57c5194a6d16\n",
      "Error fetching https://www.wallaceburgcourierpress.com:443/news/local-news/ward-councillor-sounds-alarm-over-safety-on-busy-london-road/wcm/9c7c4059-a6bc-499a-ad88-57c5194a6d16: 403 Client Error: Forbidden for url: https://www.wallaceburgcourierpress.com:443/news/local-news/ward-councillor-sounds-alarm-over-safety-on-busy-london-road/wcm/9c7c4059-a6bc-499a-ad88-57c5194a6d16\n"
     ]
    },
    {
     "name": "stderr",
     "output_type": "stream",
     "text": [
      " 55%|█████▌    | 854/1545 [09:21<04:13,  2.72it/s]"
     ]
    },
    {
     "name": "stdout",
     "output_type": "stream",
     "text": [
      "Error fetching https://www.sarniathisweek.com:443/news/local-news/ward-councillor-sounds-alarm-over-safety-on-busy-london-road/wcm/9c7c4059-a6bc-499a-ad88-57c5194a6d16: 403 Client Error: Forbidden for url: https://www.sarniathisweek.com:443/news/local-news/ward-councillor-sounds-alarm-over-safety-on-busy-london-road/wcm/9c7c4059-a6bc-499a-ad88-57c5194a6d16\n",
      "Skipping row 853 due to no valid URL found.\n"
     ]
    },
    {
     "name": "stderr",
     "output_type": "stream",
     "text": [
      " 56%|█████▌    | 862/1545 [09:27<08:58,  1.27it/s]"
     ]
    },
    {
     "name": "stdout",
     "output_type": "stream",
     "text": [
      "Error fetching https://www.hartlepoolmail.co.uk/lifestyle/food-and-drink/free-food-for-gcse-results-day-4752157: 403 Client Error: Forbidden for url: https://www.hartlepoolmail.co.uk/lifestyle/food-and-drink/free-food-for-gcse-results-day-4752157\n"
     ]
    },
    {
     "name": "stderr",
     "output_type": "stream",
     "text": [
      " 56%|█████▌    | 863/1545 [09:27<07:46,  1.46it/s]"
     ]
    },
    {
     "name": "stdout",
     "output_type": "stream",
     "text": [
      "Error fetching https://www.buxtonadvertiser.co.uk/lifestyle/food-and-drink/free-food-for-gcse-results-day-4752157: 403 Client Error: Forbidden for url: https://www.buxtonadvertiser.co.uk/lifestyle/food-and-drink/free-food-for-gcse-results-day-4752157\n",
      "Error fetching https://www.stornowaygazette.co.uk/lifestyle/food-and-drink/free-food-for-gcse-results-day-4752157: 403 Client Error: Forbidden for url: https://www.stornowaygazette.co.uk/lifestyle/food-and-drink/free-food-for-gcse-results-day-4752157\n",
      "Skipping row 862 due to no valid URL found.\n",
      "Error fetching https://www.wovo1063.com/2024/08/22/the-weeknd-is-livestreaming-his-one-night-only-concert-in-brazil-on-youtube/: 403 Client Error: Forbidden for url: https://www.wovo1063.com/2024/08/22/the-weeknd-is-livestreaming-his-one-night-only-concert-in-brazil-on-youtube/\n"
     ]
    },
    {
     "name": "stderr",
     "output_type": "stream",
     "text": [
      " 56%|█████▌    | 866/1545 [09:28<04:56,  2.29it/s]"
     ]
    },
    {
     "name": "stdout",
     "output_type": "stream",
     "text": [
      "Error fetching https://www.saultthisweek.com:443/news/winning-70-million-lotto-max-ticket-sold-in-timiskaming-cochrane-area: 403 Client Error: Forbidden for url: https://www.saultthisweek.com:443/news/winning-70-million-lotto-max-ticket-sold-in-timiskaming-cochrane-area\n",
      "Error fetching https://www.timminspress.com:443/news/winning-70-million-lotto-max-ticket-sold-in-timiskaming-cochrane-area: 403 Client Error: Forbidden for url: https://www.timminspress.com:443/news/winning-70-million-lotto-max-ticket-sold-in-timiskaming-cochrane-area\n",
      "Error fetching https://www.midnorthmonitor.com:443/news/winning-70-million-lotto-max-ticket-sold-in-timiskaming-cochrane-area: 403 Client Error: Forbidden for url: https://www.midnorthmonitor.com:443/news/winning-70-million-lotto-max-ticket-sold-in-timiskaming-cochrane-area\n"
     ]
    },
    {
     "name": "stderr",
     "output_type": "stream",
     "text": [
      " 56%|█████▌    | 867/1545 [09:29<06:29,  1.74it/s]"
     ]
    },
    {
     "name": "stdout",
     "output_type": "stream",
     "text": [
      "Error fetching https://www.nugget.ca:443/news/winning-70-million-lotto-max-ticket-sold-in-timiskaming-cochrane-area: 403 Client Error: Forbidden for url: https://www.nugget.ca:443/news/winning-70-million-lotto-max-ticket-sold-in-timiskaming-cochrane-area\n",
      "Error fetching https://www.northernnews.ca:443/news/winning-70-million-lotto-max-ticket-sold-in-timiskaming-cochrane-area: 403 Client Error: Forbidden for url: https://www.northernnews.ca:443/news/winning-70-million-lotto-max-ticket-sold-in-timiskaming-cochrane-area\n",
      "Skipping row 866 due to no valid URL found.\n"
     ]
    },
    {
     "name": "stderr",
     "output_type": "stream",
     "text": [
      " 56%|█████▌    | 869/1545 [09:31<07:12,  1.56it/s]"
     ]
    },
    {
     "name": "stdout",
     "output_type": "stream",
     "text": [
      "Error fetching https://740thefan.com/2024/08/21/former-reds-1b-joey-votto-announces-retirement/: 403 Client Error: Forbidden for url: https://740thefan.com/2024/08/21/former-reds-1b-joey-votto-announces-retirement/\n",
      "Error fetching https://kwsn.com/2024/08/21/former-reds-1b-joey-votto-announces-retirement/: 403 Client Error: Forbidden for url: https://kwsn.com/2024/08/21/former-reds-1b-joey-votto-announces-retirement/\n"
     ]
    },
    {
     "name": "stderr",
     "output_type": "stream",
     "text": [
      " 56%|█████▋    | 870/1545 [09:31<06:20,  1.77it/s]"
     ]
    },
    {
     "name": "stdout",
     "output_type": "stream",
     "text": [
      "Error fetching https://wdsm710.com/2024/08/21/former-reds-1b-joey-votto-announces-retirement/: 403 Client Error: Forbidden for url: https://wdsm710.com/2024/08/21/former-reds-1b-joey-votto-announces-retirement/\n",
      "Skipping row 869 due to no valid URL found.\n"
     ]
    },
    {
     "name": "stderr",
     "output_type": "stream",
     "text": [
      " 56%|█████▋    | 871/1545 [09:31<05:38,  1.99it/s]"
     ]
    },
    {
     "name": "stdout",
     "output_type": "stream",
     "text": [
      "Error fetching https://www.miltonkeynes.co.uk/watch-this/dramatic-footage-shows-reckless-audi-driver-get-boxed-in-by-police-4752211: 403 Client Error: Forbidden for url: https://www.miltonkeynes.co.uk/watch-this/dramatic-footage-shows-reckless-audi-driver-get-boxed-in-by-police-4752211\n",
      "Error fetching https://www.lancasterguardian.co.uk/watch-this/dramatic-footage-shows-reckless-audi-driver-get-boxed-in-by-police-4752211: 403 Client Error: Forbidden for url: https://www.lancasterguardian.co.uk/watch-this/dramatic-footage-shows-reckless-audi-driver-get-boxed-in-by-police-4752211\n",
      "Error fetching https://www.bedfordtoday.co.uk/watch-this/dramatic-footage-shows-reckless-audi-driver-get-boxed-in-by-police-4752211: 403 Client Error: Forbidden for url: https://www.bedfordtoday.co.uk/watch-this/dramatic-footage-shows-reckless-audi-driver-get-boxed-in-by-police-4752211\n",
      "Error fetching https://www.wakefieldexpress.co.uk/watch-this/dramatic-footage-shows-reckless-audi-driver-get-boxed-in-by-police-4752211: 403 Client Error: Forbidden for url: https://www.wakefieldexpress.co.uk/watch-this/dramatic-footage-shows-reckless-audi-driver-get-boxed-in-by-police-4752211\n",
      "Error fetching https://www.halifaxcourier.co.uk/watch-this/dramatic-footage-shows-reckless-audi-driver-get-boxed-in-by-police-4752211: 403 Client Error: Forbidden for url: https://www.halifaxcourier.co.uk/watch-this/dramatic-footage-shows-reckless-audi-driver-get-boxed-in-by-police-4752211\n",
      "Error fetching https://www.derbyshiretimes.co.uk/watch-this/dramatic-footage-shows-reckless-audi-driver-get-boxed-in-by-police-4752211: 403 Client Error: Forbidden for url: https://www.derbyshiretimes.co.uk/watch-this/dramatic-footage-shows-reckless-audi-driver-get-boxed-in-by-police-4752211\n",
      "Error fetching https://www.sussexexpress.co.uk/watch-this/dramatic-footage-shows-reckless-audi-driver-get-boxed-in-by-police-4752211: 403 Client Error: Forbidden for url: https://www.sussexexpress.co.uk/watch-this/dramatic-footage-shows-reckless-audi-driver-get-boxed-in-by-police-4752211\n"
     ]
    },
    {
     "name": "stderr",
     "output_type": "stream",
     "text": [
      " 56%|█████▋    | 872/1545 [09:32<06:54,  1.62it/s]"
     ]
    },
    {
     "name": "stdout",
     "output_type": "stream",
     "text": [
      "Error fetching https://www.northamptonchron.co.uk/watch-this/dramatic-footage-shows-reckless-audi-driver-get-boxed-in-by-police-4752211: 403 Client Error: Forbidden for url: https://www.northamptonchron.co.uk/watch-this/dramatic-footage-shows-reckless-audi-driver-get-boxed-in-by-police-4752211\n",
      "Skipping row 871 due to no valid URL found.\n"
     ]
    },
    {
     "name": "stderr",
     "output_type": "stream",
     "text": [
      " 57%|█████▋    | 876/1545 [09:35<06:55,  1.61it/s]"
     ]
    },
    {
     "name": "stdout",
     "output_type": "stream",
     "text": [
      "Error fetching https://www.stthomastimesjournal.com:443/news/local-news/no-takers-yet-for-sarnia-affordable-housing-grants: 403 Client Error: Forbidden for url: https://www.stthomastimesjournal.com:443/news/local-news/no-takers-yet-for-sarnia-affordable-housing-grants\n",
      "Error fetching https://www.theobserver.ca:443/news/local-news/no-takers-yet-for-sarnia-affordable-housing-grants: 403 Client Error: Forbidden for url: https://www.theobserver.ca:443/news/local-news/no-takers-yet-for-sarnia-affordable-housing-grants\n",
      "Error fetching https://www.strathroyagedispatch.com:443/news/local-news/no-takers-yet-for-sarnia-affordable-housing-grants: 403 Client Error: Forbidden for url: https://www.strathroyagedispatch.com:443/news/local-news/no-takers-yet-for-sarnia-affordable-housing-grants\n"
     ]
    },
    {
     "name": "stderr",
     "output_type": "stream",
     "text": [
      " 57%|█████▋    | 878/1545 [09:36<05:17,  2.10it/s]"
     ]
    },
    {
     "name": "stdout",
     "output_type": "stream",
     "text": [
      "Error fetching https://www.simcoereformer.ca:443/news/local-news/no-takers-yet-for-sarnia-affordable-housing-grants: 403 Client Error: Forbidden for url: https://www.simcoereformer.ca:443/news/local-news/no-takers-yet-for-sarnia-affordable-housing-grants\n",
      "Error fetching https://www.sarniathisweek.com:443/news/local-news/no-takers-yet-for-sarnia-affordable-housing-grants: 403 Client Error: Forbidden for url: https://www.sarniathisweek.com:443/news/local-news/no-takers-yet-for-sarnia-affordable-housing-grants\n",
      "Skipping row 876 due to no valid URL found.\n"
     ]
    },
    {
     "name": "stderr",
     "output_type": "stream",
     "text": [
      " 60%|██████    | 927/1545 [10:05<05:21,  1.92it/s]"
     ]
    },
    {
     "name": "stdout",
     "output_type": "stream",
     "text": [
      "Error fetching https://www.standard-freeholder.com:443/news/opp-investigating-home-invasion-on-wolfe-island-ferry-delayed: 403 Client Error: Forbidden for url: https://www.standard-freeholder.com:443/news/opp-investigating-home-invasion-on-wolfe-island-ferry-delayed\n",
      "Error fetching https://www.intelligencer.ca:443/news/opp-investigating-home-invasion-on-wolfe-island-ferry-delayed: 403 Client Error: Forbidden for url: https://www.intelligencer.ca:443/news/opp-investigating-home-invasion-on-wolfe-island-ferry-delayed\n",
      "Error fetching https://www.countyweeklynews.ca:443/news/opp-investigating-home-invasion-on-wolfe-island-ferry-delayed: 403 Client Error: Forbidden for url: https://www.countyweeklynews.ca:443/news/opp-investigating-home-invasion-on-wolfe-island-ferry-delayed\n"
     ]
    },
    {
     "name": "stderr",
     "output_type": "stream",
     "text": [
      " 60%|██████    | 928/1545 [10:07<07:27,  1.38it/s]"
     ]
    },
    {
     "name": "stdout",
     "output_type": "stream",
     "text": [
      "Error fetching https://www.napaneeguide.com:443/news/opp-investigating-home-invasion-on-wolfe-island-ferry-delayed: 403 Client Error: Forbidden for url: https://www.napaneeguide.com:443/news/opp-investigating-home-invasion-on-wolfe-island-ferry-delayed\n",
      "Error fetching https://www.communitypress.ca:443/news/opp-investigating-home-invasion-on-wolfe-island-ferry-delayed: 403 Client Error: Forbidden for url: https://www.communitypress.ca:443/news/opp-investigating-home-invasion-on-wolfe-island-ferry-delayed\n",
      "Skipping row 927 due to no valid URL found.\n"
     ]
    },
    {
     "name": "stderr",
     "output_type": "stream",
     "text": [
      " 61%|██████    | 943/1545 [10:16<04:09,  2.41it/s]"
     ]
    },
    {
     "name": "stdout",
     "output_type": "stream",
     "text": [
      "Error fetching https://whdg.com/2024/08/22/olympic-medalist-stephen-nedoroscik-to-compete-on-dancing-with-the-stars/: 403 Client Error: Forbidden for url: https://whdg.com/2024/08/22/olympic-medalist-stephen-nedoroscik-to-compete-on-dancing-with-the-stars/\n"
     ]
    },
    {
     "name": "stderr",
     "output_type": "stream",
     "text": [
      " 61%|██████    | 945/1545 [10:17<04:51,  2.05it/s]"
     ]
    },
    {
     "name": "stdout",
     "output_type": "stream",
     "text": [
      "Error fetching https://power1069fm.com/2024/08/22/icymi-cardi-b-shares-life-updates-with-fans-juvenile-calls-out-american-airlines-and-more/: 403 Client Error: Forbidden for url: https://power1069fm.com/2024/08/22/icymi-cardi-b-shares-life-updates-with-fans-juvenile-calls-out-american-airlines-and-more/\n"
     ]
    },
    {
     "name": "stderr",
     "output_type": "stream",
     "text": [
      " 62%|██████▏   | 951/1545 [10:19<05:08,  1.93it/s]"
     ]
    },
    {
     "name": "stdout",
     "output_type": "stream",
     "text": [
      "Error fetching https://www.radio.gov.pk/22-08-2024/india-17-killed-in-blast-at-pharma-factory: 500 Server Error: Internal Server Error for url: https://www.radio.gov.pk/22-08-2024/india-17-killed-in-blast-at-pharma-factory\n"
     ]
    },
    {
     "name": "stderr",
     "output_type": "stream",
     "text": [
      " 64%|██████▎   | 984/1545 [10:42<04:22,  2.14it/s]"
     ]
    },
    {
     "name": "stdout",
     "output_type": "stream",
     "text": [
      "Error fetching https://krny.com/2024/08/22/miranda-lambert-is-pccas-2024-country-icon/: 403 Client Error: Forbidden for url: https://krny.com/2024/08/22/miranda-lambert-is-pccas-2024-country-icon/\n"
     ]
    },
    {
     "name": "stderr",
     "output_type": "stream",
     "text": [
      " 66%|██████▌   | 1017/1545 [10:57<02:52,  3.06it/s]"
     ]
    },
    {
     "name": "stdout",
     "output_type": "stream",
     "text": [
      "Error fetching https://www.sarniathisweek.com:443/news/local-news/police-confirm-incident-on-waterford-trail-man-facing-assault-charge: 403 Client Error: Forbidden for url: https://www.sarniathisweek.com:443/news/local-news/police-confirm-incident-on-waterford-trail-man-facing-assault-charge\n"
     ]
    },
    {
     "name": "stderr",
     "output_type": "stream",
     "text": [
      " 66%|██████▌   | 1018/1545 [10:58<03:07,  2.81it/s]"
     ]
    },
    {
     "name": "stdout",
     "output_type": "stream",
     "text": [
      "Error fetching https://www.thelondoner.ca:443/news/local-news/police-confirm-incident-on-waterford-trail-man-facing-assault-charge: 403 Client Error: Forbidden for url: https://www.thelondoner.ca:443/news/local-news/police-confirm-incident-on-waterford-trail-man-facing-assault-charge\n",
      "Error fetching https://www.chathamdailynews.ca:443/news/local-news/police-confirm-incident-on-waterford-trail-man-facing-assault-charge: 403 Client Error: Forbidden for url: https://www.chathamdailynews.ca:443/news/local-news/police-confirm-incident-on-waterford-trail-man-facing-assault-charge\n",
      "Skipping row 1017 due to no valid URL found.\n"
     ]
    },
    {
     "name": "stderr",
     "output_type": "stream",
     "text": [
      " 66%|██████▌   | 1021/1545 [10:59<02:36,  3.35it/s]"
     ]
    },
    {
     "name": "stdout",
     "output_type": "stream",
     "text": [
      "Error fetching https://www.2lt.com.au/breeding-program-sees-birth-of-elephant-calf-at-california-zoo/: 403 Client Error: Forbidden for url: https://www.2lt.com.au/breeding-program-sees-birth-of-elephant-calf-at-california-zoo/\n"
     ]
    },
    {
     "name": "stderr",
     "output_type": "stream",
     "text": [
      " 66%|██████▌   | 1023/1545 [11:00<02:49,  3.08it/s]"
     ]
    },
    {
     "name": "stdout",
     "output_type": "stream",
     "text": [
      "Skipping row 1021 due to no valid URL found.\n"
     ]
    },
    {
     "name": "stderr",
     "output_type": "stream",
     "text": [
      " 67%|██████▋   | 1032/1545 [11:05<03:52,  2.21it/s]"
     ]
    },
    {
     "name": "stdout",
     "output_type": "stream",
     "text": [
      "Error fetching https://www.northernirelandworld.com/health/sober-curious-movement-im-sober-curious-have-never-been-drunk-not-even-at-my-wedding-4752089: 403 Client Error: Forbidden for url: https://www.northernirelandworld.com/health/sober-curious-movement-im-sober-curious-have-never-been-drunk-not-even-at-my-wedding-4752089\n",
      "Error fetching https://www.anguscountyworld.co.uk/health/sober-curious-movement-im-sober-curious-have-never-been-drunk-not-even-at-my-wedding-4752089: 403 Client Error: Forbidden for url: https://www.anguscountyworld.co.uk/health/sober-curious-movement-im-sober-curious-have-never-been-drunk-not-even-at-my-wedding-4752089\n",
      "Error fetching https://www.warwickshireworld.com/health/sober-curious-movement-im-sober-curious-have-never-been-drunk-not-even-at-my-wedding-4752089: 403 Client Error: Forbidden for url: https://www.warwickshireworld.com/health/sober-curious-movement-im-sober-curious-have-never-been-drunk-not-even-at-my-wedding-4752089\n",
      "Skipping row 1031 due to no valid URL found.\n"
     ]
    },
    {
     "name": "stderr",
     "output_type": "stream",
     "text": [
      " 67%|██████▋   | 1041/1545 [11:09<03:26,  2.44it/s]"
     ]
    },
    {
     "name": "stdout",
     "output_type": "stream",
     "text": [
      "Error fetching https://www.seaforthhuronexpositor.com:443/news/local-news/conservation-area-reopens-after-repairs-for-damage-done-by-off-road-vehicles: 403 Client Error: Forbidden for url: https://www.seaforthhuronexpositor.com:443/news/local-news/conservation-area-reopens-after-repairs-for-damage-done-by-off-road-vehicles\n",
      "Error fetching https://www.thepost.on.ca:443/news/local-news/conservation-area-reopens-after-repairs-for-damage-done-by-off-road-vehicles: 403 Client Error: Forbidden for url: https://www.thepost.on.ca:443/news/local-news/conservation-area-reopens-after-repairs-for-damage-done-by-off-road-vehicles\n",
      "Error fetching https://www.shorelinebeacon.com:443/news/local-news/conservation-area-reopens-after-repairs-for-damage-done-by-off-road-vehicles: 403 Client Error: Forbidden for url: https://www.shorelinebeacon.com:443/news/local-news/conservation-area-reopens-after-repairs-for-damage-done-by-off-road-vehicles\n",
      "Error fetching https://www.owensoundsuntimes.com:443/news/local-news/conservation-area-reopens-after-repairs-for-damage-done-by-off-road-vehicles: 403 Client Error: Forbidden for url: https://www.owensoundsuntimes.com:443/news/local-news/conservation-area-reopens-after-repairs-for-damage-done-by-off-road-vehicles\n",
      "Error fetching https://www.mitchelladvocate.com:443/news/local-news/conservation-area-reopens-after-repairs-for-damage-done-by-off-road-vehicles: 403 Client Error: Forbidden for url: https://www.mitchelladvocate.com:443/news/local-news/conservation-area-reopens-after-repairs-for-damage-done-by-off-road-vehicles\n"
     ]
    },
    {
     "name": "stderr",
     "output_type": "stream",
     "text": [
      " 67%|██████▋   | 1042/1545 [11:10<04:38,  1.81it/s]"
     ]
    },
    {
     "name": "stdout",
     "output_type": "stream",
     "text": [
      "Error fetching https://www.kincardinenews.com:443/news/local-news/conservation-area-reopens-after-repairs-for-damage-done-by-off-road-vehicles: 403 Client Error: Forbidden for url: https://www.kincardinenews.com:443/news/local-news/conservation-area-reopens-after-repairs-for-damage-done-by-off-road-vehicles\n",
      "Skipping row 1041 due to no valid URL found.\n"
     ]
    },
    {
     "name": "stderr",
     "output_type": "stream",
     "text": [
      " 68%|██████▊   | 1047/1545 [11:13<06:34,  1.26it/s]"
     ]
    },
    {
     "name": "stdout",
     "output_type": "stream",
     "text": [
      "Error fetching https://aninews.in/news/business/with-markets-at-peak-mutual-fund-redemptions-surge-report20240822150931/: 403 Client Error: Forbidden for url: https://aninews.in/news/business/with-markets-at-peak-mutual-fund-redemptions-surge-report20240822150931/\n"
     ]
    },
    {
     "name": "stderr",
     "output_type": "stream",
     "text": [
      " 68%|██████▊   | 1048/1545 [11:14<06:59,  1.19it/s]"
     ]
    },
    {
     "name": "stdout",
     "output_type": "stream",
     "text": [
      "Skipping row 1047 due to no valid URL found.\n"
     ]
    },
    {
     "name": "stderr",
     "output_type": "stream",
     "text": [
      " 68%|██████▊   | 1053/1545 [11:16<03:16,  2.51it/s]"
     ]
    },
    {
     "name": "stdout",
     "output_type": "stream",
     "text": [
      "Error fetching https://wfav951.com/2024/08/21/joey-lawrence-samantha-cope-split-after-two-years-of-marriage/: 403 Client Error: Forbidden for url: https://wfav951.com/2024/08/21/joey-lawrence-samantha-cope-split-after-two-years-of-marriage/\n",
      "Error fetching https://kxly920.com/2024/08/21/joey-lawrence-samantha-cope-split-after-two-years-of-marriage/: 403 Client Error: Forbidden for url: https://kxly920.com/2024/08/21/joey-lawrence-samantha-cope-split-after-two-years-of-marriage/\n",
      "Error fetching https://hot969.com/2024/08/21/joey-lawrence-samantha-cope-split-after-two-years-of-marriage/: 403 Client Error: Forbidden for url: https://hot969.com/2024/08/21/joey-lawrence-samantha-cope-split-after-two-years-of-marriage/\n",
      "Error fetching https://929zzu.com/2024/08/21/joey-lawrence-samantha-cope-split-after-two-years-of-marriage/: 403 Client Error: Forbidden for url: https://929zzu.com/2024/08/21/joey-lawrence-samantha-cope-split-after-two-years-of-marriage/\n",
      "Error fetching https://www.wglr.com/2024/08/21/joey-lawrence-samantha-cope-split-after-two-years-of-marriage/: 403 Client Error: Forbidden for url: https://www.wglr.com/2024/08/21/joey-lawrence-samantha-cope-split-after-two-years-of-marriage/\n",
      "Error fetching https://www.x1071.com/2024/08/21/joey-lawrence-samantha-cope-split-after-two-years-of-marriage/: 403 Client Error: Forbidden for url: https://www.x1071.com/2024/08/21/joey-lawrence-samantha-cope-split-after-two-years-of-marriage/\n"
     ]
    },
    {
     "name": "stderr",
     "output_type": "stream",
     "text": [
      " 68%|██████▊   | 1054/1545 [11:17<04:48,  1.70it/s]"
     ]
    },
    {
     "name": "stdout",
     "output_type": "stream",
     "text": [
      "Error fetching https://www.959kissfm.com/2024/08/21/joey-lawrence-samantha-cope-split-after-two-years-of-marriage/: 403 Client Error: Forbidden for url: https://www.959kissfm.com/2024/08/21/joey-lawrence-samantha-cope-split-after-two-years-of-marriage/\n",
      "Error fetching https://www.kgrt.com/2024/08/21/joey-lawrence-samantha-cope-split-after-two-years-of-marriage/: 403 Client Error: Forbidden for url: https://www.kgrt.com/2024/08/21/joey-lawrence-samantha-cope-split-after-two-years-of-marriage/\n",
      "Skipping row 1053 due to no valid URL found.\n"
     ]
    },
    {
     "name": "stderr",
     "output_type": "stream",
     "text": [
      " 69%|██████▉   | 1071/1545 [11:24<04:21,  1.81it/s]"
     ]
    },
    {
     "name": "stdout",
     "output_type": "stream",
     "text": [
      "Error fetching https://y94.com/2024/08/22/hot-girl-gig-megan-thee-stallion-to-host-2024-vmas/: 403 Client Error: Forbidden for url: https://y94.com/2024/08/22/hot-girl-gig-megan-thee-stallion-to-host-2024-vmas/\n",
      "Error fetching https://power1069fm.com/2024/08/22/hot-girl-gig-megan-thee-stallion-to-host-2024-vmas/: 403 Client Error: Forbidden for url: https://power1069fm.com/2024/08/22/hot-girl-gig-megan-thee-stallion-to-host-2024-vmas/\n"
     ]
    },
    {
     "name": "stderr",
     "output_type": "stream",
     "text": [
      " 70%|██████▉   | 1075/1545 [11:25<02:52,  2.73it/s]"
     ]
    },
    {
     "name": "stdout",
     "output_type": "stream",
     "text": [
      "Error fetching https://www.justjared.com/photo-gallery/5065487/dnc-night3-37/: 405 Client Error: Method Not Allowed for url: https://www.justjared.com/photo-gallery/5065487/dnc-night3-37/\n",
      "Error fetching https://www.justjared.com/photo-gallery/5065466/dnc-night3-16/: 405 Client Error: Method Not Allowed for url: https://www.justjared.com/photo-gallery/5065466/dnc-night3-16/\n",
      "Error fetching https://www.justjared.com/photo-gallery/5065485/dnc-night3-35/: 405 Client Error: Method Not Allowed for url: https://www.justjared.com/photo-gallery/5065485/dnc-night3-35/\n",
      "Error fetching https://www.justjared.com/photo-gallery/5065463/dnc-night3-13/: 405 Client Error: Method Not Allowed for url: https://www.justjared.com/photo-gallery/5065463/dnc-night3-13/\n"
     ]
    },
    {
     "name": "stderr",
     "output_type": "stream",
     "text": [
      " 70%|██████▉   | 1077/1545 [11:26<03:07,  2.50it/s]"
     ]
    },
    {
     "name": "stdout",
     "output_type": "stream",
     "text": [
      "Error fetching https://www.justjared.com/photo-gallery/5065481/dnc-night3-31/: 405 Client Error: Method Not Allowed for url: https://www.justjared.com/photo-gallery/5065481/dnc-night3-31/\n",
      "Skipping row 1075 due to no valid URL found.\n"
     ]
    },
    {
     "name": "stderr",
     "output_type": "stream",
     "text": [
      " 71%|███████   | 1091/1545 [11:34<02:39,  2.85it/s]"
     ]
    },
    {
     "name": "stdout",
     "output_type": "stream",
     "text": [
      "Error fetching https://www.theobserver.ca:443/opinion/columnists/time-and-perception-deception: 403 Client Error: Forbidden for url: https://www.theobserver.ca:443/opinion/columnists/time-and-perception-deception\n",
      "Error fetching https://www.brantfordexpositor.ca:443/opinion/columnists/time-and-perception-deception: 403 Client Error: Forbidden for url: https://www.brantfordexpositor.ca:443/opinion/columnists/time-and-perception-deception\n",
      "Error fetching https://www.stratfordbeaconherald.com:443/opinion/columnists/time-and-perception-deception: 403 Client Error: Forbidden for url: https://www.stratfordbeaconherald.com:443/opinion/columnists/time-and-perception-deception\n",
      "Error fetching https://www.sarniathisweek.com:443/opinion/columnists/time-and-perception-deception: 403 Client Error: Forbidden for url: https://www.sarniathisweek.com:443/opinion/columnists/time-and-perception-deception\n",
      "Error fetching https://www.wallaceburgcourierpress.com:443/opinion/columnists/time-and-perception-deception: 403 Client Error: Forbidden for url: https://www.wallaceburgcourierpress.com:443/opinion/columnists/time-and-perception-deception\n"
     ]
    },
    {
     "name": "stderr",
     "output_type": "stream",
     "text": [
      " 71%|███████   | 1092/1545 [11:35<03:29,  2.17it/s]"
     ]
    },
    {
     "name": "stdout",
     "output_type": "stream",
     "text": [
      "Error fetching https://www.strathroyagedispatch.com:443/opinion/columnists/time-and-perception-deception: 403 Client Error: Forbidden for url: https://www.strathroyagedispatch.com:443/opinion/columnists/time-and-perception-deception\n",
      "Error fetching https://www.chathamdailynews.ca:443/opinion/columnists/time-and-perception-deception: 403 Client Error: Forbidden for url: https://www.chathamdailynews.ca:443/opinion/columnists/time-and-perception-deception\n",
      "Skipping row 1091 due to no valid URL found.\n",
      "Error fetching https://www.transfermarkt.at/owen-beck-zu-1-fsv-mainz-05-/thread/forum/154/thread_id/1075965/page/first: 404 Client Error: Not Found for url: https://www.transfermarkt.at/owen-beck-zu-1-fsv-mainz-05-/thread/forum/154/thread_id/1075965/page/first\n"
     ]
    },
    {
     "name": "stderr",
     "output_type": "stream",
     "text": [
      " 71%|███████   | 1093/1545 [11:36<05:08,  1.46it/s]"
     ]
    },
    {
     "name": "stdout",
     "output_type": "stream",
     "text": [
      "Error fetching https://www.transfermarkt.at/owen-beck-zu-1-fsv-mainz-05-/thread/forum/154/thread_id/1075965: 404 Client Error: Not Found for url: https://www.transfermarkt.at/owen-beck-zu-1-fsv-mainz-05-/thread/forum/154/thread_id/1075965\n",
      "Error fetching https://www.transfermarkt.at/owen-beck-zu-1-fsv-mainz-05-/thread/forum/154/thread_id/1075965/page/1: 404 Client Error: Not Found for url: https://www.transfermarkt.at/owen-beck-zu-1-fsv-mainz-05-/thread/forum/154/thread_id/1075965/page/1\n",
      "Skipping row 1092 due to no valid URL found.\n"
     ]
    },
    {
     "name": "stderr",
     "output_type": "stream",
     "text": [
      " 71%|███████   | 1094/1545 [11:37<05:07,  1.47it/s]"
     ]
    },
    {
     "name": "stdout",
     "output_type": "stream",
     "text": [
      "Error fetching https://www.dewsburyreporter.co.uk/read-this/hollyoaks-actor-charlie-behan-quits-4752702: 403 Client Error: Forbidden for url: https://www.dewsburyreporter.co.uk/read-this/hollyoaks-actor-charlie-behan-quits-4752702\n",
      "Error fetching https://www.thestar.co.uk/read-this/hollyoaks-actor-charlie-behan-quits-4752702: 403 Client Error: Forbidden for url: https://www.thestar.co.uk/read-this/hollyoaks-actor-charlie-behan-quits-4752702\n",
      "Error fetching https://www.anguscountyworld.co.uk/read-this/hollyoaks-actor-charlie-behan-quits-4752702: 403 Client Error: Forbidden for url: https://www.anguscountyworld.co.uk/read-this/hollyoaks-actor-charlie-behan-quits-4752702\n",
      "Error fetching https://www.wakefieldexpress.co.uk/read-this/hollyoaks-actor-charlie-behan-quits-4752702: 403 Client Error: Forbidden for url: https://www.wakefieldexpress.co.uk/read-this/hollyoaks-actor-charlie-behan-quits-4752702\n",
      "Error fetching https://www.chad.co.uk/read-this/hollyoaks-actor-charlie-behan-quits-4752702: 403 Client Error: Forbidden for url: https://www.chad.co.uk/read-this/hollyoaks-actor-charlie-behan-quits-4752702\n",
      "Error fetching https://www.edinburghnews.scotsman.com/read-this/hollyoaks-actor-charlie-behan-quits-4752702: 403 Client Error: Forbidden for url: https://www.edinburghnews.scotsman.com/read-this/hollyoaks-actor-charlie-behan-quits-4752702\n",
      "Error fetching https://www.peterboroughtoday.co.uk/read-this/hollyoaks-actor-charlie-behan-quits-4752702: 403 Client Error: Forbidden for url: https://www.peterboroughtoday.co.uk/read-this/hollyoaks-actor-charlie-behan-quits-4752702\n",
      "Error fetching https://www.warwickshireworld.com/read-this/hollyoaks-actor-charlie-behan-quits-4752702: 403 Client Error: Forbidden for url: https://www.warwickshireworld.com/read-this/hollyoaks-actor-charlie-behan-quits-4752702\n",
      "Error fetching https://www.falkirkherald.co.uk/read-this/hollyoaks-actor-charlie-behan-quits-4752702: 403 Client Error: Forbidden for url: https://www.falkirkherald.co.uk/read-this/hollyoaks-actor-charlie-behan-quits-4752702\n",
      "Error fetching https://www.thesouthernreporter.co.uk/read-this/hollyoaks-actor-charlie-behan-quits-4752702: 403 Client Error: Forbidden for url: https://www.thesouthernreporter.co.uk/read-this/hollyoaks-actor-charlie-behan-quits-4752702\n",
      "Error fetching https://www.lancasterguardian.co.uk/read-this/hollyoaks-actor-charlie-behan-quits-4752702: 403 Client Error: Forbidden for url: https://www.lancasterguardian.co.uk/read-this/hollyoaks-actor-charlie-behan-quits-4752702\n",
      "Error fetching https://www.rotherhamadvertiser.co.uk/read-this/hollyoaks-actor-charlie-behan-quits-4752702: 403 Client Error: Forbidden for url: https://www.rotherhamadvertiser.co.uk/read-this/hollyoaks-actor-charlie-behan-quits-4752702\n",
      "Error fetching https://www.sunderlandecho.com/read-this/hollyoaks-actor-charlie-behan-quits-4752702: 403 Client Error: Forbidden for url: https://www.sunderlandecho.com/read-this/hollyoaks-actor-charlie-behan-quits-4752702\n",
      "Error fetching https://www.fifetoday.co.uk/read-this/hollyoaks-actor-charlie-behan-quits-4752702: 403 Client Error: Forbidden for url: https://www.fifetoday.co.uk/read-this/hollyoaks-actor-charlie-behan-quits-4752702\n"
     ]
    },
    {
     "name": "stderr",
     "output_type": "stream",
     "text": [
      " 71%|███████   | 1095/1545 [11:38<06:33,  1.14it/s]"
     ]
    },
    {
     "name": "stdout",
     "output_type": "stream",
     "text": [
      "Error fetching https://www.leightonbuzzardonline.co.uk/read-this/hollyoaks-actor-charlie-behan-quits-4752702: 403 Client Error: Forbidden for url: https://www.leightonbuzzardonline.co.uk/read-this/hollyoaks-actor-charlie-behan-quits-4752702\n",
      "Skipping row 1094 due to no valid URL found.\n",
      "Error fetching https://www.lutontoday.co.uk/read-this/hollyoaks-actor-charlie-behan-quits-4752702: 403 Client Error: Forbidden for url: https://www.lutontoday.co.uk/read-this/hollyoaks-actor-charlie-behan-quits-4752702\n",
      "Error fetching https://www.harboroughmail.co.uk/read-this/hollyoaks-actor-charlie-behan-quits-4752702: 403 Client Error: Forbidden for url: https://www.harboroughmail.co.uk/read-this/hollyoaks-actor-charlie-behan-quits-4752702\n",
      "Error fetching https://www.northamptonchron.co.uk/read-this/hollyoaks-actor-charlie-behan-quits-4752702: 403 Client Error: Forbidden for url: https://www.northamptonchron.co.uk/read-this/hollyoaks-actor-charlie-behan-quits-4752702\n",
      "Error fetching https://www.hemeltoday.co.uk/read-this/hollyoaks-actor-charlie-behan-quits-4752702: 403 Client Error: Forbidden for url: https://www.hemeltoday.co.uk/read-this/hollyoaks-actor-charlie-behan-quits-4752702\n",
      "Error fetching https://www.buxtonadvertiser.co.uk/read-this/hollyoaks-actor-charlie-behan-quits-4752702: 403 Client Error: Forbidden for url: https://www.buxtonadvertiser.co.uk/read-this/hollyoaks-actor-charlie-behan-quits-4752702\n"
     ]
    },
    {
     "name": "stderr",
     "output_type": "stream",
     "text": [
      " 71%|███████   | 1096/1545 [11:39<06:01,  1.24it/s]"
     ]
    },
    {
     "name": "stdout",
     "output_type": "stream",
     "text": [
      "Error fetching https://www.hucknalldispatch.co.uk/read-this/hollyoaks-actor-charlie-behan-quits-4752702: 403 Client Error: Forbidden for url: https://www.hucknalldispatch.co.uk/read-this/hollyoaks-actor-charlie-behan-quits-4752702\n",
      "Error fetching https://www.worksopguardian.co.uk/read-this/hollyoaks-actor-charlie-behan-quits-4752702: 403 Client Error: Forbidden for url: https://www.worksopguardian.co.uk/read-this/hollyoaks-actor-charlie-behan-quits-4752702\n",
      "Skipping row 1095 due to no valid URL found.\n"
     ]
    },
    {
     "name": "stderr",
     "output_type": "stream",
     "text": [
      " 71%|███████▏  | 1101/1545 [11:41<04:55,  1.50it/s]"
     ]
    },
    {
     "name": "stdout",
     "output_type": "stream",
     "text": [
      "Error fetching https://www.thescarboroughnews.co.uk/health/sober-curious-movement-im-sober-curious-have-never-been-drunk-not-even-at-my-wedding-4752089: 403 Client Error: Forbidden for url: https://www.thescarboroughnews.co.uk/health/sober-curious-movement-im-sober-curious-have-never-been-drunk-not-even-at-my-wedding-4752089\n",
      "Error fetching https://www.hartlepoolmail.co.uk/health/sober-curious-movement-im-sober-curious-have-never-been-drunk-not-even-at-my-wedding-4752089: 403 Client Error: Forbidden for url: https://www.hartlepoolmail.co.uk/health/sober-curious-movement-im-sober-curious-have-never-been-drunk-not-even-at-my-wedding-4752089\n",
      "Error fetching https://www.lancasterguardian.co.uk/health/sober-curious-movement-im-sober-curious-have-never-been-drunk-not-even-at-my-wedding-4752089: 403 Client Error: Forbidden for url: https://www.lancasterguardian.co.uk/health/sober-curious-movement-im-sober-curious-have-never-been-drunk-not-even-at-my-wedding-4752089\n",
      "Error fetching https://www.wakefieldexpress.co.uk/health/sober-curious-movement-im-sober-curious-have-never-been-drunk-not-even-at-my-wedding-4752089: 403 Client Error: Forbidden for url: https://www.wakefieldexpress.co.uk/health/sober-curious-movement-im-sober-curious-have-never-been-drunk-not-even-at-my-wedding-4752089\n",
      "Error fetching https://www.bucksherald.co.uk/health/sober-curious-movement-im-sober-curious-have-never-been-drunk-not-even-at-my-wedding-4752089: 403 Client Error: Forbidden for url: https://www.bucksherald.co.uk/health/sober-curious-movement-im-sober-curious-have-never-been-drunk-not-even-at-my-wedding-4752089\n",
      "Error fetching https://www.northumberlandgazette.co.uk/health/sober-curious-movement-im-sober-curious-have-never-been-drunk-not-even-at-my-wedding-4752089: 403 Client Error: Forbidden for url: https://www.northumberlandgazette.co.uk/health/sober-curious-movement-im-sober-curious-have-never-been-drunk-not-even-at-my-wedding-4752089\n",
      "Error fetching https://www.burnleyexpress.net/health/sober-curious-movement-im-sober-curious-have-never-been-drunk-not-even-at-my-wedding-4752089: 403 Client Error: Forbidden for url: https://www.burnleyexpress.net/health/sober-curious-movement-im-sober-curious-have-never-been-drunk-not-even-at-my-wedding-4752089\n",
      "Error fetching https://www.chad.co.uk/health/sober-curious-movement-im-sober-curious-have-never-been-drunk-not-even-at-my-wedding-4752089: 403 Client Error: Forbidden for url: https://www.chad.co.uk/health/sober-curious-movement-im-sober-curious-have-never-been-drunk-not-even-at-my-wedding-4752089\n",
      "Error fetching https://www.hucknalldispatch.co.uk/health/sober-curious-movement-im-sober-curious-have-never-been-drunk-not-even-at-my-wedding-4752089: 403 Client Error: Forbidden for url: https://www.hucknalldispatch.co.uk/health/sober-curious-movement-im-sober-curious-have-never-been-drunk-not-even-at-my-wedding-4752089\n",
      "Error fetching https://www.fifetoday.co.uk/health/sober-curious-movement-im-sober-curious-have-never-been-drunk-not-even-at-my-wedding-4752089: 403 Client Error: Forbidden for url: https://www.fifetoday.co.uk/health/sober-curious-movement-im-sober-curious-have-never-been-drunk-not-even-at-my-wedding-4752089\n",
      "Error fetching https://www.worksopguardian.co.uk/health/sober-curious-movement-im-sober-curious-have-never-been-drunk-not-even-at-my-wedding-4752089: 403 Client Error: Forbidden for url: https://www.worksopguardian.co.uk/health/sober-curious-movement-im-sober-curious-have-never-been-drunk-not-even-at-my-wedding-4752089\n",
      "Error fetching https://www.newsletter.co.uk/health/sober-curious-movement-im-sober-curious-have-never-been-drunk-not-even-at-my-wedding-4752089: 403 Client Error: Forbidden for url: https://www.newsletter.co.uk/health/sober-curious-movement-im-sober-curious-have-never-been-drunk-not-even-at-my-wedding-4752089\n",
      "Error fetching https://www.stornowaygazette.co.uk/health/sober-curious-movement-im-sober-curious-have-never-been-drunk-not-even-at-my-wedding-4752089: 403 Client Error: Forbidden for url: https://www.stornowaygazette.co.uk/health/sober-curious-movement-im-sober-curious-have-never-been-drunk-not-even-at-my-wedding-4752089\n",
      "Error fetching https://www.meltontimes.co.uk/health/sober-curious-movement-im-sober-curious-have-never-been-drunk-not-even-at-my-wedding-4752089: 403 Client Error: Forbidden for url: https://www.meltontimes.co.uk/health/sober-curious-movement-im-sober-curious-have-never-been-drunk-not-even-at-my-wedding-4752089\n",
      "Error fetching https://www.derbyshiretimes.co.uk/health/sober-curious-movement-im-sober-curious-have-never-been-drunk-not-even-at-my-wedding-4752089: 403 Client Error: Forbidden for url: https://www.derbyshiretimes.co.uk/health/sober-curious-movement-im-sober-curious-have-never-been-drunk-not-even-at-my-wedding-4752089\n",
      "Error fetching https://www.portsmouth.co.uk/health/sober-curious-movement-im-sober-curious-have-never-been-drunk-not-even-at-my-wedding-4752089: 403 Client Error: Forbidden for url: https://www.portsmouth.co.uk/health/sober-curious-movement-im-sober-curious-have-never-been-drunk-not-even-at-my-wedding-4752089\n",
      "Error fetching https://www.leightonbuzzardonline.co.uk/health/sober-curious-movement-im-sober-curious-have-never-been-drunk-not-even-at-my-wedding-4752089: 403 Client Error: Forbidden for url: https://www.leightonbuzzardonline.co.uk/health/sober-curious-movement-im-sober-curious-have-never-been-drunk-not-even-at-my-wedding-4752089\n",
      "Error fetching https://www.doncasterfreepress.co.uk/health/sober-curious-movement-im-sober-curious-have-never-been-drunk-not-even-at-my-wedding-4752089: 403 Client Error: Forbidden for url: https://www.doncasterfreepress.co.uk/health/sober-curious-movement-im-sober-curious-have-never-been-drunk-not-even-at-my-wedding-4752089\n",
      "Error fetching https://www.thestar.co.uk/health/sober-curious-movement-im-sober-curious-have-never-been-drunk-not-even-at-my-wedding-4752089: 403 Client Error: Forbidden for url: https://www.thestar.co.uk/health/sober-curious-movement-im-sober-curious-have-never-been-drunk-not-even-at-my-wedding-4752089\n",
      "Error fetching https://www.lep.co.uk/health/sober-curious-movement-im-sober-curious-have-never-been-drunk-not-even-at-my-wedding-4752089: 403 Client Error: Forbidden for url: https://www.lep.co.uk/health/sober-curious-movement-im-sober-curious-have-never-been-drunk-not-even-at-my-wedding-4752089\n",
      "Error fetching https://www.sussexexpress.co.uk/health/sober-curious-movement-im-sober-curious-have-never-been-drunk-not-even-at-my-wedding-4752089: 403 Client Error: Forbidden for url: https://www.sussexexpress.co.uk/health/sober-curious-movement-im-sober-curious-have-never-been-drunk-not-even-at-my-wedding-4752089\n",
      "Error fetching https://www.daventryexpress.co.uk/health/sober-curious-movement-im-sober-curious-have-never-been-drunk-not-even-at-my-wedding-4752089: 403 Client Error: Forbidden for url: https://www.daventryexpress.co.uk/health/sober-curious-movement-im-sober-curious-have-never-been-drunk-not-even-at-my-wedding-4752089\n",
      "Error fetching https://www.edinburghnews.scotsman.com/health/sober-curious-movement-im-sober-curious-have-never-been-drunk-not-even-at-my-wedding-4752089: 403 Client Error: Forbidden for url: https://www.edinburghnews.scotsman.com/health/sober-curious-movement-im-sober-curious-have-never-been-drunk-not-even-at-my-wedding-4752089\n",
      "Error fetching https://www.peterboroughtoday.co.uk/health/sober-curious-movement-im-sober-curious-have-never-been-drunk-not-even-at-my-wedding-4752089: 403 Client Error: Forbidden for url: https://www.peterboroughtoday.co.uk/health/sober-curious-movement-im-sober-curious-have-never-been-drunk-not-even-at-my-wedding-4752089\n",
      "Error fetching https://www.northamptonchron.co.uk/health/sober-curious-movement-im-sober-curious-have-never-been-drunk-not-even-at-my-wedding-4752089: 403 Client Error: Forbidden for url: https://www.northamptonchron.co.uk/health/sober-curious-movement-im-sober-curious-have-never-been-drunk-not-even-at-my-wedding-4752089\n"
     ]
    },
    {
     "name": "stderr",
     "output_type": "stream",
     "text": [
      " 71%|███████▏  | 1102/1545 [11:43<07:35,  1.03s/it]"
     ]
    },
    {
     "name": "stdout",
     "output_type": "stream",
     "text": [
      "Error fetching https://www.northantstelegraph.co.uk/health/sober-curious-movement-im-sober-curious-have-never-been-drunk-not-even-at-my-wedding-4752089: 403 Client Error: Forbidden for url: https://www.northantstelegraph.co.uk/health/sober-curious-movement-im-sober-curious-have-never-been-drunk-not-even-at-my-wedding-4752089\n",
      "Error fetching https://www.miltonkeynes.co.uk/health/sober-curious-movement-im-sober-curious-have-never-been-drunk-not-even-at-my-wedding-4752089: 403 Client Error: Forbidden for url: https://www.miltonkeynes.co.uk/health/sober-curious-movement-im-sober-curious-have-never-been-drunk-not-even-at-my-wedding-4752089\n",
      "Skipping row 1101 due to no valid URL found.\n"
     ]
    },
    {
     "name": "stderr",
     "output_type": "stream",
     "text": [
      " 74%|███████▍  | 1142/1545 [11:59<02:14,  3.00it/s]"
     ]
    },
    {
     "name": "stdout",
     "output_type": "stream",
     "text": [
      "Error fetching https://www.doncasterfreepress.co.uk/whats-on/liam-gallagher-leeds-festival-set-time-stage-clashes-setlist-4751302: 403 Client Error: Forbidden for url: https://www.doncasterfreepress.co.uk/whats-on/liam-gallagher-leeds-festival-set-time-stage-clashes-setlist-4751302\n",
      "Error fetching https://www.wakefieldexpress.co.uk/whats-on/liam-gallagher-leeds-festival-set-time-stage-clashes-setlist-4751302: 403 Client Error: Forbidden for url: https://www.wakefieldexpress.co.uk/whats-on/liam-gallagher-leeds-festival-set-time-stage-clashes-setlist-4751302\n",
      "Error fetching https://www.blackpoolgazette.co.uk/whats-on/liam-gallagher-leeds-festival-set-time-stage-clashes-setlist-4751302: 403 Client Error: Forbidden for url: https://www.blackpoolgazette.co.uk/whats-on/liam-gallagher-leeds-festival-set-time-stage-clashes-setlist-4751302\n",
      "Skipping row 1141 due to no valid URL found.\n"
     ]
    },
    {
     "name": "stderr",
     "output_type": "stream",
     "text": [
      " 74%|███████▍  | 1144/1545 [11:59<01:47,  3.73it/s]"
     ]
    },
    {
     "name": "stdout",
     "output_type": "stream",
     "text": [
      "Error fetching https://www.hartlepoolmail.co.uk/lifestyle/food-and-drink/a-perfect-bank-holiday-without-fail-walkers-to-give-away-10000-packs-of-new-smokin-bbq-sauce-crisps-if-it-rains-4752298: 403 Client Error: Forbidden for url: https://www.hartlepoolmail.co.uk/lifestyle/food-and-drink/a-perfect-bank-holiday-without-fail-walkers-to-give-away-10000-packs-of-new-smokin-bbq-sauce-crisps-if-it-rains-4752298\n",
      "Error fetching https://www.derbyshiretimes.co.uk/lifestyle/food-and-drink/a-perfect-bank-holiday-without-fail-walkers-to-give-away-10000-packs-of-new-smokin-bbq-sauce-crisps-if-it-rains-4752298: 403 Client Error: Forbidden for url: https://www.derbyshiretimes.co.uk/lifestyle/food-and-drink/a-perfect-bank-holiday-without-fail-walkers-to-give-away-10000-packs-of-new-smokin-bbq-sauce-crisps-if-it-rains-4752298\n",
      "Error fetching https://www.doncasterfreepress.co.uk/lifestyle/food-and-drink/a-perfect-bank-holiday-without-fail-walkers-to-give-away-10000-packs-of-new-smokin-bbq-sauce-crisps-if-it-rains-4752298: 403 Client Error: Forbidden for url: https://www.doncasterfreepress.co.uk/lifestyle/food-and-drink/a-perfect-bank-holiday-without-fail-walkers-to-give-away-10000-packs-of-new-smokin-bbq-sauce-crisps-if-it-rains-4752298\n",
      "Skipping row 1143 due to no valid URL found.\n"
     ]
    },
    {
     "name": "stderr",
     "output_type": "stream",
     "text": [
      " 75%|███████▌  | 1161/1545 [12:05<02:45,  2.32it/s]"
     ]
    },
    {
     "name": "stdout",
     "output_type": "stream",
     "text": [
      "Error fetching https://www.doncasterfreepress.co.uk/read-this/hollyoaks-actor-charlie-behan-quits-4752702: 403 Client Error: Forbidden for url: https://www.doncasterfreepress.co.uk/read-this/hollyoaks-actor-charlie-behan-quits-4752702\n",
      "Error fetching https://www.portsmouth.co.uk/read-this/hollyoaks-actor-charlie-behan-quits-4752702: 403 Client Error: Forbidden for url: https://www.portsmouth.co.uk/read-this/hollyoaks-actor-charlie-behan-quits-4752702\n",
      "Error fetching https://www.daventryexpress.co.uk/read-this/hollyoaks-actor-charlie-behan-quits-4752702: 403 Client Error: Forbidden for url: https://www.daventryexpress.co.uk/read-this/hollyoaks-actor-charlie-behan-quits-4752702\n",
      "Error fetching https://www.northantstelegraph.co.uk/read-this/hollyoaks-actor-charlie-behan-quits-4752702: 403 Client Error: Forbidden for url: https://www.northantstelegraph.co.uk/read-this/hollyoaks-actor-charlie-behan-quits-4752702\n"
     ]
    },
    {
     "name": "stderr",
     "output_type": "stream",
     "text": [
      " 75%|███████▌  | 1162/1545 [12:05<02:34,  2.48it/s]"
     ]
    },
    {
     "name": "stdout",
     "output_type": "stream",
     "text": [
      "Error fetching https://www.newsletter.co.uk/read-this/hollyoaks-actor-charlie-behan-quits-4752702: 403 Client Error: Forbidden for url: https://www.newsletter.co.uk/read-this/hollyoaks-actor-charlie-behan-quits-4752702\n",
      "Error fetching https://www.stornowaygazette.co.uk/read-this/hollyoaks-actor-charlie-behan-quits-4752702: 403 Client Error: Forbidden for url: https://www.stornowaygazette.co.uk/read-this/hollyoaks-actor-charlie-behan-quits-4752702\n",
      "Skipping row 1161 due to no valid URL found.\n"
     ]
    },
    {
     "name": "stderr",
     "output_type": "stream",
     "text": [
      " 76%|███████▌  | 1169/1545 [12:10<03:34,  1.75it/s]"
     ]
    },
    {
     "name": "stdout",
     "output_type": "stream",
     "text": [
      "Error fetching https://www.sussexexpress.co.uk/health/lecanemab-uk-what-is-it-how-much-does-alzheimers-drug-cost-will-it-be-available-on-the-nhs-4753511: 403 Client Error: Forbidden for url: https://www.sussexexpress.co.uk/health/lecanemab-uk-what-is-it-how-much-does-alzheimers-drug-cost-will-it-be-available-on-the-nhs-4753511\n",
      "Error fetching https://www.thesouthernreporter.co.uk/health/lecanemab-uk-what-is-it-how-much-does-alzheimers-drug-cost-will-it-be-available-on-the-nhs-4753511: 403 Client Error: Forbidden for url: https://www.thesouthernreporter.co.uk/health/lecanemab-uk-what-is-it-how-much-does-alzheimers-drug-cost-will-it-be-available-on-the-nhs-4753511\n",
      "Error fetching https://www.hartlepoolmail.co.uk/health/lecanemab-uk-what-is-it-how-much-does-alzheimers-drug-cost-will-it-be-available-on-the-nhs-4753511: 403 Client Error: Forbidden for url: https://www.hartlepoolmail.co.uk/health/lecanemab-uk-what-is-it-how-much-does-alzheimers-drug-cost-will-it-be-available-on-the-nhs-4753511\n",
      "Skipping row 1168 due to no valid URL found.\n"
     ]
    },
    {
     "name": "stderr",
     "output_type": "stream",
     "text": [
      " 77%|███████▋  | 1184/1545 [12:16<01:54,  3.14it/s]"
     ]
    },
    {
     "name": "stdout",
     "output_type": "stream",
     "text": [
      "Skipping row 1182 due to no valid URL found.\n"
     ]
    },
    {
     "name": "stderr",
     "output_type": "stream",
     "text": [
      " 77%|███████▋  | 1191/1545 [12:22<04:10,  1.41it/s]"
     ]
    },
    {
     "name": "stdout",
     "output_type": "stream",
     "text": [
      "Error fetching https://www.seaforthhuronexpositor.com:443/news/safety-issues-continue-along-thames-road-east: 403 Client Error: Forbidden for url: https://www.seaforthhuronexpositor.com:443/news/safety-issues-continue-along-thames-road-east\n",
      "Error fetching https://www.thepost.on.ca:443/news/safety-issues-continue-along-thames-road-east: 403 Client Error: Forbidden for url: https://www.thepost.on.ca:443/news/safety-issues-continue-along-thames-road-east\n",
      "Error fetching https://www.shorelinebeacon.com:443/news/safety-issues-continue-along-thames-road-east: 403 Client Error: Forbidden for url: https://www.shorelinebeacon.com:443/news/safety-issues-continue-along-thames-road-east\n",
      "Error fetching https://www.wiartonecho.com:443/news/safety-issues-continue-along-thames-road-east: 403 Client Error: Forbidden for url: https://www.wiartonecho.com:443/news/safety-issues-continue-along-thames-road-east\n",
      "Error fetching https://www.owensoundsuntimes.com:443/news/safety-issues-continue-along-thames-road-east: 403 Client Error: Forbidden for url: https://www.owensoundsuntimes.com:443/news/safety-issues-continue-along-thames-road-east\n"
     ]
    },
    {
     "name": "stderr",
     "output_type": "stream",
     "text": [
      " 77%|███████▋  | 1192/1545 [12:23<04:34,  1.29it/s]"
     ]
    },
    {
     "name": "stdout",
     "output_type": "stream",
     "text": [
      "Error fetching https://www.mitchelladvocate.com:443/news/safety-issues-continue-along-thames-road-east: 403 Client Error: Forbidden for url: https://www.mitchelladvocate.com:443/news/safety-issues-continue-along-thames-road-east\n",
      "Error fetching https://www.clintonnewsrecord.com:443/news/safety-issues-continue-along-thames-road-east: 403 Client Error: Forbidden for url: https://www.clintonnewsrecord.com:443/news/safety-issues-continue-along-thames-road-east\n",
      "Error fetching https://www.goderichsignalstar.com:443/news/safety-issues-continue-along-thames-road-east: 403 Client Error: Forbidden for url: https://www.goderichsignalstar.com:443/news/safety-issues-continue-along-thames-road-east\n",
      "Skipping row 1191 due to no valid URL found.\n"
     ]
    },
    {
     "name": "stderr",
     "output_type": "stream",
     "text": [
      " 78%|███████▊  | 1199/1545 [12:26<03:00,  1.92it/s]"
     ]
    },
    {
     "name": "stdout",
     "output_type": "stream",
     "text": [
      "Error fetching https://www.justjared.com/photo-gallery/5065490/dnc-night3-40/: 405 Client Error: Method Not Allowed for url: https://www.justjared.com/photo-gallery/5065490/dnc-night3-40/\n",
      "Error fetching https://www.justjared.com/photo-gallery/5065483/dnc-night3-33/: 405 Client Error: Method Not Allowed for url: https://www.justjared.com/photo-gallery/5065483/dnc-night3-33/\n",
      "Error fetching https://www.justjared.com/photo-gallery/5065480/dnc-night3-30/: 405 Client Error: Method Not Allowed for url: https://www.justjared.com/photo-gallery/5065480/dnc-night3-30/\n",
      "Error fetching https://www.justjared.com/photo-gallery/5065492/dnc-night3-42/: 405 Client Error: Method Not Allowed for url: https://www.justjared.com/photo-gallery/5065492/dnc-night3-42/\n",
      "Error fetching https://www.justjared.com/photo-gallery/5065465/dnc-night3-15/: 405 Client Error: Method Not Allowed for url: https://www.justjared.com/photo-gallery/5065465/dnc-night3-15/\n"
     ]
    },
    {
     "name": "stderr",
     "output_type": "stream",
     "text": [
      " 78%|███████▊  | 1200/1545 [12:27<03:52,  1.48it/s]"
     ]
    },
    {
     "name": "stdout",
     "output_type": "stream",
     "text": [
      "Error fetching https://www.justjared.com/photo-gallery/5065486/dnc-night3-36/: 405 Client Error: Method Not Allowed for url: https://www.justjared.com/photo-gallery/5065486/dnc-night3-36/\n",
      "Error fetching https://www.justjared.com/photo-gallery/5065454/dnc-night3-04/: 405 Client Error: Method Not Allowed for url: https://www.justjared.com/photo-gallery/5065454/dnc-night3-04/\n",
      "Skipping row 1199 due to no valid URL found.\n"
     ]
    },
    {
     "name": "stderr",
     "output_type": "stream",
     "text": [
      " 78%|███████▊  | 1204/1545 [12:29<02:40,  2.13it/s]"
     ]
    },
    {
     "name": "stdout",
     "output_type": "stream",
     "text": [
      "Error fetching https://www.lincolnshireworld.com/lifestyle/food-and-drink/free-food-for-gcse-results-day-4752157: 403 Client Error: Forbidden for url: https://www.lincolnshireworld.com/lifestyle/food-and-drink/free-food-for-gcse-results-day-4752157\n",
      "Error fetching https://www.bedfordtoday.co.uk/lifestyle/food-and-drink/free-food-for-gcse-results-day-4752157: 403 Client Error: Forbidden for url: https://www.bedfordtoday.co.uk/lifestyle/food-and-drink/free-food-for-gcse-results-day-4752157\n",
      "Error fetching https://www.biggleswadetoday.co.uk/lifestyle/food-and-drink/free-food-for-gcse-results-day-4752157: 403 Client Error: Forbidden for url: https://www.biggleswadetoday.co.uk/lifestyle/food-and-drink/free-food-for-gcse-results-day-4752157\n",
      "Skipping row 1203 due to no valid URL found.\n"
     ]
    },
    {
     "name": "stderr",
     "output_type": "stream",
     "text": [
      " 79%|███████▉  | 1223/1545 [12:39<02:33,  2.09it/s]"
     ]
    },
    {
     "name": "stdout",
     "output_type": "stream",
     "text": [
      "Error fetching https://www.doncasterfreepress.co.uk/health/lecanemab-uk-what-is-it-how-much-does-alzheimers-drug-cost-will-it-be-available-on-the-nhs-4753511: 403 Client Error: Forbidden for url: https://www.doncasterfreepress.co.uk/health/lecanemab-uk-what-is-it-how-much-does-alzheimers-drug-cost-will-it-be-available-on-the-nhs-4753511\n",
      "Error fetching https://www.miltonkeynes.co.uk/health/lecanemab-uk-what-is-it-how-much-does-alzheimers-drug-cost-will-it-be-available-on-the-nhs-4753511: 403 Client Error: Forbidden for url: https://www.miltonkeynes.co.uk/health/lecanemab-uk-what-is-it-how-much-does-alzheimers-drug-cost-will-it-be-available-on-the-nhs-4753511\n",
      "Error fetching https://www.biggleswadetoday.co.uk/health/lecanemab-uk-what-is-it-how-much-does-alzheimers-drug-cost-will-it-be-available-on-the-nhs-4753511: 403 Client Error: Forbidden for url: https://www.biggleswadetoday.co.uk/health/lecanemab-uk-what-is-it-how-much-does-alzheimers-drug-cost-will-it-be-available-on-the-nhs-4753511\n",
      "Skipping row 1222 due to no valid URL found.\n"
     ]
    },
    {
     "name": "stderr",
     "output_type": "stream",
     "text": [
      " 79%|███████▉  | 1227/1545 [12:41<02:05,  2.53it/s]"
     ]
    },
    {
     "name": "stdout",
     "output_type": "stream",
     "text": [
      "Error fetching https://kxel.com/2024/08/21/new-york-ag-asks-appeals-court-to-uphold-trumps-454m-fraud-judgment/: 403 Client Error: Forbidden for url: https://kxel.com/2024/08/21/new-york-ag-asks-appeals-court-to-uphold-trumps-454m-fraud-judgment/\n"
     ]
    },
    {
     "name": "stderr",
     "output_type": "stream",
     "text": [
      " 79%|███████▉  | 1228/1545 [12:42<03:54,  1.35it/s]"
     ]
    },
    {
     "name": "stdout",
     "output_type": "stream",
     "text": [
      "Error fetching https://www.saultstar.com:443/news/local-news/teen-stabbing-suspect-wasnt-on-the-lam-for-long-greater-sudbury-police: 403 Client Error: Forbidden for url: https://www.saultstar.com:443/news/local-news/teen-stabbing-suspect-wasnt-on-the-lam-for-long-greater-sudbury-police\n",
      "Error fetching https://www.saultthisweek.com:443/news/local-news/teen-stabbing-suspect-wasnt-on-the-lam-for-long-greater-sudbury-police: 403 Client Error: Forbidden for url: https://www.saultthisweek.com:443/news/local-news/teen-stabbing-suspect-wasnt-on-the-lam-for-long-greater-sudbury-police\n"
     ]
    },
    {
     "name": "stderr",
     "output_type": "stream",
     "text": [
      " 80%|███████▉  | 1229/1545 [12:43<03:13,  1.63it/s]"
     ]
    },
    {
     "name": "stdout",
     "output_type": "stream",
     "text": [
      "Error fetching https://www.timminspress.com:443/news/local-news/teen-stabbing-suspect-wasnt-on-the-lam-for-long-greater-sudbury-police: 403 Client Error: Forbidden for url: https://www.timminspress.com:443/news/local-news/teen-stabbing-suspect-wasnt-on-the-lam-for-long-greater-sudbury-police\n",
      "Skipping row 1228 due to no valid URL found.\n"
     ]
    },
    {
     "name": "stderr",
     "output_type": "stream",
     "text": [
      " 80%|███████▉  | 1230/1545 [12:44<04:01,  1.30it/s]"
     ]
    },
    {
     "name": "stdout",
     "output_type": "stream",
     "text": [
      "Error fetching https://www.justjared.com/photo-gallery/5064507/caleb-williams-girlfriend-revealed-03/: 405 Client Error: Method Not Allowed for url: https://www.justjared.com/photo-gallery/5064507/caleb-williams-girlfriend-revealed-03/\n",
      "Error fetching https://www.justjared.com/photo-gallery/5064506/caleb-williams-girlfriend-revealed-02/: 405 Client Error: Method Not Allowed for url: https://www.justjared.com/photo-gallery/5064506/caleb-williams-girlfriend-revealed-02/\n",
      "Error fetching https://www.justjared.com/photo-gallery/5064509/caleb-williams-girlfriend-revealed-05/: 405 Client Error: Method Not Allowed for url: https://www.justjared.com/photo-gallery/5064509/caleb-williams-girlfriend-revealed-05/\n"
     ]
    },
    {
     "name": "stderr",
     "output_type": "stream",
     "text": [
      " 80%|███████▉  | 1231/1545 [12:45<03:50,  1.36it/s]"
     ]
    },
    {
     "name": "stdout",
     "output_type": "stream",
     "text": [
      "Error fetching https://www.justjared.com/photo-gallery/5064508/caleb-williams-girlfriend-revealed-04/: 405 Client Error: Method Not Allowed for url: https://www.justjared.com/photo-gallery/5064508/caleb-williams-girlfriend-revealed-04/\n",
      "Error fetching https://www.justjared.com/photo-gallery/5064505/caleb-williams-girlfriend-revealed-01/: 405 Client Error: Method Not Allowed for url: https://www.justjared.com/photo-gallery/5064505/caleb-williams-girlfriend-revealed-01/\n",
      "Skipping row 1230 due to no valid URL found.\n"
     ]
    },
    {
     "name": "stderr",
     "output_type": "stream",
     "text": [
      " 80%|████████  | 1240/1545 [12:51<03:58,  1.28it/s]"
     ]
    },
    {
     "name": "stdout",
     "output_type": "stream",
     "text": [
      "Error fetching https://k99wigm.com/adult-contemporary-news/21a9321832f1e5036552f188e19cb8f4: 404 Client Error: Not Found for url: https://k99wigm.com/adult-contemporary-news/21a9321832f1e5036552f188e19cb8f4\n",
      "Error fetching https://mixx993.com/abc-music-news/6b182a4f0743f13969efcf66a33c402a: 404 Client Error: Not Found for url: https://mixx993.com/abc-music-news/6b182a4f0743f13969efcf66a33c402a\n",
      "Error fetching https://y101.com/music-news/2024-08-21-taylor-swift-addresses-foiled-vienna-terror-plot-for-first-time-in-post/: 403 Client Error: Forbidden for url: https://y101.com/music-news/2024-08-21-taylor-swift-addresses-foiled-vienna-terror-plot-for-first-time-in-post/\n",
      "Error fetching https://xtra99.com/abc-adult-contemporary-news/f21ce819a92bd5f8ff19310868293660: 404 Client Error: Not Found for url: https://xtra99.com/abc-adult-contemporary-news/f21ce819a92bd5f8ff19310868293660\n"
     ]
    },
    {
     "name": "stderr",
     "output_type": "stream",
     "text": [
      " 80%|████████  | 1241/1545 [12:52<03:48,  1.33it/s]"
     ]
    },
    {
     "name": "stdout",
     "output_type": "stream",
     "text": [
      "Error fetching https://q93fm.com/chr-music-news/ca9bca5002c71faaa87bfe64cd34b526: 404 Client Error: Not Found for url: https://q93fm.com/chr-music-news/ca9bca5002c71faaa87bfe64cd34b526\n",
      "Skipping row 1240 due to no valid URL found.\n"
     ]
    },
    {
     "name": "stderr",
     "output_type": "stream",
     "text": [
      " 81%|████████  | 1251/1545 [12:57<01:59,  2.47it/s]"
     ]
    },
    {
     "name": "stdout",
     "output_type": "stream",
     "text": [
      "Error fetching https://k99wigm.com/entertainment-news/e45aae00aadd3ac5dd6a8bd821924617: 404 Client Error: Not Found for url: https://k99wigm.com/entertainment-news/e45aae00aadd3ac5dd6a8bd821924617\n",
      "Error fetching https://mixx993.com/abc-news-entertainment/734758595fe76898a2dbaa0f3fb7426f: 404 Client Error: Not Found for url: https://mixx993.com/abc-news-entertainment/734758595fe76898a2dbaa0f3fb7426f\n",
      "Error fetching https://kvpionline.com/entertainment-news/831075591837a6240b4a3407cd38230b: 404 Client Error: Not Found for url: https://kvpionline.com/entertainment-news/831075591837a6240b4a3407cd38230b\n",
      "Skipping row 1250 due to no valid URL found.\n"
     ]
    },
    {
     "name": "stderr",
     "output_type": "stream",
     "text": [
      " 84%|████████▎ | 1293/1545 [13:23<02:10,  1.93it/s]"
     ]
    },
    {
     "name": "stdout",
     "output_type": "stream",
     "text": [
      "Error fetching https://www.derbyshiretimes.co.uk/health/lecanemab-uk-what-is-it-how-much-does-alzheimers-drug-cost-will-it-be-available-on-the-nhs-4753511: 403 Client Error: Forbidden for url: https://www.derbyshiretimes.co.uk/health/lecanemab-uk-what-is-it-how-much-does-alzheimers-drug-cost-will-it-be-available-on-the-nhs-4753511\n",
      "Error fetching https://www.sunderlandecho.com/health/lecanemab-uk-what-is-it-how-much-does-alzheimers-drug-cost-will-it-be-available-on-the-nhs-4753511: 403 Client Error: Forbidden for url: https://www.sunderlandecho.com/health/lecanemab-uk-what-is-it-how-much-does-alzheimers-drug-cost-will-it-be-available-on-the-nhs-4753511\n"
     ]
    },
    {
     "name": "stderr",
     "output_type": "stream",
     "text": [
      " 84%|████████▍ | 1294/1545 [13:24<02:00,  2.08it/s]"
     ]
    },
    {
     "name": "stdout",
     "output_type": "stream",
     "text": [
      "Error fetching https://www.worksopguardian.co.uk/health/lecanemab-uk-what-is-it-how-much-does-alzheimers-drug-cost-will-it-be-available-on-the-nhs-4753511: 403 Client Error: Forbidden for url: https://www.worksopguardian.co.uk/health/lecanemab-uk-what-is-it-how-much-does-alzheimers-drug-cost-will-it-be-available-on-the-nhs-4753511\n",
      "Error fetching https://www.leightonbuzzardonline.co.uk/health/lecanemab-uk-what-is-it-how-much-does-alzheimers-drug-cost-will-it-be-available-on-the-nhs-4753511: 403 Client Error: Forbidden for url: https://www.leightonbuzzardonline.co.uk/health/lecanemab-uk-what-is-it-how-much-does-alzheimers-drug-cost-will-it-be-available-on-the-nhs-4753511\n",
      "Skipping row 1293 due to no valid URL found.\n"
     ]
    },
    {
     "name": "stderr",
     "output_type": "stream",
     "text": [
      " 84%|████████▍ | 1295/1545 [13:24<02:06,  1.97it/s]"
     ]
    },
    {
     "name": "stdout",
     "output_type": "stream",
     "text": [
      "Error fetching https://927thedrive.net/news/classic-rock-news/09937484522bd458ec34262d59639123: 404 Client Error: Not Found for url: https://927thedrive.net/news/classic-rock-news/09937484522bd458ec34262d59639123\n",
      "Error fetching https://beach951.com/abc-music-news/b67840cf8e7a655a066a53a67706d00f: 404 Client Error: Not Found for url: https://beach951.com/abc-music-news/b67840cf8e7a655a066a53a67706d00f\n"
     ]
    },
    {
     "name": "stderr",
     "output_type": "stream",
     "text": [
      " 85%|████████▍ | 1307/1545 [13:33<04:45,  1.20s/it]"
     ]
    },
    {
     "name": "stdout",
     "output_type": "stream",
     "text": [
      "Error fetching https://www.lakeshoreadvance.com:443/news/local-news/conservation-area-reopens-after-repairs-for-damage-done-by-off-road-vehicles: 403 Client Error: Forbidden for url: https://www.lakeshoreadvance.com:443/news/local-news/conservation-area-reopens-after-repairs-for-damage-done-by-off-road-vehicles\n",
      "Error fetching https://www.wiartonecho.com:443/news/local-news/conservation-area-reopens-after-repairs-for-damage-done-by-off-road-vehicles: 403 Client Error: Forbidden for url: https://www.wiartonecho.com:443/news/local-news/conservation-area-reopens-after-repairs-for-damage-done-by-off-road-vehicles\n",
      "Error fetching https://www.clintonnewsrecord.com:443/news/local-news/conservation-area-reopens-after-repairs-for-damage-done-by-off-road-vehicles: 403 Client Error: Forbidden for url: https://www.clintonnewsrecord.com:443/news/local-news/conservation-area-reopens-after-repairs-for-damage-done-by-off-road-vehicles\n"
     ]
    },
    {
     "name": "stderr",
     "output_type": "stream",
     "text": [
      " 85%|████████▍ | 1308/1545 [13:33<04:10,  1.06s/it]"
     ]
    },
    {
     "name": "stdout",
     "output_type": "stream",
     "text": [
      "Error fetching https://www.goderichsignalstar.com:443/news/local-news/conservation-area-reopens-after-repairs-for-damage-done-by-off-road-vehicles: 403 Client Error: Forbidden for url: https://www.goderichsignalstar.com:443/news/local-news/conservation-area-reopens-after-repairs-for-damage-done-by-off-road-vehicles\n",
      "Skipping row 1307 due to no valid URL found.\n"
     ]
    },
    {
     "name": "stderr",
     "output_type": "stream",
     "text": [
      " 85%|████████▌ | 1318/1545 [13:40<02:35,  1.46it/s]"
     ]
    },
    {
     "name": "stdout",
     "output_type": "stream",
     "text": [
      "Error fetching https://www.kshe95.com/real-rock-news/def-leppard-releasing-live-album-of-2023-hometown-club-show/: 403 Client Error: Forbidden for url: https://www.kshe95.com/real-rock-news/def-leppard-releasing-live-album-of-2023-hometown-club-show/\n",
      "Error fetching https://kixi.com/def-leppard-releasing-live-album-of-2023-hometown-club-show/: 403 Client Error: Forbidden for url: https://kixi.com/def-leppard-releasing-live-album-of-2023-hometown-club-show/\n",
      "Error fetching https://wdrv.com/def-leppard-releasing-live-album-of-2023-hometown-club-show/: 403 Client Error: Forbidden for url: https://wdrv.com/def-leppard-releasing-live-album-of-2023-hometown-club-show/\n"
     ]
    },
    {
     "name": "stderr",
     "output_type": "stream",
     "text": [
      " 85%|████████▌ | 1319/1545 [13:41<02:48,  1.34it/s]"
     ]
    },
    {
     "name": "stdout",
     "output_type": "stream",
     "text": [
      "Error fetching https://www.1065thearch.com/arch-music-news/def-leppard-releasing-live-album-of-2023-hometown-club-show/: 403 Client Error: Forbidden for url: https://www.1065thearch.com/arch-music-news/def-leppard-releasing-live-album-of-2023-hometown-club-show/\n",
      "Skipping row 1318 due to no valid URL found.\n"
     ]
    },
    {
     "name": "stderr",
     "output_type": "stream",
     "text": [
      " 86%|████████▋ | 1335/1545 [13:52<02:28,  1.41it/s]"
     ]
    },
    {
     "name": "stdout",
     "output_type": "stream",
     "text": [
      "Error fetching https://www.thestar.co.uk/health/lecanemab-uk-what-is-it-how-much-does-alzheimers-drug-cost-will-it-be-available-on-the-nhs-4753511: 403 Client Error: Forbidden for url: https://www.thestar.co.uk/health/lecanemab-uk-what-is-it-how-much-does-alzheimers-drug-cost-will-it-be-available-on-the-nhs-4753511\n",
      "Error fetching https://www.blackpoolgazette.co.uk/health/lecanemab-uk-what-is-it-how-much-does-alzheimers-drug-cost-will-it-be-available-on-the-nhs-4753511: 403 Client Error: Forbidden for url: https://www.blackpoolgazette.co.uk/health/lecanemab-uk-what-is-it-how-much-does-alzheimers-drug-cost-will-it-be-available-on-the-nhs-4753511\n"
     ]
    },
    {
     "name": "stderr",
     "output_type": "stream",
     "text": [
      " 86%|████████▋ | 1336/1545 [13:53<02:02,  1.71it/s]"
     ]
    },
    {
     "name": "stdout",
     "output_type": "stream",
     "text": [
      "Error fetching https://www.yorkshireeveningpost.co.uk/health/lecanemab-uk-what-is-it-how-much-does-alzheimers-drug-cost-will-it-be-available-on-the-nhs-4753511: 403 Client Error: Forbidden for url: https://www.yorkshireeveningpost.co.uk/health/lecanemab-uk-what-is-it-how-much-does-alzheimers-drug-cost-will-it-be-available-on-the-nhs-4753511\n",
      "Skipping row 1335 due to no valid URL found.\n"
     ]
    },
    {
     "name": "stderr",
     "output_type": "stream",
     "text": [
      " 87%|████████▋ | 1337/1545 [13:54<02:36,  1.33it/s]"
     ]
    },
    {
     "name": "stdout",
     "output_type": "stream",
     "text": [
      "Error fetching https://www.burnleyexpress.net/read-this/hollyoaks-actor-charlie-behan-quits-4752702: 403 Client Error: Forbidden for url: https://www.burnleyexpress.net/read-this/hollyoaks-actor-charlie-behan-quits-4752702\n",
      "Error fetching https://www.lincolnshireworld.com/read-this/hollyoaks-actor-charlie-behan-quits-4752702: 403 Client Error: Forbidden for url: https://www.lincolnshireworld.com/read-this/hollyoaks-actor-charlie-behan-quits-4752702\n",
      "Error fetching https://www.northumberlandgazette.co.uk/read-this/hollyoaks-actor-charlie-behan-quits-4752702: 403 Client Error: Forbidden for url: https://www.northumberlandgazette.co.uk/read-this/hollyoaks-actor-charlie-behan-quits-4752702\n",
      "Error fetching https://www.derryjournal.com/read-this/hollyoaks-actor-charlie-behan-quits-4752702: 403 Client Error: Forbidden for url: https://www.derryjournal.com/read-this/hollyoaks-actor-charlie-behan-quits-4752702\n",
      "Error fetching https://www.halifaxcourier.co.uk/read-this/hollyoaks-actor-charlie-behan-quits-4752702: 403 Client Error: Forbidden for url: https://www.halifaxcourier.co.uk/read-this/hollyoaks-actor-charlie-behan-quits-4752702\n",
      "Error fetching https://www.shieldsgazette.com/read-this/hollyoaks-actor-charlie-behan-quits-4752702: 403 Client Error: Forbidden for url: https://www.shieldsgazette.com/read-this/hollyoaks-actor-charlie-behan-quits-4752702\n"
     ]
    },
    {
     "name": "stderr",
     "output_type": "stream",
     "text": [
      " 87%|████████▋ | 1338/1545 [13:55<02:37,  1.32it/s]"
     ]
    },
    {
     "name": "stdout",
     "output_type": "stream",
     "text": [
      "Error fetching https://www.miltonkeynes.co.uk/read-this/hollyoaks-actor-charlie-behan-quits-4752702: 403 Client Error: Forbidden for url: https://www.miltonkeynes.co.uk/read-this/hollyoaks-actor-charlie-behan-quits-4752702\n",
      "Error fetching https://www.banburyguardian.co.uk/read-this/hollyoaks-actor-charlie-behan-quits-4752702: 403 Client Error: Forbidden for url: https://www.banburyguardian.co.uk/read-this/hollyoaks-actor-charlie-behan-quits-4752702\n",
      "Error fetching https://www.yorkshireeveningpost.co.uk/read-this/hollyoaks-actor-charlie-behan-quits-4752702: 403 Client Error: Forbidden for url: https://www.yorkshireeveningpost.co.uk/read-this/hollyoaks-actor-charlie-behan-quits-4752702\n",
      "Skipping row 1337 due to no valid URL found.\n"
     ]
    },
    {
     "name": "stderr",
     "output_type": "stream",
     "text": [
      " 87%|████████▋ | 1350/1545 [13:59<00:42,  4.61it/s]"
     ]
    },
    {
     "name": "stdout",
     "output_type": "stream",
     "text": [
      "Error fetching https://www.chathamthisweek.com:443/opinion/columnists/time-and-perception-deception: 403 Client Error: Forbidden for url: https://www.chathamthisweek.com:443/opinion/columnists/time-and-perception-deception\n",
      "Error fetching https://www.simcoereformer.ca:443/opinion/columnists/time-and-perception-deception: 403 Client Error: Forbidden for url: https://www.simcoereformer.ca:443/opinion/columnists/time-and-perception-deception\n",
      "Error fetching https://www.parisstaronline.com:443/opinion/columnists/time-and-perception-deception: 403 Client Error: Forbidden for url: https://www.parisstaronline.com:443/opinion/columnists/time-and-perception-deception\n",
      "Error fetching https://www.thechronicle-online.com:443/opinion/columnists/time-and-perception-deception: 403 Client Error: Forbidden for url: https://www.thechronicle-online.com:443/opinion/columnists/time-and-perception-deception\n",
      "Error fetching https://www.thelondoner.ca:443/opinion/columnists/time-and-perception-deception: 403 Client Error: Forbidden for url: https://www.thelondoner.ca:443/opinion/columnists/time-and-perception-deception\n",
      "Error fetching https://www.stthomastimesjournal.com:443/opinion/columnists/time-and-perception-deception: 403 Client Error: Forbidden for url: https://www.stthomastimesjournal.com:443/opinion/columnists/time-and-perception-deception\n"
     ]
    },
    {
     "name": "stderr",
     "output_type": "stream",
     "text": [
      " 87%|████████▋ | 1351/1545 [14:00<01:22,  2.35it/s]"
     ]
    },
    {
     "name": "stdout",
     "output_type": "stream",
     "text": [
      "Error fetching https://www.woodstocksentinelreview.com:443/opinion/columnists/time-and-perception-deception: 403 Client Error: Forbidden for url: https://www.woodstocksentinelreview.com:443/opinion/columnists/time-and-perception-deception\n",
      "Skipping row 1350 due to no valid URL found.\n"
     ]
    },
    {
     "name": "stderr",
     "output_type": "stream",
     "text": [
      " 88%|████████▊ | 1358/1545 [14:07<02:19,  1.34it/s]"
     ]
    },
    {
     "name": "stdout",
     "output_type": "stream",
     "text": [
      "Error fetching https://www.thepost.on.ca:443/news/local-news/pertussis-cases-on-the-rise-in-grey-bruce-2: 403 Client Error: Forbidden for url: https://www.thepost.on.ca:443/news/local-news/pertussis-cases-on-the-rise-in-grey-bruce-2\n",
      "Error fetching https://www.shorelinebeacon.com:443/news/local-news/pertussis-cases-on-the-rise-in-grey-bruce-2: 403 Client Error: Forbidden for url: https://www.shorelinebeacon.com:443/news/local-news/pertussis-cases-on-the-rise-in-grey-bruce-2\n",
      "Error fetching https://www.owensoundsuntimes.com:443/news/local-news/pertussis-cases-on-the-rise-in-grey-bruce-2: 403 Client Error: Forbidden for url: https://www.owensoundsuntimes.com:443/news/local-news/pertussis-cases-on-the-rise-in-grey-bruce-2\n"
     ]
    },
    {
     "name": "stderr",
     "output_type": "stream",
     "text": [
      " 88%|████████▊ | 1359/1545 [14:07<02:12,  1.40it/s]"
     ]
    },
    {
     "name": "stdout",
     "output_type": "stream",
     "text": [
      "Error fetching https://www.kincardinenews.com:443/news/local-news/pertussis-cases-on-the-rise-in-grey-bruce-2: 403 Client Error: Forbidden for url: https://www.kincardinenews.com:443/news/local-news/pertussis-cases-on-the-rise-in-grey-bruce-2\n",
      "Error fetching https://www.goderichsignalstar.com:443/news/local-news/pertussis-cases-on-the-rise-in-grey-bruce-2: 403 Client Error: Forbidden for url: https://www.goderichsignalstar.com:443/news/local-news/pertussis-cases-on-the-rise-in-grey-bruce-2\n",
      "Skipping row 1358 due to no valid URL found.\n"
     ]
    },
    {
     "name": "stderr",
     "output_type": "stream",
     "text": [
      " 90%|█████████ | 1396/1545 [14:30<01:00,  2.46it/s]"
     ]
    },
    {
     "name": "stdout",
     "output_type": "stream",
     "text": [
      "Error fetching https://krny.com/2024/08/22/thomas-rhett-put-his-spin-on-one-of-the-biggest-songs-in-the-world-in-new-album/: 403 Client Error: Forbidden for url: https://krny.com/2024/08/22/thomas-rhett-put-his-spin-on-one-of-the-biggest-songs-in-the-world-in-new-album/\n"
     ]
    },
    {
     "name": "stderr",
     "output_type": "stream",
     "text": [
      " 91%|█████████▏| 1410/1545 [14:41<01:21,  1.65it/s]"
     ]
    },
    {
     "name": "stdout",
     "output_type": "stream",
     "text": [
      "Error fetching https://www.derbyshiretimes.co.uk/read-this/royal-gcse-results-as-the-gcse-2024-results-are-released-did-kate-middleton-do-better-than-prince-william-4752699: 403 Client Error: Forbidden for url: https://www.derbyshiretimes.co.uk/read-this/royal-gcse-results-as-the-gcse-2024-results-are-released-did-kate-middleton-do-better-than-prince-william-4752699\n",
      "Error fetching https://www.peterboroughtoday.co.uk/read-this/royal-gcse-results-as-the-gcse-2024-results-are-released-did-kate-middleton-do-better-than-prince-william-4752699: 403 Client Error: Forbidden for url: https://www.peterboroughtoday.co.uk/read-this/royal-gcse-results-as-the-gcse-2024-results-are-released-did-kate-middleton-do-better-than-prince-william-4752699\n",
      "Error fetching https://www.harboroughmail.co.uk/read-this/royal-gcse-results-as-the-gcse-2024-results-are-released-did-kate-middleton-do-better-than-prince-william-4752699: 403 Client Error: Forbidden for url: https://www.harboroughmail.co.uk/read-this/royal-gcse-results-as-the-gcse-2024-results-are-released-did-kate-middleton-do-better-than-prince-william-4752699\n",
      "Skipping row 1409 due to no valid URL found.\n"
     ]
    },
    {
     "name": "stderr",
     "output_type": "stream",
     "text": [
      " 92%|█████████▏| 1421/1545 [14:48<00:58,  2.14it/s]"
     ]
    },
    {
     "name": "stdout",
     "output_type": "stream",
     "text": [
      "Error fetching https://www.tribute.ca/reviews/stream/180089/: 403 Client Error: Forbidden for url: https://www.tribute.ca/reviews/stream/180089/\n",
      "Error fetching https://www.tribute.ca/reviews/a24-x-imax-present-everything-everywhere-all-at-once/179192/: 403 Client Error: Forbidden for url: https://www.tribute.ca/reviews/a24-x-imax-present-everything-everywhere-all-at-once/179192/\n",
      "Error fetching https://www.tribute.ca/reviews/blazing-saddles-50th-anniversary/175615/: 403 Client Error: Forbidden for url: https://www.tribute.ca/reviews/blazing-saddles-50th-anniversary/175615/\n",
      "Skipping row 1420 due to no valid URL found.\n"
     ]
    },
    {
     "name": "stderr",
     "output_type": "stream",
     "text": [
      " 93%|█████████▎| 1443/1545 [15:03<01:33,  1.09it/s]"
     ]
    },
    {
     "name": "stdout",
     "output_type": "stream",
     "text": [
      "Error fetching https://www.wakefieldexpress.co.uk/health/lecanemab-uk-what-is-it-how-much-does-alzheimers-drug-cost-will-it-be-available-on-the-nhs-4753511: 403 Client Error: Forbidden for url: https://www.wakefieldexpress.co.uk/health/lecanemab-uk-what-is-it-how-much-does-alzheimers-drug-cost-will-it-be-available-on-the-nhs-4753511\n",
      "Error fetching https://www.lutontoday.co.uk/health/lecanemab-uk-what-is-it-how-much-does-alzheimers-drug-cost-will-it-be-available-on-the-nhs-4753511: 403 Client Error: Forbidden for url: https://www.lutontoday.co.uk/health/lecanemab-uk-what-is-it-how-much-does-alzheimers-drug-cost-will-it-be-available-on-the-nhs-4753511\n",
      "Error fetching https://www.dewsburyreporter.co.uk/health/lecanemab-uk-what-is-it-how-much-does-alzheimers-drug-cost-will-it-be-available-on-the-nhs-4753511: 403 Client Error: Forbidden for url: https://www.dewsburyreporter.co.uk/health/lecanemab-uk-what-is-it-how-much-does-alzheimers-drug-cost-will-it-be-available-on-the-nhs-4753511\n",
      "Error fetching https://www.burnleyexpress.net/health/lecanemab-uk-what-is-it-how-much-does-alzheimers-drug-cost-will-it-be-available-on-the-nhs-4753511: 403 Client Error: Forbidden for url: https://www.burnleyexpress.net/health/lecanemab-uk-what-is-it-how-much-does-alzheimers-drug-cost-will-it-be-available-on-the-nhs-4753511\n",
      "Error fetching https://www.portsmouth.co.uk/health/lecanemab-uk-what-is-it-how-much-does-alzheimers-drug-cost-will-it-be-available-on-the-nhs-4753511: 403 Client Error: Forbidden for url: https://www.portsmouth.co.uk/health/lecanemab-uk-what-is-it-how-much-does-alzheimers-drug-cost-will-it-be-available-on-the-nhs-4753511\n"
     ]
    },
    {
     "name": "stderr",
     "output_type": "stream",
     "text": [
      " 93%|█████████▎| 1444/1545 [15:03<01:22,  1.22it/s]"
     ]
    },
    {
     "name": "stdout",
     "output_type": "stream",
     "text": [
      "Error fetching https://www.hucknalldispatch.co.uk/health/lecanemab-uk-what-is-it-how-much-does-alzheimers-drug-cost-will-it-be-available-on-the-nhs-4753511: 403 Client Error: Forbidden for url: https://www.hucknalldispatch.co.uk/health/lecanemab-uk-what-is-it-how-much-does-alzheimers-drug-cost-will-it-be-available-on-the-nhs-4753511\n",
      "Skipping row 1443 due to no valid URL found.\n"
     ]
    },
    {
     "name": "stderr",
     "output_type": "stream",
     "text": [
      " 96%|█████████▋| 1490/1545 [15:26<00:30,  1.83it/s]"
     ]
    },
    {
     "name": "stdout",
     "output_type": "stream",
     "text": [
      "Error fetching https://www.northernirelandworld.com/health/lecanemab-uk-what-is-it-how-much-does-alzheimers-drug-cost-will-it-be-available-on-the-nhs-4753511: 403 Client Error: Forbidden for url: https://www.northernirelandworld.com/health/lecanemab-uk-what-is-it-how-much-does-alzheimers-drug-cost-will-it-be-available-on-the-nhs-4753511\n",
      "Error fetching https://www.anguscountyworld.co.uk/health/lecanemab-uk-what-is-it-how-much-does-alzheimers-drug-cost-will-it-be-available-on-the-nhs-4753511: 403 Client Error: Forbidden for url: https://www.anguscountyworld.co.uk/health/lecanemab-uk-what-is-it-how-much-does-alzheimers-drug-cost-will-it-be-available-on-the-nhs-4753511\n",
      "Error fetching https://www.wigantoday.net/health/lecanemab-uk-what-is-it-how-much-does-alzheimers-drug-cost-will-it-be-available-on-the-nhs-4753511: 403 Client Error: Forbidden for url: https://www.wigantoday.net/health/lecanemab-uk-what-is-it-how-much-does-alzheimers-drug-cost-will-it-be-available-on-the-nhs-4753511\n",
      "Skipping row 1489 due to no valid URL found.\n"
     ]
    },
    {
     "name": "stderr",
     "output_type": "stream",
     "text": [
      "100%|█████████▉| 1541/1545 [15:55<00:01,  2.09it/s]"
     ]
    },
    {
     "name": "stdout",
     "output_type": "stream",
     "text": [
      "Error fetching https://www.justjared.com/photo-gallery/5065451/dnc-night3-01/: 405 Client Error: Method Not Allowed for url: https://www.justjared.com/photo-gallery/5065451/dnc-night3-01/\n",
      "Error fetching https://www.justjared.com/photo-gallery/5065479/dnc-night3-29/: 405 Client Error: Method Not Allowed for url: https://www.justjared.com/photo-gallery/5065479/dnc-night3-29/\n"
     ]
    },
    {
     "name": "stderr",
     "output_type": "stream",
     "text": [
      "100%|█████████▉| 1542/1545 [15:55<00:01,  1.89it/s]"
     ]
    },
    {
     "name": "stdout",
     "output_type": "stream",
     "text": [
      "Error fetching https://www.justjared.com/photo-gallery/5065464/dnc-night3-14/: 405 Client Error: Method Not Allowed for url: https://www.justjared.com/photo-gallery/5065464/dnc-night3-14/\n",
      "Error fetching https://www.justjared.com/photo-gallery/5065455/dnc-night3-05/: 405 Client Error: Method Not Allowed for url: https://www.justjared.com/photo-gallery/5065455/dnc-night3-05/\n",
      "Skipping row 1541 due to no valid URL found.\n"
     ]
    },
    {
     "name": "stderr",
     "output_type": "stream",
     "text": [
      "100%|██████████| 1545/1545 [15:57<00:00,  1.61it/s]\n"
     ]
    }
   ],
   "source": [
    "combined_embeddings = []\n",
    "filtered_indices = []\n",
    "\n",
    "print(\"Processing rows to generate combined embeddings...\")\n",
    "\n",
    "# Wrap the iteration with tqdm for the progress bar\n",
    "for index, row in tqdm(df.iterrows(), total=len(df)):\n",
    "    # Process URLs and get embedding\n",
    "    urls = row['SOURCEURLS'].split('<UDIV>')\n",
    "    text_embedding = None\n",
    "    for url in urls:\n",
    "        url = url.strip()\n",
    "        if not url:\n",
    "            continue\n",
    "        text = get_text_from_url(url)\n",
    "        if text:  # Only proceed if text was successfully extracted\n",
    "            text_embedding = get_embedding(text)\n",
    "            break  # Use the first URL that works\n",
    "\n",
    "    if text_embedding is not None:\n",
    "        # Create multihot vector\n",
    "        multihot_vector = create_multihot_vector(row, selected_tokens, columns_to_tokenize)\n",
    "        \n",
    "        # Concatenate multihot vector with text embedding\n",
    "        combined_vector = np.concatenate([multihot_vector, text_embedding])\n",
    "        combined_embeddings.append(combined_vector)\n",
    "        filtered_indices.append(index)\n",
    "    else:\n",
    "        print(f\"Skipping row {index} due to no valid URL found.\")"
   ]
  },
  {
   "cell_type": "code",
   "execution_count": null,
   "id": "b5b0dc0a-fb0c-4b02-81e5-10d60b86a687",
   "metadata": {
    "tags": []
   },
   "outputs": [],
   "source": []
  },
  {
   "cell_type": "code",
   "execution_count": 9,
   "id": "c6eea1ca-4ab6-457f-97de-a273b573f2b8",
   "metadata": {
    "tags": []
   },
   "outputs": [
    {
     "data": {
      "text/plain": [
       "1450"
      ]
     },
     "execution_count": 9,
     "metadata": {},
     "output_type": "execute_result"
    }
   ],
   "source": [
    "len(combined_embeddings)"
   ]
  },
  {
   "cell_type": "code",
   "execution_count": 10,
   "id": "3660268f-bdc1-41b8-af9b-70f309f6ad67",
   "metadata": {
    "tags": []
   },
   "outputs": [
    {
     "name": "stdout",
     "output_type": "stream",
     "text": [
      "Combined embeddings shape: (1450, 564)\n",
      "Normalizing combined embeddings...\n",
      "Normalization complete.\n",
      "Performing KMeans clustering to compute WCSS for different k values...\n",
      "Trained KMeans with k = 2\n",
      "Trained KMeans with k = 3\n",
      "Trained KMeans with k = 4\n",
      "Trained KMeans with k = 5\n",
      "Trained KMeans with k = 6\n",
      "Trained KMeans with k = 7\n",
      "Trained KMeans with k = 8\n",
      "Trained KMeans with k = 9\n",
      "Trained KMeans with k = 10\n"
     ]
    },
    {
     "data": {
      "image/png": "[encoded data removed]",
      "text/plain": [
       "<Figure size 800x500 with 1 Axes>"
      ]
     },
     "metadata": {},
     "output_type": "display_data"
    }
   ],
   "source": [
    "\n",
    "# Create a new DataFrame with only the filtered rows\n",
    "#\n",
    "\n",
    "# Convert to NumPy array\n",
    "combined_embeddings = np.array(combined_embeddings)\n",
    "print(f\"Combined embeddings shape: {combined_embeddings.shape}\")\n",
    "\n",
    "# Normalize combined embeddings\n",
    "print(\"Normalizing combined embeddings...\")\n",
    "X_Norm = preprocessing.normalize(combined_embeddings)\n",
    "print(\"Normalization complete.\")\n",
    "\n",
    "# Determine optimal number of clusters using the elbow method\n",
    "max_k = 10\n",
    "wcss = []\n",
    "print(\"Performing KMeans clustering to compute WCSS for different k values...\")\n",
    "for k in range(2, max_k + 1):\n",
    "    kmeans = KMeans(n_clusters=k, random_state=42)\n",
    "    kmeans.fit(X_Norm)\n",
    "    wcss.append(kmeans.inertia_)\n",
    "    print(f\"Trained KMeans with k = {k}\")\n",
    "\n",
    "# Plotting the elbow curve\n",
    "plt.figure(figsize=(8, 5))\n",
    "plt.plot(range(2, max_k + 1), wcss, marker='o')\n",
    "plt.title('Elbow Method For Optimal k')\n",
    "plt.xlabel('Number of Clusters (k)')\n",
    "plt.ylabel('WCSS (Inertia)')\n",
    "plt.xticks(range(2, max_k + 1))\n",
    "plt.grid(True)\n",
    "plt.show()\n",
    "\n"
   ]
  },
  {
   "cell_type": "code",
   "execution_count": 11,
   "id": "00826ee2-2924-4fa1-9535-bce316acdc39",
   "metadata": {
    "tags": []
   },
   "outputs": [],
   "source": [
    "diff_wcss = np.diff(wcss)\n",
    "diff_diff_wcss = np.diff(diff_wcss)\n",
    "optimal_k = np.argmin(diff_diff_wcss) + 3  # +2 because diff_wcss has length k-2 and +1 for zero indexing"
   ]
  },
  {
   "cell_type": "code",
   "execution_count": 12,
   "id": "c8d74bb2-b7ed-4f81-815f-0f581c2d0a4d",
   "metadata": {
    "tags": []
   },
   "outputs": [
    {
     "data": {
      "text/plain": [
       "5"
      ]
     },
     "execution_count": 12,
     "metadata": {},
     "output_type": "execute_result"
    }
   ],
   "source": [
    "optimal_k"
   ]
  },
  {
   "cell_type": "code",
   "execution_count": 13,
   "id": "0b41ea91-d772-4834-b658-3c4e685c2d30",
   "metadata": {
    "tags": []
   },
   "outputs": [
    {
     "name": "stdout",
     "output_type": "stream",
     "text": [
      "Fitting KMeans with optimal k = 5...\n",
      "KMeans fitting complete.\n"
     ]
    }
   ],
   "source": [
    "# Fit KMeans with optimal k\n",
    "print(f\"Fitting KMeans with optimal k = {optimal_k}...\")\n",
    "kmeans = KMeans(n_clusters=optimal_k, random_state=0)\n",
    "kmeans.fit(X_Norm)\n",
    "print(\"KMeans fitting complete.\")"
   ]
  },
  {
   "cell_type": "code",
   "execution_count": 16,
   "id": "a6cbf489-7ff6-4cca-af4f-a991e21aceec",
   "metadata": {
    "tags": []
   },
   "outputs": [
    {
     "name": "stdout",
     "output_type": "stream",
     "text": [
      "Performing t-SNE...\n",
      "Fitting GMM...\n"
     ]
    },
    {
     "data": {
      "image/png": "[encoded data removed]",
      "text/plain": [
       "<Figure size 1600x800 with 2 Axes>"
      ]
     },
     "metadata": {},
     "output_type": "display_data"
    }
   ],
   "source": [
    "# Perform t-SNE on the normalized data (only need to do this once)\n",
    "print(\"Performing t-SNE...\")\n",
    "tsne = TSNE(n_components=2, random_state=42, perplexity=30, max_iter=1000)\n",
    "tsne_results = tsne.fit_transform(X_Norm)\n",
    "\n",
    "# Create a figure with two subplots\n",
    "plt.figure(figsize=(16, 8))\n",
    "\n",
    "# Subplot 1: KMeans Clustering\n",
    "plt.subplot(1, 2, 1)\n",
    "scatter_kmeans = plt.scatter(tsne_results[:, 0], tsne_results[:, 1], c=kmeans.labels_, cmap='viridis', alpha=0.7)\n",
    "plt.legend(*scatter_kmeans.legend_elements(), title=\"KMeans Clusters\", loc=\"upper right\", bbox_to_anchor=(1.15, 1))\n",
    "plt.xlabel('t-SNE Dimension 1')\n",
    "plt.ylabel('t-SNE Dimension 2')\n",
    "plt.title('t-SNE Visualization of KMeans Clusters')\n",
    "\n",
    "# Subplot 2: GMM Clustering\n",
    "print(\"Fitting GMM...\")\n",
    "gmm = GaussianMixture(n_components=optimal_k, random_state=0)\n",
    "gmm_labels = gmm.fit_predict(X_Norm)\n",
    "\n",
    "plt.subplot(1, 2, 2)\n",
    "scatter_gmm = plt.scatter(tsne_results[:, 0], tsne_results[:, 1], c=gmm_labels, cmap='viridis', alpha=0.7)\n",
    "plt.legend(*scatter_gmm.legend_elements(), title=\"GMM Clusters\", loc=\"upper right\", bbox_to_anchor=(1.15, 1))\n",
    "plt.xlabel('t-SNE Dimension 1')\n",
    "plt.ylabel('t-SNE Dimension 2')\n",
    "plt.title('t-SNE Visualization of GMM Clusters')\n",
    "\n",
    "# Adjust layout and display the plot\n",
    "plt.tight_layout()\n",
    "plt.show()"
   ]
  },
  {
   "cell_type": "markdown",
   "id": "7cfbb0d7-5430-46dd-9628-49780280c56b",
   "metadata": {
    "tags": []
   },
   "source": [
    "### since the data is normalized and isotropic, both clustering techniques work seemlessly"
   ]
  },
  {
   "cell_type": "code",
   "execution_count": 17,
   "id": "c12d7162-b938-4497-81ce-5bcb9fbf1a95",
   "metadata": {
    "tags": []
   },
   "outputs": [
    {
     "name": "stdout",
     "output_type": "stream",
     "text": [
      "Number of different labels between KMeans and GMM: 0\n"
     ]
    }
   ],
   "source": [
    "# Check if the labels are different\n",
    "print(\"Number of different labels between KMeans and GMM:\", np.sum(kmeans.labels_ != gmm_labels))"
   ]
  },
  {
   "cell_type": "code",
   "execution_count": 18,
   "id": "e1b016ad-d950-4777-8180-fc85d5c5a3c8",
   "metadata": {
    "tags": []
   },
   "outputs": [],
   "source": [
    "filtered_df = df.iloc[filtered_indices].reset_index(drop=True)"
   ]
  },
  {
   "cell_type": "markdown",
   "id": "81def676-704d-4cd1-8768-af58ba3c8250",
   "metadata": {
    "tags": []
   },
   "source": [
    "### maximum number of article as relevance metric"
   ]
  },
  {
   "cell_type": "code",
   "execution_count": 19,
   "id": "78fdddf0-1e2d-489d-a022-83b98b59084e",
   "metadata": {
    "tags": []
   },
   "outputs": [],
   "source": [
    "filtered_df['cluster_label'] = kmeans.labels_\n",
    "\n",
    "# Step 2: Group by cluster label and find the row with the maximum NUMARTS for each cluster\n",
    "max_numarts_per_cluster = filtered_df.loc[filtered_df.groupby('cluster_label')['NUMARTS'].idxmax()]\n",
    "\n",
    "# Step 3: Extract the URL corresponding to the maximum NUMARTS for each cluster\n",
    "max_urls_per_cluster = max_numarts_per_cluster[['cluster_label', 'NUMARTS', 'SOURCEURLS']]"
   ]
  },
  {
   "cell_type": "code",
   "execution_count": 26,
   "id": "9fda01c4-2751-4654-9eb3-598912f33dbd",
   "metadata": {
    "tags": []
   },
   "outputs": [],
   "source": [
    "\n",
    "max_urls_per_cluster.loc[:, 'extracted_text'] = max_urls_per_cluster['SOURCEURLS'].apply(\n",
    "    lambda urls: get_text_from_url(urls.split('<UDIV>')[0].strip())\n",
    ")\n"
   ]
  },
  {
   "cell_type": "code",
   "execution_count": 33,
   "id": "1b2c769a-4835-4c5e-92a5-a5107fa25b3b",
   "metadata": {
    "tags": []
   },
   "outputs": [
    {
     "data": {
      "text/plain": [
       "'Your digital subscription includes access to content from all our websites in your region. Access unlimited content and the digital versions of our print editions - Today\\'s Paper. A Tasmanian man claims he took one for the team by disabling a portable speed camera, resulting in hefty fines. Login or signup to continue reading Pulse Tasmania reports 43-year-old Launceston local Nicholas Groom pleaded guilty to \\'interfering with an offence detection device\\' at the Launceston Magistrates Court on Monday. Mr Groom was charged after he was caught tilting the lens of a mobile speed camera away from the road on February 7, rendering the camera unable to detect speeding vehicles until it could be repositioned. Mr Groom\\'s explanation to police for moving the camera? He believed he was \"doing the public [a] service and saving them from fines\".  100s of new car deals are available through CarExpert right now. Get the experts on your side and score a great deal.\\xa0Browse now. Accurate on one front, perhaps, but Magistrate Ken Stanton disagreed with his vigilante philosophy. Ironically, it was the camera itself that captured Mr Groom\\'s offence, leading to a $900 fine. It wasn\\'t the accused man\\'s first run-in with the law, with the court hearing he had six prior drunk driving offences. \\'Tower\" style speed cameras were introduced in Tasmania in 2022, and have since generated in excess of $10 million in fines revenue. Since August 2023, the same cameras have also been used to fine drivers for mobile phone and seatbelt-related offences. Content originally sourced from: CarExpert.com.au Advertisement Sign up for our newsletter to stay up to date. We care about the protection of your data. Read our Privacy Policy. Advertisement'"
      ]
     },
     "execution_count": 33,
     "metadata": {},
     "output_type": "execute_result"
    }
   ],
   "source": [
    "max_urls_per_cluster[\"extracted_text\"].to_numpy()[2]"
   ]
  },
  {
   "cell_type": "code",
   "execution_count": 98,
   "id": "d75d0318-de8e-4073-ad45-6155ffc948e3",
   "metadata": {
    "tags": []
   },
   "outputs": [],
   "source": [
    "import base64\n",
    "import vertexai\n",
    "from vertexai.generative_models import GenerativeModel, Part, SafetySetting, FinishReason\n",
    "import vertexai.preview.generative_models as generative_models\n",
    "\n",
    "def gemini(txt):\n",
    "    \n",
    "      #txt='Your digital subscription includes access to content from all our websites in your region. Access unlimited content and the digital versions of our print editions - Today\\'s Paper. A Tasmanian man claims he took one for the team by disabling a portable speed camera, resulting in hefty fines. Login or signup to continue reading Pulse Tasmania reports 43-year-old Launceston local Nicholas Groom pleaded guilty to \\'interfering with an offence detection device\\' at the Launceston Magistrates Court on Monday. Mr Groom was charged after he was caught tilting the lens of a mobile speed camera away from the road on February 7, rendering the camera unable to detect speeding vehicles until it could be repositioned. Mr Groom\\'s explanation to police for moving the camera? He believed he was \"doing the public [a] service and saving them from fines\".  100s of new car deals are available through CarExpert right now. Get the experts on your side and score a great deal.\\xa0Browse now. Accurate on one front, perhaps, but Magistrate Ken Stanton disagreed with his vigilante philosophy. Ironically, it was the camera itself that captured Mr Groom\\'s offence, leading to a $900 fine. It wasn\\'t the accused man\\'s first run-in with the law, with the court hearing he had six prior drunk driving offences. \\'Tower\" style speed cameras were introduced in Tasmania in 2022, and have since generated in excess of $10 million in fines revenue. Since August 2023, the same cameras have also been used to fine drivers for mobile phone and seatbelt-related offences. Content originally sourced from: CarExpert.com.au Advertisement Sign up for our newsletter to stay up to date. We care about the protection of your data. Read our Privacy Policy. Advertisement'\n",
    "    \n",
    "        vertexai.init(project=\"factoreddatathon2014\", location=\"us-central1\")\n",
    "        model = GenerativeModel(\"gemini-1.5-flash-001\",)\n",
    "        responses = model.generate_content(\n",
    "          [\n",
    "           f'I am trying to get the most important information for a news summary for the next text, be extremly consize and accurate with your words, not more than 3 phrases. If the following text is not worth of summarizing put this exact words #nosummary#, do not answer anything:{txt}'\n",
    "           ],\n",
    "          generation_config={\"max_output_tokens\": 100,\"temperature\": 1,\"top_p\": 0.95,},\n",
    "          stream=True,\n",
    "        )\n",
    "        response_text = \"\"\n",
    "        for response in responses:\n",
    "            response_text += response.text\n",
    "        return response_text\n",
    "\n",
    "        \n",
    "\n",
    "\n"
   ]
  },
  {
   "cell_type": "code",
   "execution_count": 99,
   "id": "adb80a2a-fdb6-4b74-a03c-0d4b0aa4b56e",
   "metadata": {
    "tags": []
   },
   "outputs": [
    {
     "data": {
      "text/plain": [
       "'Niall Horan is releasing a pair of live albums from his current The Show world tour. The singer made the announcement on Wednesday (August 21) with a video teaser on Instagram. On August 30, Horan will release a 10-track digital album featuring songs performed at his two recent sold-out shows at Madison Square Garden on… Niall Horan is releasing a pair of live albums from his current The Show world tour. The singer made the announcement on Wednesday (August 21) with a video teaser on Instagram. On August 30, Horan will release a 10-track digital album featuring songs performed at his two recent sold-out shows at Madison Square Garden on June 13 and 14. On September 6, another live album will be released featuring 10 additional live songs from Horan’s worldwide concerts on The Show tour. A special vinyl release combining both live sets will be released on November 22.  “Two live albums are coming your way soon!” Horan wrote in the video caption. “The Show: Live From Madison Square Garden comes out on August 30 and features 10 songs from two days in New York I’ll never, ever forget. The Show: Live On Tour has those 10 songs plus an additional 10 tracks from cities all over the world and is out September 6. The limited-edition deluxe vinyl comes out November 22 and features very special packaging I know you’ll all love.” The first offering from the collection, “Heaven” live from MSG, will be released this Friday. (Billboard) Copyright 2020 Cumulus Media / Cumulus Media is an equal opportunity employer / AA View Full Site'"
      ]
     },
     "execution_count": 99,
     "metadata": {},
     "output_type": "execute_result"
    }
   ],
   "source": [
    "max_urls_per_cluster['extracted_text'].to_numpy()[0]"
   ]
  },
  {
   "cell_type": "code",
   "execution_count": 100,
   "id": "6935d9b5-3ca0-4022-970a-a9d776701fc0",
   "metadata": {
    "tags": []
   },
   "outputs": [
    {
     "name": "stdout",
     "output_type": "stream",
     "text": [
      "Niall Horan releases two live albums from his \"The Show\" tour, one from Madison Square Garden and one from various locations. \n",
      "\n"
     ]
    }
   ],
   "source": [
    "print(gemini(max_urls_per_cluster['extracted_text'].to_numpy()[0]))"
   ]
  },
  {
   "cell_type": "code",
   "execution_count": 101,
   "id": "3b1221d5-a243-49ea-a6bb-fe573ee862be",
   "metadata": {
    "tags": []
   },
   "outputs": [],
   "source": [
    "max_urls_per_cluster = max_urls_per_cluster.copy()\n",
    "\n",
    "max_urls_per_cluster['summary'] = max_urls_per_cluster['extracted_text'].apply(gemini)"
   ]
  },
  {
   "cell_type": "markdown",
   "id": "85f9182f-69c1-45d9-934e-373ad2571f0b",
   "metadata": {
    "tags": []
   },
   "source": [
    "### samples chosen are irrelevant"
   ]
  },
  {
   "cell_type": "code",
   "execution_count": 102,
   "id": "27720863-7f62-43ec-8e06-0483492ade4a",
   "metadata": {
    "tags": []
   },
   "outputs": [
    {
     "data": {
      "text/html": [
       "<div>\n",
       "<style scoped>\n",
       "    .dataframe tbody tr th:only-of-type {\n",
       "        vertical-align: middle;\n",
       "    }\n",
       "\n",
       "    .dataframe tbody tr th {\n",
       "        vertical-align: top;\n",
       "    }\n",
       "\n",
       "    .dataframe thead th {\n",
       "        text-align: right;\n",
       "    }\n",
       "</style>\n",
       "<table border=\"1\" class=\"dataframe\">\n",
       "  <thead>\n",
       "    <tr style=\"text-align: right;\">\n",
       "      <th></th>\n",
       "      <th>cluster_label</th>\n",
       "      <th>NUMARTS</th>\n",
       "      <th>SOURCEURLS</th>\n",
       "      <th>text</th>\n",
       "      <th>extracted_text</th>\n",
       "      <th>summary</th>\n",
       "    </tr>\n",
       "  </thead>\n",
       "  <tbody>\n",
       "    <tr>\n",
       "      <th>1445</th>\n",
       "      <td>0</td>\n",
       "      <td>107</td>\n",
       "      <td>https://www.max94one.com/news/niall-horan-rele...</td>\n",
       "      <td>None</td>\n",
       "      <td>Niall Horan is releasing a pair of live albums...</td>\n",
       "      <td>Niall Horan releases two live albums from his ...</td>\n",
       "    </tr>\n",
       "    <tr>\n",
       "      <th>698</th>\n",
       "      <td>1</td>\n",
       "      <td>92</td>\n",
       "      <td>https://1025thebull.iheart.com/featured/bobby-...</td>\n",
       "      <td>None</td>\n",
       "      <td>Bobby starts by opening the package that suppo...</td>\n",
       "      <td>#nosummary# \\n</td>\n",
       "    </tr>\n",
       "    <tr>\n",
       "      <th>638</th>\n",
       "      <td>2</td>\n",
       "      <td>44</td>\n",
       "      <td>https://www.yasstribune.com.au/story/8738566/t...</td>\n",
       "      <td>None</td>\n",
       "      <td>Your digital subscription includes access to c...</td>\n",
       "      <td>A Tasmanian man was fined $900 for disabling a...</td>\n",
       "    </tr>\n",
       "    <tr>\n",
       "      <th>1145</th>\n",
       "      <td>3</td>\n",
       "      <td>56</td>\n",
       "      <td>https://www.juneesoutherncross.com.au/story/87...</td>\n",
       "      <td>None</td>\n",
       "      <td>Your digital subscription includes access to c...</td>\n",
       "      <td>Genesis Australia offers $3000 discount on all...</td>\n",
       "    </tr>\n",
       "    <tr>\n",
       "      <th>1268</th>\n",
       "      <td>4</td>\n",
       "      <td>269</td>\n",
       "      <td>https://www.amarujala.com/tags/send?text=https...</td>\n",
       "      <td>None</td>\n",
       "      <td>मेरा शहर \\n\\n\\n Link Copied Link Copied Link C...</td>\n",
       "      <td>#nosummary# \\n</td>\n",
       "    </tr>\n",
       "  </tbody>\n",
       "</table>\n",
       "</div>"
      ],
      "text/plain": [
       "      cluster_label  NUMARTS  \\\n",
       "1445              0      107   \n",
       "698               1       92   \n",
       "638               2       44   \n",
       "1145              3       56   \n",
       "1268              4      269   \n",
       "\n",
       "                                             SOURCEURLS  text  \\\n",
       "1445  https://www.max94one.com/news/niall-horan-rele...  None   \n",
       "698   https://1025thebull.iheart.com/featured/bobby-...  None   \n",
       "638   https://www.yasstribune.com.au/story/8738566/t...  None   \n",
       "1145  https://www.juneesoutherncross.com.au/story/87...  None   \n",
       "1268  https://www.amarujala.com/tags/send?text=https...  None   \n",
       "\n",
       "                                         extracted_text  \\\n",
       "1445  Niall Horan is releasing a pair of live albums...   \n",
       "698   Bobby starts by opening the package that suppo...   \n",
       "638   Your digital subscription includes access to c...   \n",
       "1145  Your digital subscription includes access to c...   \n",
       "1268  मेरा शहर \\n\\n\\n Link Copied Link Copied Link C...   \n",
       "\n",
       "                                                summary  \n",
       "1445  Niall Horan releases two live albums from his ...  \n",
       "698                                      #nosummary# \\n  \n",
       "638   A Tasmanian man was fined $900 for disabling a...  \n",
       "1145  Genesis Australia offers $3000 discount on all...  \n",
       "1268                                     #nosummary# \\n  "
      ]
     },
     "execution_count": 102,
     "metadata": {},
     "output_type": "execute_result"
    }
   ],
   "source": [
    "max_urls_per_cluster"
   ]
  },
  {
   "cell_type": "code",
   "execution_count": 104,
   "id": "6408f424-3347-474f-ae7e-ba234291b989",
   "metadata": {
    "collapsed": true,
    "jupyter": {
     "outputs_hidden": true
    },
    "tags": []
   },
   "outputs": [
    {
     "name": "stdout",
     "output_type": "stream",
     "text": [
      "Collecting pandas_gbq\n",
      "  Downloading pandas_gbq-0.23.1-py2.py3-none-any.whl.metadata (3.4 kB)\n",
      "Requirement already satisfied: setuptools in /opt/conda/lib/python3.10/site-packages (from pandas_gbq) (71.0.4)\n",
      "Requirement already satisfied: db-dtypes<2.0.0,>=1.0.4 in /opt/conda/lib/python3.10/site-packages (from pandas_gbq) (1.2.0)\n",
      "Requirement already satisfied: numpy>=1.16.6 in /opt/conda/lib/python3.10/site-packages (from pandas_gbq) (1.24.4)\n",
      "Requirement already satisfied: pandas>=1.1.4 in /opt/conda/lib/python3.10/site-packages (from pandas_gbq) (2.0.3)\n",
      "Requirement already satisfied: pyarrow>=3.0.0 in /opt/conda/lib/python3.10/site-packages (from pandas_gbq) (9.0.0)\n",
      "Requirement already satisfied: pydata-google-auth>=1.5.0 in /opt/conda/lib/python3.10/site-packages (from pandas_gbq) (1.8.2)\n",
      "Collecting google-api-core<3.0.0dev,>=2.10.2 (from pandas_gbq)\n",
      "  Downloading google_api_core-2.19.1-py3-none-any.whl.metadata (2.7 kB)\n",
      "Requirement already satisfied: google-auth>=2.13.0 in /opt/conda/lib/python3.10/site-packages (from pandas_gbq) (2.32.0)\n",
      "Collecting google-auth-oauthlib>=0.7.0 (from pandas_gbq)\n",
      "  Downloading google_auth_oauthlib-1.2.1-py2.py3-none-any.whl.metadata (2.7 kB)\n",
      "Requirement already satisfied: google-cloud-bigquery<4.0.0dev,>=3.3.5 in /opt/conda/lib/python3.10/site-packages (from pandas_gbq) (3.25.0)\n",
      "Requirement already satisfied: packaging>=20.0.0 in /opt/conda/lib/python3.10/site-packages (from pandas_gbq) (24.1)\n",
      "Requirement already satisfied: googleapis-common-protos<2.0.dev0,>=1.56.2 in /opt/conda/lib/python3.10/site-packages (from google-api-core<3.0.0dev,>=2.10.2->pandas_gbq) (1.63.1)\n",
      "Requirement already satisfied: protobuf!=3.20.0,!=3.20.1,!=4.21.0,!=4.21.1,!=4.21.2,!=4.21.3,!=4.21.4,!=4.21.5,<6.0.0.dev0,>=3.19.5 in /opt/conda/lib/python3.10/site-packages (from google-api-core<3.0.0dev,>=2.10.2->pandas_gbq) (3.19.6)\n",
      "Requirement already satisfied: proto-plus<2.0.0dev,>=1.22.3 in /opt/conda/lib/python3.10/site-packages (from google-api-core<3.0.0dev,>=2.10.2->pandas_gbq) (1.24.0)\n",
      "Requirement already satisfied: requests<3.0.0.dev0,>=2.18.0 in /opt/conda/lib/python3.10/site-packages (from google-api-core<3.0.0dev,>=2.10.2->pandas_gbq) (2.32.3)\n",
      "Requirement already satisfied: cachetools<6.0,>=2.0.0 in /opt/conda/lib/python3.10/site-packages (from google-auth>=2.13.0->pandas_gbq) (4.2.4)\n",
      "Requirement already satisfied: pyasn1-modules>=0.2.1 in /opt/conda/lib/python3.10/site-packages (from google-auth>=2.13.0->pandas_gbq) (0.4.0)\n",
      "Requirement already satisfied: rsa<5,>=3.1.4 in /opt/conda/lib/python3.10/site-packages (from google-auth>=2.13.0->pandas_gbq) (4.9)\n",
      "Requirement already satisfied: requests-oauthlib>=0.7.0 in /opt/conda/lib/python3.10/site-packages (from google-auth-oauthlib>=0.7.0->pandas_gbq) (2.0.0)\n",
      "Requirement already satisfied: google-cloud-core<3.0.0dev,>=1.6.0 in /opt/conda/lib/python3.10/site-packages (from google-cloud-bigquery<4.0.0dev,>=3.3.5->pandas_gbq) (2.4.1)\n",
      "Requirement already satisfied: google-resumable-media<3.0dev,>=0.6.0 in /opt/conda/lib/python3.10/site-packages (from google-cloud-bigquery<4.0.0dev,>=3.3.5->pandas_gbq) (2.7.1)\n",
      "Requirement already satisfied: python-dateutil<3.0dev,>=2.7.2 in /opt/conda/lib/python3.10/site-packages (from google-cloud-bigquery<4.0.0dev,>=3.3.5->pandas_gbq) (2.9.0)\n",
      "Requirement already satisfied: pytz>=2020.1 in /opt/conda/lib/python3.10/site-packages (from pandas>=1.1.4->pandas_gbq) (2024.1)\n",
      "Requirement already satisfied: tzdata>=2022.1 in /opt/conda/lib/python3.10/site-packages (from pandas>=1.1.4->pandas_gbq) (2024.1)\n",
      "Requirement already satisfied: grpcio<2.0dev,>=1.33.2 in /opt/conda/lib/python3.10/site-packages (from google-api-core[grpc]!=2.0.*,!=2.1.*,!=2.10.*,!=2.2.*,!=2.3.*,!=2.4.*,!=2.5.*,!=2.6.*,!=2.7.*,!=2.8.*,!=2.9.*,<3.0.0dev,>=1.34.1->google-cloud-bigquery<4.0.0dev,>=3.3.5->pandas_gbq) (1.48.0)\n",
      "Requirement already satisfied: grpcio-status<2.0.dev0,>=1.33.2 in /opt/conda/lib/python3.10/site-packages (from google-api-core[grpc]!=2.0.*,!=2.1.*,!=2.10.*,!=2.2.*,!=2.3.*,!=2.4.*,!=2.5.*,!=2.6.*,!=2.7.*,!=2.8.*,!=2.9.*,<3.0.0dev,>=1.34.1->google-cloud-bigquery<4.0.0dev,>=3.3.5->pandas_gbq) (1.48.0)\n",
      "Requirement already satisfied: google-crc32c<2.0dev,>=1.0 in /opt/conda/lib/python3.10/site-packages (from google-resumable-media<3.0dev,>=0.6.0->google-cloud-bigquery<4.0.0dev,>=3.3.5->pandas_gbq) (1.5.0)\n",
      "Requirement already satisfied: pyasn1<0.7.0,>=0.4.6 in /opt/conda/lib/python3.10/site-packages (from pyasn1-modules>=0.2.1->google-auth>=2.13.0->pandas_gbq) (0.6.0)\n",
      "Requirement already satisfied: six>=1.5 in /opt/conda/lib/python3.10/site-packages (from python-dateutil<3.0dev,>=2.7.2->google-cloud-bigquery<4.0.0dev,>=3.3.5->pandas_gbq) (1.16.0)\n",
      "Requirement already satisfied: charset-normalizer<4,>=2 in /opt/conda/lib/python3.10/site-packages (from requests<3.0.0.dev0,>=2.18.0->google-api-core<3.0.0dev,>=2.10.2->pandas_gbq) (3.3.2)\n",
      "Requirement already satisfied: idna<4,>=2.5 in /opt/conda/lib/python3.10/site-packages (from requests<3.0.0.dev0,>=2.18.0->google-api-core<3.0.0dev,>=2.10.2->pandas_gbq) (3.7)\n",
      "Requirement already satisfied: urllib3<3,>=1.21.1 in /opt/conda/lib/python3.10/site-packages (from requests<3.0.0.dev0,>=2.18.0->google-api-core<3.0.0dev,>=2.10.2->pandas_gbq) (1.26.19)\n",
      "Requirement already satisfied: certifi>=2017.4.17 in /opt/conda/lib/python3.10/site-packages (from requests<3.0.0.dev0,>=2.18.0->google-api-core<3.0.0dev,>=2.10.2->pandas_gbq) (2024.7.4)\n",
      "Requirement already satisfied: oauthlib>=3.0.0 in /opt/conda/lib/python3.10/site-packages (from requests-oauthlib>=0.7.0->google-auth-oauthlib>=0.7.0->pandas_gbq) (3.2.2)\n",
      "Downloading pandas_gbq-0.23.1-py2.py3-none-any.whl (28 kB)\n",
      "Downloading google_api_core-2.19.1-py3-none-any.whl (139 kB)\n",
      "\u001b[2K   \u001b[90m━━━━━━━━━━━━━━━━━━━━━━━━━━━━━━━━━━━━━━━━\u001b[0m \u001b[32m139.4/139.4 kB\u001b[0m \u001b[31m2.6 MB/s\u001b[0m eta \u001b[36m0:00:00\u001b[0m \u001b[36m0:00:01\u001b[0m\n",
      "\u001b[?25hDownloading google_auth_oauthlib-1.2.1-py2.py3-none-any.whl (24 kB)\n",
      "Installing collected packages: google-auth-oauthlib, google-api-core, pandas_gbq\n",
      "  Attempting uninstall: google-auth-oauthlib\n",
      "    Found existing installation: google-auth-oauthlib 0.4.6\n",
      "    Uninstalling google-auth-oauthlib-0.4.6:\n",
      "      Successfully uninstalled google-auth-oauthlib-0.4.6\n",
      "  Attempting uninstall: google-api-core\n",
      "    Found existing installation: google-api-core 1.34.1\n",
      "    Uninstalling google-api-core-1.34.1:\n",
      "      Successfully uninstalled google-api-core-1.34.1\n",
      "\u001b[31mERROR: pip's dependency resolver does not currently take into account all the packages that are installed. This behaviour is the source of the following dependency conflicts.\n",
      "google-api-python-client 1.8.0 requires google-api-core<2dev,>=1.13.0, but you have google-api-core 2.19.1 which is incompatible.\n",
      "google-cloud-pubsub 2.21.4 requires grpcio<2.0dev,>=1.51.3, but you have grpcio 1.48.0 which is incompatible.\n",
      "tensorboard 2.11.2 requires google-auth-oauthlib<0.5,>=0.4.1, but you have google-auth-oauthlib 1.2.1 which is incompatible.\u001b[0m\u001b[31m\n",
      "\u001b[0mSuccessfully installed google-api-core-2.11.1 google-auth-oauthlib-1.2.1 pandas_gbq-0.23.1\n"
     ]
    }
   ],
   "source": [
    "!pip install pandas_gbq"
   ]
  },
  {
   "cell_type": "code",
   "execution_count": 106,
   "id": "6dc5bbc3-a81c-443a-823c-09649ebc69a6",
   "metadata": {
    "tags": []
   },
   "outputs": [
    {
     "name": "stderr",
     "output_type": "stream",
     "text": [
      "100%|██████████| 1/1 [00:00<00:00, 11184.81it/s]"
     ]
    },
    {
     "name": "stdout",
     "output_type": "stream",
     "text": [
      "Data uploaded successfully to GDELT.relevant_news\n",
      "Data uploaded successfully to GDELT.relevant_news\n"
     ]
    },
    {
     "name": "stderr",
     "output_type": "stream",
     "text": [
      "\n"
     ]
    }
   ],
   "source": [
    "from pandas_gbq import to_gbq\n",
    "\n",
    "# Replace with your project ID and dataset/table name\n",
    "project_id = 'factoreddatathon2014'\n",
    "dataset_id = 'GDELT'\n",
    "table_id = 'relevant_news'\n",
    "\n",
    "# Define the destination table in BigQuery\n",
    "table_destination = f'{dataset_id}.{table_id}'\n",
    "\n",
    "# Load the DataFrame to BigQuery, replacing the table if it exists\n",
    "to_gbq(\n",
    "    max_urls_per_cluster,\n",
    "    destination_table=table_destination,\n",
    "    project_id=project_id,\n",
    "    if_exists='replace'  # Replace the table if it exists\n",
    ")\n",
    "\n",
    "print(f\"Data uploaded successfully to {table_destination}\")"
   ]
  },
  {
   "cell_type": "markdown",
   "id": "3db42094-e004-42c3-b75a-6526d49cc438",
   "metadata": {},
   "source": [
    "### closest sample to the centroid as relevance metric"
   ]
  },
  {
   "cell_type": "code",
   "execution_count": 110,
   "id": "39fc739b-a8a1-4ed9-a82a-f1f62340383f",
   "metadata": {
    "tags": []
   },
   "outputs": [],
   "source": [
    "closest_samples_per_cluster = []\n",
    "\n",
    "for cluster_label in range(optimal_k):\n",
    "    cluster_points_idx = np.where(kmeans.labels_ == cluster_label)[0]\n",
    "    cluster_points = X_Norm[cluster_points_idx]\n",
    "    centroid = kmeans.cluster_centers_[cluster_label]\n",
    "    distances = np.linalg.norm(cluster_points - centroid, axis=1)\n",
    "    closest_idx = cluster_points_idx[np.argmin(distances)]\n",
    "    closest_samples_per_cluster.append(filtered_df.iloc[closest_idx])\n",
    "\n",
    "closest_samples_df = pd.DataFrame(closest_samples_per_cluster)\n"
   ]
  },
  {
   "cell_type": "code",
   "execution_count": 114,
   "id": "fa9de56a-e360-4615-abdf-28c7860215ce",
   "metadata": {
    "tags": []
   },
   "outputs": [
    {
     "data": {
      "text/html": [
       "<div>\n",
       "<style scoped>\n",
       "    .dataframe tbody tr th:only-of-type {\n",
       "        vertical-align: middle;\n",
       "    }\n",
       "\n",
       "    .dataframe tbody tr th {\n",
       "        vertical-align: top;\n",
       "    }\n",
       "\n",
       "    .dataframe thead th {\n",
       "        text-align: right;\n",
       "    }\n",
       "</style>\n",
       "<table border=\"1\" class=\"dataframe\">\n",
       "  <thead>\n",
       "    <tr style=\"text-align: right;\">\n",
       "      <th></th>\n",
       "      <th>DATE</th>\n",
       "      <th>NUMARTS</th>\n",
       "      <th>COUNTS</th>\n",
       "      <th>THEMES</th>\n",
       "      <th>LOCATIONS</th>\n",
       "      <th>PERSONS</th>\n",
       "      <th>ORGANIZATIONS</th>\n",
       "      <th>TONE</th>\n",
       "      <th>CAMEOEVENTIDS</th>\n",
       "      <th>SOURCES</th>\n",
       "      <th>SOURCEURLS</th>\n",
       "      <th>cluster_label</th>\n",
       "    </tr>\n",
       "  </thead>\n",
       "  <tbody>\n",
       "    <tr>\n",
       "      <th>880</th>\n",
       "      <td>20240822</td>\n",
       "      <td>3</td>\n",
       "      <td>NaN</td>\n",
       "      <td>TAX_DISEASE;TAX_DISEASE_INFECTIOUS;TAX_ETHNICI...</td>\n",
       "      <td>1#United States#US#US#39.828175#-98.5795#US</td>\n",
       "      <td>NaN</td>\n",
       "      <td>nashville social club</td>\n",
       "      <td>8.7719298245614,10.5263157894737,1.75438596491...</td>\n",
       "      <td>NaN</td>\n",
       "      <td>carsonnow.org;carsonnow.org;carsonnow.org</td>\n",
       "      <td>https://www.carsonnow.org/?page=6&amp;search_theme...</td>\n",
       "      <td>0</td>\n",
       "    </tr>\n",
       "    <tr>\n",
       "      <th>29</th>\n",
       "      <td>20240822</td>\n",
       "      <td>3</td>\n",
       "      <td>NaN</td>\n",
       "      <td>TAX_FNCACT;TAX_FNCACT_ORGANIZERS;LEADER;TAX_FN...</td>\n",
       "      <td>2#Georgia, United States#US#USGA#32.9866#-83.6...</td>\n",
       "      <td>john legend;oprah winfrey;lil jon;tony goldwyn...</td>\n",
       "      <td>NaN</td>\n",
       "      <td>2.94117647058824,3.67647058823529,0.7352941176...</td>\n",
       "      <td>1193964053,1193966592,1193987858,1193964053,11...</td>\n",
       "      <td>iheart.com;iheart.com;iheart.com</td>\n",
       "      <td>https://961kissonline.iheart.com/content/2024-...</td>\n",
       "      <td>1</td>\n",
       "    </tr>\n",
       "    <tr>\n",
       "      <th>127</th>\n",
       "      <td>20240822</td>\n",
       "      <td>3</td>\n",
       "      <td>NaN</td>\n",
       "      <td>TAX_FNCACT;TAX_FNCACT_SHERIFF;CRISISLEX_C07_SA...</td>\n",
       "      <td>2#South Carolina, United States#US#USSC#33.819...</td>\n",
       "      <td>dewayne rankin</td>\n",
       "      <td>carolina state law enforcement division</td>\n",
       "      <td>-8.97832817337461,0.619195046439629,9.59752321...</td>\n",
       "      <td>1193963735,1193963739,1193963742,1193963765,11...</td>\n",
       "      <td>yahoo.com;yahoo.com;yahoo.com</td>\n",
       "      <td>https://www.yahoo.com/news/sc-deputy-charged-m...</td>\n",
       "      <td>2</td>\n",
       "    </tr>\n",
       "    <tr>\n",
       "      <th>511</th>\n",
       "      <td>20240822</td>\n",
       "      <td>7</td>\n",
       "      <td>NaN</td>\n",
       "      <td>TAX_DISEASE;TAX_DISEASE_GAMBLING;</td>\n",
       "      <td>1#Australia#AS#AS#-25#135#AS</td>\n",
       "      <td>NaN</td>\n",
       "      <td>casino control commission;australian associated</td>\n",
       "      <td>-6.51162790697675,1.86046511627907,8.372093023...</td>\n",
       "      <td>1194161162,1194161163,1193982496,1194161187,11...</td>\n",
       "      <td>examiner.com.au;dailyliberal.com.au;centralwes...</td>\n",
       "      <td>https://www.examiner.com.au/story/8739720/tabc...</td>\n",
       "      <td>3</td>\n",
       "    </tr>\n",
       "    <tr>\n",
       "      <th>122</th>\n",
       "      <td>20240822</td>\n",
       "      <td>4</td>\n",
       "      <td>NaN</td>\n",
       "      <td>POVERTY;TAX_FNCACT;TAX_FNCACT_ARTISTS;TAX_FNCA...</td>\n",
       "      <td>4#Lambeth, Lambeth, United Kingdom#UK#UKH1#51....</td>\n",
       "      <td>simone brewster;marc quinn;dave tovey;wales ma...</td>\n",
       "      <td>eleven eleven foundation</td>\n",
       "      <td>1.93370165745856,5.80110497237569,3.8674033149...</td>\n",
       "      <td>1194157715,1194157716,1194157798,1194158193,11...</td>\n",
       "      <td>southwalesargus.co.uk;bridportnews.co.uk;thewe...</td>\n",
       "      <td>https://www.southwalesargus.co.uk/news/nationa...</td>\n",
       "      <td>4</td>\n",
       "    </tr>\n",
       "  </tbody>\n",
       "</table>\n",
       "</div>"
      ],
      "text/plain": [
       "         DATE  NUMARTS  COUNTS  \\\n",
       "880  20240822        3     NaN   \n",
       "29   20240822        3     NaN   \n",
       "127  20240822        3     NaN   \n",
       "511  20240822        7     NaN   \n",
       "122  20240822        4     NaN   \n",
       "\n",
       "                                                THEMES  \\\n",
       "880  TAX_DISEASE;TAX_DISEASE_INFECTIOUS;TAX_ETHNICI...   \n",
       "29   TAX_FNCACT;TAX_FNCACT_ORGANIZERS;LEADER;TAX_FN...   \n",
       "127  TAX_FNCACT;TAX_FNCACT_SHERIFF;CRISISLEX_C07_SA...   \n",
       "511                  TAX_DISEASE;TAX_DISEASE_GAMBLING;   \n",
       "122  POVERTY;TAX_FNCACT;TAX_FNCACT_ARTISTS;TAX_FNCA...   \n",
       "\n",
       "                                             LOCATIONS  \\\n",
       "880        1#United States#US#US#39.828175#-98.5795#US   \n",
       "29   2#Georgia, United States#US#USGA#32.9866#-83.6...   \n",
       "127  2#South Carolina, United States#US#USSC#33.819...   \n",
       "511                       1#Australia#AS#AS#-25#135#AS   \n",
       "122  4#Lambeth, Lambeth, United Kingdom#UK#UKH1#51....   \n",
       "\n",
       "                                               PERSONS  \\\n",
       "880                                                NaN   \n",
       "29   john legend;oprah winfrey;lil jon;tony goldwyn...   \n",
       "127                                     dewayne rankin   \n",
       "511                                                NaN   \n",
       "122  simone brewster;marc quinn;dave tovey;wales ma...   \n",
       "\n",
       "                                       ORGANIZATIONS  \\\n",
       "880                            nashville social club   \n",
       "29                                               NaN   \n",
       "127          carolina state law enforcement division   \n",
       "511  casino control commission;australian associated   \n",
       "122                         eleven eleven foundation   \n",
       "\n",
       "                                                  TONE  \\\n",
       "880  8.7719298245614,10.5263157894737,1.75438596491...   \n",
       "29   2.94117647058824,3.67647058823529,0.7352941176...   \n",
       "127  -8.97832817337461,0.619195046439629,9.59752321...   \n",
       "511  -6.51162790697675,1.86046511627907,8.372093023...   \n",
       "122  1.93370165745856,5.80110497237569,3.8674033149...   \n",
       "\n",
       "                                         CAMEOEVENTIDS  \\\n",
       "880                                                NaN   \n",
       "29   1193964053,1193966592,1193987858,1193964053,11...   \n",
       "127  1193963735,1193963739,1193963742,1193963765,11...   \n",
       "511  1194161162,1194161163,1193982496,1194161187,11...   \n",
       "122  1194157715,1194157716,1194157798,1194158193,11...   \n",
       "\n",
       "                                               SOURCES  \\\n",
       "880          carsonnow.org;carsonnow.org;carsonnow.org   \n",
       "29                    iheart.com;iheart.com;iheart.com   \n",
       "127                      yahoo.com;yahoo.com;yahoo.com   \n",
       "511  examiner.com.au;dailyliberal.com.au;centralwes...   \n",
       "122  southwalesargus.co.uk;bridportnews.co.uk;thewe...   \n",
       "\n",
       "                                            SOURCEURLS  cluster_label  \n",
       "880  https://www.carsonnow.org/?page=6&search_theme...              0  \n",
       "29   https://961kissonline.iheart.com/content/2024-...              1  \n",
       "127  https://www.yahoo.com/news/sc-deputy-charged-m...              2  \n",
       "511  https://www.examiner.com.au/story/8739720/tabc...              3  \n",
       "122  https://www.southwalesargus.co.uk/news/nationa...              4  "
      ]
     },
     "execution_count": 114,
     "metadata": {},
     "output_type": "execute_result"
    }
   ],
   "source": [
    "closest_samples_df "
   ]
  },
  {
   "cell_type": "code",
   "execution_count": 115,
   "id": "b41cf986-6c10-4f83-b0ea-c102494f3db7",
   "metadata": {
    "tags": []
   },
   "outputs": [],
   "source": [
    "closest_to_cluster = closest_samples_df [['cluster_label', 'SOURCEURLS']]"
   ]
  },
  {
   "cell_type": "code",
   "execution_count": 119,
   "id": "644ff0f4-d2ee-4684-b5c9-7b25da7e7a16",
   "metadata": {
    "tags": []
   },
   "outputs": [],
   "source": [
    "closest_to_cluster.loc[:, 'extracted_text'] = closest_to_cluster['SOURCEURLS'].apply(\n",
    "    lambda urls: get_text_from_url(urls.split('<UDIV>')[0].strip())\n",
    ")"
   ]
  },
  {
   "cell_type": "code",
   "execution_count": 120,
   "id": "0bbb5138-8025-4405-bfb6-a067f6f7a4e9",
   "metadata": {
    "tags": []
   },
   "outputs": [
    {
     "data": {
      "text/plain": [
       "'Photo: Getty Images Stevie Wonder, John Legend and Sheila E. stole the show on the third night of the Democratic National Convention. On Wednesday night, August 21, more stars hit the stage at the United Center in Chicago to support the Democratic presidential nominees Vice President Kamala Harris and Minnesota Gov. Tim Walz. Stevie Wonder kicked things off by delivering a powerful speech to the attendees in the jam-packed arena before he performed \"Higher Ground.\" \"We must choose joy over anger, kindness over recrimination, and peace over war every time,\" he said. \"We must choose to be above the ugly words, the hateful anger and the division those words and anger create.\"   \"We must keep on keeping on until we truly are a united people of these United States,\" he concluded. \"And then, we\\'ll reach our higher ground.\" Later on, Grammy award-winning singer John Legend and the queen of percussion Sheila E. joined forces to perform one of Prince\\'s greatest hits \"Let\\'s Go Crazy.\" John started his set at the piano, but midway through, the spirit of the late Minnesota native took over as he belted out the rest of the song by Sheila E.\\'s side.  The rare performances from Stevie Wonder, John Legend and Sheila E. emphasize the star power that has taken over the DNC. In addition to celebrity guest speakers like Oprah Winfrey and Tony Goldwyn, event organizers switched things up by incorporating music into their roll call to solidify the votes for the Harris/Walz campaign. The roll call was curated by DJ Cassidy, who played songs that represented each state. During Georgia\\'s vote, Lil Jon surprised attendees by performing songs like \"Turn Down For What\" and \"Get Low.\" Vice President Kamala Harris is expected to accept her nomination tonight during the final hours of the convention. There are plenty of rumors about what other celebrities will be in the building to support Harris, but fans are convinced it might be Taylor Swift or Beyoncé. '"
      ]
     },
     "execution_count": 120,
     "metadata": {},
     "output_type": "execute_result"
    }
   ],
   "source": [
    "closest_to_cluster[\"extracted_text\"].to_numpy()[1]"
   ]
  },
  {
   "cell_type": "code",
   "execution_count": 121,
   "id": "96e90561-f0bb-4146-a3a9-2ac3bae4af9a",
   "metadata": {
    "tags": []
   },
   "outputs": [
    {
     "name": "stdout",
     "output_type": "stream",
     "text": [
      "Stevie Wonder, John Legend, and Sheila E. performed at the DNC. \n",
      "The Democratic National Convention featured musical performances and celebrity appearances. \n",
      "Kamala Harris is expected to accept her nomination tonight. \n",
      "\n"
     ]
    }
   ],
   "source": [
    "print(gemini(closest_to_cluster[\"extracted_text\"].to_numpy()[1]))"
   ]
  },
  {
   "cell_type": "code",
   "execution_count": 122,
   "id": "707b6ced-8236-42f2-ad47-5c497a100214",
   "metadata": {
    "tags": []
   },
   "outputs": [],
   "source": [
    "closest_to_cluster = closest_to_cluster.copy()\n",
    "\n",
    "closest_to_cluster['summary'] = closest_to_cluster['extracted_text'].apply(gemini)"
   ]
  },
  {
   "cell_type": "markdown",
   "id": "9eecb57c-b98d-41b3-b748-83dd42dfdf2a",
   "metadata": {
    "tags": []
   },
   "source": [
    "### samples chosen are a lot more meaningful"
   ]
  },
  {
   "cell_type": "code",
   "execution_count": 123,
   "id": "c8e84886-5300-4bef-94cd-ccbe689319c0",
   "metadata": {
    "tags": []
   },
   "outputs": [
    {
     "data": {
      "text/html": [
       "<div>\n",
       "<style scoped>\n",
       "    .dataframe tbody tr th:only-of-type {\n",
       "        vertical-align: middle;\n",
       "    }\n",
       "\n",
       "    .dataframe tbody tr th {\n",
       "        vertical-align: top;\n",
       "    }\n",
       "\n",
       "    .dataframe thead th {\n",
       "        text-align: right;\n",
       "    }\n",
       "</style>\n",
       "<table border=\"1\" class=\"dataframe\">\n",
       "  <thead>\n",
       "    <tr style=\"text-align: right;\">\n",
       "      <th></th>\n",
       "      <th>cluster_label</th>\n",
       "      <th>SOURCEURLS</th>\n",
       "      <th>extracted_text</th>\n",
       "      <th>summary</th>\n",
       "    </tr>\n",
       "  </thead>\n",
       "  <tbody>\n",
       "    <tr>\n",
       "      <th>880</th>\n",
       "      <td>0</td>\n",
       "      <td>https://www.carsonnow.org/?page=6&amp;search_theme...</td>\n",
       "      <td>... or see all stories Melanie Bruketta was sw...</td>\n",
       "      <td>Melanie Bruketta sworn in as Justice of the Pe...</td>\n",
       "    </tr>\n",
       "    <tr>\n",
       "      <th>29</th>\n",
       "      <td>1</td>\n",
       "      <td>https://961kissonline.iheart.com/content/2024-...</td>\n",
       "      <td>Photo: Getty Images Stevie Wonder, John Legend...</td>\n",
       "      <td>Stevie Wonder, John Legend, and Sheila E. perf...</td>\n",
       "    </tr>\n",
       "    <tr>\n",
       "      <th>127</th>\n",
       "      <td>2</td>\n",
       "      <td>https://www.yahoo.com/news/sc-deputy-charged-m...</td>\n",
       "      <td>A former Florence County Sheriff’s deputy accu...</td>\n",
       "      <td>Former Florence County deputy Treyvon Sellers ...</td>\n",
       "    </tr>\n",
       "    <tr>\n",
       "      <th>511</th>\n",
       "      <td>3</td>\n",
       "      <td>https://www.examiner.com.au/story/8739720/tabc...</td>\n",
       "      <td>Australia's largest betting agency has been fi...</td>\n",
       "      <td>Tabcorp, Australia's largest betting agency, w...</td>\n",
       "    </tr>\n",
       "    <tr>\n",
       "      <th>122</th>\n",
       "      <td>4</td>\n",
       "      <td>https://www.southwalesargus.co.uk/news/nationa...</td>\n",
       "      <td>The Prince of Wales is to visit an exhibition ...</td>\n",
       "      <td>Prince William will visit the \"Homelessness: R...</td>\n",
       "    </tr>\n",
       "  </tbody>\n",
       "</table>\n",
       "</div>"
      ],
      "text/plain": [
       "     cluster_label                                         SOURCEURLS  \\\n",
       "880              0  https://www.carsonnow.org/?page=6&search_theme...   \n",
       "29               1  https://961kissonline.iheart.com/content/2024-...   \n",
       "127              2  https://www.yahoo.com/news/sc-deputy-charged-m...   \n",
       "511              3  https://www.examiner.com.au/story/8739720/tabc...   \n",
       "122              4  https://www.southwalesargus.co.uk/news/nationa...   \n",
       "\n",
       "                                        extracted_text  \\\n",
       "880  ... or see all stories Melanie Bruketta was sw...   \n",
       "29   Photo: Getty Images Stevie Wonder, John Legend...   \n",
       "127  A former Florence County Sheriff’s deputy accu...   \n",
       "511  Australia's largest betting agency has been fi...   \n",
       "122  The Prince of Wales is to visit an exhibition ...   \n",
       "\n",
       "                                               summary  \n",
       "880  Melanie Bruketta sworn in as Justice of the Pe...  \n",
       "29   Stevie Wonder, John Legend, and Sheila E. perf...  \n",
       "127  Former Florence County deputy Treyvon Sellers ...  \n",
       "511  Tabcorp, Australia's largest betting agency, w...  \n",
       "122  Prince William will visit the \"Homelessness: R...  "
      ]
     },
     "execution_count": 123,
     "metadata": {},
     "output_type": "execute_result"
    }
   ],
   "source": [
    "closest_to_cluster"
   ]
  },
  {
   "cell_type": "code",
   "execution_count": 154,
   "id": "23b3c89e-47df-49a6-b71f-4a9f1bab7ba6",
   "metadata": {
    "tags": []
   },
   "outputs": [],
   "source": [
    "closest_samples_per_cluster = []\n",
    "\n",
    "for cluster_label in range(optimal_k):\n",
    "    cluster_points_idx = np.where(kmeans.labels_ == cluster_label)[0]\n",
    "    cluster_points = X_Norm[cluster_points_idx]\n",
    "    centroid = kmeans.cluster_centers_[cluster_label]\n",
    "    distances = np.linalg.norm(cluster_points - centroid, axis=1)\n",
    "    closest_10_idx = cluster_points_idx[np.argsort(distances)[:10]]\n",
    "    closest_samples_per_cluster.append(filtered_df.iloc[closest_10_idx])"
   ]
  },
  {
   "cell_type": "code",
   "execution_count": 155,
   "id": "340c9f8a-c7b5-4436-92b8-970738843bd3",
   "metadata": {
    "tags": []
   },
   "outputs": [],
   "source": [
    "closest_samples_df = pd.concat(closest_samples_per_cluster).reset_index(drop=True)"
   ]
  },
  {
   "cell_type": "code",
   "execution_count": 156,
   "id": "0f7341ee-faaf-4c36-a7bc-b2ebee45207d",
   "metadata": {
    "tags": []
   },
   "outputs": [
    {
     "data": {
      "text/plain": [
       "(50, 12)"
      ]
     },
     "execution_count": 156,
     "metadata": {},
     "output_type": "execute_result"
    }
   ],
   "source": [
    "closest_samples_df.shape"
   ]
  },
  {
   "cell_type": "code",
   "execution_count": 157,
   "id": "6f1cd19b-332f-4592-ae35-aef9fe819cef",
   "metadata": {
    "tags": []
   },
   "outputs": [
    {
     "data": {
      "text/html": [
       "<div>\n",
       "<style scoped>\n",
       "    .dataframe tbody tr th:only-of-type {\n",
       "        vertical-align: middle;\n",
       "    }\n",
       "\n",
       "    .dataframe tbody tr th {\n",
       "        vertical-align: top;\n",
       "    }\n",
       "\n",
       "    .dataframe thead th {\n",
       "        text-align: right;\n",
       "    }\n",
       "</style>\n",
       "<table border=\"1\" class=\"dataframe\">\n",
       "  <thead>\n",
       "    <tr style=\"text-align: right;\">\n",
       "      <th></th>\n",
       "      <th>DATE</th>\n",
       "      <th>NUMARTS</th>\n",
       "      <th>COUNTS</th>\n",
       "      <th>THEMES</th>\n",
       "      <th>LOCATIONS</th>\n",
       "      <th>PERSONS</th>\n",
       "      <th>ORGANIZATIONS</th>\n",
       "      <th>TONE</th>\n",
       "      <th>CAMEOEVENTIDS</th>\n",
       "      <th>SOURCES</th>\n",
       "      <th>SOURCEURLS</th>\n",
       "      <th>cluster_label</th>\n",
       "    </tr>\n",
       "  </thead>\n",
       "  <tbody>\n",
       "    <tr>\n",
       "      <th>0</th>\n",
       "      <td>20240822</td>\n",
       "      <td>3</td>\n",
       "      <td>NaN</td>\n",
       "      <td>TAX_DISEASE;TAX_DISEASE_INFECTIOUS;TAX_ETHNICI...</td>\n",
       "      <td>1#United States#US#US#39.828175#-98.5795#US</td>\n",
       "      <td>NaN</td>\n",
       "      <td>nashville social club</td>\n",
       "      <td>8.7719298245614,10.5263157894737,1.75438596491...</td>\n",
       "      <td>NaN</td>\n",
       "      <td>carsonnow.org;carsonnow.org;carsonnow.org</td>\n",
       "      <td>https://www.carsonnow.org/?page=6&amp;search_theme...</td>\n",
       "      <td>0</td>\n",
       "    </tr>\n",
       "    <tr>\n",
       "      <th>1</th>\n",
       "      <td>20240822</td>\n",
       "      <td>4</td>\n",
       "      <td>NaN</td>\n",
       "      <td>WB_2670_JOBS;WB_696_PUBLIC_SECTOR_MANAGEMENT;W...</td>\n",
       "      <td>3#Foxborough, Massachusetts, United States#US#...</td>\n",
       "      <td>bobby lowe;kenny chesney</td>\n",
       "      <td>NaN</td>\n",
       "      <td>3.28947368421053,3.28947368421053,0,3.28947368...</td>\n",
       "      <td>1194143836,1194143836,1194143836,1194143836</td>\n",
       "      <td>kwiq.com;mymoinfo.com;k923orlando.com;k99onlin...</td>\n",
       "      <td>https://www.kwiq.com/syndicated-article/?id=15...</td>\n",
       "      <td>0</td>\n",
       "    </tr>\n",
       "    <tr>\n",
       "      <th>2</th>\n",
       "      <td>20240822</td>\n",
       "      <td>18</td>\n",
       "      <td>NaN</td>\n",
       "      <td>TAX_FNCACT;TAX_FNCACT_SINGER;CRISISLEX_CRISISL...</td>\n",
       "      <td>1#United States#US#US#39.828175#-98.5795#US</td>\n",
       "      <td>krystal keith;toby keith</td>\n",
       "      <td>NaN</td>\n",
       "      <td>2.7027027027027,3.5472972972973,0.844594594594...</td>\n",
       "      <td>NaN</td>\n",
       "      <td>981thehawk.com;mykisscountry937.com;kfilradio....</td>\n",
       "      <td>https://981thehawk.com/ixp/204/p/toby-keith-ki...</td>\n",
       "      <td>0</td>\n",
       "    </tr>\n",
       "    <tr>\n",
       "      <th>3</th>\n",
       "      <td>20240822</td>\n",
       "      <td>20</td>\n",
       "      <td>NaN</td>\n",
       "      <td>TAX_FNCACT;TAX_FNCACT_SINGER;CRISISLEX_CRISISL...</td>\n",
       "      <td>1#United States#US#US#39.828175#-98.5795#US</td>\n",
       "      <td>toby keith;krystal keith</td>\n",
       "      <td>NaN</td>\n",
       "      <td>2.7027027027027,3.5472972972973,0.844594594594...</td>\n",
       "      <td>NaN</td>\n",
       "      <td>q985online.com;mycountry955.com;kyssfm.com;wbk...</td>\n",
       "      <td>https://q985online.com/ixp/204/p/toby-keith-ki...</td>\n",
       "      <td>0</td>\n",
       "    </tr>\n",
       "    <tr>\n",
       "      <th>4</th>\n",
       "      <td>20240822</td>\n",
       "      <td>3</td>\n",
       "      <td>NaN</td>\n",
       "      <td>TAX_FNCACT;TAX_FNCACT_VICTIMS;CRISISLEX_CRISIS...</td>\n",
       "      <td>2#Nevada, United States#US#USNV#38.4199#-117.1...</td>\n",
       "      <td>NaN</td>\n",
       "      <td>maui strong fund;nashville social club in cars...</td>\n",
       "      <td>3.57142857142857,4.76190476190476,1.1904761904...</td>\n",
       "      <td>NaN</td>\n",
       "      <td>carsonnow.org;carsonnow.org;carsonnow.org</td>\n",
       "      <td>https://www.carsonnow.org/?page=112&amp;search_the...</td>\n",
       "      <td>0</td>\n",
       "    </tr>\n",
       "  </tbody>\n",
       "</table>\n",
       "</div>"
      ],
      "text/plain": [
       "       DATE  NUMARTS COUNTS  \\\n",
       "0  20240822        3    NaN   \n",
       "1  20240822        4    NaN   \n",
       "2  20240822       18    NaN   \n",
       "3  20240822       20    NaN   \n",
       "4  20240822        3    NaN   \n",
       "\n",
       "                                              THEMES  \\\n",
       "0  TAX_DISEASE;TAX_DISEASE_INFECTIOUS;TAX_ETHNICI...   \n",
       "1  WB_2670_JOBS;WB_696_PUBLIC_SECTOR_MANAGEMENT;W...   \n",
       "2  TAX_FNCACT;TAX_FNCACT_SINGER;CRISISLEX_CRISISL...   \n",
       "3  TAX_FNCACT;TAX_FNCACT_SINGER;CRISISLEX_CRISISL...   \n",
       "4  TAX_FNCACT;TAX_FNCACT_VICTIMS;CRISISLEX_CRISIS...   \n",
       "\n",
       "                                           LOCATIONS  \\\n",
       "0        1#United States#US#US#39.828175#-98.5795#US   \n",
       "1  3#Foxborough, Massachusetts, United States#US#...   \n",
       "2        1#United States#US#US#39.828175#-98.5795#US   \n",
       "3        1#United States#US#US#39.828175#-98.5795#US   \n",
       "4  2#Nevada, United States#US#USNV#38.4199#-117.1...   \n",
       "\n",
       "                    PERSONS  \\\n",
       "0                       NaN   \n",
       "1  bobby lowe;kenny chesney   \n",
       "2  krystal keith;toby keith   \n",
       "3  toby keith;krystal keith   \n",
       "4                       NaN   \n",
       "\n",
       "                                       ORGANIZATIONS  \\\n",
       "0                              nashville social club   \n",
       "1                                                NaN   \n",
       "2                                                NaN   \n",
       "3                                                NaN   \n",
       "4  maui strong fund;nashville social club in cars...   \n",
       "\n",
       "                                                TONE  \\\n",
       "0  8.7719298245614,10.5263157894737,1.75438596491...   \n",
       "1  3.28947368421053,3.28947368421053,0,3.28947368...   \n",
       "2  2.7027027027027,3.5472972972973,0.844594594594...   \n",
       "3  2.7027027027027,3.5472972972973,0.844594594594...   \n",
       "4  3.57142857142857,4.76190476190476,1.1904761904...   \n",
       "\n",
       "                                 CAMEOEVENTIDS  \\\n",
       "0                                          NaN   \n",
       "1  1194143836,1194143836,1194143836,1194143836   \n",
       "2                                          NaN   \n",
       "3                                          NaN   \n",
       "4                                          NaN   \n",
       "\n",
       "                                             SOURCES  \\\n",
       "0          carsonnow.org;carsonnow.org;carsonnow.org   \n",
       "1  kwiq.com;mymoinfo.com;k923orlando.com;k99onlin...   \n",
       "2  981thehawk.com;mykisscountry937.com;kfilradio....   \n",
       "3  q985online.com;mycountry955.com;kyssfm.com;wbk...   \n",
       "4          carsonnow.org;carsonnow.org;carsonnow.org   \n",
       "\n",
       "                                          SOURCEURLS  cluster_label  \n",
       "0  https://www.carsonnow.org/?page=6&search_theme...              0  \n",
       "1  https://www.kwiq.com/syndicated-article/?id=15...              0  \n",
       "2  https://981thehawk.com/ixp/204/p/toby-keith-ki...              0  \n",
       "3  https://q985online.com/ixp/204/p/toby-keith-ki...              0  \n",
       "4  https://www.carsonnow.org/?page=112&search_the...              0  "
      ]
     },
     "execution_count": 157,
     "metadata": {},
     "output_type": "execute_result"
    }
   ],
   "source": [
    "closest_samples_df.head()"
   ]
  },
  {
   "cell_type": "code",
   "execution_count": 159,
   "id": "6225630c-aeda-4c07-8206-b7249ebadc31",
   "metadata": {
    "tags": []
   },
   "outputs": [
    {
     "name": "stdout",
     "output_type": "stream",
     "text": [
      "Error fetching https://whdg.com/2024/08/22/olympic-medalist-stephen-nedoroscik-to-compete-on-dancing-with-the-stars/: 403 Client Error: Forbidden for url: https://whdg.com/2024/08/22/olympic-medalist-stephen-nedoroscik-to-compete-on-dancing-with-the-stars/\n"
     ]
    }
   ],
   "source": [
    "closest_samples_df['extracted_text'] = closest_samples_df['SOURCEURLS'].apply(\n",
    "    lambda urls: get_text_from_url(urls.split('<UDIV>')[0].strip())\n",
    ")"
   ]
  },
  {
   "cell_type": "markdown",
   "id": "928482a6-12e7-4abc-8c26-dd556aae9bb4",
   "metadata": {
    "tags": []
   },
   "source": [
    "## we can see here that it retireves the same news as they are repeated and close to each other"
   ]
  },
  {
   "cell_type": "code",
   "execution_count": 163,
   "id": "2d550492-6085-4984-b194-2cd13130defd",
   "metadata": {
    "tags": []
   },
   "outputs": [
    {
     "data": {
      "text/html": [
       "<div>\n",
       "<style scoped>\n",
       "    .dataframe tbody tr th:only-of-type {\n",
       "        vertical-align: middle;\n",
       "    }\n",
       "\n",
       "    .dataframe tbody tr th {\n",
       "        vertical-align: top;\n",
       "    }\n",
       "\n",
       "    .dataframe thead th {\n",
       "        text-align: right;\n",
       "    }\n",
       "</style>\n",
       "<table border=\"1\" class=\"dataframe\">\n",
       "  <thead>\n",
       "    <tr style=\"text-align: right;\">\n",
       "      <th></th>\n",
       "      <th>cluster_label</th>\n",
       "      <th>extracted_text</th>\n",
       "    </tr>\n",
       "  </thead>\n",
       "  <tbody>\n",
       "    <tr>\n",
       "      <th>0</th>\n",
       "      <td>0</td>\n",
       "      <td>... or see all stories Melanie Bruketta was sw...</td>\n",
       "    </tr>\n",
       "    <tr>\n",
       "      <th>1</th>\n",
       "      <td>0</td>\n",
       "      <td>Kenny Chesney is honoring you, the fans, in hi...</td>\n",
       "    </tr>\n",
       "    <tr>\n",
       "      <th>2</th>\n",
       "      <td>0</td>\n",
       "      <td>Toby Keith's kids spoke to how the family is d...</td>\n",
       "    </tr>\n",
       "    <tr>\n",
       "      <th>3</th>\n",
       "      <td>0</td>\n",
       "      <td>Toby Keith's kids spoke to how the family is d...</td>\n",
       "    </tr>\n",
       "    <tr>\n",
       "      <th>4</th>\n",
       "      <td>0</td>\n",
       "      <td>... or see all stories It is time to gather ou...</td>\n",
       "    </tr>\n",
       "    <tr>\n",
       "      <th>5</th>\n",
       "      <td>0</td>\n",
       "      <td>... or see all stories It is time to gather ou...</td>\n",
       "    </tr>\n",
       "    <tr>\n",
       "      <th>6</th>\n",
       "      <td>0</td>\n",
       "      <td>... or see all stories Celtic sound pioneers T...</td>\n",
       "    </tr>\n",
       "    <tr>\n",
       "      <th>7</th>\n",
       "      <td>0</td>\n",
       "      <td>... or see all stories Celtic sound pioneers T...</td>\n",
       "    </tr>\n",
       "    <tr>\n",
       "      <th>8</th>\n",
       "      <td>0</td>\n",
       "      <td>None</td>\n",
       "    </tr>\n",
       "    <tr>\n",
       "      <th>9</th>\n",
       "      <td>0</td>\n",
       "      <td>Stephen Nedoroscik is the first contestant ann...</td>\n",
       "    </tr>\n",
       "    <tr>\n",
       "      <th>10</th>\n",
       "      <td>1</td>\n",
       "      <td>Photo: Getty Images Stevie Wonder, John Legend...</td>\n",
       "    </tr>\n",
       "    <tr>\n",
       "      <th>11</th>\n",
       "      <td>1</td>\n",
       "      <td>Photo: Getty Images Stevie Wonder, John Legend...</td>\n",
       "    </tr>\n",
       "    <tr>\n",
       "      <th>12</th>\n",
       "      <td>1</td>\n",
       "      <td>Photo: Getty Images Stevie Wonder, John Legend...</td>\n",
       "    </tr>\n",
       "    <tr>\n",
       "      <th>13</th>\n",
       "      <td>1</td>\n",
       "      <td>Photo: Getty Images Stevie Wonder, John Legend...</td>\n",
       "    </tr>\n",
       "    <tr>\n",
       "      <th>14</th>\n",
       "      <td>1</td>\n",
       "      <td>Photo: Getty Images Stevie Wonder, John Legend...</td>\n",
       "    </tr>\n",
       "    <tr>\n",
       "      <th>15</th>\n",
       "      <td>1</td>\n",
       "      <td>Photo: Getty Images Stevie Wonder, John Legend...</td>\n",
       "    </tr>\n",
       "    <tr>\n",
       "      <th>16</th>\n",
       "      <td>1</td>\n",
       "      <td>Stevie Wonder, John Legend and Sheila E. stole...</td>\n",
       "    </tr>\n",
       "    <tr>\n",
       "      <th>17</th>\n",
       "      <td>1</td>\n",
       "      <td>CHICAGO — People who live near the United Cent...</td>\n",
       "    </tr>\n",
       "    <tr>\n",
       "      <th>18</th>\n",
       "      <td>1</td>\n",
       "      <td>After rumors began circulating weeks ago, Jane...</td>\n",
       "    </tr>\n",
       "    <tr>\n",
       "      <th>19</th>\n",
       "      <td>1</td>\n",
       "      <td>The Democrat National Convention in Chicago is...</td>\n",
       "    </tr>\n",
       "    <tr>\n",
       "      <th>20</th>\n",
       "      <td>2</td>\n",
       "      <td>A former Florence County Sheriff’s deputy accu...</td>\n",
       "    </tr>\n",
       "    <tr>\n",
       "      <th>21</th>\n",
       "      <td>2</td>\n",
       "      <td>Photo: Darrin Klimek / DigitalVision / Getty I...</td>\n",
       "    </tr>\n",
       "    <tr>\n",
       "      <th>22</th>\n",
       "      <td>2</td>\n",
       "      <td>Photo: Darrin Klimek / DigitalVision / Getty I...</td>\n",
       "    </tr>\n",
       "    <tr>\n",
       "      <th>23</th>\n",
       "      <td>2</td>\n",
       "      <td>Photo: Darrin Klimek / DigitalVision / Getty I...</td>\n",
       "    </tr>\n",
       "    <tr>\n",
       "      <th>24</th>\n",
       "      <td>2</td>\n",
       "      <td>Photo: Darrin Klimek / DigitalVision / Getty I...</td>\n",
       "    </tr>\n",
       "    <tr>\n",
       "      <th>25</th>\n",
       "      <td>2</td>\n",
       "      <td>Photo: Darrin Klimek / DigitalVision / Getty I...</td>\n",
       "    </tr>\n",
       "    <tr>\n",
       "      <th>26</th>\n",
       "      <td>2</td>\n",
       "      <td>Photo: Darrin Klimek / DigitalVision / Getty I...</td>\n",
       "    </tr>\n",
       "    <tr>\n",
       "      <th>27</th>\n",
       "      <td>2</td>\n",
       "      <td>Photo: Darrin Klimek / DigitalVision / Getty I...</td>\n",
       "    </tr>\n",
       "    <tr>\n",
       "      <th>28</th>\n",
       "      <td>2</td>\n",
       "      <td>Photo: Darrin Klimek / DigitalVision / Getty I...</td>\n",
       "    </tr>\n",
       "    <tr>\n",
       "      <th>29</th>\n",
       "      <td>2</td>\n",
       "      <td>Photo: Darrin Klimek / DigitalVision / Getty I...</td>\n",
       "    </tr>\n",
       "    <tr>\n",
       "      <th>30</th>\n",
       "      <td>3</td>\n",
       "      <td>Australia's largest betting agency has been fi...</td>\n",
       "    </tr>\n",
       "    <tr>\n",
       "      <th>31</th>\n",
       "      <td>3</td>\n",
       "      <td>Your digital subscription includes access to c...</td>\n",
       "    </tr>\n",
       "    <tr>\n",
       "      <th>32</th>\n",
       "      <td>3</td>\n",
       "      <td>Your digital subscription includes access to c...</td>\n",
       "    </tr>\n",
       "    <tr>\n",
       "      <th>33</th>\n",
       "      <td>3</td>\n",
       "      <td>Your digital subscription includes access to a...</td>\n",
       "    </tr>\n",
       "    <tr>\n",
       "      <th>34</th>\n",
       "      <td>3</td>\n",
       "      <td>Your digital subscription includes access to c...</td>\n",
       "    </tr>\n",
       "    <tr>\n",
       "      <th>35</th>\n",
       "      <td>3</td>\n",
       "      <td>Your digital subscription includes access to c...</td>\n",
       "    </tr>\n",
       "    <tr>\n",
       "      <th>36</th>\n",
       "      <td>3</td>\n",
       "      <td>Your digital subscription includes access to c...</td>\n",
       "    </tr>\n",
       "    <tr>\n",
       "      <th>37</th>\n",
       "      <td>3</td>\n",
       "      <td>Your digital subscription includes access to c...</td>\n",
       "    </tr>\n",
       "    <tr>\n",
       "      <th>38</th>\n",
       "      <td>3</td>\n",
       "      <td>Your digital subscription includes access to c...</td>\n",
       "    </tr>\n",
       "    <tr>\n",
       "      <th>39</th>\n",
       "      <td>3</td>\n",
       "      <td>Your digital subscription includes access to c...</td>\n",
       "    </tr>\n",
       "    <tr>\n",
       "      <th>40</th>\n",
       "      <td>4</td>\n",
       "      <td>The Prince of Wales is to visit an exhibition ...</td>\n",
       "    </tr>\n",
       "    <tr>\n",
       "      <th>41</th>\n",
       "      <td>4</td>\n",
       "      <td>The Prince of Wales is to visit an exhibition ...</td>\n",
       "    </tr>\n",
       "    <tr>\n",
       "      <th>42</th>\n",
       "      <td>4</td>\n",
       "      <td>The Prince of Wales is to visit an exhibition ...</td>\n",
       "    </tr>\n",
       "    <tr>\n",
       "      <th>43</th>\n",
       "      <td>4</td>\n",
       "      <td>The Prince of Wales is to visit an exhibition ...</td>\n",
       "    </tr>\n",
       "    <tr>\n",
       "      <th>44</th>\n",
       "      <td>4</td>\n",
       "      <td>The Prince of Wales is to visit an exhibition ...</td>\n",
       "    </tr>\n",
       "    <tr>\n",
       "      <th>45</th>\n",
       "      <td>4</td>\n",
       "      <td>A man has been placed under the detention of m...</td>\n",
       "    </tr>\n",
       "    <tr>\n",
       "      <th>46</th>\n",
       "      <td>4</td>\n",
       "      <td>A man has been placed under the detention of m...</td>\n",
       "    </tr>\n",
       "    <tr>\n",
       "      <th>47</th>\n",
       "      <td>4</td>\n",
       "      <td>\\n  STUDENTS across Essex will be picking up t...</td>\n",
       "    </tr>\n",
       "    <tr>\n",
       "      <th>48</th>\n",
       "      <td>4</td>\n",
       "      <td>An orphan chimpanzee has been rescued from the...</td>\n",
       "    </tr>\n",
       "    <tr>\n",
       "      <th>49</th>\n",
       "      <td>4</td>\n",
       "      <td>An orphan chimpanzee has been rescued from the...</td>\n",
       "    </tr>\n",
       "  </tbody>\n",
       "</table>\n",
       "</div>"
      ],
      "text/plain": [
       "    cluster_label                                     extracted_text\n",
       "0               0  ... or see all stories Melanie Bruketta was sw...\n",
       "1               0  Kenny Chesney is honoring you, the fans, in hi...\n",
       "2               0  Toby Keith's kids spoke to how the family is d...\n",
       "3               0  Toby Keith's kids spoke to how the family is d...\n",
       "4               0  ... or see all stories It is time to gather ou...\n",
       "5               0  ... or see all stories It is time to gather ou...\n",
       "6               0  ... or see all stories Celtic sound pioneers T...\n",
       "7               0  ... or see all stories Celtic sound pioneers T...\n",
       "8               0                                               None\n",
       "9               0  Stephen Nedoroscik is the first contestant ann...\n",
       "10              1  Photo: Getty Images Stevie Wonder, John Legend...\n",
       "11              1  Photo: Getty Images Stevie Wonder, John Legend...\n",
       "12              1  Photo: Getty Images Stevie Wonder, John Legend...\n",
       "13              1  Photo: Getty Images Stevie Wonder, John Legend...\n",
       "14              1  Photo: Getty Images Stevie Wonder, John Legend...\n",
       "15              1  Photo: Getty Images Stevie Wonder, John Legend...\n",
       "16              1  Stevie Wonder, John Legend and Sheila E. stole...\n",
       "17              1  CHICAGO — People who live near the United Cent...\n",
       "18              1  After rumors began circulating weeks ago, Jane...\n",
       "19              1  The Democrat National Convention in Chicago is...\n",
       "20              2  A former Florence County Sheriff’s deputy accu...\n",
       "21              2  Photo: Darrin Klimek / DigitalVision / Getty I...\n",
       "22              2  Photo: Darrin Klimek / DigitalVision / Getty I...\n",
       "23              2  Photo: Darrin Klimek / DigitalVision / Getty I...\n",
       "24              2  Photo: Darrin Klimek / DigitalVision / Getty I...\n",
       "25              2  Photo: Darrin Klimek / DigitalVision / Getty I...\n",
       "26              2  Photo: Darrin Klimek / DigitalVision / Getty I...\n",
       "27              2  Photo: Darrin Klimek / DigitalVision / Getty I...\n",
       "28              2  Photo: Darrin Klimek / DigitalVision / Getty I...\n",
       "29              2  Photo: Darrin Klimek / DigitalVision / Getty I...\n",
       "30              3  Australia's largest betting agency has been fi...\n",
       "31              3  Your digital subscription includes access to c...\n",
       "32              3  Your digital subscription includes access to c...\n",
       "33              3  Your digital subscription includes access to a...\n",
       "34              3  Your digital subscription includes access to c...\n",
       "35              3  Your digital subscription includes access to c...\n",
       "36              3  Your digital subscription includes access to c...\n",
       "37              3  Your digital subscription includes access to c...\n",
       "38              3  Your digital subscription includes access to c...\n",
       "39              3  Your digital subscription includes access to c...\n",
       "40              4  The Prince of Wales is to visit an exhibition ...\n",
       "41              4  The Prince of Wales is to visit an exhibition ...\n",
       "42              4  The Prince of Wales is to visit an exhibition ...\n",
       "43              4  The Prince of Wales is to visit an exhibition ...\n",
       "44              4  The Prince of Wales is to visit an exhibition ...\n",
       "45              4  A man has been placed under the detention of m...\n",
       "46              4  A man has been placed under the detention of m...\n",
       "47              4  \\n  STUDENTS across Essex will be picking up t...\n",
       "48              4  An orphan chimpanzee has been rescued from the...\n",
       "49              4  An orphan chimpanzee has been rescued from the..."
      ]
     },
     "execution_count": 163,
     "metadata": {},
     "output_type": "execute_result"
    }
   ],
   "source": [
    "closest_samples_df[['cluster_label','extracted_text']]"
   ]
  },
  {
   "cell_type": "markdown",
   "id": "01d05a37-b874-4faa-8b59-f3b42fa63f4b",
   "metadata": {
    "tags": []
   },
   "source": [
    "## adding diversity by adding noise"
   ]
  },
  {
   "cell_type": "code",
   "execution_count": 209,
   "id": "bec6ecec-e77a-42db-9b1a-c9928f6beccb",
   "metadata": {
    "tags": []
   },
   "outputs": [],
   "source": [
    "closest_samples_per_cluster = []\n",
    "\n",
    "# Set the standard deviation for the Gaussian noise\n",
    "noise_std_dev = 0.2  # Adjust this value as needed\n",
    "\n",
    "for cluster_label in range(optimal_k):\n",
    "    cluster_points_idx = np.where(kmeans.labels_ == cluster_label)[0]\n",
    "    cluster_points = X_Norm[cluster_points_idx]\n",
    "    centroid = kmeans.cluster_centers_[cluster_label]\n",
    "    \n",
    "    # Find 10 closest points, each based on a different noisy centroid\n",
    "    closest_idxs = []\n",
    "    for _ in range(10):\n",
    "        # Add Gaussian noise to the centroid for each point\n",
    "        noisy_centroid = centroid + np.random.normal(0, noise_std_dev, size=centroid.shape)\n",
    "        \n",
    "        # Calculate distances from the noisy centroid\n",
    "        distances = np.linalg.norm(cluster_points - noisy_centroid, axis=1)\n",
    "        \n",
    "        # Find the closest point to this noisy centroid that hasn't already been selected\n",
    "        closest_idx = cluster_points_idx[np.argsort(distances)[0]]\n",
    "        \n",
    "        # Append the index to the closest_idxs list if it's not already selected\n",
    "        if closest_idx not in closest_idxs:\n",
    "            closest_idxs.append(closest_idx)\n",
    "    \n",
    "    # Add the selected closest points to the list of closest samples\n",
    "    closest_samples_per_cluster.append(filtered_df.iloc[closest_idxs])\n",
    "\n",
    "# Combine all closest samples into a single DataFrame\n",
    "closest_samples_df = pd.concat(closest_samples_per_cluster).reset_index(drop=True)"
   ]
  },
  {
   "cell_type": "code",
   "execution_count": 210,
   "id": "75381b54-b677-4193-ad04-aa4623acb09b",
   "metadata": {
    "tags": []
   },
   "outputs": [],
   "source": [
    "closest_samples_df['extracted_text'] = closest_samples_df['SOURCEURLS'].apply(\n",
    "    lambda urls: get_text_from_url(urls.split('<UDIV>')[0].strip())\n",
    ")"
   ]
  },
  {
   "cell_type": "markdown",
   "id": "ee246941-4e5c-4282-8d8d-80d238dd80e3",
   "metadata": {
    "tags": []
   },
   "source": [
    "## Now we have a lot more diversity while in the same centroids"
   ]
  },
  {
   "cell_type": "code",
   "execution_count": 211,
   "id": "2bc9be0a-0fee-4ee4-827c-b2ed900e52d8",
   "metadata": {
    "tags": []
   },
   "outputs": [
    {
     "data": {
      "text/html": [
       "<div>\n",
       "<style scoped>\n",
       "    .dataframe tbody tr th:only-of-type {\n",
       "        vertical-align: middle;\n",
       "    }\n",
       "\n",
       "    .dataframe tbody tr th {\n",
       "        vertical-align: top;\n",
       "    }\n",
       "\n",
       "    .dataframe thead th {\n",
       "        text-align: right;\n",
       "    }\n",
       "</style>\n",
       "<table border=\"1\" class=\"dataframe\">\n",
       "  <thead>\n",
       "    <tr style=\"text-align: right;\">\n",
       "      <th></th>\n",
       "      <th>cluster_label</th>\n",
       "      <th>extracted_text</th>\n",
       "    </tr>\n",
       "  </thead>\n",
       "  <tbody>\n",
       "    <tr>\n",
       "      <th>0</th>\n",
       "      <td>0</td>\n",
       "      <td>Walz introduced himself to the country and tou...</td>\n",
       "    </tr>\n",
       "    <tr>\n",
       "      <th>1</th>\n",
       "      <td>0</td>\n",
       "      <td>Close your eyes and imagine the best possible ...</td>\n",
       "    </tr>\n",
       "    <tr>\n",
       "      <th>2</th>\n",
       "      <td>0</td>\n",
       "      <td>AILSA CHANG, HOST: Canada's two largest freigh...</td>\n",
       "    </tr>\n",
       "    <tr>\n",
       "      <th>3</th>\n",
       "      <td>0</td>\n",
       "      <td>System of a Down bassist Shavo Odadjian's new ...</td>\n",
       "    </tr>\n",
       "    <tr>\n",
       "      <th>4</th>\n",
       "      <td>0</td>\n",
       "      <td>Officer Austin Williams in Long Peak, Utah res...</td>\n",
       "    </tr>\n",
       "    <tr>\n",
       "      <th>5</th>\n",
       "      <td>0</td>\n",
       "      <td>\"No Man's Land\" isn't just the next song to co...</td>\n",
       "    </tr>\n",
       "    <tr>\n",
       "      <th>6</th>\n",
       "      <td>0</td>\n",
       "      <td>This is a PSA I feel like I shouldn't have to ...</td>\n",
       "    </tr>\n",
       "    <tr>\n",
       "      <th>7</th>\n",
       "      <td>0</td>\n",
       "      <td>I can't believe another school year is approac...</td>\n",
       "    </tr>\n",
       "    <tr>\n",
       "      <th>8</th>\n",
       "      <td>0</td>\n",
       "      <td>Next up in 5 Example video title will go here ...</td>\n",
       "    </tr>\n",
       "    <tr>\n",
       "      <th>9</th>\n",
       "      <td>0</td>\n",
       "      <td>Typhoid Antibody Testing Market  Permanent lin...</td>\n",
       "    </tr>\n",
       "    <tr>\n",
       "      <th>10</th>\n",
       "      <td>1</td>\n",
       "      <td>Photo: Getty Images The Washington Commanders ...</td>\n",
       "    </tr>\n",
       "    <tr>\n",
       "      <th>11</th>\n",
       "      <td>1</td>\n",
       "      <td>Richard Simmons' cause of death has been revea...</td>\n",
       "    </tr>\n",
       "    <tr>\n",
       "      <th>12</th>\n",
       "      <td>1</td>\n",
       "      <td>On Tuesday (August 20), Taylor Swift performed...</td>\n",
       "    </tr>\n",
       "    <tr>\n",
       "      <th>13</th>\n",
       "      <td>1</td>\n",
       "      <td>Former President Donald Trump on Thursday appe...</td>\n",
       "    </tr>\n",
       "    <tr>\n",
       "      <th>14</th>\n",
       "      <td>1</td>\n",
       "      <td>DJ Envy, Charlamagne Tha God And Jess Hilariou...</td>\n",
       "    </tr>\n",
       "    <tr>\n",
       "      <th>15</th>\n",
       "      <td>1</td>\n",
       "      <td>(WASHINGTON) — Robert F. Kennedy Jr. is planni...</td>\n",
       "    </tr>\n",
       "    <tr>\n",
       "      <th>16</th>\n",
       "      <td>1</td>\n",
       "      <td>ARI SHAPIRO, HOST: While Democrats are feeling...</td>\n",
       "    </tr>\n",
       "    <tr>\n",
       "      <th>17</th>\n",
       "      <td>1</td>\n",
       "      <td>Now  70  Fri  88  Sat  71 by The National Des...</td>\n",
       "    </tr>\n",
       "    <tr>\n",
       "      <th>18</th>\n",
       "      <td>1</td>\n",
       "      <td>Mostly sunny. High 84F. Winds light and variab...</td>\n",
       "    </tr>\n",
       "    <tr>\n",
       "      <th>19</th>\n",
       "      <td>1</td>\n",
       "      <td>Richard Simmons’ death was ruled accidental, h...</td>\n",
       "    </tr>\n",
       "    <tr>\n",
       "      <th>20</th>\n",
       "      <td>2</td>\n",
       "      <td>We’re sorry, this feature is currently unavail...</td>\n",
       "    </tr>\n",
       "    <tr>\n",
       "      <th>21</th>\n",
       "      <td>2</td>\n",
       "      <td>Kenyan police offered a cash reward on Thursda...</td>\n",
       "    </tr>\n",
       "    <tr>\n",
       "      <th>22</th>\n",
       "      <td>2</td>\n",
       "      <td>(WILLIAMSTOWN, N.J.) — Three Florida residents...</td>\n",
       "    </tr>\n",
       "    <tr>\n",
       "      <th>23</th>\n",
       "      <td>2</td>\n",
       "      <td>Sign In  Subscribe Now Seven people were arre...</td>\n",
       "    </tr>\n",
       "    <tr>\n",
       "      <th>24</th>\n",
       "      <td>2</td>\n",
       "      <td>The family of Jessie Peterson, a 31-year-old w...</td>\n",
       "    </tr>\n",
       "    <tr>\n",
       "      <th>25</th>\n",
       "      <td>2</td>\n",
       "      <td>Your digital subscription includes access to c...</td>\n",
       "    </tr>\n",
       "    <tr>\n",
       "      <th>26</th>\n",
       "      <td>2</td>\n",
       "      <td>SAN ANTONIO, Texas (AP) — US government indic...</td>\n",
       "    </tr>\n",
       "    <tr>\n",
       "      <th>27</th>\n",
       "      <td>2</td>\n",
       "      <td>Taylor Swift FILE PHOTO: Taylor Swift performs...</td>\n",
       "    </tr>\n",
       "    <tr>\n",
       "      <th>28</th>\n",
       "      <td>3</td>\n",
       "      <td>Documentary following the day-to-day work of l...</td>\n",
       "    </tr>\n",
       "    <tr>\n",
       "      <th>29</th>\n",
       "      <td>3</td>\n",
       "      <td>Crooks used a stolen car for a night-time driv...</td>\n",
       "    </tr>\n",
       "    <tr>\n",
       "      <th>30</th>\n",
       "      <td>3</td>\n",
       "      <td>Your digital subscription includes access to c...</td>\n",
       "    </tr>\n",
       "    <tr>\n",
       "      <th>31</th>\n",
       "      <td>3</td>\n",
       "      <td>There is an inherent gender-related bias in Me...</td>\n",
       "    </tr>\n",
       "    <tr>\n",
       "      <th>32</th>\n",
       "      <td>3</td>\n",
       "      <td>Your digital subscription includes access to c...</td>\n",
       "    </tr>\n",
       "    <tr>\n",
       "      <th>33</th>\n",
       "      <td>3</td>\n",
       "      <td>We’re sorry, this feature is currently unavail...</td>\n",
       "    </tr>\n",
       "    <tr>\n",
       "      <th>34</th>\n",
       "      <td>3</td>\n",
       "      <td>Your digital subscription includes access to c...</td>\n",
       "    </tr>\n",
       "    <tr>\n",
       "      <th>35</th>\n",
       "      <td>3</td>\n",
       "      <td>Your digital subscription includes access to c...</td>\n",
       "    </tr>\n",
       "    <tr>\n",
       "      <th>36</th>\n",
       "      <td>3</td>\n",
       "      <td>It used to be that the main handicap in conver...</td>\n",
       "    </tr>\n",
       "    <tr>\n",
       "      <th>37</th>\n",
       "      <td>3</td>\n",
       "      <td>Your digital subscription includes access to c...</td>\n",
       "    </tr>\n",
       "    <tr>\n",
       "      <th>38</th>\n",
       "      <td>4</td>\n",
       "      <td>Permanent link to this press release:  \\n\\n\\...</td>\n",
       "    </tr>\n",
       "    <tr>\n",
       "      <th>39</th>\n",
       "      <td>4</td>\n",
       "      <td>Kinmen County councilors and travel industry r...</td>\n",
       "    </tr>\n",
       "    <tr>\n",
       "      <th>40</th>\n",
       "      <td>4</td>\n",
       "      <td>PARIS -- The European Space Agency (ESA)'s J...</td>\n",
       "    </tr>\n",
       "    <tr>\n",
       "      <th>41</th>\n",
       "      <td>4</td>\n",
       "      <td>\\n  POLICE have confirmed that a road has reop...</td>\n",
       "    </tr>\n",
       "    <tr>\n",
       "      <th>42</th>\n",
       "      <td>4</td>\n",
       "      <td>A 49-year-old has received Grade 6 in GCSE Eng...</td>\n",
       "    </tr>\n",
       "    <tr>\n",
       "      <th>43</th>\n",
       "      <td>4</td>\n",
       "      <td>Now  68  Sat  94  Sun  95 by Associated Press...</td>\n",
       "    </tr>\n",
       "    <tr>\n",
       "      <th>44</th>\n",
       "      <td>4</td>\n",
       "      <td>Offaly Live https://www.offalyexpress.ie/secti...</td>\n",
       "    </tr>\n",
       "    <tr>\n",
       "      <th>45</th>\n",
       "      <td>4</td>\n",
       "      <td>By Gráinne Ní Aodha, PA An investigation has b...</td>\n",
       "    </tr>\n",
       "    <tr>\n",
       "      <th>46</th>\n",
       "      <td>4</td>\n",
       "      <td>Now  65  Sat  87  Sun  89 by Associated Press...</td>\n",
       "    </tr>\n",
       "    <tr>\n",
       "      <th>47</th>\n",
       "      <td>4</td>\n",
       "      <td>The Akitas 3-in-1 Cordless Vacuum Cleaner has ...</td>\n",
       "    </tr>\n",
       "  </tbody>\n",
       "</table>\n",
       "</div>"
      ],
      "text/plain": [
       "    cluster_label                                     extracted_text\n",
       "0               0  Walz introduced himself to the country and tou...\n",
       "1               0  Close your eyes and imagine the best possible ...\n",
       "2               0  AILSA CHANG, HOST: Canada's two largest freigh...\n",
       "3               0  System of a Down bassist Shavo Odadjian's new ...\n",
       "4               0  Officer Austin Williams in Long Peak, Utah res...\n",
       "5               0  \"No Man's Land\" isn't just the next song to co...\n",
       "6               0  This is a PSA I feel like I shouldn't have to ...\n",
       "7               0  I can't believe another school year is approac...\n",
       "8               0  Next up in 5 Example video title will go here ...\n",
       "9               0  Typhoid Antibody Testing Market  Permanent lin...\n",
       "10              1  Photo: Getty Images The Washington Commanders ...\n",
       "11              1  Richard Simmons' cause of death has been revea...\n",
       "12              1  On Tuesday (August 20), Taylor Swift performed...\n",
       "13              1  Former President Donald Trump on Thursday appe...\n",
       "14              1  DJ Envy, Charlamagne Tha God And Jess Hilariou...\n",
       "15              1  (WASHINGTON) — Robert F. Kennedy Jr. is planni...\n",
       "16              1  ARI SHAPIRO, HOST: While Democrats are feeling...\n",
       "17              1   Now  70  Fri  88  Sat  71 by The National Des...\n",
       "18              1  Mostly sunny. High 84F. Winds light and variab...\n",
       "19              1  Richard Simmons’ death was ruled accidental, h...\n",
       "20              2  We’re sorry, this feature is currently unavail...\n",
       "21              2  Kenyan police offered a cash reward on Thursda...\n",
       "22              2  (WILLIAMSTOWN, N.J.) — Three Florida residents...\n",
       "23              2   Sign In  Subscribe Now Seven people were arre...\n",
       "24              2  The family of Jessie Peterson, a 31-year-old w...\n",
       "25              2  Your digital subscription includes access to c...\n",
       "26              2   SAN ANTONIO, Texas (AP) — US government indic...\n",
       "27              2  Taylor Swift FILE PHOTO: Taylor Swift performs...\n",
       "28              3  Documentary following the day-to-day work of l...\n",
       "29              3  Crooks used a stolen car for a night-time driv...\n",
       "30              3  Your digital subscription includes access to c...\n",
       "31              3  There is an inherent gender-related bias in Me...\n",
       "32              3  Your digital subscription includes access to c...\n",
       "33              3  We’re sorry, this feature is currently unavail...\n",
       "34              3  Your digital subscription includes access to c...\n",
       "35              3  Your digital subscription includes access to c...\n",
       "36              3  It used to be that the main handicap in conver...\n",
       "37              3  Your digital subscription includes access to c...\n",
       "38              4    Permanent link to this press release:  \\n\\n\\...\n",
       "39              4  Kinmen County councilors and travel industry r...\n",
       "40              4    PARIS -- The European Space Agency (ESA)'s J...\n",
       "41              4  \\n  POLICE have confirmed that a road has reop...\n",
       "42              4  A 49-year-old has received Grade 6 in GCSE Eng...\n",
       "43              4   Now  68  Sat  94  Sun  95 by Associated Press...\n",
       "44              4  Offaly Live https://www.offalyexpress.ie/secti...\n",
       "45              4  By Gráinne Ní Aodha, PA An investigation has b...\n",
       "46              4   Now  65  Sat  87  Sun  89 by Associated Press...\n",
       "47              4  The Akitas 3-in-1 Cordless Vacuum Cleaner has ..."
      ]
     },
     "execution_count": 211,
     "metadata": {},
     "output_type": "execute_result"
    }
   ],
   "source": [
    "closest_samples_df[['cluster_label','extracted_text']]"
   ]
  },
  {
   "cell_type": "code",
   "execution_count": 212,
   "id": "811afd72-814d-40eb-b09e-32eb4e0a6080",
   "metadata": {
    "tags": []
   },
   "outputs": [],
   "source": [
    "# Function to perform LDA and return a string of topics\n",
    "def lda_topic_modeling(text_data, n_topics=3):\n",
    "    count_vectorizer = CountVectorizer(stop_words='english')\n",
    "    dt_matrix = count_vectorizer.fit_transform(text_data)\n",
    "    lda_model = LatentDirichletAllocation(n_components=n_topics, random_state=42)\n",
    "    lda_model.fit(dt_matrix)\n",
    "    topics = []\n",
    "    for topic_idx, topic in enumerate(lda_model.components_):\n",
    "        topic_keywords = [count_vectorizer.get_feature_names_out()[i] for i in topic.argsort()[:-n_topics - 1:-1]]\n",
    "        topics.append(\", \".join(topic_keywords))\n",
    "    return \"; \".join(topics)\n",
    "\n",
    "# Perform LDA for each cluster and create a summary string of topics\n",
    "closest_samples_df['lda_topics'] = \"\"\n",
    "\n",
    "for cluster_label in closest_samples_df['cluster_label'].unique():\n",
    "    cluster_text = closest_samples_df[closest_samples_df['cluster_label'] == cluster_label]['extracted_text'].dropna().tolist()\n",
    "    if len(cluster_text) > 0:\n",
    "        lda_topics = lda_topic_modeling(cluster_text, n_topics=3)  # Adjust n_topics as needed\n",
    "        closest_samples_df.loc[closest_samples_df['cluster_label'] == cluster_label, 'lda_topics'] = lda_topics\n"
   ]
  },
  {
   "cell_type": "code",
   "execution_count": 213,
   "id": "bcbe9336-c425-4424-9a69-3ce42908fa97",
   "metadata": {
    "collapsed": true,
    "jupyter": {
     "outputs_hidden": true
    },
    "tags": []
   },
   "outputs": [
    {
     "data": {
      "text/plain": [
       "array([[0, 'love, man, let; healthcare, says, change; car, door, media'],\n",
       "       [0, 'love, man, let; healthcare, says, change; car, door, media'],\n",
       "       [0, 'love, man, let; healthcare, says, change; car, door, media'],\n",
       "       [0, 'love, man, let; healthcare, says, change; car, door, media'],\n",
       "       [0, 'love, man, let; healthcare, says, change; car, door, media'],\n",
       "       [0, 'love, man, let; healthcare, says, change; car, door, media'],\n",
       "       [0, 'love, man, let; healthcare, says, change; car, door, media'],\n",
       "       [0, 'love, man, let; healthcare, says, change; car, door, media'],\n",
       "       [0, 'love, man, let; healthcare, says, change; car, door, media'],\n",
       "       [0, 'love, man, let; healthcare, says, change; car, door, media'],\n",
       "       [1,\n",
       "        'kennedy, round, sources; simmons, death, richard; trump, ordoñez, harris'],\n",
       "       [1,\n",
       "        'kennedy, round, sources; simmons, death, richard; trump, ordoñez, harris'],\n",
       "       [1,\n",
       "        'kennedy, round, sources; simmons, death, richard; trump, ordoñez, harris'],\n",
       "       [1,\n",
       "        'kennedy, round, sources; simmons, death, richard; trump, ordoñez, harris'],\n",
       "       [1,\n",
       "        'kennedy, round, sources; simmons, death, richard; trump, ordoñez, harris'],\n",
       "       [1,\n",
       "        'kennedy, round, sources; simmons, death, richard; trump, ordoñez, harris'],\n",
       "       [1,\n",
       "        'kennedy, round, sources; simmons, death, richard; trump, ordoñez, harris'],\n",
       "       [1,\n",
       "        'kennedy, round, sources; simmons, death, richard; trump, ordoñez, harris'],\n",
       "       [1,\n",
       "        'kennedy, round, sources; simmons, death, richard; trump, ordoñez, harris'],\n",
       "       [1,\n",
       "        'kennedy, round, sources; simmons, death, richard; trump, ordoñez, harris'],\n",
       "       [2,\n",
       "        'year, old, said; police, kenyan, jumaisi; tate, case, bucharest'],\n",
       "       [2,\n",
       "        'year, old, said; police, kenyan, jumaisi; tate, case, bucharest'],\n",
       "       [2,\n",
       "        'year, old, said; police, kenyan, jumaisi; tate, case, bucharest'],\n",
       "       [2,\n",
       "        'year, old, said; police, kenyan, jumaisi; tate, case, bucharest'],\n",
       "       [2,\n",
       "        'year, old, said; police, kenyan, jumaisi; tate, case, bucharest'],\n",
       "       [2,\n",
       "        'year, old, said; police, kenyan, jumaisi; tate, case, bucharest'],\n",
       "       [2,\n",
       "        'year, old, said; police, kenyan, jumaisi; tate, case, bucharest'],\n",
       "       [2,\n",
       "        'year, old, said; police, kenyan, jumaisi; tate, case, bucharest'],\n",
       "       [3,\n",
       "        'right, milkshake, drive; day, following, beach; said, australia, news'],\n",
       "       [3,\n",
       "        'right, milkshake, drive; day, following, beach; said, australia, news'],\n",
       "       [3,\n",
       "        'right, milkshake, drive; day, following, beach; said, australia, news'],\n",
       "       [3,\n",
       "        'right, milkshake, drive; day, following, beach; said, australia, news'],\n",
       "       [3,\n",
       "        'right, milkshake, drive; day, following, beach; said, australia, news'],\n",
       "       [3,\n",
       "        'right, milkshake, drive; day, following, beach; said, australia, news'],\n",
       "       [3,\n",
       "        'right, milkshake, drive; day, following, beach; said, australia, news'],\n",
       "       [3,\n",
       "        'right, milkshake, drive; day, following, beach; said, australia, news'],\n",
       "       [3,\n",
       "        'right, milkshake, drive; day, following, beach; said, australia, news'],\n",
       "       [3,\n",
       "        'right, milkshake, drive; day, following, beach; said, australia, news'],\n",
       "       [4,\n",
       "        'actually, said, juice; offaly, news, vacuum; local, road, businesses'],\n",
       "       [4,\n",
       "        'actually, said, juice; offaly, news, vacuum; local, road, businesses'],\n",
       "       [4,\n",
       "        'actually, said, juice; offaly, news, vacuum; local, road, businesses'],\n",
       "       [4,\n",
       "        'actually, said, juice; offaly, news, vacuum; local, road, businesses'],\n",
       "       [4,\n",
       "        'actually, said, juice; offaly, news, vacuum; local, road, businesses'],\n",
       "       [4,\n",
       "        'actually, said, juice; offaly, news, vacuum; local, road, businesses'],\n",
       "       [4,\n",
       "        'actually, said, juice; offaly, news, vacuum; local, road, businesses'],\n",
       "       [4,\n",
       "        'actually, said, juice; offaly, news, vacuum; local, road, businesses'],\n",
       "       [4,\n",
       "        'actually, said, juice; offaly, news, vacuum; local, road, businesses'],\n",
       "       [4,\n",
       "        'actually, said, juice; offaly, news, vacuum; local, road, businesses']],\n",
       "      dtype=object)"
      ]
     },
     "execution_count": 213,
     "metadata": {},
     "output_type": "execute_result"
    }
   ],
   "source": [
    "closest_samples_df[['cluster_label', 'lda_topics']].to_numpy()"
   ]
  },
  {
   "cell_type": "code",
   "execution_count": null,
   "id": "063e254a-e0d8-4955-afb3-8c19ff269e21",
   "metadata": {},
   "outputs": [],
   "source": []
  }
 ],
 "metadata": {
  "environment": {
   "kernel": "python3",
   "name": "tf2-cpu.2-11.m124",
   "type": "gcloud",
   "uri": "us-docker.pkg.dev/deeplearning-platform-release/gcr.io/tf2-cpu.2-11:m124"
  },
  "kernelspec": {
   "display_name": "Python 3 (Local)",
   "language": "python",
   "name": "python3"
  },
  "language_info": {
   "codemirror_mode": {
    "name": "ipython",
    "version": 3
   },
   "file_extension": ".py",
   "mimetype": "text/x-python",
   "name": "python",
   "nbconvert_exporter": "python",
   "pygments_lexer": "ipython3",
   "version": "3.10.14"
  }
 },
 "nbformat": 4,
 "nbformat_minor": 5
}
