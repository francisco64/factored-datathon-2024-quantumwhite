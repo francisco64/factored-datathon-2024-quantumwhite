{
 "cells": [
  {
   "cell_type": "code",
   "execution_count": 1,
   "id": "057486b2-80fd-4dc9-8f49-6b949a33f3e3",
   "metadata": {
    "tags": []
   },
   "outputs": [
    {
     "name": "stdout",
     "output_type": "stream",
     "text": [
      "Reading CSV file into DataFrame...\n",
      "DataFrame shape before filtering: (108485, 11)\n"
     ]
    }
   ],
   "source": [
    "import pandas as pd\n",
    "\n",
    "gcs_path = 'gs://gdelt_gkg-data/gdelt-gkg-data/20240822.gkg.csv'\n",
    "\n",
    "# Read the CSV file directly into a Pandas DataFrame\n",
    "print(\"Reading CSV file into DataFrame...\")\n",
    "df = pd.read_csv(gcs_path, sep='\\t')\n",
    "print(f\"DataFrame shape before filtering: {df.shape}\")"
   ]
  },
  {
   "cell_type": "code",
   "execution_count": 3,
   "id": "23a6c6c8-5578-4865-a415-31f1d6ee5250",
   "metadata": {
    "tags": []
   },
   "outputs": [
    {
     "data": {
      "text/plain": [
       "{'DATE': 20240822,\n",
       " 'NUMARTS': 1,\n",
       " 'COUNTS': nan,\n",
       " 'THEMES': 'DEMOCRACY;LEADER;TAX_FNCACT;TAX_FNCACT_PRESIDENT;USPEC_POLITICS_GENERAL1;PROTEST;STRIKE;TAX_FNCACT_FATHER;TAX_WORLDMAMMALS;TAX_WORLDMAMMALS_HUMAN;EPU_POLICY;EPU_POLICY_POLITICAL;TAX_DISEASE;TAX_DISEASE_LEARNING_DISORDER;MEDIA_MSM;CRISISLEX_T11_UPDATESSYMPATHY;TAX_WORLDMAMMALS_DOG;TAX_FNCACT_GOVERNOR;ELECTION;TAX_ETHNICITY;TAX_ETHNICITY_BLACK;TAX_FNCACT_SCOUT;EPU_CATS_REGULATION;',\n",
       " 'LOCATIONS': '2#Minnesota, United States#US#USMN#45.7326#-93.9196#MN;3#Chicago, Illinois, United States#US#USIL#41.85#-87.6501#423587',\n",
       " 'PERSONS': 'gus walz;stevie wonder;bill clinton;tim walz;oprah winfrey',\n",
       " 'ORGANIZATIONS': 'democratic national convention',\n",
       " 'TONE': '2.80898876404494,3.93258426966292,1.12359550561798,5.0561797752809,19.6629213483146,1.40449438202247',\n",
       " 'CAMEOEVENTIDS': '1194094946,1194095377',\n",
       " 'SOURCES': 'aspenpublicradio.org',\n",
       " 'SOURCEURLS': 'https://www.aspenpublicradio.org/2024-08-22/gus-and-tim-walz-share-a-father-son-moment-that-melts-hearts-of-people-watching-the-dnc'}"
      ]
     },
     "execution_count": 3,
     "metadata": {},
     "output_type": "execute_result"
    }
   ],
   "source": [
    "df.to_dict('records')[0]"
   ]
  },
  {
   "cell_type": "code",
   "execution_count": null,
   "id": "69f97a44-ee13-46a7-913f-49993251d4f1",
   "metadata": {},
   "outputs": [],
   "source": []
  }
 ],
 "metadata": {
  "environment": {
   "kernel": "python3",
   "name": "tf2-cpu.2-11.m124",
   "type": "gcloud",
   "uri": "us-docker.pkg.dev/deeplearning-platform-release/gcr.io/tf2-cpu.2-11:m124"
  },
  "kernelspec": {
   "display_name": "Python 3 (Local)",
   "language": "python",
   "name": "python3"
  },
  "language_info": {
   "codemirror_mode": {
    "name": "ipython",
    "version": 3
   },
   "file_extension": ".py",
   "mimetype": "text/x-python",
   "name": "python",
   "nbconvert_exporter": "python",
   "pygments_lexer": "ipython3",
   "version": "3.10.14"
  }
 },
 "nbformat": 4,
 "nbformat_minor": 5
}
