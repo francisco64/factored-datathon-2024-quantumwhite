{
 "cells": [
  {
   "cell_type": "code",
   "execution_count": null,
   "id": "72bf148a-b133-4e54-9982-955dea423c50",
   "metadata": {},
   "outputs": [],
   "source": [
    "import google.generativeai as genai import PIL.Image import os  genai.configure(api_key=os.environ[\"GOOGLE_API_KEY\"]) img = PIL.Image.open('path/to/image.png')  model = genai.GenerativeModel(model_name=\"gemini-1.5-flash\") response = model.generate_content([\"What is in this photo?\", img]) print(response.text)"
   ]
  }
 ],
 "metadata": {
  "environment": {
   "kernel": "",
   "name": "tf2-cpu.2-11.m124",
   "type": "gcloud",
   "uri": "us-docker.pkg.dev/deeplearning-platform-release/gcr.io/tf2-cpu.2-11:m124"
  },
  "kernelspec": {
   "display_name": "",
   "name": ""
  },
  "language_info": {
   "name": ""
  }
 },
 "nbformat": 4,
 "nbformat_minor": 5
}
